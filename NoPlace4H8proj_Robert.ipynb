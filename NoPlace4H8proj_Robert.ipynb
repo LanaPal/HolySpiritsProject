{
 "cells": [
  {
   "cell_type": "markdown",
   "metadata": {},
   "source": [
    "No Place for Hate\n",
    "\n",
    "We seek to find the correlation of the occurrence of Hate Crimes and:\n",
    "* Education\n",
    "* Poverty\n",
    "* Unemployment Rates\n",
    "\n",
    "\n"
   ]
  },
  {
   "cell_type": "code",
   "execution_count": 2,
   "metadata": {},
   "outputs": [],
   "source": [
    "#Import Dependencies\n",
    "import pandas as pd\n",
    "import matplotlib.pyplot as plt\n",
    "import numpy as np\n",
    "from scipy.stats import linregress\n",
    "import plotly.express as px\n"
   ]
  },
  {
   "cell_type": "code",
   "execution_count": 3,
   "metadata": {},
   "outputs": [
    {
     "data": {
      "text/html": [
       "<div>\n",
       "<style scoped>\n",
       "    .dataframe tbody tr th:only-of-type {\n",
       "        vertical-align: middle;\n",
       "    }\n",
       "\n",
       "    .dataframe tbody tr th {\n",
       "        vertical-align: top;\n",
       "    }\n",
       "\n",
       "    .dataframe thead th {\n",
       "        text-align: right;\n",
       "    }\n",
       "</style>\n",
       "<table border=\"1\" class=\"dataframe\">\n",
       "  <thead>\n",
       "    <tr style=\"text-align: right;\">\n",
       "      <th></th>\n",
       "      <th>Unnamed: 0</th>\n",
       "      <th>Total</th>\n",
       "      <th>Total.1</th>\n",
       "      <th>Total.2</th>\n",
       "      <th>Total.3</th>\n",
       "      <th>Total.4</th>\n",
       "      <th>Urban</th>\n",
       "      <th>Urban.1</th>\n",
       "      <th>Urban.2</th>\n",
       "      <th>Urban.3</th>\n",
       "      <th>Urban.4</th>\n",
       "      <th>Rural</th>\n",
       "      <th>Rural.1</th>\n",
       "      <th>Rural.2</th>\n",
       "      <th>Rural.3</th>\n",
       "      <th>Rural.4</th>\n",
       "    </tr>\n",
       "  </thead>\n",
       "  <tbody>\n",
       "    <tr>\n",
       "      <th>0</th>\n",
       "      <td>Name</td>\n",
       "      <td>1970</td>\n",
       "      <td>1980</td>\n",
       "      <td>1990</td>\n",
       "      <td>2000</td>\n",
       "      <td>2014-2018</td>\n",
       "      <td>1970</td>\n",
       "      <td>1980</td>\n",
       "      <td>1990</td>\n",
       "      <td>2000</td>\n",
       "      <td>2014-2018</td>\n",
       "      <td>1970</td>\n",
       "      <td>1980</td>\n",
       "      <td>1990</td>\n",
       "      <td>2000</td>\n",
       "      <td>2014-2018</td>\n",
       "    </tr>\n",
       "    <tr>\n",
       "      <th>1</th>\n",
       "      <td>United States</td>\n",
       "      <td>10.70%</td>\n",
       "      <td>16.20%</td>\n",
       "      <td>20.30%</td>\n",
       "      <td>24.40%</td>\n",
       "      <td>31.50%</td>\n",
       "      <td>11.50%</td>\n",
       "      <td>17.50%</td>\n",
       "      <td>22.00%</td>\n",
       "      <td>26.20%</td>\n",
       "      <td>33.50%</td>\n",
       "      <td>6.70%</td>\n",
       "      <td>10.50%</td>\n",
       "      <td>12.30%</td>\n",
       "      <td>14.90%</td>\n",
       "      <td>19.60%</td>\n",
       "    </tr>\n",
       "    <tr>\n",
       "      <th>2</th>\n",
       "      <td>Alabama</td>\n",
       "      <td>7.80%</td>\n",
       "      <td>12.20%</td>\n",
       "      <td>15.70%</td>\n",
       "      <td>19.00%</td>\n",
       "      <td>24.90%</td>\n",
       "      <td>8.90%</td>\n",
       "      <td>13.70%</td>\n",
       "      <td>17.80%</td>\n",
       "      <td>21.70%</td>\n",
       "      <td>28.00%</td>\n",
       "      <td>5.30%</td>\n",
       "      <td>8.20%</td>\n",
       "      <td>9.80%</td>\n",
       "      <td>11.60%</td>\n",
       "      <td>15.20%</td>\n",
       "    </tr>\n",
       "  </tbody>\n",
       "</table>\n",
       "</div>"
      ],
      "text/plain": [
       "      Unnamed: 0   Total Total.1 Total.2 Total.3    Total.4   Urban Urban.1  \\\n",
       "0           Name    1970    1980    1990    2000  2014-2018    1970    1980   \n",
       "1  United States  10.70%  16.20%  20.30%  24.40%     31.50%  11.50%  17.50%   \n",
       "2        Alabama   7.80%  12.20%  15.70%  19.00%     24.90%   8.90%  13.70%   \n",
       "\n",
       "  Urban.2 Urban.3    Urban.4  Rural Rural.1 Rural.2 Rural.3    Rural.4  \n",
       "0    1990    2000  2014-2018   1970    1980    1990    2000  2014-2018  \n",
       "1  22.00%  26.20%     33.50%  6.70%  10.50%  12.30%  14.90%     19.60%  \n",
       "2  17.80%  21.70%     28.00%  5.30%   8.20%   9.80%  11.60%     15.20%  "
      ]
     },
     "execution_count": 3,
     "metadata": {},
     "output_type": "execute_result"
    }
   ],
   "source": [
    "# import and merge data sets - Education, and Unemployment Rates by state\n",
    "#read Education csv file and review the sample rows\n",
    "edu_data = pd.read_csv(\"Resources/EducationReport.csv\")\n",
    "edu_data.head(3)"
   ]
  },
  {
   "cell_type": "code",
   "execution_count": 4,
   "metadata": {
    "scrolled": true
   },
   "outputs": [
    {
     "data": {
      "text/html": [
       "<div>\n",
       "<style scoped>\n",
       "    .dataframe tbody tr th:only-of-type {\n",
       "        vertical-align: middle;\n",
       "    }\n",
       "\n",
       "    .dataframe tbody tr th {\n",
       "        vertical-align: top;\n",
       "    }\n",
       "\n",
       "    .dataframe thead th {\n",
       "        text-align: right;\n",
       "    }\n",
       "</style>\n",
       "<table border=\"1\" class=\"dataframe\">\n",
       "  <thead>\n",
       "    <tr style=\"text-align: right;\">\n",
       "      <th></th>\n",
       "      <th>area_name</th>\n",
       "      <th>Total Edu</th>\n",
       "      <th>Total Edu Urban</th>\n",
       "      <th>Total Edu Rural</th>\n",
       "    </tr>\n",
       "  </thead>\n",
       "  <tbody>\n",
       "    <tr>\n",
       "      <th>0</th>\n",
       "      <td>Name</td>\n",
       "      <td>2014-2018</td>\n",
       "      <td>2014-2018</td>\n",
       "      <td>2014-2018</td>\n",
       "    </tr>\n",
       "    <tr>\n",
       "      <th>1</th>\n",
       "      <td>United States</td>\n",
       "      <td>31.50%</td>\n",
       "      <td>33.50%</td>\n",
       "      <td>19.60%</td>\n",
       "    </tr>\n",
       "    <tr>\n",
       "      <th>2</th>\n",
       "      <td>Alabama</td>\n",
       "      <td>24.90%</td>\n",
       "      <td>28.00%</td>\n",
       "      <td>15.20%</td>\n",
       "    </tr>\n",
       "    <tr>\n",
       "      <th>3</th>\n",
       "      <td>Alaska</td>\n",
       "      <td>29.20%</td>\n",
       "      <td>31.80%</td>\n",
       "      <td>23.90%</td>\n",
       "    </tr>\n",
       "    <tr>\n",
       "      <th>4</th>\n",
       "      <td>Arizona</td>\n",
       "      <td>28.90%</td>\n",
       "      <td>29.60%</td>\n",
       "      <td>15.80%</td>\n",
       "    </tr>\n",
       "  </tbody>\n",
       "</table>\n",
       "</div>"
      ],
      "text/plain": [
       "       area_name  Total Edu Total Edu Urban Total Edu Rural\n",
       "0           Name  2014-2018       2014-2018       2014-2018\n",
       "1  United States     31.50%          33.50%          19.60%\n",
       "2        Alabama     24.90%          28.00%          15.20%\n",
       "3         Alaska     29.20%          31.80%          23.90%\n",
       "4        Arizona     28.90%          29.60%          15.80%"
      ]
     },
     "execution_count": 4,
     "metadata": {},
     "output_type": "execute_result"
    }
   ],
   "source": [
    "#create a new dataframe with only needed columns for years 2014-2018\n",
    "edu_data_df = pd.DataFrame(edu_data)\n",
    "edu_data_mycolm = edu_data_df[[\"Unnamed: 0\", \"Total.4\", \"Urban.4\", \"Rural.4\"]]\n",
    "edu_data_upd = edu_data_mycolm.rename(columns={\"Unnamed: 0\" : \"area_name\", \"Total.4\" : \"Total Edu\", \"Urban.4\" : \"Total Edu Urban\", \"Rural.4\" : \"Total Edu Rural\"})\n",
    "edu_data_upd.head(5)"
   ]
  },
  {
   "cell_type": "code",
   "execution_count": 5,
   "metadata": {},
   "outputs": [
    {
     "data": {
      "text/html": [
       "<div>\n",
       "<style scoped>\n",
       "    .dataframe tbody tr th:only-of-type {\n",
       "        vertical-align: middle;\n",
       "    }\n",
       "\n",
       "    .dataframe tbody tr th {\n",
       "        vertical-align: top;\n",
       "    }\n",
       "\n",
       "    .dataframe thead th {\n",
       "        text-align: right;\n",
       "    }\n",
       "</style>\n",
       "<table border=\"1\" class=\"dataframe\">\n",
       "  <thead>\n",
       "    <tr style=\"text-align: right;\">\n",
       "      <th></th>\n",
       "      <th>FIPStxt</th>\n",
       "      <th>Stabr</th>\n",
       "      <th>area_name</th>\n",
       "      <th>Rural_urban_continuum_code_2013</th>\n",
       "      <th>Urban_influence_code_2013</th>\n",
       "      <th>Metro_2013</th>\n",
       "      <th>Civilian_labor_force_2000</th>\n",
       "      <th>Employed_2000</th>\n",
       "      <th>Unemployed_2000</th>\n",
       "      <th>Unemployment_rate_2000</th>\n",
       "      <th>...</th>\n",
       "      <th>Civilian_labor_force_2018</th>\n",
       "      <th>Employed_2018</th>\n",
       "      <th>Unemployed_2018</th>\n",
       "      <th>Unemployment_rate_2018</th>\n",
       "      <th>Civilian_labor_force_2019</th>\n",
       "      <th>Employed_2019</th>\n",
       "      <th>Unemployed_2019</th>\n",
       "      <th>Unemployment_rate_2019</th>\n",
       "      <th>Median_Household_Income_2018</th>\n",
       "      <th>Med_HH_Income_Percent_of_State_Total_2018</th>\n",
       "    </tr>\n",
       "  </thead>\n",
       "  <tbody>\n",
       "    <tr>\n",
       "      <th>0</th>\n",
       "      <td>0</td>\n",
       "      <td>US</td>\n",
       "      <td>United States</td>\n",
       "      <td>NaN</td>\n",
       "      <td>NaN</td>\n",
       "      <td>NaN</td>\n",
       "      <td>142,601,667</td>\n",
       "      <td>136,904,680</td>\n",
       "      <td>5,696,987</td>\n",
       "      <td>4.0</td>\n",
       "      <td>...</td>\n",
       "      <td>161,389,026</td>\n",
       "      <td>155,102,319</td>\n",
       "      <td>6,286,707</td>\n",
       "      <td>3.9</td>\n",
       "      <td>163,100,055</td>\n",
       "      <td>157,115,247</td>\n",
       "      <td>5,984,808</td>\n",
       "      <td>3.7</td>\n",
       "      <td>61,937</td>\n",
       "      <td>NaN</td>\n",
       "    </tr>\n",
       "    <tr>\n",
       "      <th>1</th>\n",
       "      <td>1000</td>\n",
       "      <td>AL</td>\n",
       "      <td>Alabama</td>\n",
       "      <td>NaN</td>\n",
       "      <td>NaN</td>\n",
       "      <td>NaN</td>\n",
       "      <td>2,133,223</td>\n",
       "      <td>2,035,594</td>\n",
       "      <td>97,629</td>\n",
       "      <td>4.6</td>\n",
       "      <td>...</td>\n",
       "      <td>2,216,627</td>\n",
       "      <td>2,130,845</td>\n",
       "      <td>85,782</td>\n",
       "      <td>3.9</td>\n",
       "      <td>2,241,747</td>\n",
       "      <td>2,174,483</td>\n",
       "      <td>67,264</td>\n",
       "      <td>3.0</td>\n",
       "      <td>49,881</td>\n",
       "      <td>100.0</td>\n",
       "    </tr>\n",
       "    <tr>\n",
       "      <th>2</th>\n",
       "      <td>1001</td>\n",
       "      <td>AL</td>\n",
       "      <td>Autauga County, AL</td>\n",
       "      <td>2.0</td>\n",
       "      <td>2.0</td>\n",
       "      <td>1.0</td>\n",
       "      <td>21,720</td>\n",
       "      <td>20,846</td>\n",
       "      <td>874</td>\n",
       "      <td>4.0</td>\n",
       "      <td>...</td>\n",
       "      <td>26,196</td>\n",
       "      <td>25,261</td>\n",
       "      <td>935</td>\n",
       "      <td>3.6</td>\n",
       "      <td>26,172</td>\n",
       "      <td>25,458</td>\n",
       "      <td>714</td>\n",
       "      <td>2.7</td>\n",
       "      <td>59,338</td>\n",
       "      <td>119.0</td>\n",
       "    </tr>\n",
       "    <tr>\n",
       "      <th>3</th>\n",
       "      <td>1003</td>\n",
       "      <td>AL</td>\n",
       "      <td>Baldwin County, AL</td>\n",
       "      <td>3.0</td>\n",
       "      <td>2.0</td>\n",
       "      <td>1.0</td>\n",
       "      <td>69,533</td>\n",
       "      <td>66,971</td>\n",
       "      <td>2,562</td>\n",
       "      <td>3.7</td>\n",
       "      <td>...</td>\n",
       "      <td>95,233</td>\n",
       "      <td>91,809</td>\n",
       "      <td>3,424</td>\n",
       "      <td>3.6</td>\n",
       "      <td>97,328</td>\n",
       "      <td>94,675</td>\n",
       "      <td>2,653</td>\n",
       "      <td>2.7</td>\n",
       "      <td>57,588</td>\n",
       "      <td>115.5</td>\n",
       "    </tr>\n",
       "    <tr>\n",
       "      <th>4</th>\n",
       "      <td>1005</td>\n",
       "      <td>AL</td>\n",
       "      <td>Barbour County, AL</td>\n",
       "      <td>6.0</td>\n",
       "      <td>6.0</td>\n",
       "      <td>0.0</td>\n",
       "      <td>11,373</td>\n",
       "      <td>10,748</td>\n",
       "      <td>625</td>\n",
       "      <td>5.5</td>\n",
       "      <td>...</td>\n",
       "      <td>8,414</td>\n",
       "      <td>7,987</td>\n",
       "      <td>427</td>\n",
       "      <td>5.1</td>\n",
       "      <td>8,537</td>\n",
       "      <td>8,213</td>\n",
       "      <td>324</td>\n",
       "      <td>3.8</td>\n",
       "      <td>34,382</td>\n",
       "      <td>68.9</td>\n",
       "    </tr>\n",
       "  </tbody>\n",
       "</table>\n",
       "<p>5 rows × 88 columns</p>\n",
       "</div>"
      ],
      "text/plain": [
       "   FIPStxt Stabr           area_name  Rural_urban_continuum_code_2013  \\\n",
       "0        0    US       United States                              NaN   \n",
       "1     1000    AL             Alabama                              NaN   \n",
       "2     1001    AL  Autauga County, AL                              2.0   \n",
       "3     1003    AL  Baldwin County, AL                              3.0   \n",
       "4     1005    AL  Barbour County, AL                              6.0   \n",
       "\n",
       "   Urban_influence_code_2013  Metro_2013  Civilian_labor_force_2000   \\\n",
       "0                        NaN         NaN                 142,601,667   \n",
       "1                        NaN         NaN                   2,133,223   \n",
       "2                        2.0         1.0                      21,720   \n",
       "3                        2.0         1.0                      69,533   \n",
       "4                        6.0         0.0                      11,373   \n",
       "\n",
       "   Employed_2000   Unemployed_2000   Unemployment_rate_2000  ...  \\\n",
       "0     136,904,680         5,696,987                     4.0  ...   \n",
       "1       2,035,594            97,629                     4.6  ...   \n",
       "2          20,846               874                     4.0  ...   \n",
       "3          66,971             2,562                     3.7  ...   \n",
       "4          10,748               625                     5.5  ...   \n",
       "\n",
       "  Civilian_labor_force_2018 Employed_2018 Unemployed_2018  \\\n",
       "0               161,389,026   155,102,319       6,286,707   \n",
       "1                 2,216,627     2,130,845          85,782   \n",
       "2                    26,196        25,261             935   \n",
       "3                    95,233        91,809           3,424   \n",
       "4                     8,414         7,987             427   \n",
       "\n",
       "   Unemployment_rate_2018  Civilian_labor_force_2019   Employed_2019   \\\n",
       "0                     3.9                 163,100,055     157,115,247   \n",
       "1                     3.9                   2,241,747       2,174,483   \n",
       "2                     3.6                      26,172          25,458   \n",
       "3                     3.6                      97,328          94,675   \n",
       "4                     5.1                       8,537           8,213   \n",
       "\n",
       "   Unemployed_2019   Unemployment_rate_2019 Median_Household_Income_2018  \\\n",
       "0         5,984,808                     3.7                       61,937   \n",
       "1            67,264                     3.0                       49,881   \n",
       "2               714                     2.7                       59,338   \n",
       "3             2,653                     2.7                       57,588   \n",
       "4               324                     3.8                       34,382   \n",
       "\n",
       "  Med_HH_Income_Percent_of_State_Total_2018  \n",
       "0                                       NaN  \n",
       "1                                     100.0  \n",
       "2                                     119.0  \n",
       "3                                     115.5  \n",
       "4                                      68.9  \n",
       "\n",
       "[5 rows x 88 columns]"
      ]
     },
     "execution_count": 5,
     "metadata": {},
     "output_type": "execute_result"
    }
   ],
   "source": [
    "unempl_data = pd.read_csv(\"Resources/Unemployment.csv\", encoding=\"ISO-8859-1\")\n",
    "unempl_data.head(5)"
   ]
  },
  {
   "cell_type": "code",
   "execution_count": 6,
   "metadata": {},
   "outputs": [
    {
     "data": {
      "text/html": [
       "<div>\n",
       "<style scoped>\n",
       "    .dataframe tbody tr th:only-of-type {\n",
       "        vertical-align: middle;\n",
       "    }\n",
       "\n",
       "    .dataframe tbody tr th {\n",
       "        vertical-align: top;\n",
       "    }\n",
       "\n",
       "    .dataframe thead th {\n",
       "        text-align: right;\n",
       "    }\n",
       "</style>\n",
       "<table border=\"1\" class=\"dataframe\">\n",
       "  <thead>\n",
       "    <tr style=\"text-align: right;\">\n",
       "      <th></th>\n",
       "      <th>FIPStxt</th>\n",
       "      <th>Stabr</th>\n",
       "      <th>area_name</th>\n",
       "      <th>Rural_urban_continuum_code_2013</th>\n",
       "      <th>Urban_influence_code_2013</th>\n",
       "      <th>Metro_2013</th>\n",
       "      <th>Civilian_labor_force_2000</th>\n",
       "      <th>Employed_2000</th>\n",
       "      <th>Unemployed_2000</th>\n",
       "      <th>Unemployment_rate_2000</th>\n",
       "      <th>...</th>\n",
       "      <th>Civilian_labor_force_2018</th>\n",
       "      <th>Employed_2018</th>\n",
       "      <th>Unemployed_2018</th>\n",
       "      <th>Unemployment_rate_2018</th>\n",
       "      <th>Civilian_labor_force_2019</th>\n",
       "      <th>Employed_2019</th>\n",
       "      <th>Unemployed_2019</th>\n",
       "      <th>Unemployment_rate_2019</th>\n",
       "      <th>Median_Household_Income_2018</th>\n",
       "      <th>Med_HH_Income_Percent_of_State_Total_2018</th>\n",
       "    </tr>\n",
       "  </thead>\n",
       "  <tbody>\n",
       "    <tr>\n",
       "      <th>0</th>\n",
       "      <td>0</td>\n",
       "      <td>US</td>\n",
       "      <td>United States</td>\n",
       "      <td>NaN</td>\n",
       "      <td>NaN</td>\n",
       "      <td>NaN</td>\n",
       "      <td>142,601,667</td>\n",
       "      <td>136,904,680</td>\n",
       "      <td>5,696,987</td>\n",
       "      <td>4.0</td>\n",
       "      <td>...</td>\n",
       "      <td>161,389,026</td>\n",
       "      <td>155,102,319</td>\n",
       "      <td>6,286,707</td>\n",
       "      <td>3.9</td>\n",
       "      <td>163,100,055</td>\n",
       "      <td>157,115,247</td>\n",
       "      <td>5,984,808</td>\n",
       "      <td>3.7</td>\n",
       "      <td>61,937</td>\n",
       "      <td>NaN</td>\n",
       "    </tr>\n",
       "    <tr>\n",
       "      <th>1</th>\n",
       "      <td>1000</td>\n",
       "      <td>AL</td>\n",
       "      <td>Alabama</td>\n",
       "      <td>NaN</td>\n",
       "      <td>NaN</td>\n",
       "      <td>NaN</td>\n",
       "      <td>2,133,223</td>\n",
       "      <td>2,035,594</td>\n",
       "      <td>97,629</td>\n",
       "      <td>4.6</td>\n",
       "      <td>...</td>\n",
       "      <td>2,216,627</td>\n",
       "      <td>2,130,845</td>\n",
       "      <td>85,782</td>\n",
       "      <td>3.9</td>\n",
       "      <td>2,241,747</td>\n",
       "      <td>2,174,483</td>\n",
       "      <td>67,264</td>\n",
       "      <td>3.0</td>\n",
       "      <td>49,881</td>\n",
       "      <td>100.0</td>\n",
       "    </tr>\n",
       "    <tr>\n",
       "      <th>69</th>\n",
       "      <td>2000</td>\n",
       "      <td>AK</td>\n",
       "      <td>Alaska</td>\n",
       "      <td>NaN</td>\n",
       "      <td>NaN</td>\n",
       "      <td>NaN</td>\n",
       "      <td>319,511</td>\n",
       "      <td>299,146</td>\n",
       "      <td>20,365</td>\n",
       "      <td>6.4</td>\n",
       "      <td>...</td>\n",
       "      <td>352,662</td>\n",
       "      <td>329,901</td>\n",
       "      <td>22,761</td>\n",
       "      <td>6.5</td>\n",
       "      <td>347,779</td>\n",
       "      <td>326,430</td>\n",
       "      <td>21,349</td>\n",
       "      <td>6.1</td>\n",
       "      <td>74,912</td>\n",
       "      <td>100.0</td>\n",
       "    </tr>\n",
       "  </tbody>\n",
       "</table>\n",
       "<p>3 rows × 88 columns</p>\n",
       "</div>"
      ],
      "text/plain": [
       "    FIPStxt Stabr      area_name  Rural_urban_continuum_code_2013  \\\n",
       "0         0    US  United States                              NaN   \n",
       "1      1000    AL        Alabama                              NaN   \n",
       "69     2000    AK         Alaska                              NaN   \n",
       "\n",
       "    Urban_influence_code_2013  Metro_2013  Civilian_labor_force_2000   \\\n",
       "0                         NaN         NaN                 142,601,667   \n",
       "1                         NaN         NaN                   2,133,223   \n",
       "69                        NaN         NaN                     319,511   \n",
       "\n",
       "    Employed_2000   Unemployed_2000   Unemployment_rate_2000  ...  \\\n",
       "0      136,904,680         5,696,987                     4.0  ...   \n",
       "1        2,035,594            97,629                     4.6  ...   \n",
       "69         299,146            20,365                     6.4  ...   \n",
       "\n",
       "   Civilian_labor_force_2018 Employed_2018 Unemployed_2018  \\\n",
       "0                161,389,026   155,102,319       6,286,707   \n",
       "1                  2,216,627     2,130,845          85,782   \n",
       "69                   352,662       329,901          22,761   \n",
       "\n",
       "    Unemployment_rate_2018  Civilian_labor_force_2019   Employed_2019   \\\n",
       "0                      3.9                 163,100,055     157,115,247   \n",
       "1                      3.9                   2,241,747       2,174,483   \n",
       "69                     6.5                     347,779         326,430   \n",
       "\n",
       "    Unemployed_2019   Unemployment_rate_2019 Median_Household_Income_2018  \\\n",
       "0          5,984,808                     3.7                       61,937   \n",
       "1             67,264                     3.0                       49,881   \n",
       "69            21,349                     6.1                       74,912   \n",
       "\n",
       "   Med_HH_Income_Percent_of_State_Total_2018  \n",
       "0                                        NaN  \n",
       "1                                      100.0  \n",
       "69                                     100.0  \n",
       "\n",
       "[3 rows x 88 columns]"
      ]
     },
     "execution_count": 6,
     "metadata": {},
     "output_type": "execute_result"
    }
   ],
   "source": [
    "#filter data to get to the state level (the columns where rural urban code & metro 2013 columns are empty)\n",
    "unempl_data['Rural_urban_continuum_code_2013'].replace('', np.nan, inplace=True)\n",
    "unempl_state_interim = unempl_data[unempl_data['Rural_urban_continuum_code_2013'].isnull()]\n",
    "unempl_state_interim\n",
    "unempl_data_clean = unempl_state_interim[unempl_state_interim['Metro_2013']!=0]\n",
    "unempl_data_clean.head(3)"
   ]
  },
  {
   "cell_type": "code",
   "execution_count": 7,
   "metadata": {},
   "outputs": [
    {
     "data": {
      "text/html": [
       "<div>\n",
       "<style scoped>\n",
       "    .dataframe tbody tr th:only-of-type {\n",
       "        vertical-align: middle;\n",
       "    }\n",
       "\n",
       "    .dataframe tbody tr th {\n",
       "        vertical-align: top;\n",
       "    }\n",
       "\n",
       "    .dataframe thead th {\n",
       "        text-align: right;\n",
       "    }\n",
       "</style>\n",
       "<table border=\"1\" class=\"dataframe\">\n",
       "  <thead>\n",
       "    <tr style=\"text-align: right;\">\n",
       "      <th></th>\n",
       "      <th>Stabr</th>\n",
       "      <th>area_name</th>\n",
       "      <th>Civilian_labor_force_2018</th>\n",
       "      <th>Employed_2018</th>\n",
       "      <th>Unemployed_2018</th>\n",
       "      <th>Unemployment_rate_2018</th>\n",
       "    </tr>\n",
       "  </thead>\n",
       "  <tbody>\n",
       "    <tr>\n",
       "      <th>0</th>\n",
       "      <td>US</td>\n",
       "      <td>United States</td>\n",
       "      <td>161,389,026</td>\n",
       "      <td>155,102,319</td>\n",
       "      <td>6,286,707</td>\n",
       "      <td>3.9</td>\n",
       "    </tr>\n",
       "    <tr>\n",
       "      <th>1</th>\n",
       "      <td>AL</td>\n",
       "      <td>Alabama</td>\n",
       "      <td>2,216,627</td>\n",
       "      <td>2,130,845</td>\n",
       "      <td>85,782</td>\n",
       "      <td>3.9</td>\n",
       "    </tr>\n",
       "    <tr>\n",
       "      <th>69</th>\n",
       "      <td>AK</td>\n",
       "      <td>Alaska</td>\n",
       "      <td>352,662</td>\n",
       "      <td>329,901</td>\n",
       "      <td>22,761</td>\n",
       "      <td>6.5</td>\n",
       "    </tr>\n",
       "    <tr>\n",
       "      <th>102</th>\n",
       "      <td>AZ</td>\n",
       "      <td>Arizona</td>\n",
       "      <td>3,422,583</td>\n",
       "      <td>3,260,518</td>\n",
       "      <td>162,065</td>\n",
       "      <td>4.7</td>\n",
       "    </tr>\n",
       "    <tr>\n",
       "      <th>118</th>\n",
       "      <td>AR</td>\n",
       "      <td>Arkansas</td>\n",
       "      <td>1,353,305</td>\n",
       "      <td>1,303,995</td>\n",
       "      <td>49,310</td>\n",
       "      <td>3.6</td>\n",
       "    </tr>\n",
       "  </tbody>\n",
       "</table>\n",
       "</div>"
      ],
      "text/plain": [
       "    Stabr      area_name Civilian_labor_force_2018 Employed_2018  \\\n",
       "0      US  United States               161,389,026   155,102,319   \n",
       "1      AL        Alabama                 2,216,627     2,130,845   \n",
       "69     AK         Alaska                   352,662       329,901   \n",
       "102    AZ        Arizona                 3,422,583     3,260,518   \n",
       "118    AR       Arkansas                 1,353,305     1,303,995   \n",
       "\n",
       "    Unemployed_2018  Unemployment_rate_2018  \n",
       "0         6,286,707                     3.9  \n",
       "1            85,782                     3.9  \n",
       "69           22,761                     6.5  \n",
       "102         162,065                     4.7  \n",
       "118          49,310                     3.6  "
      ]
     },
     "execution_count": 7,
     "metadata": {},
     "output_type": "execute_result"
    }
   ],
   "source": [
    "#select columns needed for years 2014-2018\n",
    "unempl_data_mycolm = unempl_data_clean[[\"Stabr\", \"area_name\", \"Civilian_labor_force_2018\", \"Employed_2018\", \"Unemployed_2018\", \"Unemployment_rate_2018\"]]\n",
    "unempl_data_mycolm.head()"
   ]
  },
  {
   "cell_type": "code",
   "execution_count": 8,
   "metadata": {},
   "outputs": [],
   "source": [
    "load_poverty = (\"Resources/PovertyReport.csv\")\n",
    "poverty_df = pd.read_csv(load_poverty)"
   ]
  },
  {
   "cell_type": "code",
   "execution_count": 9,
   "metadata": {},
   "outputs": [
    {
     "data": {
      "text/html": [
       "<div>\n",
       "<style scoped>\n",
       "    .dataframe tbody tr th:only-of-type {\n",
       "        vertical-align: middle;\n",
       "    }\n",
       "\n",
       "    .dataframe tbody tr th {\n",
       "        vertical-align: top;\n",
       "    }\n",
       "\n",
       "    .dataframe thead th {\n",
       "        text-align: right;\n",
       "    }\n",
       "</style>\n",
       "<table border=\"1\" class=\"dataframe\">\n",
       "  <thead>\n",
       "    <tr style=\"text-align: right;\">\n",
       "      <th></th>\n",
       "      <th>area_name</th>\n",
       "      <th>Poverty (2018)</th>\n",
       "      <th>Under 18 in Poverty (2018)</th>\n",
       "    </tr>\n",
       "  </thead>\n",
       "  <tbody>\n",
       "    <tr>\n",
       "      <th>0</th>\n",
       "      <td>Alabama</td>\n",
       "      <td>16.8</td>\n",
       "      <td>23.9</td>\n",
       "    </tr>\n",
       "    <tr>\n",
       "      <th>1</th>\n",
       "      <td>Alaska</td>\n",
       "      <td>11.1</td>\n",
       "      <td>14.5</td>\n",
       "    </tr>\n",
       "    <tr>\n",
       "      <th>2</th>\n",
       "      <td>Arizona</td>\n",
       "      <td>14.1</td>\n",
       "      <td>20.4</td>\n",
       "    </tr>\n",
       "    <tr>\n",
       "      <th>3</th>\n",
       "      <td>Arkansas</td>\n",
       "      <td>16.8</td>\n",
       "      <td>23.8</td>\n",
       "    </tr>\n",
       "    <tr>\n",
       "      <th>4</th>\n",
       "      <td>California</td>\n",
       "      <td>12.8</td>\n",
       "      <td>17.4</td>\n",
       "    </tr>\n",
       "  </tbody>\n",
       "</table>\n",
       "</div>"
      ],
      "text/plain": [
       "    area_name  Poverty (2018)  Under 18 in Poverty (2018)\n",
       "0     Alabama            16.8                        23.9\n",
       "1      Alaska            11.1                        14.5\n",
       "2     Arizona            14.1                        20.4\n",
       "3    Arkansas            16.8                        23.8\n",
       "4  California            12.8                        17.4"
      ]
     },
     "execution_count": 9,
     "metadata": {},
     "output_type": "execute_result"
    }
   ],
   "source": [
    "poverty_df = poverty_df.drop(columns={\"Textbox98\", \"Textbox99\", \"total_est_pct_Bmin2\",\n",
    "                                     \"total_est_pct_Bmax2\", \"under18_pct_Bmin2\", \"under18_pct_Bmax2\"})\n",
    "poverty_df = poverty_df.rename(columns={\"state_National\": \"area_name\",\n",
    "                                       \"total_est_pct2\": \"Poverty (2018)\",\n",
    "                                       \"under18_pct2\": \"Under 18 in Poverty (2018)\"})\n",
    "poverty_df.head()"
   ]
  },
  {
   "cell_type": "code",
   "execution_count": 10,
   "metadata": {},
   "outputs": [
    {
     "data": {
      "text/html": [
       "<div>\n",
       "<style scoped>\n",
       "    .dataframe tbody tr th:only-of-type {\n",
       "        vertical-align: middle;\n",
       "    }\n",
       "\n",
       "    .dataframe tbody tr th {\n",
       "        vertical-align: top;\n",
       "    }\n",
       "\n",
       "    .dataframe thead th {\n",
       "        text-align: right;\n",
       "    }\n",
       "</style>\n",
       "<table border=\"1\" class=\"dataframe\">\n",
       "  <thead>\n",
       "    <tr style=\"text-align: right;\">\n",
       "      <th></th>\n",
       "      <th>state</th>\n",
       "      <th>median_household_income</th>\n",
       "      <th>share_unemployed_seasonal</th>\n",
       "      <th>share_population_in_metro_areas</th>\n",
       "      <th>share_population_with_high_school_degree</th>\n",
       "      <th>share_non_citizen</th>\n",
       "      <th>share_white_poverty</th>\n",
       "      <th>gini_index</th>\n",
       "      <th>share_non_white</th>\n",
       "      <th>share_voters_voted_trump</th>\n",
       "      <th>hate_crimes_per_100k_splc</th>\n",
       "      <th>avg_hatecrimes_per_100k_fbi</th>\n",
       "    </tr>\n",
       "  </thead>\n",
       "  <tbody>\n",
       "    <tr>\n",
       "      <th>0</th>\n",
       "      <td>Alabama</td>\n",
       "      <td>42278</td>\n",
       "      <td>0.060</td>\n",
       "      <td>0.64</td>\n",
       "      <td>0.821</td>\n",
       "      <td>0.02</td>\n",
       "      <td>0.12</td>\n",
       "      <td>0.472</td>\n",
       "      <td>0.35</td>\n",
       "      <td>0.63</td>\n",
       "      <td>0.125839</td>\n",
       "      <td>1.806410</td>\n",
       "    </tr>\n",
       "    <tr>\n",
       "      <th>1</th>\n",
       "      <td>Alaska</td>\n",
       "      <td>67629</td>\n",
       "      <td>0.064</td>\n",
       "      <td>0.63</td>\n",
       "      <td>0.914</td>\n",
       "      <td>0.04</td>\n",
       "      <td>0.06</td>\n",
       "      <td>0.422</td>\n",
       "      <td>0.42</td>\n",
       "      <td>0.53</td>\n",
       "      <td>0.143740</td>\n",
       "      <td>1.656700</td>\n",
       "    </tr>\n",
       "    <tr>\n",
       "      <th>2</th>\n",
       "      <td>Arizona</td>\n",
       "      <td>49254</td>\n",
       "      <td>0.063</td>\n",
       "      <td>0.90</td>\n",
       "      <td>0.842</td>\n",
       "      <td>0.10</td>\n",
       "      <td>0.09</td>\n",
       "      <td>0.455</td>\n",
       "      <td>0.49</td>\n",
       "      <td>0.50</td>\n",
       "      <td>0.225320</td>\n",
       "      <td>3.413928</td>\n",
       "    </tr>\n",
       "    <tr>\n",
       "      <th>3</th>\n",
       "      <td>Arkansas</td>\n",
       "      <td>44922</td>\n",
       "      <td>0.052</td>\n",
       "      <td>0.69</td>\n",
       "      <td>0.824</td>\n",
       "      <td>0.04</td>\n",
       "      <td>0.12</td>\n",
       "      <td>0.458</td>\n",
       "      <td>0.26</td>\n",
       "      <td>0.60</td>\n",
       "      <td>0.069061</td>\n",
       "      <td>0.869209</td>\n",
       "    </tr>\n",
       "    <tr>\n",
       "      <th>4</th>\n",
       "      <td>California</td>\n",
       "      <td>60487</td>\n",
       "      <td>0.059</td>\n",
       "      <td>0.97</td>\n",
       "      <td>0.806</td>\n",
       "      <td>0.13</td>\n",
       "      <td>0.09</td>\n",
       "      <td>0.471</td>\n",
       "      <td>0.61</td>\n",
       "      <td>0.33</td>\n",
       "      <td>0.255805</td>\n",
       "      <td>2.397986</td>\n",
       "    </tr>\n",
       "  </tbody>\n",
       "</table>\n",
       "</div>"
      ],
      "text/plain": [
       "        state  median_household_income  share_unemployed_seasonal  \\\n",
       "0     Alabama                    42278                      0.060   \n",
       "1      Alaska                    67629                      0.064   \n",
       "2     Arizona                    49254                      0.063   \n",
       "3    Arkansas                    44922                      0.052   \n",
       "4  California                    60487                      0.059   \n",
       "\n",
       "   share_population_in_metro_areas  share_population_with_high_school_degree  \\\n",
       "0                             0.64                                     0.821   \n",
       "1                             0.63                                     0.914   \n",
       "2                             0.90                                     0.842   \n",
       "3                             0.69                                     0.824   \n",
       "4                             0.97                                     0.806   \n",
       "\n",
       "   share_non_citizen  share_white_poverty  gini_index  share_non_white  \\\n",
       "0               0.02                 0.12       0.472             0.35   \n",
       "1               0.04                 0.06       0.422             0.42   \n",
       "2               0.10                 0.09       0.455             0.49   \n",
       "3               0.04                 0.12       0.458             0.26   \n",
       "4               0.13                 0.09       0.471             0.61   \n",
       "\n",
       "   share_voters_voted_trump  hate_crimes_per_100k_splc  \\\n",
       "0                      0.63                   0.125839   \n",
       "1                      0.53                   0.143740   \n",
       "2                      0.50                   0.225320   \n",
       "3                      0.60                   0.069061   \n",
       "4                      0.33                   0.255805   \n",
       "\n",
       "   avg_hatecrimes_per_100k_fbi  \n",
       "0                     1.806410  \n",
       "1                     1.656700  \n",
       "2                     3.413928  \n",
       "3                     0.869209  \n",
       "4                     2.397986  "
      ]
     },
     "execution_count": 10,
     "metadata": {},
     "output_type": "execute_result"
    }
   ],
   "source": [
    "#add and read the hate crime file\n",
    "hate_crime = (\"Resources/hate_crimes538.csv\")\n",
    "hate_crime_df = pd.read_csv(hate_crime)\n",
    "hate_crime_df.head()"
   ]
  },
  {
   "cell_type": "code",
   "execution_count": 11,
   "metadata": {},
   "outputs": [
    {
     "data": {
      "text/html": [
       "<div>\n",
       "<style scoped>\n",
       "    .dataframe tbody tr th:only-of-type {\n",
       "        vertical-align: middle;\n",
       "    }\n",
       "\n",
       "    .dataframe tbody tr th {\n",
       "        vertical-align: top;\n",
       "    }\n",
       "\n",
       "    .dataframe thead th {\n",
       "        text-align: right;\n",
       "    }\n",
       "</style>\n",
       "<table border=\"1\" class=\"dataframe\">\n",
       "  <thead>\n",
       "    <tr style=\"text-align: right;\">\n",
       "      <th></th>\n",
       "      <th>area_name</th>\n",
       "      <th>median_household_income</th>\n",
       "      <th>hate_crimes_per_100k_splc</th>\n",
       "    </tr>\n",
       "  </thead>\n",
       "  <tbody>\n",
       "    <tr>\n",
       "      <th>0</th>\n",
       "      <td>Alabama</td>\n",
       "      <td>42278</td>\n",
       "      <td>0.125839</td>\n",
       "    </tr>\n",
       "    <tr>\n",
       "      <th>1</th>\n",
       "      <td>Alaska</td>\n",
       "      <td>67629</td>\n",
       "      <td>0.143740</td>\n",
       "    </tr>\n",
       "    <tr>\n",
       "      <th>2</th>\n",
       "      <td>Arizona</td>\n",
       "      <td>49254</td>\n",
       "      <td>0.225320</td>\n",
       "    </tr>\n",
       "    <tr>\n",
       "      <th>3</th>\n",
       "      <td>Arkansas</td>\n",
       "      <td>44922</td>\n",
       "      <td>0.069061</td>\n",
       "    </tr>\n",
       "    <tr>\n",
       "      <th>4</th>\n",
       "      <td>California</td>\n",
       "      <td>60487</td>\n",
       "      <td>0.255805</td>\n",
       "    </tr>\n",
       "  </tbody>\n",
       "</table>\n",
       "</div>"
      ],
      "text/plain": [
       "    area_name  median_household_income  hate_crimes_per_100k_splc\n",
       "0     Alabama                    42278                   0.125839\n",
       "1      Alaska                    67629                   0.143740\n",
       "2     Arizona                    49254                   0.225320\n",
       "3    Arkansas                    44922                   0.069061\n",
       "4  California                    60487                   0.255805"
      ]
     },
     "execution_count": 11,
     "metadata": {},
     "output_type": "execute_result"
    }
   ],
   "source": [
    "hate_crime_colm = hate_crime_df[[\"state\", \"median_household_income\", \"hate_crimes_per_100k_splc\"]]\n",
    "hate_crime_colm = hate_crime_colm.rename(columns={\"state\" : \"area_name\"})\n",
    "hate_crime_colm.head()"
   ]
  },
  {
   "cell_type": "code",
   "execution_count": 12,
   "metadata": {},
   "outputs": [
    {
     "data": {
      "text/html": [
       "<div>\n",
       "<style scoped>\n",
       "    .dataframe tbody tr th:only-of-type {\n",
       "        vertical-align: middle;\n",
       "    }\n",
       "\n",
       "    .dataframe tbody tr th {\n",
       "        vertical-align: top;\n",
       "    }\n",
       "\n",
       "    .dataframe thead th {\n",
       "        text-align: right;\n",
       "    }\n",
       "</style>\n",
       "<table border=\"1\" class=\"dataframe\">\n",
       "  <thead>\n",
       "    <tr style=\"text-align: right;\">\n",
       "      <th></th>\n",
       "      <th>FIPStxt</th>\n",
       "      <th>Stabr</th>\n",
       "      <th>area_name</th>\n",
       "      <th>Rural_urban_continuum_code_2013</th>\n",
       "      <th>Urban_influence_code_2013</th>\n",
       "      <th>Metro_2013</th>\n",
       "      <th>Civilian_labor_force_2000</th>\n",
       "      <th>Employed_2000</th>\n",
       "      <th>Unemployed_2000</th>\n",
       "      <th>Unemployment_rate_2000</th>\n",
       "      <th>...</th>\n",
       "      <th>Employed_2018</th>\n",
       "      <th>Unemployed_2018</th>\n",
       "      <th>Unemployment_rate_2018</th>\n",
       "      <th>Civilian_labor_force_2019</th>\n",
       "      <th>Employed_2019</th>\n",
       "      <th>Unemployed_2019</th>\n",
       "      <th>Unemployment_rate_2019</th>\n",
       "      <th>Median_Household_Income_2018</th>\n",
       "      <th>Med_HH_Income_Percent_of_State_Total_2018</th>\n",
       "      <th>Average Unempl 2014-18</th>\n",
       "    </tr>\n",
       "  </thead>\n",
       "  <tbody>\n",
       "    <tr>\n",
       "      <th>0</th>\n",
       "      <td>0</td>\n",
       "      <td>US</td>\n",
       "      <td>United States</td>\n",
       "      <td>NaN</td>\n",
       "      <td>NaN</td>\n",
       "      <td>NaN</td>\n",
       "      <td>142,601,667</td>\n",
       "      <td>136,904,680</td>\n",
       "      <td>5,696,987</td>\n",
       "      <td>4.0</td>\n",
       "      <td>...</td>\n",
       "      <td>155,102,319</td>\n",
       "      <td>6,286,707</td>\n",
       "      <td>3.9</td>\n",
       "      <td>163,100,055</td>\n",
       "      <td>157,115,247</td>\n",
       "      <td>5,984,808</td>\n",
       "      <td>3.7</td>\n",
       "      <td>61,937</td>\n",
       "      <td>NaN</td>\n",
       "      <td>6.100</td>\n",
       "    </tr>\n",
       "    <tr>\n",
       "      <th>1</th>\n",
       "      <td>1000</td>\n",
       "      <td>AL</td>\n",
       "      <td>Alabama</td>\n",
       "      <td>NaN</td>\n",
       "      <td>NaN</td>\n",
       "      <td>NaN</td>\n",
       "      <td>2,133,223</td>\n",
       "      <td>2,035,594</td>\n",
       "      <td>97,629</td>\n",
       "      <td>4.6</td>\n",
       "      <td>...</td>\n",
       "      <td>2,130,845</td>\n",
       "      <td>85,782</td>\n",
       "      <td>3.9</td>\n",
       "      <td>2,241,747</td>\n",
       "      <td>2,174,483</td>\n",
       "      <td>67,264</td>\n",
       "      <td>3.0</td>\n",
       "      <td>49,881</td>\n",
       "      <td>100.0</td>\n",
       "      <td>6.725</td>\n",
       "    </tr>\n",
       "    <tr>\n",
       "      <th>2</th>\n",
       "      <td>1001</td>\n",
       "      <td>AL</td>\n",
       "      <td>Autauga County, AL</td>\n",
       "      <td>2.0</td>\n",
       "      <td>2.0</td>\n",
       "      <td>1.0</td>\n",
       "      <td>21,720</td>\n",
       "      <td>20,846</td>\n",
       "      <td>874</td>\n",
       "      <td>4.0</td>\n",
       "      <td>...</td>\n",
       "      <td>25,261</td>\n",
       "      <td>935</td>\n",
       "      <td>3.6</td>\n",
       "      <td>26,172</td>\n",
       "      <td>25,458</td>\n",
       "      <td>714</td>\n",
       "      <td>2.7</td>\n",
       "      <td>59,338</td>\n",
       "      <td>119.0</td>\n",
       "      <td>5.850</td>\n",
       "    </tr>\n",
       "    <tr>\n",
       "      <th>3</th>\n",
       "      <td>1003</td>\n",
       "      <td>AL</td>\n",
       "      <td>Baldwin County, AL</td>\n",
       "      <td>3.0</td>\n",
       "      <td>2.0</td>\n",
       "      <td>1.0</td>\n",
       "      <td>69,533</td>\n",
       "      <td>66,971</td>\n",
       "      <td>2,562</td>\n",
       "      <td>3.7</td>\n",
       "      <td>...</td>\n",
       "      <td>91,809</td>\n",
       "      <td>3,424</td>\n",
       "      <td>3.6</td>\n",
       "      <td>97,328</td>\n",
       "      <td>94,675</td>\n",
       "      <td>2,653</td>\n",
       "      <td>2.7</td>\n",
       "      <td>57,588</td>\n",
       "      <td>115.5</td>\n",
       "      <td>6.275</td>\n",
       "    </tr>\n",
       "    <tr>\n",
       "      <th>4</th>\n",
       "      <td>1005</td>\n",
       "      <td>AL</td>\n",
       "      <td>Barbour County, AL</td>\n",
       "      <td>6.0</td>\n",
       "      <td>6.0</td>\n",
       "      <td>0.0</td>\n",
       "      <td>11,373</td>\n",
       "      <td>10,748</td>\n",
       "      <td>625</td>\n",
       "      <td>5.5</td>\n",
       "      <td>...</td>\n",
       "      <td>7,987</td>\n",
       "      <td>427</td>\n",
       "      <td>5.1</td>\n",
       "      <td>8,537</td>\n",
       "      <td>8,213</td>\n",
       "      <td>324</td>\n",
       "      <td>3.8</td>\n",
       "      <td>34,382</td>\n",
       "      <td>68.9</td>\n",
       "      <td>9.675</td>\n",
       "    </tr>\n",
       "  </tbody>\n",
       "</table>\n",
       "<p>5 rows × 89 columns</p>\n",
       "</div>"
      ],
      "text/plain": [
       "   FIPStxt Stabr           area_name  Rural_urban_continuum_code_2013  \\\n",
       "0        0    US       United States                              NaN   \n",
       "1     1000    AL             Alabama                              NaN   \n",
       "2     1001    AL  Autauga County, AL                              2.0   \n",
       "3     1003    AL  Baldwin County, AL                              3.0   \n",
       "4     1005    AL  Barbour County, AL                              6.0   \n",
       "\n",
       "   Urban_influence_code_2013  Metro_2013  Civilian_labor_force_2000   \\\n",
       "0                        NaN         NaN                 142,601,667   \n",
       "1                        NaN         NaN                   2,133,223   \n",
       "2                        2.0         1.0                      21,720   \n",
       "3                        2.0         1.0                      69,533   \n",
       "4                        6.0         0.0                      11,373   \n",
       "\n",
       "   Employed_2000   Unemployed_2000   Unemployment_rate_2000  ...  \\\n",
       "0     136,904,680         5,696,987                     4.0  ...   \n",
       "1       2,035,594            97,629                     4.6  ...   \n",
       "2          20,846               874                     4.0  ...   \n",
       "3          66,971             2,562                     3.7  ...   \n",
       "4          10,748               625                     5.5  ...   \n",
       "\n",
       "  Employed_2018 Unemployed_2018 Unemployment_rate_2018  \\\n",
       "0   155,102,319       6,286,707                    3.9   \n",
       "1     2,130,845          85,782                    3.9   \n",
       "2        25,261             935                    3.6   \n",
       "3        91,809           3,424                    3.6   \n",
       "4         7,987             427                    5.1   \n",
       "\n",
       "    Civilian_labor_force_2019   Employed_2019   Unemployed_2019   \\\n",
       "0                  163,100,055     157,115,247         5,984,808   \n",
       "1                    2,241,747       2,174,483            67,264   \n",
       "2                       26,172          25,458               714   \n",
       "3                       97,328          94,675             2,653   \n",
       "4                        8,537           8,213               324   \n",
       "\n",
       "  Unemployment_rate_2019  Median_Household_Income_2018  \\\n",
       "0                    3.7                        61,937   \n",
       "1                    3.0                        49,881   \n",
       "2                    2.7                        59,338   \n",
       "3                    2.7                        57,588   \n",
       "4                    3.8                        34,382   \n",
       "\n",
       "  Med_HH_Income_Percent_of_State_Total_2018 Average Unempl 2014-18  \n",
       "0                                       NaN                  6.100  \n",
       "1                                     100.0                  6.725  \n",
       "2                                     119.0                  5.850  \n",
       "3                                     115.5                  6.275  \n",
       "4                                      68.9                  9.675  \n",
       "\n",
       "[5 rows x 89 columns]"
      ]
     },
     "execution_count": 12,
     "metadata": {},
     "output_type": "execute_result"
    }
   ],
   "source": [
    "unempl_data[\"Average Unempl 2014-18\"] =(unempl_data[\"Unemployment_rate_2018\"] + unempl_data[\"Unemployment_rate_2017\"]\n",
    "+ unempl_data[\"Unemployment_rate_2016\"] + unempl_data[\"Unemployment_rate_2015\"] + \n",
    "unempl_data[\"Unemployment_rate_2014\"])/4\n",
    "unempl_data.head()"
   ]
  },
  {
   "cell_type": "code",
   "execution_count": 13,
   "metadata": {},
   "outputs": [
    {
     "data": {
      "text/html": [
       "<div>\n",
       "<style scoped>\n",
       "    .dataframe tbody tr th:only-of-type {\n",
       "        vertical-align: middle;\n",
       "    }\n",
       "\n",
       "    .dataframe tbody tr th {\n",
       "        vertical-align: top;\n",
       "    }\n",
       "\n",
       "    .dataframe thead th {\n",
       "        text-align: right;\n",
       "    }\n",
       "</style>\n",
       "<table border=\"1\" class=\"dataframe\">\n",
       "  <thead>\n",
       "    <tr style=\"text-align: right;\">\n",
       "      <th></th>\n",
       "      <th>area_name</th>\n",
       "      <th>Total Edu</th>\n",
       "      <th>Total Edu Urban</th>\n",
       "      <th>Total Edu Rural</th>\n",
       "    </tr>\n",
       "  </thead>\n",
       "  <tbody>\n",
       "    <tr>\n",
       "      <th>2</th>\n",
       "      <td>Alabama</td>\n",
       "      <td>24.90%</td>\n",
       "      <td>28.00%</td>\n",
       "      <td>15.20%</td>\n",
       "    </tr>\n",
       "    <tr>\n",
       "      <th>3</th>\n",
       "      <td>Alaska</td>\n",
       "      <td>29.20%</td>\n",
       "      <td>31.80%</td>\n",
       "      <td>23.90%</td>\n",
       "    </tr>\n",
       "    <tr>\n",
       "      <th>4</th>\n",
       "      <td>Arizona</td>\n",
       "      <td>28.90%</td>\n",
       "      <td>29.60%</td>\n",
       "      <td>15.80%</td>\n",
       "    </tr>\n",
       "    <tr>\n",
       "      <th>5</th>\n",
       "      <td>Arkansas</td>\n",
       "      <td>22.60%</td>\n",
       "      <td>26.80%</td>\n",
       "      <td>16.00%</td>\n",
       "    </tr>\n",
       "    <tr>\n",
       "      <th>6</th>\n",
       "      <td>California</td>\n",
       "      <td>33.30%</td>\n",
       "      <td>33.50%</td>\n",
       "      <td>23.20%</td>\n",
       "    </tr>\n",
       "  </tbody>\n",
       "</table>\n",
       "</div>"
      ],
      "text/plain": [
       "    area_name Total Edu Total Edu Urban Total Edu Rural\n",
       "2     Alabama    24.90%          28.00%          15.20%\n",
       "3      Alaska    29.20%          31.80%          23.90%\n",
       "4     Arizona    28.90%          29.60%          15.80%\n",
       "5    Arkansas    22.60%          26.80%          16.00%\n",
       "6  California    33.30%          33.50%          23.20%"
      ]
     },
     "execution_count": 13,
     "metadata": {},
     "output_type": "execute_result"
    }
   ],
   "source": [
    "edu_data_final = edu_data_upd.drop([0,1], axis=0)\n",
    "edu_data_final.head()"
   ]
  },
  {
   "cell_type": "code",
   "execution_count": 14,
   "metadata": {},
   "outputs": [
    {
     "data": {
      "text/html": [
       "<div>\n",
       "<style scoped>\n",
       "    .dataframe tbody tr th:only-of-type {\n",
       "        vertical-align: middle;\n",
       "    }\n",
       "\n",
       "    .dataframe tbody tr th {\n",
       "        vertical-align: top;\n",
       "    }\n",
       "\n",
       "    .dataframe thead th {\n",
       "        text-align: right;\n",
       "    }\n",
       "</style>\n",
       "<table border=\"1\" class=\"dataframe\">\n",
       "  <thead>\n",
       "    <tr style=\"text-align: right;\">\n",
       "      <th></th>\n",
       "      <th>FIPStxt</th>\n",
       "      <th>Stabr</th>\n",
       "      <th>area_name</th>\n",
       "      <th>Rural_urban_continuum_code_2013</th>\n",
       "      <th>Urban_influence_code_2013</th>\n",
       "      <th>Metro_2013</th>\n",
       "      <th>Civilian_labor_force_2000</th>\n",
       "      <th>Employed_2000</th>\n",
       "      <th>Unemployed_2000</th>\n",
       "      <th>Unemployment_rate_2000</th>\n",
       "      <th>...</th>\n",
       "      <th>Employed_2018</th>\n",
       "      <th>Unemployed_2018</th>\n",
       "      <th>Unemployment_rate_2018</th>\n",
       "      <th>Civilian_labor_force_2019</th>\n",
       "      <th>Employed_2019</th>\n",
       "      <th>Unemployed_2019</th>\n",
       "      <th>Unemployment_rate_2019</th>\n",
       "      <th>Median_Household_Income_2018</th>\n",
       "      <th>Med_HH_Income_Percent_of_State_Total_2018</th>\n",
       "      <th>Average Unempl 2014-18</th>\n",
       "    </tr>\n",
       "  </thead>\n",
       "  <tbody>\n",
       "    <tr>\n",
       "      <th>0</th>\n",
       "      <td>0</td>\n",
       "      <td>US</td>\n",
       "      <td>United States</td>\n",
       "      <td>NaN</td>\n",
       "      <td>NaN</td>\n",
       "      <td>NaN</td>\n",
       "      <td>142,601,667</td>\n",
       "      <td>136,904,680</td>\n",
       "      <td>5,696,987</td>\n",
       "      <td>4.0</td>\n",
       "      <td>...</td>\n",
       "      <td>155,102,319</td>\n",
       "      <td>6,286,707</td>\n",
       "      <td>3.9</td>\n",
       "      <td>163,100,055</td>\n",
       "      <td>157,115,247</td>\n",
       "      <td>5,984,808</td>\n",
       "      <td>3.7</td>\n",
       "      <td>61,937</td>\n",
       "      <td>NaN</td>\n",
       "      <td>6.100</td>\n",
       "    </tr>\n",
       "    <tr>\n",
       "      <th>1</th>\n",
       "      <td>1000</td>\n",
       "      <td>AL</td>\n",
       "      <td>Alabama</td>\n",
       "      <td>NaN</td>\n",
       "      <td>NaN</td>\n",
       "      <td>NaN</td>\n",
       "      <td>2,133,223</td>\n",
       "      <td>2,035,594</td>\n",
       "      <td>97,629</td>\n",
       "      <td>4.6</td>\n",
       "      <td>...</td>\n",
       "      <td>2,130,845</td>\n",
       "      <td>85,782</td>\n",
       "      <td>3.9</td>\n",
       "      <td>2,241,747</td>\n",
       "      <td>2,174,483</td>\n",
       "      <td>67,264</td>\n",
       "      <td>3.0</td>\n",
       "      <td>49,881</td>\n",
       "      <td>100.0</td>\n",
       "      <td>6.725</td>\n",
       "    </tr>\n",
       "    <tr>\n",
       "      <th>69</th>\n",
       "      <td>2000</td>\n",
       "      <td>AK</td>\n",
       "      <td>Alaska</td>\n",
       "      <td>NaN</td>\n",
       "      <td>NaN</td>\n",
       "      <td>NaN</td>\n",
       "      <td>319,511</td>\n",
       "      <td>299,146</td>\n",
       "      <td>20,365</td>\n",
       "      <td>6.4</td>\n",
       "      <td>...</td>\n",
       "      <td>329,901</td>\n",
       "      <td>22,761</td>\n",
       "      <td>6.5</td>\n",
       "      <td>347,779</td>\n",
       "      <td>326,430</td>\n",
       "      <td>21,349</td>\n",
       "      <td>6.1</td>\n",
       "      <td>74,912</td>\n",
       "      <td>100.0</td>\n",
       "      <td>8.550</td>\n",
       "    </tr>\n",
       "    <tr>\n",
       "      <th>102</th>\n",
       "      <td>4000</td>\n",
       "      <td>AZ</td>\n",
       "      <td>Arizona</td>\n",
       "      <td>NaN</td>\n",
       "      <td>NaN</td>\n",
       "      <td>NaN</td>\n",
       "      <td>2,509,883</td>\n",
       "      <td>2,410,581</td>\n",
       "      <td>99,302</td>\n",
       "      <td>4.0</td>\n",
       "      <td>...</td>\n",
       "      <td>3,260,518</td>\n",
       "      <td>162,065</td>\n",
       "      <td>4.7</td>\n",
       "      <td>3,551,260</td>\n",
       "      <td>3,384,504</td>\n",
       "      <td>166,756</td>\n",
       "      <td>4.7</td>\n",
       "      <td>59,079</td>\n",
       "      <td>100.0</td>\n",
       "      <td>6.950</td>\n",
       "    </tr>\n",
       "    <tr>\n",
       "      <th>118</th>\n",
       "      <td>5000</td>\n",
       "      <td>AR</td>\n",
       "      <td>Arkansas</td>\n",
       "      <td>NaN</td>\n",
       "      <td>NaN</td>\n",
       "      <td>NaN</td>\n",
       "      <td>1,258,301</td>\n",
       "      <td>1,204,695</td>\n",
       "      <td>53,606</td>\n",
       "      <td>4.3</td>\n",
       "      <td>...</td>\n",
       "      <td>1,303,995</td>\n",
       "      <td>49,310</td>\n",
       "      <td>3.6</td>\n",
       "      <td>1,362,642</td>\n",
       "      <td>1,314,290</td>\n",
       "      <td>48,352</td>\n",
       "      <td>3.5</td>\n",
       "      <td>47,094</td>\n",
       "      <td>100.0</td>\n",
       "      <td>5.575</td>\n",
       "    </tr>\n",
       "  </tbody>\n",
       "</table>\n",
       "<p>5 rows × 89 columns</p>\n",
       "</div>"
      ],
      "text/plain": [
       "     FIPStxt Stabr      area_name  Rural_urban_continuum_code_2013  \\\n",
       "0          0    US  United States                              NaN   \n",
       "1       1000    AL        Alabama                              NaN   \n",
       "69      2000    AK         Alaska                              NaN   \n",
       "102     4000    AZ        Arizona                              NaN   \n",
       "118     5000    AR       Arkansas                              NaN   \n",
       "\n",
       "     Urban_influence_code_2013  Metro_2013  Civilian_labor_force_2000   \\\n",
       "0                          NaN         NaN                 142,601,667   \n",
       "1                          NaN         NaN                   2,133,223   \n",
       "69                         NaN         NaN                     319,511   \n",
       "102                        NaN         NaN                   2,509,883   \n",
       "118                        NaN         NaN                   1,258,301   \n",
       "\n",
       "     Employed_2000   Unemployed_2000   Unemployment_rate_2000  ...  \\\n",
       "0       136,904,680         5,696,987                     4.0  ...   \n",
       "1         2,035,594            97,629                     4.6  ...   \n",
       "69          299,146            20,365                     6.4  ...   \n",
       "102       2,410,581            99,302                     4.0  ...   \n",
       "118       1,204,695            53,606                     4.3  ...   \n",
       "\n",
       "    Employed_2018 Unemployed_2018 Unemployment_rate_2018  \\\n",
       "0     155,102,319       6,286,707                    3.9   \n",
       "1       2,130,845          85,782                    3.9   \n",
       "69        329,901          22,761                    6.5   \n",
       "102     3,260,518         162,065                    4.7   \n",
       "118     1,303,995          49,310                    3.6   \n",
       "\n",
       "      Civilian_labor_force_2019   Employed_2019   Unemployed_2019   \\\n",
       "0                    163,100,055     157,115,247         5,984,808   \n",
       "1                      2,241,747       2,174,483            67,264   \n",
       "69                       347,779         326,430            21,349   \n",
       "102                    3,551,260       3,384,504           166,756   \n",
       "118                    1,362,642       1,314,290            48,352   \n",
       "\n",
       "    Unemployment_rate_2019  Median_Household_Income_2018  \\\n",
       "0                      3.7                        61,937   \n",
       "1                      3.0                        49,881   \n",
       "69                     6.1                        74,912   \n",
       "102                    4.7                        59,079   \n",
       "118                    3.5                        47,094   \n",
       "\n",
       "    Med_HH_Income_Percent_of_State_Total_2018 Average Unempl 2014-18  \n",
       "0                                         NaN                  6.100  \n",
       "1                                       100.0                  6.725  \n",
       "69                                      100.0                  8.550  \n",
       "102                                     100.0                  6.950  \n",
       "118                                     100.0                  5.575  \n",
       "\n",
       "[5 rows x 89 columns]"
      ]
     },
     "execution_count": 14,
     "metadata": {},
     "output_type": "execute_result"
    }
   ],
   "source": [
    "unempl_data['Rural_urban_continuum_code_2013'].replace('', np.nan, inplace=True)\n",
    "unempl_state_interim = unempl_data[unempl_data['Rural_urban_continuum_code_2013'].isnull()]\n",
    "unempl_state_interim\n",
    "unempl_data_clean = unempl_state_interim[unempl_state_interim['Metro_2013']!=0]\n",
    "unempl_data_clean.head()"
   ]
  },
  {
   "cell_type": "code",
   "execution_count": 15,
   "metadata": {},
   "outputs": [
    {
     "data": {
      "text/html": [
       "<div>\n",
       "<style scoped>\n",
       "    .dataframe tbody tr th:only-of-type {\n",
       "        vertical-align: middle;\n",
       "    }\n",
       "\n",
       "    .dataframe tbody tr th {\n",
       "        vertical-align: top;\n",
       "    }\n",
       "\n",
       "    .dataframe thead th {\n",
       "        text-align: right;\n",
       "    }\n",
       "</style>\n",
       "<table border=\"1\" class=\"dataframe\">\n",
       "  <thead>\n",
       "    <tr style=\"text-align: right;\">\n",
       "      <th></th>\n",
       "      <th>Stabr</th>\n",
       "      <th>area_name</th>\n",
       "      <th>Civilian_labor_force_2018</th>\n",
       "      <th>Employed_2018</th>\n",
       "      <th>Unemployed_2018</th>\n",
       "      <th>Unemployment_rate_2018</th>\n",
       "    </tr>\n",
       "  </thead>\n",
       "  <tbody>\n",
       "    <tr>\n",
       "      <th>0</th>\n",
       "      <td>US</td>\n",
       "      <td>United States</td>\n",
       "      <td>161,389,026</td>\n",
       "      <td>155,102,319</td>\n",
       "      <td>6,286,707</td>\n",
       "      <td>3.9</td>\n",
       "    </tr>\n",
       "    <tr>\n",
       "      <th>1</th>\n",
       "      <td>AL</td>\n",
       "      <td>Alabama</td>\n",
       "      <td>2,216,627</td>\n",
       "      <td>2,130,845</td>\n",
       "      <td>85,782</td>\n",
       "      <td>3.9</td>\n",
       "    </tr>\n",
       "    <tr>\n",
       "      <th>69</th>\n",
       "      <td>AK</td>\n",
       "      <td>Alaska</td>\n",
       "      <td>352,662</td>\n",
       "      <td>329,901</td>\n",
       "      <td>22,761</td>\n",
       "      <td>6.5</td>\n",
       "    </tr>\n",
       "    <tr>\n",
       "      <th>102</th>\n",
       "      <td>AZ</td>\n",
       "      <td>Arizona</td>\n",
       "      <td>3,422,583</td>\n",
       "      <td>3,260,518</td>\n",
       "      <td>162,065</td>\n",
       "      <td>4.7</td>\n",
       "    </tr>\n",
       "    <tr>\n",
       "      <th>118</th>\n",
       "      <td>AR</td>\n",
       "      <td>Arkansas</td>\n",
       "      <td>1,353,305</td>\n",
       "      <td>1,303,995</td>\n",
       "      <td>49,310</td>\n",
       "      <td>3.6</td>\n",
       "    </tr>\n",
       "  </tbody>\n",
       "</table>\n",
       "</div>"
      ],
      "text/plain": [
       "    Stabr      area_name Civilian_labor_force_2018 Employed_2018  \\\n",
       "0      US  United States               161,389,026   155,102,319   \n",
       "1      AL        Alabama                 2,216,627     2,130,845   \n",
       "69     AK         Alaska                   352,662       329,901   \n",
       "102    AZ        Arizona                 3,422,583     3,260,518   \n",
       "118    AR       Arkansas                 1,353,305     1,303,995   \n",
       "\n",
       "    Unemployed_2018  Unemployment_rate_2018  \n",
       "0         6,286,707                     3.9  \n",
       "1            85,782                     3.9  \n",
       "69           22,761                     6.5  \n",
       "102         162,065                     4.7  \n",
       "118          49,310                     3.6  "
      ]
     },
     "execution_count": 15,
     "metadata": {},
     "output_type": "execute_result"
    }
   ],
   "source": [
    "unempl_data_mycolm.head()\n"
   ]
  },
  {
   "cell_type": "code",
   "execution_count": null,
   "metadata": {},
   "outputs": [],
   "source": []
  },
  {
   "cell_type": "code",
   "execution_count": 16,
   "metadata": {},
   "outputs": [
    {
     "data": {
      "text/html": [
       "<div>\n",
       "<style scoped>\n",
       "    .dataframe tbody tr th:only-of-type {\n",
       "        vertical-align: middle;\n",
       "    }\n",
       "\n",
       "    .dataframe tbody tr th {\n",
       "        vertical-align: top;\n",
       "    }\n",
       "\n",
       "    .dataframe thead th {\n",
       "        text-align: right;\n",
       "    }\n",
       "</style>\n",
       "<table border=\"1\" class=\"dataframe\">\n",
       "  <thead>\n",
       "    <tr style=\"text-align: right;\">\n",
       "      <th></th>\n",
       "      <th>area_name</th>\n",
       "      <th>Total Edu</th>\n",
       "      <th>Total Edu Urban</th>\n",
       "      <th>Total Edu Rural</th>\n",
       "      <th>Stabr</th>\n",
       "      <th>Civilian_labor_force_2018</th>\n",
       "      <th>Employed_2018</th>\n",
       "      <th>Unemployed_2018</th>\n",
       "      <th>Unemployment_rate_2018</th>\n",
       "    </tr>\n",
       "  </thead>\n",
       "  <tbody>\n",
       "    <tr>\n",
       "      <th>0</th>\n",
       "      <td>Alabama</td>\n",
       "      <td>24.90%</td>\n",
       "      <td>28.00%</td>\n",
       "      <td>15.20%</td>\n",
       "      <td>AL</td>\n",
       "      <td>2,216,627</td>\n",
       "      <td>2,130,845</td>\n",
       "      <td>85,782</td>\n",
       "      <td>3.9</td>\n",
       "    </tr>\n",
       "    <tr>\n",
       "      <th>1</th>\n",
       "      <td>Alaska</td>\n",
       "      <td>29.20%</td>\n",
       "      <td>31.80%</td>\n",
       "      <td>23.90%</td>\n",
       "      <td>AK</td>\n",
       "      <td>352,662</td>\n",
       "      <td>329,901</td>\n",
       "      <td>22,761</td>\n",
       "      <td>6.5</td>\n",
       "    </tr>\n",
       "    <tr>\n",
       "      <th>2</th>\n",
       "      <td>Arizona</td>\n",
       "      <td>28.90%</td>\n",
       "      <td>29.60%</td>\n",
       "      <td>15.80%</td>\n",
       "      <td>AZ</td>\n",
       "      <td>3,422,583</td>\n",
       "      <td>3,260,518</td>\n",
       "      <td>162,065</td>\n",
       "      <td>4.7</td>\n",
       "    </tr>\n",
       "    <tr>\n",
       "      <th>3</th>\n",
       "      <td>Arkansas</td>\n",
       "      <td>22.60%</td>\n",
       "      <td>26.80%</td>\n",
       "      <td>16.00%</td>\n",
       "      <td>AR</td>\n",
       "      <td>1,353,305</td>\n",
       "      <td>1,303,995</td>\n",
       "      <td>49,310</td>\n",
       "      <td>3.6</td>\n",
       "    </tr>\n",
       "    <tr>\n",
       "      <th>4</th>\n",
       "      <td>California</td>\n",
       "      <td>33.30%</td>\n",
       "      <td>33.50%</td>\n",
       "      <td>23.20%</td>\n",
       "      <td>CA</td>\n",
       "      <td>19,280,821</td>\n",
       "      <td>18,460,725</td>\n",
       "      <td>820,096</td>\n",
       "      <td>4.3</td>\n",
       "    </tr>\n",
       "  </tbody>\n",
       "</table>\n",
       "</div>"
      ],
      "text/plain": [
       "    area_name Total Edu Total Edu Urban Total Edu Rural Stabr  \\\n",
       "0     Alabama    24.90%          28.00%          15.20%    AL   \n",
       "1      Alaska    29.20%          31.80%          23.90%    AK   \n",
       "2     Arizona    28.90%          29.60%          15.80%    AZ   \n",
       "3    Arkansas    22.60%          26.80%          16.00%    AR   \n",
       "4  California    33.30%          33.50%          23.20%    CA   \n",
       "\n",
       "  Civilian_labor_force_2018 Employed_2018 Unemployed_2018  \\\n",
       "0                 2,216,627     2,130,845          85,782   \n",
       "1                   352,662       329,901          22,761   \n",
       "2                 3,422,583     3,260,518         162,065   \n",
       "3                 1,353,305     1,303,995          49,310   \n",
       "4                19,280,821    18,460,725         820,096   \n",
       "\n",
       "   Unemployment_rate_2018  \n",
       "0                     3.9  \n",
       "1                     6.5  \n",
       "2                     4.7  \n",
       "3                     3.6  \n",
       "4                     4.3  "
      ]
     },
     "execution_count": 16,
     "metadata": {},
     "output_type": "execute_result"
    }
   ],
   "source": [
    "# Merge the Education Dataframe with Enemployment Dataframe\n",
    "merged_df = pd.merge(edu_data_final,unempl_data_mycolm, on=\"area_name\")\n",
    "merged_df.head()"
   ]
  },
  {
   "cell_type": "code",
   "execution_count": 17,
   "metadata": {},
   "outputs": [
    {
     "data": {
      "text/html": [
       "<div>\n",
       "<style scoped>\n",
       "    .dataframe tbody tr th:only-of-type {\n",
       "        vertical-align: middle;\n",
       "    }\n",
       "\n",
       "    .dataframe tbody tr th {\n",
       "        vertical-align: top;\n",
       "    }\n",
       "\n",
       "    .dataframe thead th {\n",
       "        text-align: right;\n",
       "    }\n",
       "</style>\n",
       "<table border=\"1\" class=\"dataframe\">\n",
       "  <thead>\n",
       "    <tr style=\"text-align: right;\">\n",
       "      <th></th>\n",
       "      <th>area_name</th>\n",
       "      <th>Total Edu</th>\n",
       "      <th>Total Edu Urban</th>\n",
       "      <th>Total Edu Rural</th>\n",
       "      <th>Stabr</th>\n",
       "      <th>Civilian_labor_force_2018</th>\n",
       "      <th>Employed_2018</th>\n",
       "      <th>Unemployed_2018</th>\n",
       "      <th>Unemployment_rate_2018</th>\n",
       "      <th>Poverty (2018)</th>\n",
       "      <th>Under 18 in Poverty (2018)</th>\n",
       "    </tr>\n",
       "  </thead>\n",
       "  <tbody>\n",
       "    <tr>\n",
       "      <th>0</th>\n",
       "      <td>Alabama</td>\n",
       "      <td>24.90%</td>\n",
       "      <td>28.00%</td>\n",
       "      <td>15.20%</td>\n",
       "      <td>AL</td>\n",
       "      <td>2,216,627</td>\n",
       "      <td>2,130,845</td>\n",
       "      <td>85,782</td>\n",
       "      <td>3.9</td>\n",
       "      <td>16.8</td>\n",
       "      <td>23.9</td>\n",
       "    </tr>\n",
       "    <tr>\n",
       "      <th>1</th>\n",
       "      <td>Alaska</td>\n",
       "      <td>29.20%</td>\n",
       "      <td>31.80%</td>\n",
       "      <td>23.90%</td>\n",
       "      <td>AK</td>\n",
       "      <td>352,662</td>\n",
       "      <td>329,901</td>\n",
       "      <td>22,761</td>\n",
       "      <td>6.5</td>\n",
       "      <td>11.1</td>\n",
       "      <td>14.5</td>\n",
       "    </tr>\n",
       "    <tr>\n",
       "      <th>2</th>\n",
       "      <td>Arizona</td>\n",
       "      <td>28.90%</td>\n",
       "      <td>29.60%</td>\n",
       "      <td>15.80%</td>\n",
       "      <td>AZ</td>\n",
       "      <td>3,422,583</td>\n",
       "      <td>3,260,518</td>\n",
       "      <td>162,065</td>\n",
       "      <td>4.7</td>\n",
       "      <td>14.1</td>\n",
       "      <td>20.4</td>\n",
       "    </tr>\n",
       "  </tbody>\n",
       "</table>\n",
       "</div>"
      ],
      "text/plain": [
       "  area_name Total Edu Total Edu Urban Total Edu Rural Stabr  \\\n",
       "0   Alabama    24.90%          28.00%          15.20%    AL   \n",
       "1    Alaska    29.20%          31.80%          23.90%    AK   \n",
       "2   Arizona    28.90%          29.60%          15.80%    AZ   \n",
       "\n",
       "  Civilian_labor_force_2018 Employed_2018 Unemployed_2018  \\\n",
       "0                 2,216,627     2,130,845          85,782   \n",
       "1                   352,662       329,901          22,761   \n",
       "2                 3,422,583     3,260,518         162,065   \n",
       "\n",
       "   Unemployment_rate_2018  Poverty (2018)  Under 18 in Poverty (2018)  \n",
       "0                     3.9            16.8                        23.9  \n",
       "1                     6.5            11.1                        14.5  \n",
       "2                     4.7            14.1                        20.4  "
      ]
     },
     "execution_count": 17,
     "metadata": {},
     "output_type": "execute_result"
    }
   ],
   "source": [
    "#add Poverty Dataframe to the merged data\n",
    "merged_df1 = pd.merge(merged_df, poverty_df, on=\"area_name\")\n",
    "merged_df1.head(3)"
   ]
  },
  {
   "cell_type": "code",
   "execution_count": 24,
   "metadata": {},
   "outputs": [
    {
     "data": {
      "text/html": [
       "<div>\n",
       "<style scoped>\n",
       "    .dataframe tbody tr th:only-of-type {\n",
       "        vertical-align: middle;\n",
       "    }\n",
       "\n",
       "    .dataframe tbody tr th {\n",
       "        vertical-align: top;\n",
       "    }\n",
       "\n",
       "    .dataframe thead th {\n",
       "        text-align: right;\n",
       "    }\n",
       "</style>\n",
       "<table border=\"1\" class=\"dataframe\">\n",
       "  <thead>\n",
       "    <tr style=\"text-align: right;\">\n",
       "      <th></th>\n",
       "      <th>area_name</th>\n",
       "      <th>Total Edu</th>\n",
       "      <th>Total Edu Urban</th>\n",
       "      <th>Total Edu Rural</th>\n",
       "      <th>Stabr</th>\n",
       "      <th>Civilian_labor_force_2018</th>\n",
       "      <th>Employed_2018</th>\n",
       "      <th>Unemployed_2018</th>\n",
       "      <th>Unemployment_rate_2018</th>\n",
       "      <th>Poverty (2018)</th>\n",
       "      <th>Under 18 in Poverty (2018)</th>\n",
       "      <th>median_household_income</th>\n",
       "      <th>hate_crimes_per_100k_splc</th>\n",
       "    </tr>\n",
       "  </thead>\n",
       "  <tbody>\n",
       "    <tr>\n",
       "      <th>0</th>\n",
       "      <td>Alabama</td>\n",
       "      <td>24.90%</td>\n",
       "      <td>28.00%</td>\n",
       "      <td>15.20%</td>\n",
       "      <td>AL</td>\n",
       "      <td>2,216,627</td>\n",
       "      <td>2,130,845</td>\n",
       "      <td>85,782</td>\n",
       "      <td>3.9</td>\n",
       "      <td>16.8</td>\n",
       "      <td>23.9</td>\n",
       "      <td>42278</td>\n",
       "      <td>0.125839</td>\n",
       "    </tr>\n",
       "    <tr>\n",
       "      <th>1</th>\n",
       "      <td>Alaska</td>\n",
       "      <td>29.20%</td>\n",
       "      <td>31.80%</td>\n",
       "      <td>23.90%</td>\n",
       "      <td>AK</td>\n",
       "      <td>352,662</td>\n",
       "      <td>329,901</td>\n",
       "      <td>22,761</td>\n",
       "      <td>6.5</td>\n",
       "      <td>11.1</td>\n",
       "      <td>14.5</td>\n",
       "      <td>67629</td>\n",
       "      <td>0.143740</td>\n",
       "    </tr>\n",
       "    <tr>\n",
       "      <th>2</th>\n",
       "      <td>Arizona</td>\n",
       "      <td>28.90%</td>\n",
       "      <td>29.60%</td>\n",
       "      <td>15.80%</td>\n",
       "      <td>AZ</td>\n",
       "      <td>3,422,583</td>\n",
       "      <td>3,260,518</td>\n",
       "      <td>162,065</td>\n",
       "      <td>4.7</td>\n",
       "      <td>14.1</td>\n",
       "      <td>20.4</td>\n",
       "      <td>49254</td>\n",
       "      <td>0.225320</td>\n",
       "    </tr>\n",
       "    <tr>\n",
       "      <th>3</th>\n",
       "      <td>Arkansas</td>\n",
       "      <td>22.60%</td>\n",
       "      <td>26.80%</td>\n",
       "      <td>16.00%</td>\n",
       "      <td>AR</td>\n",
       "      <td>1,353,305</td>\n",
       "      <td>1,303,995</td>\n",
       "      <td>49,310</td>\n",
       "      <td>3.6</td>\n",
       "      <td>16.8</td>\n",
       "      <td>23.8</td>\n",
       "      <td>44922</td>\n",
       "      <td>0.069061</td>\n",
       "    </tr>\n",
       "    <tr>\n",
       "      <th>4</th>\n",
       "      <td>California</td>\n",
       "      <td>33.30%</td>\n",
       "      <td>33.50%</td>\n",
       "      <td>23.20%</td>\n",
       "      <td>CA</td>\n",
       "      <td>19,280,821</td>\n",
       "      <td>18,460,725</td>\n",
       "      <td>820,096</td>\n",
       "      <td>4.3</td>\n",
       "      <td>12.8</td>\n",
       "      <td>17.4</td>\n",
       "      <td>60487</td>\n",
       "      <td>0.255805</td>\n",
       "    </tr>\n",
       "  </tbody>\n",
       "</table>\n",
       "</div>"
      ],
      "text/plain": [
       "    area_name Total Edu Total Edu Urban Total Edu Rural Stabr  \\\n",
       "0     Alabama    24.90%          28.00%          15.20%    AL   \n",
       "1      Alaska    29.20%          31.80%          23.90%    AK   \n",
       "2     Arizona    28.90%          29.60%          15.80%    AZ   \n",
       "3    Arkansas    22.60%          26.80%          16.00%    AR   \n",
       "4  California    33.30%          33.50%          23.20%    CA   \n",
       "\n",
       "  Civilian_labor_force_2018 Employed_2018 Unemployed_2018  \\\n",
       "0                 2,216,627     2,130,845          85,782   \n",
       "1                   352,662       329,901          22,761   \n",
       "2                 3,422,583     3,260,518         162,065   \n",
       "3                 1,353,305     1,303,995          49,310   \n",
       "4                19,280,821    18,460,725         820,096   \n",
       "\n",
       "   Unemployment_rate_2018  Poverty (2018)  Under 18 in Poverty (2018)  \\\n",
       "0                     3.9            16.8                        23.9   \n",
       "1                     6.5            11.1                        14.5   \n",
       "2                     4.7            14.1                        20.4   \n",
       "3                     3.6            16.8                        23.8   \n",
       "4                     4.3            12.8                        17.4   \n",
       "\n",
       "   median_household_income  hate_crimes_per_100k_splc  \n",
       "0                    42278                   0.125839  \n",
       "1                    67629                   0.143740  \n",
       "2                    49254                   0.225320  \n",
       "3                    44922                   0.069061  \n",
       "4                    60487                   0.255805  "
      ]
     },
     "execution_count": 24,
     "metadata": {},
     "output_type": "execute_result"
    }
   ],
   "source": [
    "#ready for the final code\n",
    "#add the Hate Crime data to the merged dataframe\n",
    "\n",
    "merged_df_fin = pd.merge(merged_df1,hate_crime_colm, on=\"area_name\")\n",
    "merged_df_fin.head()"
   ]
  },
  {
   "cell_type": "code",
   "execution_count": 59,
   "metadata": {
    "scrolled": true
   },
   "outputs": [
    {
     "data": {
      "application/vnd.plotly.v1+json": {
       "config": {
        "plotlyServerURL": "https://plot.ly"
       },
       "data": [
        {
         "colorscale": [
          [
           0,
           "#636efa"
          ],
          [
           1,
           "#636efa"
          ]
         ],
         "geo": "geo",
         "hovertemplate": "<b>%{hovertext}</b><br><br>Total Edu Urban=28.00%<br>Stabr=%{location}<extra></extra>",
         "hovertext": [
          "Alabama",
          "Oklahoma"
         ],
         "locationmode": "USA-states",
         "locations": [
          "AL",
          "OK"
         ],
         "name": "28.00%",
         "showlegend": true,
         "showscale": false,
         "type": "choropleth",
         "z": [
          1,
          1
         ]
        },
        {
         "colorscale": [
          [
           0,
           "#EF553B"
          ],
          [
           1,
           "#EF553B"
          ]
         ],
         "geo": "geo",
         "hovertemplate": "<b>%{hovertext}</b><br><br>Total Edu Urban=31.80%<br>Stabr=%{location}<extra></extra>",
         "hovertext": [
          "Alaska"
         ],
         "locationmode": "USA-states",
         "locations": [
          "AK"
         ],
         "name": "31.80%",
         "showlegend": true,
         "showscale": false,
         "type": "choropleth",
         "z": [
          1
         ]
        },
        {
         "colorscale": [
          [
           0,
           "#00cc96"
          ],
          [
           1,
           "#00cc96"
          ]
         ],
         "geo": "geo",
         "hovertemplate": "<b>%{hovertext}</b><br><br>Total Edu Urban=29.60%<br>Stabr=%{location}<extra></extra>",
         "hovertext": [
          "Arizona"
         ],
         "locationmode": "USA-states",
         "locations": [
          "AZ"
         ],
         "name": "29.60%",
         "showlegend": true,
         "showscale": false,
         "type": "choropleth",
         "z": [
          1
         ]
        },
        {
         "colorscale": [
          [
           0,
           "#ab63fa"
          ],
          [
           1,
           "#ab63fa"
          ]
         ],
         "geo": "geo",
         "hovertemplate": "<b>%{hovertext}</b><br><br>Total Edu Urban=26.80%<br>Stabr=%{location}<extra></extra>",
         "hovertext": [
          "Arkansas"
         ],
         "locationmode": "USA-states",
         "locations": [
          "AR"
         ],
         "name": "26.80%",
         "showlegend": true,
         "showscale": false,
         "type": "choropleth",
         "z": [
          1
         ]
        },
        {
         "colorscale": [
          [
           0,
           "#FFA15A"
          ],
          [
           1,
           "#FFA15A"
          ]
         ],
         "geo": "geo",
         "hovertemplate": "<b>%{hovertext}</b><br><br>Total Edu Urban=33.50%<br>Stabr=%{location}<extra></extra>",
         "hovertext": [
          "California",
          "Montana"
         ],
         "locationmode": "USA-states",
         "locations": [
          "CA",
          "MT"
         ],
         "name": "33.50%",
         "showlegend": true,
         "showscale": false,
         "type": "choropleth",
         "z": [
          1,
          1
         ]
        },
        {
         "colorscale": [
          [
           0,
           "#19d3f3"
          ],
          [
           1,
           "#19d3f3"
          ]
         ],
         "geo": "geo",
         "hovertemplate": "<b>%{hovertext}</b><br><br>Total Edu Urban=41.40%<br>Stabr=%{location}<extra></extra>",
         "hovertext": [
          "Colorado"
         ],
         "locationmode": "USA-states",
         "locations": [
          "CO"
         ],
         "name": "41.40%",
         "showlegend": true,
         "showscale": false,
         "type": "choropleth",
         "z": [
          1
         ]
        },
        {
         "colorscale": [
          [
           0,
           "#FF6692"
          ],
          [
           1,
           "#FF6692"
          ]
         ],
         "geo": "geo",
         "hovertemplate": "<b>%{hovertext}</b><br><br>Total Edu Urban=39.20%<br>Stabr=%{location}<extra></extra>",
         "hovertext": [
          "Connecticut"
         ],
         "locationmode": "USA-states",
         "locations": [
          "CT"
         ],
         "name": "39.20%",
         "showlegend": true,
         "showscale": false,
         "type": "choropleth",
         "z": [
          1
         ]
        },
        {
         "colorscale": [
          [
           0,
           "#B6E880"
          ],
          [
           1,
           "#B6E880"
          ]
         ],
         "geo": "geo",
         "hovertemplate": "<b>%{hovertext}</b><br><br>Total Edu Urban=31.40%<br>Stabr=%{location}<extra></extra>",
         "hovertext": [
          "Delaware"
         ],
         "locationmode": "USA-states",
         "locations": [
          "DE"
         ],
         "name": "31.40%",
         "showlegend": true,
         "showscale": false,
         "type": "choropleth",
         "z": [
          1
         ]
        },
        {
         "colorscale": [
          [
           0,
           "#FF97FF"
          ],
          [
           1,
           "#FF97FF"
          ]
         ],
         "geo": "geo",
         "hovertemplate": "<b>%{hovertext}</b><br><br>Total Edu Urban=57.60%<br>Stabr=%{location}<extra></extra>",
         "hovertext": [
          "District of Columbia"
         ],
         "locationmode": "USA-states",
         "locations": [
          "DC"
         ],
         "name": "57.60%",
         "showlegend": true,
         "showscale": false,
         "type": "choropleth",
         "z": [
          1
         ]
        },
        {
         "colorscale": [
          [
           0,
           "#FECB52"
          ],
          [
           1,
           "#FECB52"
          ]
         ],
         "geo": "geo",
         "hovertemplate": "<b>%{hovertext}</b><br><br>Total Edu Urban=29.70%<br>Stabr=%{location}<extra></extra>",
         "hovertext": [
          "Florida"
         ],
         "locationmode": "USA-states",
         "locations": [
          "FL"
         ],
         "name": "29.70%",
         "showlegend": true,
         "showscale": false,
         "type": "choropleth",
         "z": [
          1
         ]
        },
        {
         "colorscale": [
          [
           0,
           "#636efa"
          ],
          [
           1,
           "#636efa"
          ]
         ],
         "geo": "geo",
         "hovertemplate": "<b>%{hovertext}</b><br><br>Total Edu Urban=33.70%<br>Stabr=%{location}<extra></extra>",
         "hovertext": [
          "Georgia",
          "North Carolina"
         ],
         "locationmode": "USA-states",
         "locations": [
          "GA",
          "NC"
         ],
         "name": "33.70%",
         "showlegend": true,
         "showscale": false,
         "type": "choropleth",
         "z": [
          1,
          1
         ]
        },
        {
         "colorscale": [
          [
           0,
           "#EF553B"
          ],
          [
           1,
           "#EF553B"
          ]
         ],
         "geo": "geo",
         "hovertemplate": "<b>%{hovertext}</b><br><br>Total Edu Urban=33.20%<br>Stabr=%{location}<extra></extra>",
         "hovertext": [
          "Hawaii"
         ],
         "locationmode": "USA-states",
         "locations": [
          "HI"
         ],
         "name": "33.20%",
         "showlegend": true,
         "showscale": false,
         "type": "choropleth",
         "z": [
          1
         ]
        },
        {
         "colorscale": [
          [
           0,
           "#00cc96"
          ],
          [
           1,
           "#00cc96"
          ]
         ],
         "geo": "geo",
         "hovertemplate": "<b>%{hovertext}</b><br><br>Total Edu Urban=29.10%<br>Stabr=%{location}<extra></extra>",
         "hovertext": [
          "Idaho"
         ],
         "locationmode": "USA-states",
         "locations": [
          "ID"
         ],
         "name": "29.10%",
         "showlegend": true,
         "showscale": false,
         "type": "choropleth",
         "z": [
          1
         ]
        },
        {
         "colorscale": [
          [
           0,
           "#ab63fa"
          ],
          [
           1,
           "#ab63fa"
          ]
         ],
         "geo": "geo",
         "hovertemplate": "<b>%{hovertext}</b><br><br>Total Edu Urban=36.20%<br>Stabr=%{location}<extra></extra>",
         "hovertext": [
          "Illinois"
         ],
         "locationmode": "USA-states",
         "locations": [
          "IL"
         ],
         "name": "36.20%",
         "showlegend": true,
         "showscale": false,
         "type": "choropleth",
         "z": [
          1
         ]
        },
        {
         "colorscale": [
          [
           0,
           "#FFA15A"
          ],
          [
           1,
           "#FFA15A"
          ]
         ],
         "geo": "geo",
         "hovertemplate": "<b>%{hovertext}</b><br><br>Total Edu Urban=28.70%<br>Stabr=%{location}<extra></extra>",
         "hovertext": [
          "Indiana"
         ],
         "locationmode": "USA-states",
         "locations": [
          "IN"
         ],
         "name": "28.70%",
         "showlegend": true,
         "showscale": false,
         "type": "choropleth",
         "z": [
          1
         ]
        },
        {
         "colorscale": [
          [
           0,
           "#19d3f3"
          ],
          [
           1,
           "#19d3f3"
          ]
         ],
         "geo": "geo",
         "hovertemplate": "<b>%{hovertext}</b><br><br>Total Edu Urban=33.90%<br>Stabr=%{location}<extra></extra>",
         "hovertext": [
          "Iowa"
         ],
         "locationmode": "USA-states",
         "locations": [
          "IA"
         ],
         "name": "33.90%",
         "showlegend": true,
         "showscale": false,
         "type": "choropleth",
         "z": [
          1
         ]
        },
        {
         "colorscale": [
          [
           0,
           "#FF6692"
          ],
          [
           1,
           "#FF6692"
          ]
         ],
         "geo": "geo",
         "hovertemplate": "<b>%{hovertext}</b><br><br>Total Edu Urban=38.20%<br>Stabr=%{location}<extra></extra>",
         "hovertext": [
          "Kansas"
         ],
         "locationmode": "USA-states",
         "locations": [
          "KS"
         ],
         "name": "38.20%",
         "showlegend": true,
         "showscale": false,
         "type": "choropleth",
         "z": [
          1
         ]
        },
        {
         "colorscale": [
          [
           0,
           "#B6E880"
          ],
          [
           1,
           "#B6E880"
          ]
         ],
         "geo": "geo",
         "hovertemplate": "<b>%{hovertext}</b><br><br>Total Edu Urban=29.20%<br>Stabr=%{location}<extra></extra>",
         "hovertext": [
          "Kentucky",
          "South Carolina"
         ],
         "locationmode": "USA-states",
         "locations": [
          "KY",
          "SC"
         ],
         "name": "29.20%",
         "showlegend": true,
         "showscale": false,
         "type": "choropleth",
         "z": [
          1,
          1
         ]
        },
        {
         "colorscale": [
          [
           0,
           "#FF97FF"
          ],
          [
           1,
           "#FF97FF"
          ]
         ],
         "geo": "geo",
         "hovertemplate": "<b>%{hovertext}</b><br><br>Total Edu Urban=25.50%<br>Stabr=%{location}<extra></extra>",
         "hovertext": [
          "Louisiana"
         ],
         "locationmode": "USA-states",
         "locations": [
          "LA"
         ],
         "name": "25.50%",
         "showlegend": true,
         "showscale": false,
         "type": "choropleth",
         "z": [
          1
         ]
        },
        {
         "colorscale": [
          [
           0,
           "#FECB52"
          ],
          [
           1,
           "#FECB52"
          ]
         ],
         "geo": "geo",
         "hovertemplate": "<b>%{hovertext}</b><br><br>Total Edu Urban=35.20%<br>Stabr=%{location}<extra></extra>",
         "hovertext": [
          "Maine"
         ],
         "locationmode": "USA-states",
         "locations": [
          "ME"
         ],
         "name": "35.20%",
         "showlegend": true,
         "showscale": false,
         "type": "choropleth",
         "z": [
          1
         ]
        },
        {
         "colorscale": [
          [
           0,
           "#636efa"
          ],
          [
           1,
           "#636efa"
          ]
         ],
         "geo": "geo",
         "hovertemplate": "<b>%{hovertext}</b><br><br>Total Edu Urban=40.00%<br>Stabr=%{location}<extra></extra>",
         "hovertext": [
          "Maryland"
         ],
         "locationmode": "USA-states",
         "locations": [
          "MD"
         ],
         "name": "40.00%",
         "showlegend": true,
         "showscale": false,
         "type": "choropleth",
         "z": [
          1
         ]
        },
        {
         "colorscale": [
          [
           0,
           "#EF553B"
          ],
          [
           1,
           "#EF553B"
          ]
         ],
         "geo": "geo",
         "hovertemplate": "<b>%{hovertext}</b><br><br>Total Edu Urban=43.00%<br>Stabr=%{location}<extra></extra>",
         "hovertext": [
          "Massachusetts"
         ],
         "locationmode": "USA-states",
         "locations": [
          "MA"
         ],
         "name": "43.00%",
         "showlegend": true,
         "showscale": false,
         "type": "choropleth",
         "z": [
          1
         ]
        },
        {
         "colorscale": [
          [
           0,
           "#00cc96"
          ],
          [
           1,
           "#00cc96"
          ]
         ],
         "geo": "geo",
         "hovertemplate": "<b>%{hovertext}</b><br><br>Total Edu Urban=30.40%<br>Stabr=%{location}<extra></extra>",
         "hovertext": [
          "Michigan"
         ],
         "locationmode": "USA-states",
         "locations": [
          "MI"
         ],
         "name": "30.40%",
         "showlegend": true,
         "showscale": false,
         "type": "choropleth",
         "z": [
          1
         ]
        },
        {
         "colorscale": [
          [
           0,
           "#ab63fa"
          ],
          [
           1,
           "#ab63fa"
          ]
         ],
         "geo": "geo",
         "hovertemplate": "<b>%{hovertext}</b><br><br>Total Edu Urban=39.40%<br>Stabr=%{location}<extra></extra>",
         "hovertext": [
          "Minnesota"
         ],
         "locationmode": "USA-states",
         "locations": [
          "MN"
         ],
         "name": "39.40%",
         "showlegend": true,
         "showscale": false,
         "type": "choropleth",
         "z": [
          1
         ]
        },
        {
         "colorscale": [
          [
           0,
           "#FFA15A"
          ],
          [
           1,
           "#FFA15A"
          ]
         ],
         "geo": "geo",
         "hovertemplate": "<b>%{hovertext}</b><br><br>Total Edu Urban=26.00%<br>Stabr=%{location}<extra></extra>",
         "hovertext": [
          "Mississippi"
         ],
         "locationmode": "USA-states",
         "locations": [
          "MS"
         ],
         "name": "26.00%",
         "showlegend": true,
         "showscale": false,
         "type": "choropleth",
         "z": [
          1
         ]
        },
        {
         "colorscale": [
          [
           0,
           "#19d3f3"
          ],
          [
           1,
           "#19d3f3"
          ]
         ],
         "geo": "geo",
         "hovertemplate": "<b>%{hovertext}</b><br><br>Total Edu Urban=32.70%<br>Stabr=%{location}<extra></extra>",
         "hovertext": [
          "Missouri"
         ],
         "locationmode": "USA-states",
         "locations": [
          "MO"
         ],
         "name": "32.70%",
         "showlegend": true,
         "showscale": false,
         "type": "choropleth",
         "z": [
          1
         ]
        },
        {
         "colorscale": [
          [
           0,
           "#FF6692"
          ],
          [
           1,
           "#FF6692"
          ]
         ],
         "geo": "geo",
         "hovertemplate": "<b>%{hovertext}</b><br><br>Total Edu Urban=36.50%<br>Stabr=%{location}<extra></extra>",
         "hovertext": [
          "Nebraska"
         ],
         "locationmode": "USA-states",
         "locations": [
          "NE"
         ],
         "name": "36.50%",
         "showlegend": true,
         "showscale": false,
         "type": "choropleth",
         "z": [
          1
         ]
        },
        {
         "colorscale": [
          [
           0,
           "#B6E880"
          ],
          [
           1,
           "#B6E880"
          ]
         ],
         "geo": "geo",
         "hovertemplate": "<b>%{hovertext}</b><br><br>Total Edu Urban=25.00%<br>Stabr=%{location}<extra></extra>",
         "hovertext": [
          "Nevada"
         ],
         "locationmode": "USA-states",
         "locations": [
          "NV"
         ],
         "name": "25.00%",
         "showlegend": true,
         "showscale": false,
         "type": "choropleth",
         "z": [
          1
         ]
        },
        {
         "colorscale": [
          [
           0,
           "#FF97FF"
          ],
          [
           1,
           "#FF97FF"
          ]
         ],
         "geo": "geo",
         "hovertemplate": "<b>%{hovertext}</b><br><br>Total Edu Urban=38.30%<br>Stabr=%{location}<extra></extra>",
         "hovertext": [
          "New Hampshire"
         ],
         "locationmode": "USA-states",
         "locations": [
          "NH"
         ],
         "name": "38.30%",
         "showlegend": true,
         "showscale": false,
         "type": "choropleth",
         "z": [
          1
         ]
        },
        {
         "colorscale": [
          [
           0,
           "#FECB52"
          ],
          [
           1,
           "#FECB52"
          ]
         ],
         "geo": "geo",
         "hovertemplate": "<b>%{hovertext}</b><br><br>Total Edu Urban=38.90%<br>Stabr=%{location}<extra></extra>",
         "hovertext": [
          "New Jersey"
         ],
         "locationmode": "USA-states",
         "locations": [
          "NJ"
         ],
         "name": "38.90%",
         "showlegend": true,
         "showscale": false,
         "type": "choropleth",
         "z": [
          1
         ]
        },
        {
         "colorscale": [
          [
           0,
           "#636efa"
          ],
          [
           1,
           "#636efa"
          ]
         ],
         "geo": "geo",
         "hovertemplate": "<b>%{hovertext}</b><br><br>Total Edu Urban=30.70%<br>Stabr=%{location}<extra></extra>",
         "hovertext": [
          "New Mexico"
         ],
         "locationmode": "USA-states",
         "locations": [
          "NM"
         ],
         "name": "30.70%",
         "showlegend": true,
         "showscale": false,
         "type": "choropleth",
         "z": [
          1
         ]
        },
        {
         "colorscale": [
          [
           0,
           "#EF553B"
          ],
          [
           1,
           "#EF553B"
          ]
         ],
         "geo": "geo",
         "hovertemplate": "<b>%{hovertext}</b><br><br>Total Edu Urban=37.00%<br>Stabr=%{location}<extra></extra>",
         "hovertext": [
          "New York"
         ],
         "locationmode": "USA-states",
         "locations": [
          "NY"
         ],
         "name": "37.00%",
         "showlegend": true,
         "showscale": false,
         "type": "choropleth",
         "z": [
          1
         ]
        },
        {
         "colorscale": [
          [
           0,
           "#00cc96"
          ],
          [
           1,
           "#00cc96"
          ]
         ],
         "geo": "geo",
         "hovertemplate": "<b>%{hovertext}</b><br><br>Total Edu Urban=35.90%<br>Stabr=%{location}<extra></extra>",
         "hovertext": [
          "North Dakota"
         ],
         "locationmode": "USA-states",
         "locations": [
          "ND"
         ],
         "name": "35.90%",
         "showlegend": true,
         "showscale": false,
         "type": "choropleth",
         "z": [
          1
         ]
        },
        {
         "colorscale": [
          [
           0,
           "#ab63fa"
          ],
          [
           1,
           "#ab63fa"
          ]
         ],
         "geo": "geo",
         "hovertemplate": "<b>%{hovertext}</b><br><br>Total Edu Urban=30.60%<br>Stabr=%{location}<extra></extra>",
         "hovertext": [
          "Ohio"
         ],
         "locationmode": "USA-states",
         "locations": [
          "OH"
         ],
         "name": "30.60%",
         "showlegend": true,
         "showscale": false,
         "type": "choropleth",
         "z": [
          1
         ]
        },
        {
         "colorscale": [
          [
           0,
           "#FFA15A"
          ],
          [
           1,
           "#FFA15A"
          ]
         ],
         "geo": "geo",
         "hovertemplate": "<b>%{hovertext}</b><br><br>Total Edu Urban=35.50%<br>Stabr=%{location}<extra></extra>",
         "hovertext": [
          "Oregon"
         ],
         "locationmode": "USA-states",
         "locations": [
          "OR"
         ],
         "name": "35.50%",
         "showlegend": true,
         "showscale": false,
         "type": "choropleth",
         "z": [
          1
         ]
        },
        {
         "colorscale": [
          [
           0,
           "#19d3f3"
          ],
          [
           1,
           "#19d3f3"
          ]
         ],
         "geo": "geo",
         "hovertemplate": "<b>%{hovertext}</b><br><br>Total Edu Urban=32.50%<br>Stabr=%{location}<extra></extra>",
         "hovertext": [
          "Pennsylvania"
         ],
         "locationmode": "USA-states",
         "locations": [
          "PA"
         ],
         "name": "32.50%",
         "showlegend": true,
         "showscale": false,
         "type": "choropleth",
         "z": [
          1
         ]
        },
        {
         "colorscale": [
          [
           0,
           "#FF6692"
          ],
          [
           1,
           "#FF6692"
          ]
         ],
         "geo": "geo",
         "hovertemplate": "<b>%{hovertext}</b><br><br>Total Edu Urban=33.30%<br>Stabr=%{location}<extra></extra>",
         "hovertext": [
          "Rhode Island"
         ],
         "locationmode": "USA-states",
         "locations": [
          "RI"
         ],
         "name": "33.30%",
         "showlegend": true,
         "showscale": false,
         "type": "choropleth",
         "z": [
          1
         ]
        },
        {
         "colorscale": [
          [
           0,
           "#B6E880"
          ],
          [
           1,
           "#B6E880"
          ]
         ],
         "geo": "geo",
         "hovertemplate": "<b>%{hovertext}</b><br><br>Total Edu Urban=31.70%<br>Stabr=%{location}<extra></extra>",
         "hovertext": [
          "South Dakota"
         ],
         "locationmode": "USA-states",
         "locations": [
          "SD"
         ],
         "name": "31.70%",
         "showlegend": true,
         "showscale": false,
         "type": "choropleth",
         "z": [
          1
         ]
        },
        {
         "colorscale": [
          [
           0,
           "#FF97FF"
          ],
          [
           1,
           "#FF97FF"
          ]
         ],
         "geo": "geo",
         "hovertemplate": "<b>%{hovertext}</b><br><br>Total Edu Urban=30.00%<br>Stabr=%{location}<extra></extra>",
         "hovertext": [
          "Tennessee"
         ],
         "locationmode": "USA-states",
         "locations": [
          "TN"
         ],
         "name": "30.00%",
         "showlegend": true,
         "showscale": false,
         "type": "choropleth",
         "z": [
          1
         ]
        },
        {
         "colorscale": [
          [
           0,
           "#FECB52"
          ],
          [
           1,
           "#FECB52"
          ]
         ],
         "geo": "geo",
         "hovertemplate": "<b>%{hovertext}</b><br><br>Total Edu Urban=30.90%<br>Stabr=%{location}<extra></extra>",
         "hovertext": [
          "Texas"
         ],
         "locationmode": "USA-states",
         "locations": [
          "TX"
         ],
         "name": "30.90%",
         "showlegend": true,
         "showscale": false,
         "type": "choropleth",
         "z": [
          1
         ]
        },
        {
         "colorscale": [
          [
           0,
           "#636efa"
          ],
          [
           1,
           "#636efa"
          ]
         ],
         "geo": "geo",
         "hovertemplate": "<b>%{hovertext}</b><br><br>Total Edu Urban=34.00%<br>Stabr=%{location}<extra></extra>",
         "hovertext": [
          "Utah"
         ],
         "locationmode": "USA-states",
         "locations": [
          "UT"
         ],
         "name": "34.00%",
         "showlegend": true,
         "showscale": false,
         "type": "choropleth",
         "z": [
          1
         ]
        },
        {
         "colorscale": [
          [
           0,
           "#EF553B"
          ],
          [
           1,
           "#EF553B"
          ]
         ],
         "geo": "geo",
         "hovertemplate": "<b>%{hovertext}</b><br><br>Total Edu Urban=44.00%<br>Stabr=%{location}<extra></extra>",
         "hovertext": [
          "Vermont"
         ],
         "locationmode": "USA-states",
         "locations": [
          "VT"
         ],
         "name": "44.00%",
         "showlegend": true,
         "showscale": false,
         "type": "choropleth",
         "z": [
          1
         ]
        },
        {
         "colorscale": [
          [
           0,
           "#00cc96"
          ],
          [
           1,
           "#00cc96"
          ]
         ],
         "geo": "geo",
         "hovertemplate": "<b>%{hovertext}</b><br><br>Total Edu Urban=41.30%<br>Stabr=%{location}<extra></extra>",
         "hovertext": [
          "Virginia"
         ],
         "locationmode": "USA-states",
         "locations": [
          "VA"
         ],
         "name": "41.30%",
         "showlegend": true,
         "showscale": false,
         "type": "choropleth",
         "z": [
          1
         ]
        },
        {
         "colorscale": [
          [
           0,
           "#ab63fa"
          ],
          [
           1,
           "#ab63fa"
          ]
         ],
         "geo": "geo",
         "hovertemplate": "<b>%{hovertext}</b><br><br>Total Edu Urban=36.40%<br>Stabr=%{location}<extra></extra>",
         "hovertext": [
          "Washington"
         ],
         "locationmode": "USA-states",
         "locations": [
          "WA"
         ],
         "name": "36.40%",
         "showlegend": true,
         "showscale": false,
         "type": "choropleth",
         "z": [
          1
         ]
        },
        {
         "colorscale": [
          [
           0,
           "#FFA15A"
          ],
          [
           1,
           "#FFA15A"
          ]
         ],
         "geo": "geo",
         "hovertemplate": "<b>%{hovertext}</b><br><br>Total Edu Urban=22.90%<br>Stabr=%{location}<extra></extra>",
         "hovertext": [
          "West Virginia"
         ],
         "locationmode": "USA-states",
         "locations": [
          "WN"
         ],
         "name": "22.90%",
         "showlegend": true,
         "showscale": false,
         "type": "choropleth",
         "z": [
          1
         ]
        },
        {
         "colorscale": [
          [
           0,
           "#19d3f3"
          ],
          [
           1,
           "#19d3f3"
          ]
         ],
         "geo": "geo",
         "hovertemplate": "<b>%{hovertext}</b><br><br>Total Edu Urban=32.60%<br>Stabr=%{location}<extra></extra>",
         "hovertext": [
          "Wisconsin"
         ],
         "locationmode": "USA-states",
         "locations": [
          "WI"
         ],
         "name": "32.60%",
         "showlegend": true,
         "showscale": false,
         "type": "choropleth",
         "z": [
          1
         ]
        },
        {
         "colorscale": [
          [
           0,
           "#FF6692"
          ],
          [
           1,
           "#FF6692"
          ]
         ],
         "geo": "geo",
         "hovertemplate": "<b>%{hovertext}</b><br><br>Total Edu Urban=25.90%<br>Stabr=%{location}<extra></extra>",
         "hovertext": [
          "Wyoming"
         ],
         "locationmode": "USA-states",
         "locations": [
          "WI"
         ],
         "name": "25.90%",
         "showlegend": true,
         "showscale": false,
         "type": "choropleth",
         "z": [
          1
         ]
        }
       ],
       "layout": {
        "geo": {
         "center": {},
         "domain": {
          "x": [
           0,
           1
          ],
          "y": [
           0,
           1
          ]
         },
         "scope": "usa"
        },
        "legend": {
         "title": {
          "text": "Total Edu Urban"
         },
         "tracegroupgap": 0
        },
        "margin": {
         "t": 60
        },
        "template": {
         "data": {
          "bar": [
           {
            "error_x": {
             "color": "#2a3f5f"
            },
            "error_y": {
             "color": "#2a3f5f"
            },
            "marker": {
             "line": {
              "color": "#E5ECF6",
              "width": 0.5
             }
            },
            "type": "bar"
           }
          ],
          "barpolar": [
           {
            "marker": {
             "line": {
              "color": "#E5ECF6",
              "width": 0.5
             }
            },
            "type": "barpolar"
           }
          ],
          "carpet": [
           {
            "aaxis": {
             "endlinecolor": "#2a3f5f",
             "gridcolor": "white",
             "linecolor": "white",
             "minorgridcolor": "white",
             "startlinecolor": "#2a3f5f"
            },
            "baxis": {
             "endlinecolor": "#2a3f5f",
             "gridcolor": "white",
             "linecolor": "white",
             "minorgridcolor": "white",
             "startlinecolor": "#2a3f5f"
            },
            "type": "carpet"
           }
          ],
          "choropleth": [
           {
            "colorbar": {
             "outlinewidth": 0,
             "ticks": ""
            },
            "type": "choropleth"
           }
          ],
          "contour": [
           {
            "colorbar": {
             "outlinewidth": 0,
             "ticks": ""
            },
            "colorscale": [
             [
              0,
              "#0d0887"
             ],
             [
              0.1111111111111111,
              "#46039f"
             ],
             [
              0.2222222222222222,
              "#7201a8"
             ],
             [
              0.3333333333333333,
              "#9c179e"
             ],
             [
              0.4444444444444444,
              "#bd3786"
             ],
             [
              0.5555555555555556,
              "#d8576b"
             ],
             [
              0.6666666666666666,
              "#ed7953"
             ],
             [
              0.7777777777777778,
              "#fb9f3a"
             ],
             [
              0.8888888888888888,
              "#fdca26"
             ],
             [
              1,
              "#f0f921"
             ]
            ],
            "type": "contour"
           }
          ],
          "contourcarpet": [
           {
            "colorbar": {
             "outlinewidth": 0,
             "ticks": ""
            },
            "type": "contourcarpet"
           }
          ],
          "heatmap": [
           {
            "colorbar": {
             "outlinewidth": 0,
             "ticks": ""
            },
            "colorscale": [
             [
              0,
              "#0d0887"
             ],
             [
              0.1111111111111111,
              "#46039f"
             ],
             [
              0.2222222222222222,
              "#7201a8"
             ],
             [
              0.3333333333333333,
              "#9c179e"
             ],
             [
              0.4444444444444444,
              "#bd3786"
             ],
             [
              0.5555555555555556,
              "#d8576b"
             ],
             [
              0.6666666666666666,
              "#ed7953"
             ],
             [
              0.7777777777777778,
              "#fb9f3a"
             ],
             [
              0.8888888888888888,
              "#fdca26"
             ],
             [
              1,
              "#f0f921"
             ]
            ],
            "type": "heatmap"
           }
          ],
          "heatmapgl": [
           {
            "colorbar": {
             "outlinewidth": 0,
             "ticks": ""
            },
            "colorscale": [
             [
              0,
              "#0d0887"
             ],
             [
              0.1111111111111111,
              "#46039f"
             ],
             [
              0.2222222222222222,
              "#7201a8"
             ],
             [
              0.3333333333333333,
              "#9c179e"
             ],
             [
              0.4444444444444444,
              "#bd3786"
             ],
             [
              0.5555555555555556,
              "#d8576b"
             ],
             [
              0.6666666666666666,
              "#ed7953"
             ],
             [
              0.7777777777777778,
              "#fb9f3a"
             ],
             [
              0.8888888888888888,
              "#fdca26"
             ],
             [
              1,
              "#f0f921"
             ]
            ],
            "type": "heatmapgl"
           }
          ],
          "histogram": [
           {
            "marker": {
             "colorbar": {
              "outlinewidth": 0,
              "ticks": ""
             }
            },
            "type": "histogram"
           }
          ],
          "histogram2d": [
           {
            "colorbar": {
             "outlinewidth": 0,
             "ticks": ""
            },
            "colorscale": [
             [
              0,
              "#0d0887"
             ],
             [
              0.1111111111111111,
              "#46039f"
             ],
             [
              0.2222222222222222,
              "#7201a8"
             ],
             [
              0.3333333333333333,
              "#9c179e"
             ],
             [
              0.4444444444444444,
              "#bd3786"
             ],
             [
              0.5555555555555556,
              "#d8576b"
             ],
             [
              0.6666666666666666,
              "#ed7953"
             ],
             [
              0.7777777777777778,
              "#fb9f3a"
             ],
             [
              0.8888888888888888,
              "#fdca26"
             ],
             [
              1,
              "#f0f921"
             ]
            ],
            "type": "histogram2d"
           }
          ],
          "histogram2dcontour": [
           {
            "colorbar": {
             "outlinewidth": 0,
             "ticks": ""
            },
            "colorscale": [
             [
              0,
              "#0d0887"
             ],
             [
              0.1111111111111111,
              "#46039f"
             ],
             [
              0.2222222222222222,
              "#7201a8"
             ],
             [
              0.3333333333333333,
              "#9c179e"
             ],
             [
              0.4444444444444444,
              "#bd3786"
             ],
             [
              0.5555555555555556,
              "#d8576b"
             ],
             [
              0.6666666666666666,
              "#ed7953"
             ],
             [
              0.7777777777777778,
              "#fb9f3a"
             ],
             [
              0.8888888888888888,
              "#fdca26"
             ],
             [
              1,
              "#f0f921"
             ]
            ],
            "type": "histogram2dcontour"
           }
          ],
          "mesh3d": [
           {
            "colorbar": {
             "outlinewidth": 0,
             "ticks": ""
            },
            "type": "mesh3d"
           }
          ],
          "parcoords": [
           {
            "line": {
             "colorbar": {
              "outlinewidth": 0,
              "ticks": ""
             }
            },
            "type": "parcoords"
           }
          ],
          "pie": [
           {
            "automargin": true,
            "type": "pie"
           }
          ],
          "scatter": [
           {
            "marker": {
             "colorbar": {
              "outlinewidth": 0,
              "ticks": ""
             }
            },
            "type": "scatter"
           }
          ],
          "scatter3d": [
           {
            "line": {
             "colorbar": {
              "outlinewidth": 0,
              "ticks": ""
             }
            },
            "marker": {
             "colorbar": {
              "outlinewidth": 0,
              "ticks": ""
             }
            },
            "type": "scatter3d"
           }
          ],
          "scattercarpet": [
           {
            "marker": {
             "colorbar": {
              "outlinewidth": 0,
              "ticks": ""
             }
            },
            "type": "scattercarpet"
           }
          ],
          "scattergeo": [
           {
            "marker": {
             "colorbar": {
              "outlinewidth": 0,
              "ticks": ""
             }
            },
            "type": "scattergeo"
           }
          ],
          "scattergl": [
           {
            "marker": {
             "colorbar": {
              "outlinewidth": 0,
              "ticks": ""
             }
            },
            "type": "scattergl"
           }
          ],
          "scattermapbox": [
           {
            "marker": {
             "colorbar": {
              "outlinewidth": 0,
              "ticks": ""
             }
            },
            "type": "scattermapbox"
           }
          ],
          "scatterpolar": [
           {
            "marker": {
             "colorbar": {
              "outlinewidth": 0,
              "ticks": ""
             }
            },
            "type": "scatterpolar"
           }
          ],
          "scatterpolargl": [
           {
            "marker": {
             "colorbar": {
              "outlinewidth": 0,
              "ticks": ""
             }
            },
            "type": "scatterpolargl"
           }
          ],
          "scatterternary": [
           {
            "marker": {
             "colorbar": {
              "outlinewidth": 0,
              "ticks": ""
             }
            },
            "type": "scatterternary"
           }
          ],
          "surface": [
           {
            "colorbar": {
             "outlinewidth": 0,
             "ticks": ""
            },
            "colorscale": [
             [
              0,
              "#0d0887"
             ],
             [
              0.1111111111111111,
              "#46039f"
             ],
             [
              0.2222222222222222,
              "#7201a8"
             ],
             [
              0.3333333333333333,
              "#9c179e"
             ],
             [
              0.4444444444444444,
              "#bd3786"
             ],
             [
              0.5555555555555556,
              "#d8576b"
             ],
             [
              0.6666666666666666,
              "#ed7953"
             ],
             [
              0.7777777777777778,
              "#fb9f3a"
             ],
             [
              0.8888888888888888,
              "#fdca26"
             ],
             [
              1,
              "#f0f921"
             ]
            ],
            "type": "surface"
           }
          ],
          "table": [
           {
            "cells": {
             "fill": {
              "color": "#EBF0F8"
             },
             "line": {
              "color": "white"
             }
            },
            "header": {
             "fill": {
              "color": "#C8D4E3"
             },
             "line": {
              "color": "white"
             }
            },
            "type": "table"
           }
          ]
         },
         "layout": {
          "annotationdefaults": {
           "arrowcolor": "#2a3f5f",
           "arrowhead": 0,
           "arrowwidth": 1
          },
          "coloraxis": {
           "colorbar": {
            "outlinewidth": 0,
            "ticks": ""
           }
          },
          "colorscale": {
           "diverging": [
            [
             0,
             "#8e0152"
            ],
            [
             0.1,
             "#c51b7d"
            ],
            [
             0.2,
             "#de77ae"
            ],
            [
             0.3,
             "#f1b6da"
            ],
            [
             0.4,
             "#fde0ef"
            ],
            [
             0.5,
             "#f7f7f7"
            ],
            [
             0.6,
             "#e6f5d0"
            ],
            [
             0.7,
             "#b8e186"
            ],
            [
             0.8,
             "#7fbc41"
            ],
            [
             0.9,
             "#4d9221"
            ],
            [
             1,
             "#276419"
            ]
           ],
           "sequential": [
            [
             0,
             "#0d0887"
            ],
            [
             0.1111111111111111,
             "#46039f"
            ],
            [
             0.2222222222222222,
             "#7201a8"
            ],
            [
             0.3333333333333333,
             "#9c179e"
            ],
            [
             0.4444444444444444,
             "#bd3786"
            ],
            [
             0.5555555555555556,
             "#d8576b"
            ],
            [
             0.6666666666666666,
             "#ed7953"
            ],
            [
             0.7777777777777778,
             "#fb9f3a"
            ],
            [
             0.8888888888888888,
             "#fdca26"
            ],
            [
             1,
             "#f0f921"
            ]
           ],
           "sequentialminus": [
            [
             0,
             "#0d0887"
            ],
            [
             0.1111111111111111,
             "#46039f"
            ],
            [
             0.2222222222222222,
             "#7201a8"
            ],
            [
             0.3333333333333333,
             "#9c179e"
            ],
            [
             0.4444444444444444,
             "#bd3786"
            ],
            [
             0.5555555555555556,
             "#d8576b"
            ],
            [
             0.6666666666666666,
             "#ed7953"
            ],
            [
             0.7777777777777778,
             "#fb9f3a"
            ],
            [
             0.8888888888888888,
             "#fdca26"
            ],
            [
             1,
             "#f0f921"
            ]
           ]
          },
          "colorway": [
           "#636efa",
           "#EF553B",
           "#00cc96",
           "#ab63fa",
           "#FFA15A",
           "#19d3f3",
           "#FF6692",
           "#B6E880",
           "#FF97FF",
           "#FECB52"
          ],
          "font": {
           "color": "#2a3f5f"
          },
          "geo": {
           "bgcolor": "white",
           "lakecolor": "white",
           "landcolor": "#E5ECF6",
           "showlakes": true,
           "showland": true,
           "subunitcolor": "white"
          },
          "hoverlabel": {
           "align": "left"
          },
          "hovermode": "closest",
          "mapbox": {
           "style": "light"
          },
          "paper_bgcolor": "white",
          "plot_bgcolor": "#E5ECF6",
          "polar": {
           "angularaxis": {
            "gridcolor": "white",
            "linecolor": "white",
            "ticks": ""
           },
           "bgcolor": "#E5ECF6",
           "radialaxis": {
            "gridcolor": "white",
            "linecolor": "white",
            "ticks": ""
           }
          },
          "scene": {
           "xaxis": {
            "backgroundcolor": "#E5ECF6",
            "gridcolor": "white",
            "gridwidth": 2,
            "linecolor": "white",
            "showbackground": true,
            "ticks": "",
            "zerolinecolor": "white"
           },
           "yaxis": {
            "backgroundcolor": "#E5ECF6",
            "gridcolor": "white",
            "gridwidth": 2,
            "linecolor": "white",
            "showbackground": true,
            "ticks": "",
            "zerolinecolor": "white"
           },
           "zaxis": {
            "backgroundcolor": "#E5ECF6",
            "gridcolor": "white",
            "gridwidth": 2,
            "linecolor": "white",
            "showbackground": true,
            "ticks": "",
            "zerolinecolor": "white"
           }
          },
          "shapedefaults": {
           "line": {
            "color": "#2a3f5f"
           }
          },
          "ternary": {
           "aaxis": {
            "gridcolor": "white",
            "linecolor": "white",
            "ticks": ""
           },
           "baxis": {
            "gridcolor": "white",
            "linecolor": "white",
            "ticks": ""
           },
           "bgcolor": "#E5ECF6",
           "caxis": {
            "gridcolor": "white",
            "linecolor": "white",
            "ticks": ""
           }
          },
          "title": {
           "x": 0.05
          },
          "xaxis": {
           "automargin": true,
           "gridcolor": "white",
           "linecolor": "white",
           "ticks": "",
           "title": {
            "standoff": 15
           },
           "zerolinecolor": "white",
           "zerolinewidth": 2
          },
          "yaxis": {
           "automargin": true,
           "gridcolor": "white",
           "linecolor": "white",
           "ticks": "",
           "title": {
            "standoff": 15
           },
           "zerolinecolor": "white",
           "zerolinewidth": 2
          }
         }
        },
        "title": {
         "text": "State Rankings"
        }
       }
      },
      "text/html": [
       "<div>\n",
       "        \n",
       "        \n",
       "            <div id=\"b3ea9aa4-7f99-4ae7-914b-d79355c6097f\" class=\"plotly-graph-div\" style=\"height:525px; width:100%;\"></div>\n",
       "            <script type=\"text/javascript\">\n",
       "                require([\"plotly\"], function(Plotly) {\n",
       "                    window.PLOTLYENV=window.PLOTLYENV || {};\n",
       "                    \n",
       "                if (document.getElementById(\"b3ea9aa4-7f99-4ae7-914b-d79355c6097f\")) {\n",
       "                    Plotly.newPlot(\n",
       "                        'b3ea9aa4-7f99-4ae7-914b-d79355c6097f',\n",
       "                        [{\"colorscale\": [[0.0, \"#636efa\"], [1.0, \"#636efa\"]], \"geo\": \"geo\", \"hovertemplate\": \"<b>%{hovertext}</b><br><br>Total Edu Urban=28.00%<br>Stabr=%{location}<extra></extra>\", \"hovertext\": [\"Alabama\", \"Oklahoma\"], \"locationmode\": \"USA-states\", \"locations\": [\"AL\", \"OK\"], \"name\": \"28.00%\", \"showlegend\": true, \"showscale\": false, \"type\": \"choropleth\", \"z\": [1, 1]}, {\"colorscale\": [[0.0, \"#EF553B\"], [1.0, \"#EF553B\"]], \"geo\": \"geo\", \"hovertemplate\": \"<b>%{hovertext}</b><br><br>Total Edu Urban=31.80%<br>Stabr=%{location}<extra></extra>\", \"hovertext\": [\"Alaska\"], \"locationmode\": \"USA-states\", \"locations\": [\"AK\"], \"name\": \"31.80%\", \"showlegend\": true, \"showscale\": false, \"type\": \"choropleth\", \"z\": [1]}, {\"colorscale\": [[0.0, \"#00cc96\"], [1.0, \"#00cc96\"]], \"geo\": \"geo\", \"hovertemplate\": \"<b>%{hovertext}</b><br><br>Total Edu Urban=29.60%<br>Stabr=%{location}<extra></extra>\", \"hovertext\": [\"Arizona\"], \"locationmode\": \"USA-states\", \"locations\": [\"AZ\"], \"name\": \"29.60%\", \"showlegend\": true, \"showscale\": false, \"type\": \"choropleth\", \"z\": [1]}, {\"colorscale\": [[0.0, \"#ab63fa\"], [1.0, \"#ab63fa\"]], \"geo\": \"geo\", \"hovertemplate\": \"<b>%{hovertext}</b><br><br>Total Edu Urban=26.80%<br>Stabr=%{location}<extra></extra>\", \"hovertext\": [\"Arkansas\"], \"locationmode\": \"USA-states\", \"locations\": [\"AR\"], \"name\": \"26.80%\", \"showlegend\": true, \"showscale\": false, \"type\": \"choropleth\", \"z\": [1]}, {\"colorscale\": [[0.0, \"#FFA15A\"], [1.0, \"#FFA15A\"]], \"geo\": \"geo\", \"hovertemplate\": \"<b>%{hovertext}</b><br><br>Total Edu Urban=33.50%<br>Stabr=%{location}<extra></extra>\", \"hovertext\": [\"California\", \"Montana\"], \"locationmode\": \"USA-states\", \"locations\": [\"CA\", \"MT\"], \"name\": \"33.50%\", \"showlegend\": true, \"showscale\": false, \"type\": \"choropleth\", \"z\": [1, 1]}, {\"colorscale\": [[0.0, \"#19d3f3\"], [1.0, \"#19d3f3\"]], \"geo\": \"geo\", \"hovertemplate\": \"<b>%{hovertext}</b><br><br>Total Edu Urban=41.40%<br>Stabr=%{location}<extra></extra>\", \"hovertext\": [\"Colorado\"], \"locationmode\": \"USA-states\", \"locations\": [\"CO\"], \"name\": \"41.40%\", \"showlegend\": true, \"showscale\": false, \"type\": \"choropleth\", \"z\": [1]}, {\"colorscale\": [[0.0, \"#FF6692\"], [1.0, \"#FF6692\"]], \"geo\": \"geo\", \"hovertemplate\": \"<b>%{hovertext}</b><br><br>Total Edu Urban=39.20%<br>Stabr=%{location}<extra></extra>\", \"hovertext\": [\"Connecticut\"], \"locationmode\": \"USA-states\", \"locations\": [\"CT\"], \"name\": \"39.20%\", \"showlegend\": true, \"showscale\": false, \"type\": \"choropleth\", \"z\": [1]}, {\"colorscale\": [[0.0, \"#B6E880\"], [1.0, \"#B6E880\"]], \"geo\": \"geo\", \"hovertemplate\": \"<b>%{hovertext}</b><br><br>Total Edu Urban=31.40%<br>Stabr=%{location}<extra></extra>\", \"hovertext\": [\"Delaware\"], \"locationmode\": \"USA-states\", \"locations\": [\"DE\"], \"name\": \"31.40%\", \"showlegend\": true, \"showscale\": false, \"type\": \"choropleth\", \"z\": [1]}, {\"colorscale\": [[0.0, \"#FF97FF\"], [1.0, \"#FF97FF\"]], \"geo\": \"geo\", \"hovertemplate\": \"<b>%{hovertext}</b><br><br>Total Edu Urban=57.60%<br>Stabr=%{location}<extra></extra>\", \"hovertext\": [\"District of Columbia\"], \"locationmode\": \"USA-states\", \"locations\": [\"DC\"], \"name\": \"57.60%\", \"showlegend\": true, \"showscale\": false, \"type\": \"choropleth\", \"z\": [1]}, {\"colorscale\": [[0.0, \"#FECB52\"], [1.0, \"#FECB52\"]], \"geo\": \"geo\", \"hovertemplate\": \"<b>%{hovertext}</b><br><br>Total Edu Urban=29.70%<br>Stabr=%{location}<extra></extra>\", \"hovertext\": [\"Florida\"], \"locationmode\": \"USA-states\", \"locations\": [\"FL\"], \"name\": \"29.70%\", \"showlegend\": true, \"showscale\": false, \"type\": \"choropleth\", \"z\": [1]}, {\"colorscale\": [[0.0, \"#636efa\"], [1.0, \"#636efa\"]], \"geo\": \"geo\", \"hovertemplate\": \"<b>%{hovertext}</b><br><br>Total Edu Urban=33.70%<br>Stabr=%{location}<extra></extra>\", \"hovertext\": [\"Georgia\", \"North Carolina\"], \"locationmode\": \"USA-states\", \"locations\": [\"GA\", \"NC\"], \"name\": \"33.70%\", \"showlegend\": true, \"showscale\": false, \"type\": \"choropleth\", \"z\": [1, 1]}, {\"colorscale\": [[0.0, \"#EF553B\"], [1.0, \"#EF553B\"]], \"geo\": \"geo\", \"hovertemplate\": \"<b>%{hovertext}</b><br><br>Total Edu Urban=33.20%<br>Stabr=%{location}<extra></extra>\", \"hovertext\": [\"Hawaii\"], \"locationmode\": \"USA-states\", \"locations\": [\"HI\"], \"name\": \"33.20%\", \"showlegend\": true, \"showscale\": false, \"type\": \"choropleth\", \"z\": [1]}, {\"colorscale\": [[0.0, \"#00cc96\"], [1.0, \"#00cc96\"]], \"geo\": \"geo\", \"hovertemplate\": \"<b>%{hovertext}</b><br><br>Total Edu Urban=29.10%<br>Stabr=%{location}<extra></extra>\", \"hovertext\": [\"Idaho\"], \"locationmode\": \"USA-states\", \"locations\": [\"ID\"], \"name\": \"29.10%\", \"showlegend\": true, \"showscale\": false, \"type\": \"choropleth\", \"z\": [1]}, {\"colorscale\": [[0.0, \"#ab63fa\"], [1.0, \"#ab63fa\"]], \"geo\": \"geo\", \"hovertemplate\": \"<b>%{hovertext}</b><br><br>Total Edu Urban=36.20%<br>Stabr=%{location}<extra></extra>\", \"hovertext\": [\"Illinois\"], \"locationmode\": \"USA-states\", \"locations\": [\"IL\"], \"name\": \"36.20%\", \"showlegend\": true, \"showscale\": false, \"type\": \"choropleth\", \"z\": [1]}, {\"colorscale\": [[0.0, \"#FFA15A\"], [1.0, \"#FFA15A\"]], \"geo\": \"geo\", \"hovertemplate\": \"<b>%{hovertext}</b><br><br>Total Edu Urban=28.70%<br>Stabr=%{location}<extra></extra>\", \"hovertext\": [\"Indiana\"], \"locationmode\": \"USA-states\", \"locations\": [\"IN\"], \"name\": \"28.70%\", \"showlegend\": true, \"showscale\": false, \"type\": \"choropleth\", \"z\": [1]}, {\"colorscale\": [[0.0, \"#19d3f3\"], [1.0, \"#19d3f3\"]], \"geo\": \"geo\", \"hovertemplate\": \"<b>%{hovertext}</b><br><br>Total Edu Urban=33.90%<br>Stabr=%{location}<extra></extra>\", \"hovertext\": [\"Iowa\"], \"locationmode\": \"USA-states\", \"locations\": [\"IA\"], \"name\": \"33.90%\", \"showlegend\": true, \"showscale\": false, \"type\": \"choropleth\", \"z\": [1]}, {\"colorscale\": [[0.0, \"#FF6692\"], [1.0, \"#FF6692\"]], \"geo\": \"geo\", \"hovertemplate\": \"<b>%{hovertext}</b><br><br>Total Edu Urban=38.20%<br>Stabr=%{location}<extra></extra>\", \"hovertext\": [\"Kansas\"], \"locationmode\": \"USA-states\", \"locations\": [\"KS\"], \"name\": \"38.20%\", \"showlegend\": true, \"showscale\": false, \"type\": \"choropleth\", \"z\": [1]}, {\"colorscale\": [[0.0, \"#B6E880\"], [1.0, \"#B6E880\"]], \"geo\": \"geo\", \"hovertemplate\": \"<b>%{hovertext}</b><br><br>Total Edu Urban=29.20%<br>Stabr=%{location}<extra></extra>\", \"hovertext\": [\"Kentucky\", \"South Carolina\"], \"locationmode\": \"USA-states\", \"locations\": [\"KY\", \"SC\"], \"name\": \"29.20%\", \"showlegend\": true, \"showscale\": false, \"type\": \"choropleth\", \"z\": [1, 1]}, {\"colorscale\": [[0.0, \"#FF97FF\"], [1.0, \"#FF97FF\"]], \"geo\": \"geo\", \"hovertemplate\": \"<b>%{hovertext}</b><br><br>Total Edu Urban=25.50%<br>Stabr=%{location}<extra></extra>\", \"hovertext\": [\"Louisiana\"], \"locationmode\": \"USA-states\", \"locations\": [\"LA\"], \"name\": \"25.50%\", \"showlegend\": true, \"showscale\": false, \"type\": \"choropleth\", \"z\": [1]}, {\"colorscale\": [[0.0, \"#FECB52\"], [1.0, \"#FECB52\"]], \"geo\": \"geo\", \"hovertemplate\": \"<b>%{hovertext}</b><br><br>Total Edu Urban=35.20%<br>Stabr=%{location}<extra></extra>\", \"hovertext\": [\"Maine\"], \"locationmode\": \"USA-states\", \"locations\": [\"ME\"], \"name\": \"35.20%\", \"showlegend\": true, \"showscale\": false, \"type\": \"choropleth\", \"z\": [1]}, {\"colorscale\": [[0.0, \"#636efa\"], [1.0, \"#636efa\"]], \"geo\": \"geo\", \"hovertemplate\": \"<b>%{hovertext}</b><br><br>Total Edu Urban=40.00%<br>Stabr=%{location}<extra></extra>\", \"hovertext\": [\"Maryland\"], \"locationmode\": \"USA-states\", \"locations\": [\"MD\"], \"name\": \"40.00%\", \"showlegend\": true, \"showscale\": false, \"type\": \"choropleth\", \"z\": [1]}, {\"colorscale\": [[0.0, \"#EF553B\"], [1.0, \"#EF553B\"]], \"geo\": \"geo\", \"hovertemplate\": \"<b>%{hovertext}</b><br><br>Total Edu Urban=43.00%<br>Stabr=%{location}<extra></extra>\", \"hovertext\": [\"Massachusetts\"], \"locationmode\": \"USA-states\", \"locations\": [\"MA\"], \"name\": \"43.00%\", \"showlegend\": true, \"showscale\": false, \"type\": \"choropleth\", \"z\": [1]}, {\"colorscale\": [[0.0, \"#00cc96\"], [1.0, \"#00cc96\"]], \"geo\": \"geo\", \"hovertemplate\": \"<b>%{hovertext}</b><br><br>Total Edu Urban=30.40%<br>Stabr=%{location}<extra></extra>\", \"hovertext\": [\"Michigan\"], \"locationmode\": \"USA-states\", \"locations\": [\"MI\"], \"name\": \"30.40%\", \"showlegend\": true, \"showscale\": false, \"type\": \"choropleth\", \"z\": [1]}, {\"colorscale\": [[0.0, \"#ab63fa\"], [1.0, \"#ab63fa\"]], \"geo\": \"geo\", \"hovertemplate\": \"<b>%{hovertext}</b><br><br>Total Edu Urban=39.40%<br>Stabr=%{location}<extra></extra>\", \"hovertext\": [\"Minnesota\"], \"locationmode\": \"USA-states\", \"locations\": [\"MN\"], \"name\": \"39.40%\", \"showlegend\": true, \"showscale\": false, \"type\": \"choropleth\", \"z\": [1]}, {\"colorscale\": [[0.0, \"#FFA15A\"], [1.0, \"#FFA15A\"]], \"geo\": \"geo\", \"hovertemplate\": \"<b>%{hovertext}</b><br><br>Total Edu Urban=26.00%<br>Stabr=%{location}<extra></extra>\", \"hovertext\": [\"Mississippi\"], \"locationmode\": \"USA-states\", \"locations\": [\"MS\"], \"name\": \"26.00%\", \"showlegend\": true, \"showscale\": false, \"type\": \"choropleth\", \"z\": [1]}, {\"colorscale\": [[0.0, \"#19d3f3\"], [1.0, \"#19d3f3\"]], \"geo\": \"geo\", \"hovertemplate\": \"<b>%{hovertext}</b><br><br>Total Edu Urban=32.70%<br>Stabr=%{location}<extra></extra>\", \"hovertext\": [\"Missouri\"], \"locationmode\": \"USA-states\", \"locations\": [\"MO\"], \"name\": \"32.70%\", \"showlegend\": true, \"showscale\": false, \"type\": \"choropleth\", \"z\": [1]}, {\"colorscale\": [[0.0, \"#FF6692\"], [1.0, \"#FF6692\"]], \"geo\": \"geo\", \"hovertemplate\": \"<b>%{hovertext}</b><br><br>Total Edu Urban=36.50%<br>Stabr=%{location}<extra></extra>\", \"hovertext\": [\"Nebraska\"], \"locationmode\": \"USA-states\", \"locations\": [\"NE\"], \"name\": \"36.50%\", \"showlegend\": true, \"showscale\": false, \"type\": \"choropleth\", \"z\": [1]}, {\"colorscale\": [[0.0, \"#B6E880\"], [1.0, \"#B6E880\"]], \"geo\": \"geo\", \"hovertemplate\": \"<b>%{hovertext}</b><br><br>Total Edu Urban=25.00%<br>Stabr=%{location}<extra></extra>\", \"hovertext\": [\"Nevada\"], \"locationmode\": \"USA-states\", \"locations\": [\"NV\"], \"name\": \"25.00%\", \"showlegend\": true, \"showscale\": false, \"type\": \"choropleth\", \"z\": [1]}, {\"colorscale\": [[0.0, \"#FF97FF\"], [1.0, \"#FF97FF\"]], \"geo\": \"geo\", \"hovertemplate\": \"<b>%{hovertext}</b><br><br>Total Edu Urban=38.30%<br>Stabr=%{location}<extra></extra>\", \"hovertext\": [\"New Hampshire\"], \"locationmode\": \"USA-states\", \"locations\": [\"NH\"], \"name\": \"38.30%\", \"showlegend\": true, \"showscale\": false, \"type\": \"choropleth\", \"z\": [1]}, {\"colorscale\": [[0.0, \"#FECB52\"], [1.0, \"#FECB52\"]], \"geo\": \"geo\", \"hovertemplate\": \"<b>%{hovertext}</b><br><br>Total Edu Urban=38.90%<br>Stabr=%{location}<extra></extra>\", \"hovertext\": [\"New Jersey\"], \"locationmode\": \"USA-states\", \"locations\": [\"NJ\"], \"name\": \"38.90%\", \"showlegend\": true, \"showscale\": false, \"type\": \"choropleth\", \"z\": [1]}, {\"colorscale\": [[0.0, \"#636efa\"], [1.0, \"#636efa\"]], \"geo\": \"geo\", \"hovertemplate\": \"<b>%{hovertext}</b><br><br>Total Edu Urban=30.70%<br>Stabr=%{location}<extra></extra>\", \"hovertext\": [\"New Mexico\"], \"locationmode\": \"USA-states\", \"locations\": [\"NM\"], \"name\": \"30.70%\", \"showlegend\": true, \"showscale\": false, \"type\": \"choropleth\", \"z\": [1]}, {\"colorscale\": [[0.0, \"#EF553B\"], [1.0, \"#EF553B\"]], \"geo\": \"geo\", \"hovertemplate\": \"<b>%{hovertext}</b><br><br>Total Edu Urban=37.00%<br>Stabr=%{location}<extra></extra>\", \"hovertext\": [\"New York\"], \"locationmode\": \"USA-states\", \"locations\": [\"NY\"], \"name\": \"37.00%\", \"showlegend\": true, \"showscale\": false, \"type\": \"choropleth\", \"z\": [1]}, {\"colorscale\": [[0.0, \"#00cc96\"], [1.0, \"#00cc96\"]], \"geo\": \"geo\", \"hovertemplate\": \"<b>%{hovertext}</b><br><br>Total Edu Urban=35.90%<br>Stabr=%{location}<extra></extra>\", \"hovertext\": [\"North Dakota\"], \"locationmode\": \"USA-states\", \"locations\": [\"ND\"], \"name\": \"35.90%\", \"showlegend\": true, \"showscale\": false, \"type\": \"choropleth\", \"z\": [1]}, {\"colorscale\": [[0.0, \"#ab63fa\"], [1.0, \"#ab63fa\"]], \"geo\": \"geo\", \"hovertemplate\": \"<b>%{hovertext}</b><br><br>Total Edu Urban=30.60%<br>Stabr=%{location}<extra></extra>\", \"hovertext\": [\"Ohio\"], \"locationmode\": \"USA-states\", \"locations\": [\"OH\"], \"name\": \"30.60%\", \"showlegend\": true, \"showscale\": false, \"type\": \"choropleth\", \"z\": [1]}, {\"colorscale\": [[0.0, \"#FFA15A\"], [1.0, \"#FFA15A\"]], \"geo\": \"geo\", \"hovertemplate\": \"<b>%{hovertext}</b><br><br>Total Edu Urban=35.50%<br>Stabr=%{location}<extra></extra>\", \"hovertext\": [\"Oregon\"], \"locationmode\": \"USA-states\", \"locations\": [\"OR\"], \"name\": \"35.50%\", \"showlegend\": true, \"showscale\": false, \"type\": \"choropleth\", \"z\": [1]}, {\"colorscale\": [[0.0, \"#19d3f3\"], [1.0, \"#19d3f3\"]], \"geo\": \"geo\", \"hovertemplate\": \"<b>%{hovertext}</b><br><br>Total Edu Urban=32.50%<br>Stabr=%{location}<extra></extra>\", \"hovertext\": [\"Pennsylvania\"], \"locationmode\": \"USA-states\", \"locations\": [\"PA\"], \"name\": \"32.50%\", \"showlegend\": true, \"showscale\": false, \"type\": \"choropleth\", \"z\": [1]}, {\"colorscale\": [[0.0, \"#FF6692\"], [1.0, \"#FF6692\"]], \"geo\": \"geo\", \"hovertemplate\": \"<b>%{hovertext}</b><br><br>Total Edu Urban=33.30%<br>Stabr=%{location}<extra></extra>\", \"hovertext\": [\"Rhode Island\"], \"locationmode\": \"USA-states\", \"locations\": [\"RI\"], \"name\": \"33.30%\", \"showlegend\": true, \"showscale\": false, \"type\": \"choropleth\", \"z\": [1]}, {\"colorscale\": [[0.0, \"#B6E880\"], [1.0, \"#B6E880\"]], \"geo\": \"geo\", \"hovertemplate\": \"<b>%{hovertext}</b><br><br>Total Edu Urban=31.70%<br>Stabr=%{location}<extra></extra>\", \"hovertext\": [\"South Dakota\"], \"locationmode\": \"USA-states\", \"locations\": [\"SD\"], \"name\": \"31.70%\", \"showlegend\": true, \"showscale\": false, \"type\": \"choropleth\", \"z\": [1]}, {\"colorscale\": [[0.0, \"#FF97FF\"], [1.0, \"#FF97FF\"]], \"geo\": \"geo\", \"hovertemplate\": \"<b>%{hovertext}</b><br><br>Total Edu Urban=30.00%<br>Stabr=%{location}<extra></extra>\", \"hovertext\": [\"Tennessee\"], \"locationmode\": \"USA-states\", \"locations\": [\"TN\"], \"name\": \"30.00%\", \"showlegend\": true, \"showscale\": false, \"type\": \"choropleth\", \"z\": [1]}, {\"colorscale\": [[0.0, \"#FECB52\"], [1.0, \"#FECB52\"]], \"geo\": \"geo\", \"hovertemplate\": \"<b>%{hovertext}</b><br><br>Total Edu Urban=30.90%<br>Stabr=%{location}<extra></extra>\", \"hovertext\": [\"Texas\"], \"locationmode\": \"USA-states\", \"locations\": [\"TX\"], \"name\": \"30.90%\", \"showlegend\": true, \"showscale\": false, \"type\": \"choropleth\", \"z\": [1]}, {\"colorscale\": [[0.0, \"#636efa\"], [1.0, \"#636efa\"]], \"geo\": \"geo\", \"hovertemplate\": \"<b>%{hovertext}</b><br><br>Total Edu Urban=34.00%<br>Stabr=%{location}<extra></extra>\", \"hovertext\": [\"Utah\"], \"locationmode\": \"USA-states\", \"locations\": [\"UT\"], \"name\": \"34.00%\", \"showlegend\": true, \"showscale\": false, \"type\": \"choropleth\", \"z\": [1]}, {\"colorscale\": [[0.0, \"#EF553B\"], [1.0, \"#EF553B\"]], \"geo\": \"geo\", \"hovertemplate\": \"<b>%{hovertext}</b><br><br>Total Edu Urban=44.00%<br>Stabr=%{location}<extra></extra>\", \"hovertext\": [\"Vermont\"], \"locationmode\": \"USA-states\", \"locations\": [\"VT\"], \"name\": \"44.00%\", \"showlegend\": true, \"showscale\": false, \"type\": \"choropleth\", \"z\": [1]}, {\"colorscale\": [[0.0, \"#00cc96\"], [1.0, \"#00cc96\"]], \"geo\": \"geo\", \"hovertemplate\": \"<b>%{hovertext}</b><br><br>Total Edu Urban=41.30%<br>Stabr=%{location}<extra></extra>\", \"hovertext\": [\"Virginia\"], \"locationmode\": \"USA-states\", \"locations\": [\"VA\"], \"name\": \"41.30%\", \"showlegend\": true, \"showscale\": false, \"type\": \"choropleth\", \"z\": [1]}, {\"colorscale\": [[0.0, \"#ab63fa\"], [1.0, \"#ab63fa\"]], \"geo\": \"geo\", \"hovertemplate\": \"<b>%{hovertext}</b><br><br>Total Edu Urban=36.40%<br>Stabr=%{location}<extra></extra>\", \"hovertext\": [\"Washington\"], \"locationmode\": \"USA-states\", \"locations\": [\"WA\"], \"name\": \"36.40%\", \"showlegend\": true, \"showscale\": false, \"type\": \"choropleth\", \"z\": [1]}, {\"colorscale\": [[0.0, \"#FFA15A\"], [1.0, \"#FFA15A\"]], \"geo\": \"geo\", \"hovertemplate\": \"<b>%{hovertext}</b><br><br>Total Edu Urban=22.90%<br>Stabr=%{location}<extra></extra>\", \"hovertext\": [\"West Virginia\"], \"locationmode\": \"USA-states\", \"locations\": [\"WN\"], \"name\": \"22.90%\", \"showlegend\": true, \"showscale\": false, \"type\": \"choropleth\", \"z\": [1]}, {\"colorscale\": [[0.0, \"#19d3f3\"], [1.0, \"#19d3f3\"]], \"geo\": \"geo\", \"hovertemplate\": \"<b>%{hovertext}</b><br><br>Total Edu Urban=32.60%<br>Stabr=%{location}<extra></extra>\", \"hovertext\": [\"Wisconsin\"], \"locationmode\": \"USA-states\", \"locations\": [\"WI\"], \"name\": \"32.60%\", \"showlegend\": true, \"showscale\": false, \"type\": \"choropleth\", \"z\": [1]}, {\"colorscale\": [[0.0, \"#FF6692\"], [1.0, \"#FF6692\"]], \"geo\": \"geo\", \"hovertemplate\": \"<b>%{hovertext}</b><br><br>Total Edu Urban=25.90%<br>Stabr=%{location}<extra></extra>\", \"hovertext\": [\"Wyoming\"], \"locationmode\": \"USA-states\", \"locations\": [\"WI\"], \"name\": \"25.90%\", \"showlegend\": true, \"showscale\": false, \"type\": \"choropleth\", \"z\": [1]}],\n",
       "                        {\"geo\": {\"center\": {}, \"domain\": {\"x\": [0.0, 1.0], \"y\": [0.0, 1.0]}, \"scope\": \"usa\"}, \"legend\": {\"title\": {\"text\": \"Total Edu Urban\"}, \"tracegroupgap\": 0}, \"margin\": {\"t\": 60}, \"template\": {\"data\": {\"bar\": [{\"error_x\": {\"color\": \"#2a3f5f\"}, \"error_y\": {\"color\": \"#2a3f5f\"}, \"marker\": {\"line\": {\"color\": \"#E5ECF6\", \"width\": 0.5}}, \"type\": \"bar\"}], \"barpolar\": [{\"marker\": {\"line\": {\"color\": \"#E5ECF6\", \"width\": 0.5}}, \"type\": \"barpolar\"}], \"carpet\": [{\"aaxis\": {\"endlinecolor\": \"#2a3f5f\", \"gridcolor\": \"white\", \"linecolor\": \"white\", \"minorgridcolor\": \"white\", \"startlinecolor\": \"#2a3f5f\"}, \"baxis\": {\"endlinecolor\": \"#2a3f5f\", \"gridcolor\": \"white\", \"linecolor\": \"white\", \"minorgridcolor\": \"white\", \"startlinecolor\": \"#2a3f5f\"}, \"type\": \"carpet\"}], \"choropleth\": [{\"colorbar\": {\"outlinewidth\": 0, \"ticks\": \"\"}, \"type\": \"choropleth\"}], \"contour\": [{\"colorbar\": {\"outlinewidth\": 0, \"ticks\": \"\"}, \"colorscale\": [[0.0, \"#0d0887\"], [0.1111111111111111, \"#46039f\"], [0.2222222222222222, \"#7201a8\"], [0.3333333333333333, \"#9c179e\"], [0.4444444444444444, \"#bd3786\"], [0.5555555555555556, \"#d8576b\"], [0.6666666666666666, \"#ed7953\"], [0.7777777777777778, \"#fb9f3a\"], [0.8888888888888888, \"#fdca26\"], [1.0, \"#f0f921\"]], \"type\": \"contour\"}], \"contourcarpet\": [{\"colorbar\": {\"outlinewidth\": 0, \"ticks\": \"\"}, \"type\": \"contourcarpet\"}], \"heatmap\": [{\"colorbar\": {\"outlinewidth\": 0, \"ticks\": \"\"}, \"colorscale\": [[0.0, \"#0d0887\"], [0.1111111111111111, \"#46039f\"], [0.2222222222222222, \"#7201a8\"], [0.3333333333333333, \"#9c179e\"], [0.4444444444444444, \"#bd3786\"], [0.5555555555555556, \"#d8576b\"], [0.6666666666666666, \"#ed7953\"], [0.7777777777777778, \"#fb9f3a\"], [0.8888888888888888, \"#fdca26\"], [1.0, \"#f0f921\"]], \"type\": \"heatmap\"}], \"heatmapgl\": [{\"colorbar\": {\"outlinewidth\": 0, \"ticks\": \"\"}, \"colorscale\": [[0.0, \"#0d0887\"], [0.1111111111111111, \"#46039f\"], [0.2222222222222222, \"#7201a8\"], [0.3333333333333333, \"#9c179e\"], [0.4444444444444444, \"#bd3786\"], [0.5555555555555556, \"#d8576b\"], [0.6666666666666666, \"#ed7953\"], [0.7777777777777778, \"#fb9f3a\"], [0.8888888888888888, \"#fdca26\"], [1.0, \"#f0f921\"]], \"type\": \"heatmapgl\"}], \"histogram\": [{\"marker\": {\"colorbar\": {\"outlinewidth\": 0, \"ticks\": \"\"}}, \"type\": \"histogram\"}], \"histogram2d\": [{\"colorbar\": {\"outlinewidth\": 0, \"ticks\": \"\"}, \"colorscale\": [[0.0, \"#0d0887\"], [0.1111111111111111, \"#46039f\"], [0.2222222222222222, \"#7201a8\"], [0.3333333333333333, \"#9c179e\"], [0.4444444444444444, \"#bd3786\"], [0.5555555555555556, \"#d8576b\"], [0.6666666666666666, \"#ed7953\"], [0.7777777777777778, \"#fb9f3a\"], [0.8888888888888888, \"#fdca26\"], [1.0, \"#f0f921\"]], \"type\": \"histogram2d\"}], \"histogram2dcontour\": [{\"colorbar\": {\"outlinewidth\": 0, \"ticks\": \"\"}, \"colorscale\": [[0.0, \"#0d0887\"], [0.1111111111111111, \"#46039f\"], [0.2222222222222222, \"#7201a8\"], [0.3333333333333333, \"#9c179e\"], [0.4444444444444444, \"#bd3786\"], [0.5555555555555556, \"#d8576b\"], [0.6666666666666666, \"#ed7953\"], [0.7777777777777778, \"#fb9f3a\"], [0.8888888888888888, \"#fdca26\"], [1.0, \"#f0f921\"]], \"type\": \"histogram2dcontour\"}], \"mesh3d\": [{\"colorbar\": {\"outlinewidth\": 0, \"ticks\": \"\"}, \"type\": \"mesh3d\"}], \"parcoords\": [{\"line\": {\"colorbar\": {\"outlinewidth\": 0, \"ticks\": \"\"}}, \"type\": \"parcoords\"}], \"pie\": [{\"automargin\": true, \"type\": \"pie\"}], \"scatter\": [{\"marker\": {\"colorbar\": {\"outlinewidth\": 0, \"ticks\": \"\"}}, \"type\": \"scatter\"}], \"scatter3d\": [{\"line\": {\"colorbar\": {\"outlinewidth\": 0, \"ticks\": \"\"}}, \"marker\": {\"colorbar\": {\"outlinewidth\": 0, \"ticks\": \"\"}}, \"type\": \"scatter3d\"}], \"scattercarpet\": [{\"marker\": {\"colorbar\": {\"outlinewidth\": 0, \"ticks\": \"\"}}, \"type\": \"scattercarpet\"}], \"scattergeo\": [{\"marker\": {\"colorbar\": {\"outlinewidth\": 0, \"ticks\": \"\"}}, \"type\": \"scattergeo\"}], \"scattergl\": [{\"marker\": {\"colorbar\": {\"outlinewidth\": 0, \"ticks\": \"\"}}, \"type\": \"scattergl\"}], \"scattermapbox\": [{\"marker\": {\"colorbar\": {\"outlinewidth\": 0, \"ticks\": \"\"}}, \"type\": \"scattermapbox\"}], \"scatterpolar\": [{\"marker\": {\"colorbar\": {\"outlinewidth\": 0, \"ticks\": \"\"}}, \"type\": \"scatterpolar\"}], \"scatterpolargl\": [{\"marker\": {\"colorbar\": {\"outlinewidth\": 0, \"ticks\": \"\"}}, \"type\": \"scatterpolargl\"}], \"scatterternary\": [{\"marker\": {\"colorbar\": {\"outlinewidth\": 0, \"ticks\": \"\"}}, \"type\": \"scatterternary\"}], \"surface\": [{\"colorbar\": {\"outlinewidth\": 0, \"ticks\": \"\"}, \"colorscale\": [[0.0, \"#0d0887\"], [0.1111111111111111, \"#46039f\"], [0.2222222222222222, \"#7201a8\"], [0.3333333333333333, \"#9c179e\"], [0.4444444444444444, \"#bd3786\"], [0.5555555555555556, \"#d8576b\"], [0.6666666666666666, \"#ed7953\"], [0.7777777777777778, \"#fb9f3a\"], [0.8888888888888888, \"#fdca26\"], [1.0, \"#f0f921\"]], \"type\": \"surface\"}], \"table\": [{\"cells\": {\"fill\": {\"color\": \"#EBF0F8\"}, \"line\": {\"color\": \"white\"}}, \"header\": {\"fill\": {\"color\": \"#C8D4E3\"}, \"line\": {\"color\": \"white\"}}, \"type\": \"table\"}]}, \"layout\": {\"annotationdefaults\": {\"arrowcolor\": \"#2a3f5f\", \"arrowhead\": 0, \"arrowwidth\": 1}, \"coloraxis\": {\"colorbar\": {\"outlinewidth\": 0, \"ticks\": \"\"}}, \"colorscale\": {\"diverging\": [[0, \"#8e0152\"], [0.1, \"#c51b7d\"], [0.2, \"#de77ae\"], [0.3, \"#f1b6da\"], [0.4, \"#fde0ef\"], [0.5, \"#f7f7f7\"], [0.6, \"#e6f5d0\"], [0.7, \"#b8e186\"], [0.8, \"#7fbc41\"], [0.9, \"#4d9221\"], [1, \"#276419\"]], \"sequential\": [[0.0, \"#0d0887\"], [0.1111111111111111, \"#46039f\"], [0.2222222222222222, \"#7201a8\"], [0.3333333333333333, \"#9c179e\"], [0.4444444444444444, \"#bd3786\"], [0.5555555555555556, \"#d8576b\"], [0.6666666666666666, \"#ed7953\"], [0.7777777777777778, \"#fb9f3a\"], [0.8888888888888888, \"#fdca26\"], [1.0, \"#f0f921\"]], \"sequentialminus\": [[0.0, \"#0d0887\"], [0.1111111111111111, \"#46039f\"], [0.2222222222222222, \"#7201a8\"], [0.3333333333333333, \"#9c179e\"], [0.4444444444444444, \"#bd3786\"], [0.5555555555555556, \"#d8576b\"], [0.6666666666666666, \"#ed7953\"], [0.7777777777777778, \"#fb9f3a\"], [0.8888888888888888, \"#fdca26\"], [1.0, \"#f0f921\"]]}, \"colorway\": [\"#636efa\", \"#EF553B\", \"#00cc96\", \"#ab63fa\", \"#FFA15A\", \"#19d3f3\", \"#FF6692\", \"#B6E880\", \"#FF97FF\", \"#FECB52\"], \"font\": {\"color\": \"#2a3f5f\"}, \"geo\": {\"bgcolor\": \"white\", \"lakecolor\": \"white\", \"landcolor\": \"#E5ECF6\", \"showlakes\": true, \"showland\": true, \"subunitcolor\": \"white\"}, \"hoverlabel\": {\"align\": \"left\"}, \"hovermode\": \"closest\", \"mapbox\": {\"style\": \"light\"}, \"paper_bgcolor\": \"white\", \"plot_bgcolor\": \"#E5ECF6\", \"polar\": {\"angularaxis\": {\"gridcolor\": \"white\", \"linecolor\": \"white\", \"ticks\": \"\"}, \"bgcolor\": \"#E5ECF6\", \"radialaxis\": {\"gridcolor\": \"white\", \"linecolor\": \"white\", \"ticks\": \"\"}}, \"scene\": {\"xaxis\": {\"backgroundcolor\": \"#E5ECF6\", \"gridcolor\": \"white\", \"gridwidth\": 2, \"linecolor\": \"white\", \"showbackground\": true, \"ticks\": \"\", \"zerolinecolor\": \"white\"}, \"yaxis\": {\"backgroundcolor\": \"#E5ECF6\", \"gridcolor\": \"white\", \"gridwidth\": 2, \"linecolor\": \"white\", \"showbackground\": true, \"ticks\": \"\", \"zerolinecolor\": \"white\"}, \"zaxis\": {\"backgroundcolor\": \"#E5ECF6\", \"gridcolor\": \"white\", \"gridwidth\": 2, \"linecolor\": \"white\", \"showbackground\": true, \"ticks\": \"\", \"zerolinecolor\": \"white\"}}, \"shapedefaults\": {\"line\": {\"color\": \"#2a3f5f\"}}, \"ternary\": {\"aaxis\": {\"gridcolor\": \"white\", \"linecolor\": \"white\", \"ticks\": \"\"}, \"baxis\": {\"gridcolor\": \"white\", \"linecolor\": \"white\", \"ticks\": \"\"}, \"bgcolor\": \"#E5ECF6\", \"caxis\": {\"gridcolor\": \"white\", \"linecolor\": \"white\", \"ticks\": \"\"}}, \"title\": {\"x\": 0.05}, \"xaxis\": {\"automargin\": true, \"gridcolor\": \"white\", \"linecolor\": \"white\", \"ticks\": \"\", \"title\": {\"standoff\": 15}, \"zerolinecolor\": \"white\", \"zerolinewidth\": 2}, \"yaxis\": {\"automargin\": true, \"gridcolor\": \"white\", \"linecolor\": \"white\", \"ticks\": \"\", \"title\": {\"standoff\": 15}, \"zerolinecolor\": \"white\", \"zerolinewidth\": 2}}}, \"title\": {\"text\": \"State Rankings\"}},\n",
       "                        {\"responsive\": true}\n",
       "                    ).then(function(){\n",
       "                            \n",
       "var gd = document.getElementById('b3ea9aa4-7f99-4ae7-914b-d79355c6097f');\n",
       "var x = new MutationObserver(function (mutations, observer) {{\n",
       "        var display = window.getComputedStyle(gd).display;\n",
       "        if (!display || display === 'none') {{\n",
       "            console.log([gd, 'removed!']);\n",
       "            Plotly.purge(gd);\n",
       "            observer.disconnect();\n",
       "        }}\n",
       "}});\n",
       "\n",
       "// Listen for the removal of the full notebook cells\n",
       "var notebookContainer = gd.closest('#notebook-container');\n",
       "if (notebookContainer) {{\n",
       "    x.observe(notebookContainer, {childList: true});\n",
       "}}\n",
       "\n",
       "// Listen for the clearing of the current output cell\n",
       "var outputEl = gd.closest('.output');\n",
       "if (outputEl) {{\n",
       "    x.observe(outputEl, {childList: true});\n",
       "}}\n",
       "\n",
       "                        })\n",
       "                };\n",
       "                });\n",
       "            </script>\n",
       "        </div>"
      ]
     },
     "metadata": {},
     "output_type": "display_data"
    }
   ],
   "source": [
    "fig = px.choropleth(merged_df_fin,  # Input Pandas DataFrame\n",
    "                    locations=\"Stabr\",  # DataFrame column with locations\n",
    "                    color=\"Total Edu Urban\",  # DataFrame column with color values\n",
    "                    color_continuous_scale=\"Blues\",\n",
    "                    hover_name=\"area_name\", # DataFrame column hover info\n",
    "                    locationmode = 'USA-states') # Set to plot as US States\n",
    "colorscale = ['#f2f0f7','#dadaeb','#bcbddc','#9e9ac8','#756bb1','#54278f']\n",
    "fig.update_layout(\n",
    "    title_text = 'State Rankings', # Create a Title\n",
    "#     autocolorscale = True,\n",
    "#     colorscale = \"sequential\", \n",
    "    geo_scope='usa',  # Plot only the USA instead of globe\n",
    ")\n",
    "fig.show()  # Output the plot to the screen"
   ]
  },
  {
   "cell_type": "code",
   "execution_count": null,
   "metadata": {},
   "outputs": [],
   "source": [
    "# occurrence of Hate Crimes to Education (Bachelor's Degree vs. High School) by State"
   ]
  },
  {
   "cell_type": "code",
   "execution_count": null,
   "metadata": {},
   "outputs": [],
   "source": [
    "# occurrence of Hate Crimes to Poverty Level by State"
   ]
  },
  {
   "cell_type": "code",
   "execution_count": null,
   "metadata": {},
   "outputs": [],
   "source": [
    "# occurrence of Hate Crimes to Poverty Level by State"
   ]
  },
  {
   "cell_type": "code",
   "execution_count": null,
   "metadata": {},
   "outputs": [],
   "source": []
  },
  {
   "cell_type": "code",
   "execution_count": null,
   "metadata": {},
   "outputs": [],
   "source": [
    "# Clean FBI Data set - take 2014-2018 data and average hate crimes fbi"
   ]
  }
 ],
 "metadata": {
  "kernelspec": {
   "display_name": "Python [conda env:proj1data] *",
   "language": "python",
   "name": "conda-env-proj1data-py"
  },
  "language_info": {
   "codemirror_mode": {
    "name": "ipython",
    "version": 3
   },
   "file_extension": ".py",
   "mimetype": "text/x-python",
   "name": "python",
   "nbconvert_exporter": "python",
   "pygments_lexer": "ipython3",
   "version": "3.8.3"
  }
 },
 "nbformat": 4,
 "nbformat_minor": 4
}
