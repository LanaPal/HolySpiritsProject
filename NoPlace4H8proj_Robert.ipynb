{
 "cells": [
  {
   "cell_type": "markdown",
   "metadata": {},
   "source": [
    "No Place for Hate\n",
    "\n",
    "We seek to find the correlation of the occurrence of Hate Crimes and:\n",
    "* Education\n",
    "* Poverty\n",
    "* Unemployment Rates\n",
    "\n",
    "\n"
   ]
  },
  {
   "cell_type": "code",
   "execution_count": 1,
   "metadata": {},
   "outputs": [],
   "source": [
    "#Import Dependencies\n",
    "import pandas as pd\n",
    "import matplotlib.pyplot as plt\n",
    "import numpy as np\n",
    "import seaborn as sns\n",
    "from scipy.stats import linregress\n",
    "import plotly.express as px\n"
   ]
  },
  {
   "cell_type": "code",
   "execution_count": 2,
   "metadata": {},
   "outputs": [],
   "source": [
    "#read all csv file and review the sample rows\n",
    "edu_data = pd.read_csv(\"Resources/EducationReport.csv\")\n",
    "unempl_data = pd.read_csv(\"Resources/Unemployment.csv\", encoding=\"ISO-8859-1\")\n",
    "crime_data_df = pd.read_csv(\"Resources/estimated_crimes_1979_2018_rev1.csv\")\n",
    "poverty_df = pd.read_csv(\"Resources/PovertyReport.csv\")\n",
    "hate_crime_df = pd.read_csv(\"Resources/hate_crimes538.csv\")\n",
    "regions_df = pd.read_csv(\"Resources/Regions.csv\")"
   ]
  },
  {
   "cell_type": "code",
   "execution_count": 3,
   "metadata": {},
   "outputs": [
    {
     "data": {
      "text/html": [
       "<div>\n",
       "<style scoped>\n",
       "    .dataframe tbody tr th:only-of-type {\n",
       "        vertical-align: middle;\n",
       "    }\n",
       "\n",
       "    .dataframe tbody tr th {\n",
       "        vertical-align: top;\n",
       "    }\n",
       "\n",
       "    .dataframe thead th {\n",
       "        text-align: right;\n",
       "    }\n",
       "</style>\n",
       "<table border=\"1\" class=\"dataframe\">\n",
       "  <thead>\n",
       "    <tr style=\"text-align: right;\">\n",
       "      <th></th>\n",
       "      <th>area_name</th>\n",
       "      <th>Total Edu 2014-18</th>\n",
       "      <th>Total Edu Urban 2024-18</th>\n",
       "      <th>Total Edu Rural 2014-18</th>\n",
       "    </tr>\n",
       "  </thead>\n",
       "  <tbody>\n",
       "    <tr>\n",
       "      <th>2</th>\n",
       "      <td>Alabama</td>\n",
       "      <td>24.90%</td>\n",
       "      <td>28.00%</td>\n",
       "      <td>15.20%</td>\n",
       "    </tr>\n",
       "    <tr>\n",
       "      <th>3</th>\n",
       "      <td>Alaska</td>\n",
       "      <td>29.20%</td>\n",
       "      <td>31.80%</td>\n",
       "      <td>23.90%</td>\n",
       "    </tr>\n",
       "    <tr>\n",
       "      <th>4</th>\n",
       "      <td>Arizona</td>\n",
       "      <td>28.90%</td>\n",
       "      <td>29.60%</td>\n",
       "      <td>15.80%</td>\n",
       "    </tr>\n",
       "  </tbody>\n",
       "</table>\n",
       "</div>"
      ],
      "text/plain": [
       "  area_name Total Edu 2014-18 Total Edu Urban 2024-18 Total Edu Rural 2014-18\n",
       "2   Alabama            24.90%                  28.00%                  15.20%\n",
       "3    Alaska            29.20%                  31.80%                  23.90%\n",
       "4   Arizona            28.90%                  29.60%                  15.80%"
      ]
     },
     "execution_count": 3,
     "metadata": {},
     "output_type": "execute_result"
    }
   ],
   "source": [
    "#create a new dataframe with education data, only needed columns for years 2014-2018\n",
    "edu_data_df = pd.DataFrame(edu_data)\n",
    "edu_data_mycolm = edu_data_df[[\"Unnamed: 0\", \"Total.4\", \"Urban.4\", \"Rural.4\"]]\n",
    "#renamed the columns to have more meaningful names\n",
    "edu_data_upd = edu_data_mycolm.rename(columns={\"Unnamed: 0\" : \"area_name\", \"Total.4\" : \"Total Edu 2014-18\", \"Urban.4\" : \"Total Edu Urban 2024-18\", \"Rural.4\" : \"Total Edu Rural 2014-18\"})\n",
    "#dropped the first row of the data set with column titles for consistency\n",
    "edu_data_final = edu_data_upd.drop([0,1], axis=0)\n",
    "edu_data_final.head(3)"
   ]
  },
  {
   "cell_type": "code",
   "execution_count": 4,
   "metadata": {},
   "outputs": [
    {
     "data": {
      "text/html": [
       "<div>\n",
       "<style scoped>\n",
       "    .dataframe tbody tr th:only-of-type {\n",
       "        vertical-align: middle;\n",
       "    }\n",
       "\n",
       "    .dataframe tbody tr th {\n",
       "        vertical-align: top;\n",
       "    }\n",
       "\n",
       "    .dataframe thead th {\n",
       "        text-align: right;\n",
       "    }\n",
       "</style>\n",
       "<table border=\"1\" class=\"dataframe\">\n",
       "  <thead>\n",
       "    <tr style=\"text-align: right;\">\n",
       "      <th></th>\n",
       "      <th>FIPStxt</th>\n",
       "      <th>Stabr</th>\n",
       "      <th>area_name</th>\n",
       "      <th>Rural_urban_continuum_code_2013</th>\n",
       "      <th>Urban_influence_code_2013</th>\n",
       "      <th>Metro_2013</th>\n",
       "      <th>Civilian_labor_force_2000</th>\n",
       "      <th>Employed_2000</th>\n",
       "      <th>Unemployed_2000</th>\n",
       "      <th>Unemployment_rate_2000</th>\n",
       "      <th>...</th>\n",
       "      <th>Employed_2018</th>\n",
       "      <th>Unemployed_2018</th>\n",
       "      <th>Unemployment_rate_2018</th>\n",
       "      <th>Civilian_labor_force_2019</th>\n",
       "      <th>Employed_2019</th>\n",
       "      <th>Unemployed_2019</th>\n",
       "      <th>Unemployment_rate_2019</th>\n",
       "      <th>Median_Household_Income_2018</th>\n",
       "      <th>Med_HH_Income_Percent_of_State_Total_2018</th>\n",
       "      <th>Average Unempl 2014-18</th>\n",
       "    </tr>\n",
       "  </thead>\n",
       "  <tbody>\n",
       "    <tr>\n",
       "      <th>0</th>\n",
       "      <td>0</td>\n",
       "      <td>US</td>\n",
       "      <td>United States</td>\n",
       "      <td>NaN</td>\n",
       "      <td>NaN</td>\n",
       "      <td>NaN</td>\n",
       "      <td>142,601,667</td>\n",
       "      <td>136,904,680</td>\n",
       "      <td>5,696,987</td>\n",
       "      <td>4.0</td>\n",
       "      <td>...</td>\n",
       "      <td>155,102,319</td>\n",
       "      <td>6,286,707</td>\n",
       "      <td>3.9</td>\n",
       "      <td>163,100,055</td>\n",
       "      <td>157,115,247</td>\n",
       "      <td>5,984,808</td>\n",
       "      <td>3.7</td>\n",
       "      <td>61,937</td>\n",
       "      <td>NaN</td>\n",
       "      <td>6.10%</td>\n",
       "    </tr>\n",
       "    <tr>\n",
       "      <th>1</th>\n",
       "      <td>1000</td>\n",
       "      <td>AL</td>\n",
       "      <td>Alabama</td>\n",
       "      <td>NaN</td>\n",
       "      <td>NaN</td>\n",
       "      <td>NaN</td>\n",
       "      <td>2,133,223</td>\n",
       "      <td>2,035,594</td>\n",
       "      <td>97,629</td>\n",
       "      <td>4.6</td>\n",
       "      <td>...</td>\n",
       "      <td>2,130,845</td>\n",
       "      <td>85,782</td>\n",
       "      <td>3.9</td>\n",
       "      <td>2,241,747</td>\n",
       "      <td>2,174,483</td>\n",
       "      <td>67,264</td>\n",
       "      <td>3.0</td>\n",
       "      <td>49,881</td>\n",
       "      <td>100.0</td>\n",
       "      <td>6.73%</td>\n",
       "    </tr>\n",
       "    <tr>\n",
       "      <th>2</th>\n",
       "      <td>1001</td>\n",
       "      <td>AL</td>\n",
       "      <td>Autauga County, AL</td>\n",
       "      <td>2.0</td>\n",
       "      <td>2.0</td>\n",
       "      <td>1.0</td>\n",
       "      <td>21,720</td>\n",
       "      <td>20,846</td>\n",
       "      <td>874</td>\n",
       "      <td>4.0</td>\n",
       "      <td>...</td>\n",
       "      <td>25,261</td>\n",
       "      <td>935</td>\n",
       "      <td>3.6</td>\n",
       "      <td>26,172</td>\n",
       "      <td>25,458</td>\n",
       "      <td>714</td>\n",
       "      <td>2.7</td>\n",
       "      <td>59,338</td>\n",
       "      <td>119.0</td>\n",
       "      <td>5.85%</td>\n",
       "    </tr>\n",
       "  </tbody>\n",
       "</table>\n",
       "<p>3 rows × 89 columns</p>\n",
       "</div>"
      ],
      "text/plain": [
       "   FIPStxt Stabr           area_name  Rural_urban_continuum_code_2013  \\\n",
       "0        0    US       United States                              NaN   \n",
       "1     1000    AL             Alabama                              NaN   \n",
       "2     1001    AL  Autauga County, AL                              2.0   \n",
       "\n",
       "   Urban_influence_code_2013  Metro_2013  Civilian_labor_force_2000   \\\n",
       "0                        NaN         NaN                 142,601,667   \n",
       "1                        NaN         NaN                   2,133,223   \n",
       "2                        2.0         1.0                      21,720   \n",
       "\n",
       "   Employed_2000   Unemployed_2000   Unemployment_rate_2000  ...  \\\n",
       "0     136,904,680         5,696,987                     4.0  ...   \n",
       "1       2,035,594            97,629                     4.6  ...   \n",
       "2          20,846               874                     4.0  ...   \n",
       "\n",
       "  Employed_2018 Unemployed_2018 Unemployment_rate_2018  \\\n",
       "0   155,102,319       6,286,707                    3.9   \n",
       "1     2,130,845          85,782                    3.9   \n",
       "2        25,261             935                    3.6   \n",
       "\n",
       "    Civilian_labor_force_2019   Employed_2019   Unemployed_2019   \\\n",
       "0                  163,100,055     157,115,247         5,984,808   \n",
       "1                    2,241,747       2,174,483            67,264   \n",
       "2                       26,172          25,458               714   \n",
       "\n",
       "  Unemployment_rate_2019  Median_Household_Income_2018  \\\n",
       "0                    3.7                        61,937   \n",
       "1                    3.0                        49,881   \n",
       "2                    2.7                        59,338   \n",
       "\n",
       "  Med_HH_Income_Percent_of_State_Total_2018 Average Unempl 2014-18  \n",
       "0                                       NaN                  6.10%  \n",
       "1                                     100.0                  6.73%  \n",
       "2                                     119.0                  5.85%  \n",
       "\n",
       "[3 rows x 89 columns]"
      ]
     },
     "execution_count": 4,
     "metadata": {},
     "output_type": "execute_result"
    }
   ],
   "source": [
    "#create the column with average data for years 2014-18 and add it to the dataset\n",
    "unempl_data[\"Average Unempl 2014-18\"] =(unempl_data[\"Unemployment_rate_2018\"] + unempl_data[\"Unemployment_rate_2017\"]\n",
    "+ unempl_data[\"Unemployment_rate_2016\"] + unempl_data[\"Unemployment_rate_2015\"] + \n",
    "unempl_data[\"Unemployment_rate_2014\"])/4\n",
    "unempl_data[\"Average Unempl 2014-18\"] = unempl_data[\"Average Unempl 2014-18\"].map(\"{:.2f}%\".format)\n",
    "unempl_data.head(3)"
   ]
  },
  {
   "cell_type": "code",
   "execution_count": 5,
   "metadata": {},
   "outputs": [
    {
     "data": {
      "text/html": [
       "<div>\n",
       "<style scoped>\n",
       "    .dataframe tbody tr th:only-of-type {\n",
       "        vertical-align: middle;\n",
       "    }\n",
       "\n",
       "    .dataframe tbody tr th {\n",
       "        vertical-align: top;\n",
       "    }\n",
       "\n",
       "    .dataframe thead th {\n",
       "        text-align: right;\n",
       "    }\n",
       "</style>\n",
       "<table border=\"1\" class=\"dataframe\">\n",
       "  <thead>\n",
       "    <tr style=\"text-align: right;\">\n",
       "      <th></th>\n",
       "      <th>FIPStxt</th>\n",
       "      <th>Stabr</th>\n",
       "      <th>area_name</th>\n",
       "      <th>Rural_urban_continuum_code_2013</th>\n",
       "      <th>Urban_influence_code_2013</th>\n",
       "      <th>Metro_2013</th>\n",
       "      <th>Civilian_labor_force_2000</th>\n",
       "      <th>Employed_2000</th>\n",
       "      <th>Unemployed_2000</th>\n",
       "      <th>Unemployment_rate_2000</th>\n",
       "      <th>...</th>\n",
       "      <th>Employed_2018</th>\n",
       "      <th>Unemployed_2018</th>\n",
       "      <th>Unemployment_rate_2018</th>\n",
       "      <th>Civilian_labor_force_2019</th>\n",
       "      <th>Employed_2019</th>\n",
       "      <th>Unemployed_2019</th>\n",
       "      <th>Unemployment_rate_2019</th>\n",
       "      <th>Median_Household_Income_2018</th>\n",
       "      <th>Med_HH_Income_Percent_of_State_Total_2018</th>\n",
       "      <th>Average Unempl 2014-18</th>\n",
       "    </tr>\n",
       "  </thead>\n",
       "  <tbody>\n",
       "    <tr>\n",
       "      <th>0</th>\n",
       "      <td>0</td>\n",
       "      <td>US</td>\n",
       "      <td>United States</td>\n",
       "      <td>NaN</td>\n",
       "      <td>NaN</td>\n",
       "      <td>NaN</td>\n",
       "      <td>142,601,667</td>\n",
       "      <td>136,904,680</td>\n",
       "      <td>5,696,987</td>\n",
       "      <td>4.0</td>\n",
       "      <td>...</td>\n",
       "      <td>155,102,319</td>\n",
       "      <td>6,286,707</td>\n",
       "      <td>3.9</td>\n",
       "      <td>163,100,055</td>\n",
       "      <td>157,115,247</td>\n",
       "      <td>5,984,808</td>\n",
       "      <td>3.7</td>\n",
       "      <td>61,937</td>\n",
       "      <td>NaN</td>\n",
       "      <td>6.10%</td>\n",
       "    </tr>\n",
       "    <tr>\n",
       "      <th>1</th>\n",
       "      <td>1000</td>\n",
       "      <td>AL</td>\n",
       "      <td>Alabama</td>\n",
       "      <td>NaN</td>\n",
       "      <td>NaN</td>\n",
       "      <td>NaN</td>\n",
       "      <td>2,133,223</td>\n",
       "      <td>2,035,594</td>\n",
       "      <td>97,629</td>\n",
       "      <td>4.6</td>\n",
       "      <td>...</td>\n",
       "      <td>2,130,845</td>\n",
       "      <td>85,782</td>\n",
       "      <td>3.9</td>\n",
       "      <td>2,241,747</td>\n",
       "      <td>2,174,483</td>\n",
       "      <td>67,264</td>\n",
       "      <td>3.0</td>\n",
       "      <td>49,881</td>\n",
       "      <td>100.0</td>\n",
       "      <td>6.73%</td>\n",
       "    </tr>\n",
       "    <tr>\n",
       "      <th>69</th>\n",
       "      <td>2000</td>\n",
       "      <td>AK</td>\n",
       "      <td>Alaska</td>\n",
       "      <td>NaN</td>\n",
       "      <td>NaN</td>\n",
       "      <td>NaN</td>\n",
       "      <td>319,511</td>\n",
       "      <td>299,146</td>\n",
       "      <td>20,365</td>\n",
       "      <td>6.4</td>\n",
       "      <td>...</td>\n",
       "      <td>329,901</td>\n",
       "      <td>22,761</td>\n",
       "      <td>6.5</td>\n",
       "      <td>347,779</td>\n",
       "      <td>326,430</td>\n",
       "      <td>21,349</td>\n",
       "      <td>6.1</td>\n",
       "      <td>74,912</td>\n",
       "      <td>100.0</td>\n",
       "      <td>8.55%</td>\n",
       "    </tr>\n",
       "    <tr>\n",
       "      <th>102</th>\n",
       "      <td>4000</td>\n",
       "      <td>AZ</td>\n",
       "      <td>Arizona</td>\n",
       "      <td>NaN</td>\n",
       "      <td>NaN</td>\n",
       "      <td>NaN</td>\n",
       "      <td>2,509,883</td>\n",
       "      <td>2,410,581</td>\n",
       "      <td>99,302</td>\n",
       "      <td>4.0</td>\n",
       "      <td>...</td>\n",
       "      <td>3,260,518</td>\n",
       "      <td>162,065</td>\n",
       "      <td>4.7</td>\n",
       "      <td>3,551,260</td>\n",
       "      <td>3,384,504</td>\n",
       "      <td>166,756</td>\n",
       "      <td>4.7</td>\n",
       "      <td>59,079</td>\n",
       "      <td>100.0</td>\n",
       "      <td>6.95%</td>\n",
       "    </tr>\n",
       "    <tr>\n",
       "      <th>118</th>\n",
       "      <td>5000</td>\n",
       "      <td>AR</td>\n",
       "      <td>Arkansas</td>\n",
       "      <td>NaN</td>\n",
       "      <td>NaN</td>\n",
       "      <td>NaN</td>\n",
       "      <td>1,258,301</td>\n",
       "      <td>1,204,695</td>\n",
       "      <td>53,606</td>\n",
       "      <td>4.3</td>\n",
       "      <td>...</td>\n",
       "      <td>1,303,995</td>\n",
       "      <td>49,310</td>\n",
       "      <td>3.6</td>\n",
       "      <td>1,362,642</td>\n",
       "      <td>1,314,290</td>\n",
       "      <td>48,352</td>\n",
       "      <td>3.5</td>\n",
       "      <td>47,094</td>\n",
       "      <td>100.0</td>\n",
       "      <td>5.58%</td>\n",
       "    </tr>\n",
       "    <tr>\n",
       "      <th>194</th>\n",
       "      <td>6000</td>\n",
       "      <td>CA</td>\n",
       "      <td>California</td>\n",
       "      <td>NaN</td>\n",
       "      <td>NaN</td>\n",
       "      <td>NaN</td>\n",
       "      <td>16,867,808</td>\n",
       "      <td>16,033,179</td>\n",
       "      <td>834,629</td>\n",
       "      <td>4.9</td>\n",
       "      <td>...</td>\n",
       "      <td>18,460,725</td>\n",
       "      <td>820,096</td>\n",
       "      <td>4.3</td>\n",
       "      <td>19,411,572</td>\n",
       "      <td>18,627,378</td>\n",
       "      <td>784,194</td>\n",
       "      <td>4.0</td>\n",
       "      <td>75,250</td>\n",
       "      <td>100.0</td>\n",
       "      <td>7.03%</td>\n",
       "    </tr>\n",
       "    <tr>\n",
       "      <th>253</th>\n",
       "      <td>8000</td>\n",
       "      <td>CO</td>\n",
       "      <td>Colorado</td>\n",
       "      <td>NaN</td>\n",
       "      <td>NaN</td>\n",
       "      <td>NaN</td>\n",
       "      <td>2,359,515</td>\n",
       "      <td>2,294,408</td>\n",
       "      <td>65,107</td>\n",
       "      <td>2.8</td>\n",
       "      <td>...</td>\n",
       "      <td>2,983,498</td>\n",
       "      <td>97,163</td>\n",
       "      <td>3.2</td>\n",
       "      <td>3,148,766</td>\n",
       "      <td>3,062,098</td>\n",
       "      <td>86,668</td>\n",
       "      <td>2.8</td>\n",
       "      <td>71,949</td>\n",
       "      <td>100.0</td>\n",
       "      <td>4.58%</td>\n",
       "    </tr>\n",
       "    <tr>\n",
       "      <th>318</th>\n",
       "      <td>9000</td>\n",
       "      <td>CT</td>\n",
       "      <td>Connecticut</td>\n",
       "      <td>NaN</td>\n",
       "      <td>NaN</td>\n",
       "      <td>NaN</td>\n",
       "      <td>1,764,126</td>\n",
       "      <td>1,721,913</td>\n",
       "      <td>42,213</td>\n",
       "      <td>2.4</td>\n",
       "      <td>...</td>\n",
       "      <td>1,821,891</td>\n",
       "      <td>78,773</td>\n",
       "      <td>4.1</td>\n",
       "      <td>1,913,530</td>\n",
       "      <td>1,842,164</td>\n",
       "      <td>71,366</td>\n",
       "      <td>3.7</td>\n",
       "      <td>76,366</td>\n",
       "      <td>100.0</td>\n",
       "      <td>6.62%</td>\n",
       "    </tr>\n",
       "    <tr>\n",
       "      <th>327</th>\n",
       "      <td>10000</td>\n",
       "      <td>DE</td>\n",
       "      <td>Delaware</td>\n",
       "      <td>NaN</td>\n",
       "      <td>NaN</td>\n",
       "      <td>NaN</td>\n",
       "      <td>413,500</td>\n",
       "      <td>398,027</td>\n",
       "      <td>15,473</td>\n",
       "      <td>3.7</td>\n",
       "      <td>...</td>\n",
       "      <td>463,542</td>\n",
       "      <td>18,231</td>\n",
       "      <td>3.8</td>\n",
       "      <td>487,263</td>\n",
       "      <td>468,844</td>\n",
       "      <td>18,419</td>\n",
       "      <td>3.8</td>\n",
       "      <td>65,467</td>\n",
       "      <td>100.0</td>\n",
       "      <td>5.88%</td>\n",
       "    </tr>\n",
       "    <tr>\n",
       "      <th>331</th>\n",
       "      <td>11000</td>\n",
       "      <td>DC</td>\n",
       "      <td>District of Columbia</td>\n",
       "      <td>NaN</td>\n",
       "      <td>NaN</td>\n",
       "      <td>NaN</td>\n",
       "      <td>310,469</td>\n",
       "      <td>293,086</td>\n",
       "      <td>17,383</td>\n",
       "      <td>5.6</td>\n",
       "      <td>...</td>\n",
       "      <td>381,703</td>\n",
       "      <td>23,036</td>\n",
       "      <td>5.7</td>\n",
       "      <td>409,969</td>\n",
       "      <td>387,482</td>\n",
       "      <td>22,487</td>\n",
       "      <td>5.5</td>\n",
       "      <td>82,533</td>\n",
       "      <td>100.0</td>\n",
       "      <td>8.17%</td>\n",
       "    </tr>\n",
       "  </tbody>\n",
       "</table>\n",
       "<p>10 rows × 89 columns</p>\n",
       "</div>"
      ],
      "text/plain": [
       "     FIPStxt Stabr             area_name  Rural_urban_continuum_code_2013  \\\n",
       "0          0    US         United States                              NaN   \n",
       "1       1000    AL               Alabama                              NaN   \n",
       "69      2000    AK                Alaska                              NaN   \n",
       "102     4000    AZ               Arizona                              NaN   \n",
       "118     5000    AR              Arkansas                              NaN   \n",
       "194     6000    CA            California                              NaN   \n",
       "253     8000    CO              Colorado                              NaN   \n",
       "318     9000    CT           Connecticut                              NaN   \n",
       "327    10000    DE              Delaware                              NaN   \n",
       "331    11000    DC  District of Columbia                              NaN   \n",
       "\n",
       "     Urban_influence_code_2013  Metro_2013  Civilian_labor_force_2000   \\\n",
       "0                          NaN         NaN                 142,601,667   \n",
       "1                          NaN         NaN                   2,133,223   \n",
       "69                         NaN         NaN                     319,511   \n",
       "102                        NaN         NaN                   2,509,883   \n",
       "118                        NaN         NaN                   1,258,301   \n",
       "194                        NaN         NaN                  16,867,808   \n",
       "253                        NaN         NaN                   2,359,515   \n",
       "318                        NaN         NaN                   1,764,126   \n",
       "327                        NaN         NaN                     413,500   \n",
       "331                        NaN         NaN                     310,469   \n",
       "\n",
       "     Employed_2000   Unemployed_2000   Unemployment_rate_2000  ...  \\\n",
       "0       136,904,680         5,696,987                     4.0  ...   \n",
       "1         2,035,594            97,629                     4.6  ...   \n",
       "69          299,146            20,365                     6.4  ...   \n",
       "102       2,410,581            99,302                     4.0  ...   \n",
       "118       1,204,695            53,606                     4.3  ...   \n",
       "194      16,033,179           834,629                     4.9  ...   \n",
       "253       2,294,408            65,107                     2.8  ...   \n",
       "318       1,721,913            42,213                     2.4  ...   \n",
       "327         398,027            15,473                     3.7  ...   \n",
       "331         293,086            17,383                     5.6  ...   \n",
       "\n",
       "    Employed_2018 Unemployed_2018 Unemployment_rate_2018  \\\n",
       "0     155,102,319       6,286,707                    3.9   \n",
       "1       2,130,845          85,782                    3.9   \n",
       "69        329,901          22,761                    6.5   \n",
       "102     3,260,518         162,065                    4.7   \n",
       "118     1,303,995          49,310                    3.6   \n",
       "194    18,460,725         820,096                    4.3   \n",
       "253     2,983,498          97,163                    3.2   \n",
       "318     1,821,891          78,773                    4.1   \n",
       "327       463,542          18,231                    3.8   \n",
       "331       381,703          23,036                    5.7   \n",
       "\n",
       "      Civilian_labor_force_2019   Employed_2019   Unemployed_2019   \\\n",
       "0                    163,100,055     157,115,247         5,984,808   \n",
       "1                      2,241,747       2,174,483            67,264   \n",
       "69                       347,779         326,430            21,349   \n",
       "102                    3,551,260       3,384,504           166,756   \n",
       "118                    1,362,642       1,314,290            48,352   \n",
       "194                   19,411,572      18,627,378           784,194   \n",
       "253                    3,148,766       3,062,098            86,668   \n",
       "318                    1,913,530       1,842,164            71,366   \n",
       "327                      487,263         468,844            18,419   \n",
       "331                      409,969         387,482            22,487   \n",
       "\n",
       "    Unemployment_rate_2019  Median_Household_Income_2018  \\\n",
       "0                      3.7                        61,937   \n",
       "1                      3.0                        49,881   \n",
       "69                     6.1                        74,912   \n",
       "102                    4.7                        59,079   \n",
       "118                    3.5                        47,094   \n",
       "194                    4.0                        75,250   \n",
       "253                    2.8                        71,949   \n",
       "318                    3.7                        76,366   \n",
       "327                    3.8                        65,467   \n",
       "331                    5.5                        82,533   \n",
       "\n",
       "    Med_HH_Income_Percent_of_State_Total_2018 Average Unempl 2014-18  \n",
       "0                                         NaN                  6.10%  \n",
       "1                                       100.0                  6.73%  \n",
       "69                                      100.0                  8.55%  \n",
       "102                                     100.0                  6.95%  \n",
       "118                                     100.0                  5.58%  \n",
       "194                                     100.0                  7.03%  \n",
       "253                                     100.0                  4.58%  \n",
       "318                                     100.0                  6.62%  \n",
       "327                                     100.0                  5.88%  \n",
       "331                                     100.0                  8.17%  \n",
       "\n",
       "[10 rows x 89 columns]"
      ]
     },
     "execution_count": 5,
     "metadata": {},
     "output_type": "execute_result"
    }
   ],
   "source": [
    "#filter dataset to the state level - remove counties (the columns \"rural urban code\" & \"metro 2013\" are empty for the states)\n",
    "unempl_data['Rural_urban_continuum_code_2013'].replace('', np.nan, inplace=True)\n",
    "unempl_state_interim = unempl_data[unempl_data['Rural_urban_continuum_code_2013'].isnull()]\n",
    "unempl_state_interim\n",
    "unempl_data_clean = unempl_state_interim[unempl_state_interim['Metro_2013']!=0]\n",
    "unempl_data_clean.head(10)"
   ]
  },
  {
   "cell_type": "code",
   "execution_count": 6,
   "metadata": {
    "scrolled": true
   },
   "outputs": [
    {
     "data": {
      "text/html": [
       "<div>\n",
       "<style scoped>\n",
       "    .dataframe tbody tr th:only-of-type {\n",
       "        vertical-align: middle;\n",
       "    }\n",
       "\n",
       "    .dataframe tbody tr th {\n",
       "        vertical-align: top;\n",
       "    }\n",
       "\n",
       "    .dataframe thead th {\n",
       "        text-align: right;\n",
       "    }\n",
       "</style>\n",
       "<table border=\"1\" class=\"dataframe\">\n",
       "  <thead>\n",
       "    <tr style=\"text-align: right;\">\n",
       "      <th></th>\n",
       "      <th>year</th>\n",
       "      <th>state_abbr</th>\n",
       "      <th>population</th>\n",
       "      <th>violent_crime</th>\n",
       "      <th>homicide</th>\n",
       "      <th>rape_legacy</th>\n",
       "      <th>rape_revised</th>\n",
       "      <th>robbery</th>\n",
       "      <th>aggravated_assault</th>\n",
       "      <th>property_crime</th>\n",
       "      <th>burglary</th>\n",
       "      <th>larceny</th>\n",
       "      <th>motor_vehicle_theft</th>\n",
       "      <th>caveats</th>\n",
       "    </tr>\n",
       "  </thead>\n",
       "  <tbody>\n",
       "    <tr>\n",
       "      <th>35</th>\n",
       "      <td>2014</td>\n",
       "      <td>NaN</td>\n",
       "      <td>318907401</td>\n",
       "      <td>1153022</td>\n",
       "      <td>14164</td>\n",
       "      <td>84864.0</td>\n",
       "      <td>118027.0</td>\n",
       "      <td>322905</td>\n",
       "      <td>731089</td>\n",
       "      <td>8209010</td>\n",
       "      <td>1713153</td>\n",
       "      <td>5809054</td>\n",
       "      <td>686803</td>\n",
       "      <td>NaN</td>\n",
       "    </tr>\n",
       "    <tr>\n",
       "      <th>36</th>\n",
       "      <td>2015</td>\n",
       "      <td>NaN</td>\n",
       "      <td>320896618</td>\n",
       "      <td>1199310</td>\n",
       "      <td>15883</td>\n",
       "      <td>91261.0</td>\n",
       "      <td>126134.0</td>\n",
       "      <td>328109</td>\n",
       "      <td>764057</td>\n",
       "      <td>8024115</td>\n",
       "      <td>1587564</td>\n",
       "      <td>5723488</td>\n",
       "      <td>713063</td>\n",
       "      <td>NaN</td>\n",
       "    </tr>\n",
       "    <tr>\n",
       "      <th>37</th>\n",
       "      <td>2016</td>\n",
       "      <td>NaN</td>\n",
       "      <td>323405935</td>\n",
       "      <td>1285606</td>\n",
       "      <td>17413</td>\n",
       "      <td>96970.0</td>\n",
       "      <td>132414.0</td>\n",
       "      <td>332797</td>\n",
       "      <td>802982</td>\n",
       "      <td>7928530</td>\n",
       "      <td>1516405</td>\n",
       "      <td>5644835</td>\n",
       "      <td>767290</td>\n",
       "      <td>NaN</td>\n",
       "    </tr>\n",
       "    <tr>\n",
       "      <th>73</th>\n",
       "      <td>2014</td>\n",
       "      <td>AK</td>\n",
       "      <td>737046</td>\n",
       "      <td>4684</td>\n",
       "      <td>41</td>\n",
       "      <td>553.0</td>\n",
       "      <td>771.0</td>\n",
       "      <td>629</td>\n",
       "      <td>3243</td>\n",
       "      <td>20334</td>\n",
       "      <td>3150</td>\n",
       "      <td>15445</td>\n",
       "      <td>1739</td>\n",
       "      <td>NaN</td>\n",
       "    </tr>\n",
       "    <tr>\n",
       "      <th>74</th>\n",
       "      <td>2015</td>\n",
       "      <td>AK</td>\n",
       "      <td>737709</td>\n",
       "      <td>5391</td>\n",
       "      <td>59</td>\n",
       "      <td>648.0</td>\n",
       "      <td>900.0</td>\n",
       "      <td>761</td>\n",
       "      <td>3671</td>\n",
       "      <td>20806</td>\n",
       "      <td>3511</td>\n",
       "      <td>15249</td>\n",
       "      <td>2046</td>\n",
       "      <td>NaN</td>\n",
       "    </tr>\n",
       "    <tr>\n",
       "      <th>75</th>\n",
       "      <td>2016</td>\n",
       "      <td>AK</td>\n",
       "      <td>741522</td>\n",
       "      <td>5966</td>\n",
       "      <td>52</td>\n",
       "      <td>754.0</td>\n",
       "      <td>1053.0</td>\n",
       "      <td>850</td>\n",
       "      <td>4011</td>\n",
       "      <td>24876</td>\n",
       "      <td>4053</td>\n",
       "      <td>17766</td>\n",
       "      <td>3057</td>\n",
       "      <td>NaN</td>\n",
       "    </tr>\n",
       "    <tr>\n",
       "      <th>76</th>\n",
       "      <td>2017</td>\n",
       "      <td>AK</td>\n",
       "      <td>739786</td>\n",
       "      <td>6338</td>\n",
       "      <td>62</td>\n",
       "      <td>NaN</td>\n",
       "      <td>1074.0</td>\n",
       "      <td>952</td>\n",
       "      <td>4250</td>\n",
       "      <td>26203</td>\n",
       "      <td>4167</td>\n",
       "      <td>17782</td>\n",
       "      <td>4254</td>\n",
       "      <td>NaN</td>\n",
       "    </tr>\n",
       "    <tr>\n",
       "      <th>77</th>\n",
       "      <td>2018</td>\n",
       "      <td>AK</td>\n",
       "      <td>737438</td>\n",
       "      <td>6526</td>\n",
       "      <td>47</td>\n",
       "      <td>NaN</td>\n",
       "      <td>1192.0</td>\n",
       "      <td>896</td>\n",
       "      <td>4391</td>\n",
       "      <td>24339</td>\n",
       "      <td>3979</td>\n",
       "      <td>16364</td>\n",
       "      <td>3996</td>\n",
       "      <td>NaN</td>\n",
       "    </tr>\n",
       "    <tr>\n",
       "      <th>113</th>\n",
       "      <td>2014</td>\n",
       "      <td>AL</td>\n",
       "      <td>4846411</td>\n",
       "      <td>20727</td>\n",
       "      <td>276</td>\n",
       "      <td>1425.0</td>\n",
       "      <td>2005.0</td>\n",
       "      <td>4702</td>\n",
       "      <td>13744</td>\n",
       "      <td>154087</td>\n",
       "      <td>39723</td>\n",
       "      <td>104223</td>\n",
       "      <td>10141</td>\n",
       "      <td>NaN</td>\n",
       "    </tr>\n",
       "    <tr>\n",
       "      <th>114</th>\n",
       "      <td>2015</td>\n",
       "      <td>AL</td>\n",
       "      <td>4853875</td>\n",
       "      <td>22957</td>\n",
       "      <td>348</td>\n",
       "      <td>1449.0</td>\n",
       "      <td>2037.0</td>\n",
       "      <td>4612</td>\n",
       "      <td>15960</td>\n",
       "      <td>144785</td>\n",
       "      <td>35265</td>\n",
       "      <td>99182</td>\n",
       "      <td>10338</td>\n",
       "      <td>NaN</td>\n",
       "    </tr>\n",
       "    <tr>\n",
       "      <th>115</th>\n",
       "      <td>2016</td>\n",
       "      <td>AL</td>\n",
       "      <td>4860545</td>\n",
       "      <td>25878</td>\n",
       "      <td>407</td>\n",
       "      <td>1380.0</td>\n",
       "      <td>1915.0</td>\n",
       "      <td>4687</td>\n",
       "      <td>18869</td>\n",
       "      <td>143259</td>\n",
       "      <td>34045</td>\n",
       "      <td>97498</td>\n",
       "      <td>11716</td>\n",
       "      <td>NaN</td>\n",
       "    </tr>\n",
       "    <tr>\n",
       "      <th>116</th>\n",
       "      <td>2017</td>\n",
       "      <td>AL</td>\n",
       "      <td>4875120</td>\n",
       "      <td>25469</td>\n",
       "      <td>419</td>\n",
       "      <td>NaN</td>\n",
       "      <td>2001.0</td>\n",
       "      <td>4233</td>\n",
       "      <td>18816</td>\n",
       "      <td>143774</td>\n",
       "      <td>31270</td>\n",
       "      <td>99707</td>\n",
       "      <td>12797</td>\n",
       "      <td>NaN</td>\n",
       "    </tr>\n",
       "    <tr>\n",
       "      <th>117</th>\n",
       "      <td>2018</td>\n",
       "      <td>AL</td>\n",
       "      <td>4887871</td>\n",
       "      <td>25399</td>\n",
       "      <td>383</td>\n",
       "      <td>NaN</td>\n",
       "      <td>1996.0</td>\n",
       "      <td>4076</td>\n",
       "      <td>18944</td>\n",
       "      <td>137700</td>\n",
       "      <td>28841</td>\n",
       "      <td>95747</td>\n",
       "      <td>13112</td>\n",
       "      <td>NaN</td>\n",
       "    </tr>\n",
       "    <tr>\n",
       "      <th>153</th>\n",
       "      <td>2014</td>\n",
       "      <td>AR</td>\n",
       "      <td>2966835</td>\n",
       "      <td>14248</td>\n",
       "      <td>175</td>\n",
       "      <td>1291.0</td>\n",
       "      <td>1816.0</td>\n",
       "      <td>2037</td>\n",
       "      <td>10220</td>\n",
       "      <td>99452</td>\n",
       "      <td>24816</td>\n",
       "      <td>69001</td>\n",
       "      <td>5635</td>\n",
       "      <td>NaN</td>\n",
       "    </tr>\n",
       "    <tr>\n",
       "      <th>154</th>\n",
       "      <td>2015</td>\n",
       "      <td>AR</td>\n",
       "      <td>2977853</td>\n",
       "      <td>15769</td>\n",
       "      <td>189</td>\n",
       "      <td>1425.0</td>\n",
       "      <td>2008.0</td>\n",
       "      <td>2117</td>\n",
       "      <td>11455</td>\n",
       "      <td>97391</td>\n",
       "      <td>22851</td>\n",
       "      <td>68720</td>\n",
       "      <td>5820</td>\n",
       "      <td>NaN</td>\n",
       "    </tr>\n",
       "    <tr>\n",
       "      <th>155</th>\n",
       "      <td>2016</td>\n",
       "      <td>AR</td>\n",
       "      <td>2988231</td>\n",
       "      <td>16563</td>\n",
       "      <td>217</td>\n",
       "      <td>1600.0</td>\n",
       "      <td>2214.0</td>\n",
       "      <td>2125</td>\n",
       "      <td>12007</td>\n",
       "      <td>98092</td>\n",
       "      <td>23814</td>\n",
       "      <td>67091</td>\n",
       "      <td>7187</td>\n",
       "      <td>NaN</td>\n",
       "    </tr>\n",
       "    <tr>\n",
       "      <th>156</th>\n",
       "      <td>2017</td>\n",
       "      <td>AR</td>\n",
       "      <td>3002997</td>\n",
       "      <td>16996</td>\n",
       "      <td>249</td>\n",
       "      <td>NaN</td>\n",
       "      <td>2140.0</td>\n",
       "      <td>1998</td>\n",
       "      <td>12609</td>\n",
       "      <td>94419</td>\n",
       "      <td>22369</td>\n",
       "      <td>64795</td>\n",
       "      <td>7255</td>\n",
       "      <td>NaN</td>\n",
       "    </tr>\n",
       "    <tr>\n",
       "      <th>157</th>\n",
       "      <td>2018</td>\n",
       "      <td>AR</td>\n",
       "      <td>3013825</td>\n",
       "      <td>16384</td>\n",
       "      <td>216</td>\n",
       "      <td>NaN</td>\n",
       "      <td>2196.0</td>\n",
       "      <td>1594</td>\n",
       "      <td>12378</td>\n",
       "      <td>87793</td>\n",
       "      <td>19193</td>\n",
       "      <td>61487</td>\n",
       "      <td>7113</td>\n",
       "      <td>NaN</td>\n",
       "    </tr>\n",
       "    <tr>\n",
       "      <th>193</th>\n",
       "      <td>2014</td>\n",
       "      <td>AZ</td>\n",
       "      <td>6728783</td>\n",
       "      <td>26422</td>\n",
       "      <td>311</td>\n",
       "      <td>2356.0</td>\n",
       "      <td>3272.0</td>\n",
       "      <td>6225</td>\n",
       "      <td>16614</td>\n",
       "      <td>213406</td>\n",
       "      <td>43412</td>\n",
       "      <td>152683</td>\n",
       "      <td>17311</td>\n",
       "      <td>NaN</td>\n",
       "    </tr>\n",
       "    <tr>\n",
       "      <th>194</th>\n",
       "      <td>2015</td>\n",
       "      <td>AZ</td>\n",
       "      <td>6817565</td>\n",
       "      <td>27968</td>\n",
       "      <td>306</td>\n",
       "      <td>2268.0</td>\n",
       "      <td>3109.0</td>\n",
       "      <td>6360</td>\n",
       "      <td>18193</td>\n",
       "      <td>207184</td>\n",
       "      <td>38010</td>\n",
       "      <td>152388</td>\n",
       "      <td>16786</td>\n",
       "      <td>NaN</td>\n",
       "    </tr>\n",
       "    <tr>\n",
       "      <th>195</th>\n",
       "      <td>2016</td>\n",
       "      <td>AZ</td>\n",
       "      <td>6908642</td>\n",
       "      <td>32542</td>\n",
       "      <td>389</td>\n",
       "      <td>2461.0</td>\n",
       "      <td>3304.0</td>\n",
       "      <td>7045</td>\n",
       "      <td>21804</td>\n",
       "      <td>207317</td>\n",
       "      <td>38216</td>\n",
       "      <td>150618</td>\n",
       "      <td>18483</td>\n",
       "      <td>NaN</td>\n",
       "    </tr>\n",
       "    <tr>\n",
       "      <th>196</th>\n",
       "      <td>2017</td>\n",
       "      <td>AZ</td>\n",
       "      <td>7048876</td>\n",
       "      <td>35647</td>\n",
       "      <td>422</td>\n",
       "      <td>NaN</td>\n",
       "      <td>3622.0</td>\n",
       "      <td>7440</td>\n",
       "      <td>24163</td>\n",
       "      <td>204999</td>\n",
       "      <td>37722</td>\n",
       "      <td>148251</td>\n",
       "      <td>19026</td>\n",
       "      <td>NaN</td>\n",
       "    </tr>\n",
       "    <tr>\n",
       "      <th>197</th>\n",
       "      <td>2018</td>\n",
       "      <td>AZ</td>\n",
       "      <td>7171646</td>\n",
       "      <td>34058</td>\n",
       "      <td>369</td>\n",
       "      <td>NaN</td>\n",
       "      <td>3638.0</td>\n",
       "      <td>6523</td>\n",
       "      <td>23528</td>\n",
       "      <td>191974</td>\n",
       "      <td>31532</td>\n",
       "      <td>141303</td>\n",
       "      <td>19139</td>\n",
       "      <td>NaN</td>\n",
       "    </tr>\n",
       "    <tr>\n",
       "      <th>233</th>\n",
       "      <td>2014</td>\n",
       "      <td>CA</td>\n",
       "      <td>38792291</td>\n",
       "      <td>153763</td>\n",
       "      <td>1700</td>\n",
       "      <td>8389.0</td>\n",
       "      <td>11578.0</td>\n",
       "      <td>48681</td>\n",
       "      <td>91804</td>\n",
       "      <td>947193</td>\n",
       "      <td>202669</td>\n",
       "      <td>592673</td>\n",
       "      <td>151851</td>\n",
       "      <td>NaN</td>\n",
       "    </tr>\n",
       "    <tr>\n",
       "      <th>234</th>\n",
       "      <td>2015</td>\n",
       "      <td>CA</td>\n",
       "      <td>38993940</td>\n",
       "      <td>166883</td>\n",
       "      <td>1861</td>\n",
       "      <td>9341.0</td>\n",
       "      <td>12811.0</td>\n",
       "      <td>52862</td>\n",
       "      <td>99349</td>\n",
       "      <td>1024914</td>\n",
       "      <td>197404</td>\n",
       "      <td>656517</td>\n",
       "      <td>170993</td>\n",
       "      <td>NaN</td>\n",
       "    </tr>\n",
       "    <tr>\n",
       "      <th>235</th>\n",
       "      <td>2016</td>\n",
       "      <td>CA</td>\n",
       "      <td>39296476</td>\n",
       "      <td>174796</td>\n",
       "      <td>1930</td>\n",
       "      <td>10132.0</td>\n",
       "      <td>13702.0</td>\n",
       "      <td>54789</td>\n",
       "      <td>104375</td>\n",
       "      <td>1002070</td>\n",
       "      <td>188304</td>\n",
       "      <td>637010</td>\n",
       "      <td>176756</td>\n",
       "      <td>NaN</td>\n",
       "    </tr>\n",
       "    <tr>\n",
       "      <th>236</th>\n",
       "      <td>2017</td>\n",
       "      <td>CA</td>\n",
       "      <td>39399349</td>\n",
       "      <td>178597</td>\n",
       "      <td>1830</td>\n",
       "      <td>NaN</td>\n",
       "      <td>14724.0</td>\n",
       "      <td>56625</td>\n",
       "      <td>105418</td>\n",
       "      <td>987063</td>\n",
       "      <td>176679</td>\n",
       "      <td>642019</td>\n",
       "      <td>168365</td>\n",
       "      <td>NaN</td>\n",
       "    </tr>\n",
       "    <tr>\n",
       "      <th>237</th>\n",
       "      <td>2018</td>\n",
       "      <td>CA</td>\n",
       "      <td>39557045</td>\n",
       "      <td>176982</td>\n",
       "      <td>1739</td>\n",
       "      <td>NaN</td>\n",
       "      <td>15505.0</td>\n",
       "      <td>54326</td>\n",
       "      <td>105412</td>\n",
       "      <td>941618</td>\n",
       "      <td>164632</td>\n",
       "      <td>621775</td>\n",
       "      <td>155211</td>\n",
       "      <td>NaN</td>\n",
       "    </tr>\n",
       "    <tr>\n",
       "      <th>273</th>\n",
       "      <td>2014</td>\n",
       "      <td>CO</td>\n",
       "      <td>5355588</td>\n",
       "      <td>16487</td>\n",
       "      <td>150</td>\n",
       "      <td>2236.0</td>\n",
       "      <td>3089.0</td>\n",
       "      <td>3037</td>\n",
       "      <td>10211</td>\n",
       "      <td>135789</td>\n",
       "      <td>23502</td>\n",
       "      <td>99688</td>\n",
       "      <td>12599</td>\n",
       "      <td>NaN</td>\n",
       "    </tr>\n",
       "    <tr>\n",
       "      <th>274</th>\n",
       "      <td>2015</td>\n",
       "      <td>CO</td>\n",
       "      <td>5448819</td>\n",
       "      <td>17348</td>\n",
       "      <td>173</td>\n",
       "      <td>2422.0</td>\n",
       "      <td>3328.0</td>\n",
       "      <td>3315</td>\n",
       "      <td>10532</td>\n",
       "      <td>144044</td>\n",
       "      <td>23490</td>\n",
       "      <td>104532</td>\n",
       "      <td>16022</td>\n",
       "      <td>NaN</td>\n",
       "    </tr>\n",
       "    <tr>\n",
       "      <th>275</th>\n",
       "      <td>2016</td>\n",
       "      <td>CO</td>\n",
       "      <td>5530105</td>\n",
       "      <td>19030</td>\n",
       "      <td>189</td>\n",
       "      <td>2680.0</td>\n",
       "      <td>3635.0</td>\n",
       "      <td>3525</td>\n",
       "      <td>11681</td>\n",
       "      <td>152146</td>\n",
       "      <td>23825</td>\n",
       "      <td>108680</td>\n",
       "      <td>19641</td>\n",
       "      <td>NaN</td>\n",
       "    </tr>\n",
       "    <tr>\n",
       "      <th>276</th>\n",
       "      <td>2017</td>\n",
       "      <td>CO</td>\n",
       "      <td>5615902</td>\n",
       "      <td>20901</td>\n",
       "      <td>222</td>\n",
       "      <td>NaN</td>\n",
       "      <td>4021.0</td>\n",
       "      <td>3868</td>\n",
       "      <td>12790</td>\n",
       "      <td>152032</td>\n",
       "      <td>22618</td>\n",
       "      <td>107470</td>\n",
       "      <td>21944</td>\n",
       "      <td>NaN</td>\n",
       "    </tr>\n",
       "    <tr>\n",
       "      <th>277</th>\n",
       "      <td>2018</td>\n",
       "      <td>CO</td>\n",
       "      <td>5695564</td>\n",
       "      <td>22624</td>\n",
       "      <td>210</td>\n",
       "      <td>NaN</td>\n",
       "      <td>4070.0</td>\n",
       "      <td>3797</td>\n",
       "      <td>14547</td>\n",
       "      <td>152163</td>\n",
       "      <td>21371</td>\n",
       "      <td>109119</td>\n",
       "      <td>21673</td>\n",
       "      <td>NaN</td>\n",
       "    </tr>\n",
       "    <tr>\n",
       "      <th>313</th>\n",
       "      <td>2014</td>\n",
       "      <td>CT</td>\n",
       "      <td>3594762</td>\n",
       "      <td>8575</td>\n",
       "      <td>89</td>\n",
       "      <td>579.0</td>\n",
       "      <td>794.0</td>\n",
       "      <td>3172</td>\n",
       "      <td>4520</td>\n",
       "      <td>69326</td>\n",
       "      <td>12017</td>\n",
       "      <td>51195</td>\n",
       "      <td>6114</td>\n",
       "      <td>NaN</td>\n",
       "    </tr>\n",
       "    <tr>\n",
       "      <th>314</th>\n",
       "      <td>2015</td>\n",
       "      <td>CT</td>\n",
       "      <td>3584730</td>\n",
       "      <td>7938</td>\n",
       "      <td>116</td>\n",
       "      <td>585.0</td>\n",
       "      <td>798.0</td>\n",
       "      <td>2925</td>\n",
       "      <td>4099</td>\n",
       "      <td>65610</td>\n",
       "      <td>10286</td>\n",
       "      <td>48898</td>\n",
       "      <td>6426</td>\n",
       "      <td>NaN</td>\n",
       "    </tr>\n",
       "    <tr>\n",
       "      <th>315</th>\n",
       "      <td>2016</td>\n",
       "      <td>CT</td>\n",
       "      <td>3587685</td>\n",
       "      <td>8169</td>\n",
       "      <td>79</td>\n",
       "      <td>580.0</td>\n",
       "      <td>791.0</td>\n",
       "      <td>2711</td>\n",
       "      <td>4588</td>\n",
       "      <td>64875</td>\n",
       "      <td>10107</td>\n",
       "      <td>47642</td>\n",
       "      <td>7126</td>\n",
       "      <td>NaN</td>\n",
       "    </tr>\n",
       "    <tr>\n",
       "      <th>316</th>\n",
       "      <td>2017</td>\n",
       "      <td>CT</td>\n",
       "      <td>3573880</td>\n",
       "      <td>8190</td>\n",
       "      <td>105</td>\n",
       "      <td>NaN</td>\n",
       "      <td>850.0</td>\n",
       "      <td>2813</td>\n",
       "      <td>4422</td>\n",
       "      <td>63646</td>\n",
       "      <td>8906</td>\n",
       "      <td>47418</td>\n",
       "      <td>7322</td>\n",
       "      <td>NaN</td>\n",
       "    </tr>\n",
       "    <tr>\n",
       "      <th>317</th>\n",
       "      <td>2018</td>\n",
       "      <td>CT</td>\n",
       "      <td>3572665</td>\n",
       "      <td>7411</td>\n",
       "      <td>83</td>\n",
       "      <td>NaN</td>\n",
       "      <td>840.0</td>\n",
       "      <td>2194</td>\n",
       "      <td>4294</td>\n",
       "      <td>60055</td>\n",
       "      <td>7948</td>\n",
       "      <td>44724</td>\n",
       "      <td>7383</td>\n",
       "      <td>NaN</td>\n",
       "    </tr>\n",
       "    <tr>\n",
       "      <th>353</th>\n",
       "      <td>2014</td>\n",
       "      <td>DC</td>\n",
       "      <td>659836</td>\n",
       "      <td>8199</td>\n",
       "      <td>105</td>\n",
       "      <td>349.0</td>\n",
       "      <td>472.0</td>\n",
       "      <td>3497</td>\n",
       "      <td>4125</td>\n",
       "      <td>34147</td>\n",
       "      <td>3466</td>\n",
       "      <td>26898</td>\n",
       "      <td>3783</td>\n",
       "      <td>NaN</td>\n",
       "    </tr>\n",
       "    <tr>\n",
       "      <th>354</th>\n",
       "      <td>2015</td>\n",
       "      <td>DC</td>\n",
       "      <td>670377</td>\n",
       "      <td>8538</td>\n",
       "      <td>162</td>\n",
       "      <td>365.0</td>\n",
       "      <td>494.0</td>\n",
       "      <td>3746</td>\n",
       "      <td>4136</td>\n",
       "      <td>31444</td>\n",
       "      <td>2971</td>\n",
       "      <td>25208</td>\n",
       "      <td>3265</td>\n",
       "      <td>NaN</td>\n",
       "    </tr>\n",
       "    <tr>\n",
       "      <th>355</th>\n",
       "      <td>2016</td>\n",
       "      <td>DC</td>\n",
       "      <td>684336</td>\n",
       "      <td>8236</td>\n",
       "      <td>136</td>\n",
       "      <td>400.0</td>\n",
       "      <td>533.0</td>\n",
       "      <td>3500</td>\n",
       "      <td>4067</td>\n",
       "      <td>32377</td>\n",
       "      <td>2361</td>\n",
       "      <td>27089</td>\n",
       "      <td>2927</td>\n",
       "      <td>NaN</td>\n",
       "    </tr>\n",
       "    <tr>\n",
       "      <th>356</th>\n",
       "      <td>2017</td>\n",
       "      <td>DC</td>\n",
       "      <td>695691</td>\n",
       "      <td>6976</td>\n",
       "      <td>116</td>\n",
       "      <td>NaN</td>\n",
       "      <td>444.0</td>\n",
       "      <td>2625</td>\n",
       "      <td>3791</td>\n",
       "      <td>29736</td>\n",
       "      <td>1809</td>\n",
       "      <td>25340</td>\n",
       "      <td>2587</td>\n",
       "      <td>NaN</td>\n",
       "    </tr>\n",
       "    <tr>\n",
       "      <th>357</th>\n",
       "      <td>2018</td>\n",
       "      <td>DC</td>\n",
       "      <td>702455</td>\n",
       "      <td>6996</td>\n",
       "      <td>160</td>\n",
       "      <td>NaN</td>\n",
       "      <td>450.0</td>\n",
       "      <td>2415</td>\n",
       "      <td>3971</td>\n",
       "      <td>30724</td>\n",
       "      <td>1788</td>\n",
       "      <td>26343</td>\n",
       "      <td>2593</td>\n",
       "      <td>NaN</td>\n",
       "    </tr>\n",
       "    <tr>\n",
       "      <th>393</th>\n",
       "      <td>2014</td>\n",
       "      <td>DE</td>\n",
       "      <td>935968</td>\n",
       "      <td>4568</td>\n",
       "      <td>50</td>\n",
       "      <td>274.0</td>\n",
       "      <td>390.0</td>\n",
       "      <td>1271</td>\n",
       "      <td>2857</td>\n",
       "      <td>27915</td>\n",
       "      <td>5765</td>\n",
       "      <td>20885</td>\n",
       "      <td>1265</td>\n",
       "      <td>NaN</td>\n",
       "    </tr>\n",
       "    <tr>\n",
       "      <th>394</th>\n",
       "      <td>2015</td>\n",
       "      <td>DE</td>\n",
       "      <td>944076</td>\n",
       "      <td>4760</td>\n",
       "      <td>62</td>\n",
       "      <td>257.0</td>\n",
       "      <td>361.0</td>\n",
       "      <td>1240</td>\n",
       "      <td>3097</td>\n",
       "      <td>25545</td>\n",
       "      <td>4797</td>\n",
       "      <td>19555</td>\n",
       "      <td>1193</td>\n",
       "      <td>NaN</td>\n",
       "    </tr>\n",
       "    <tr>\n",
       "      <th>395</th>\n",
       "      <td>2016</td>\n",
       "      <td>DE</td>\n",
       "      <td>952698</td>\n",
       "      <td>4859</td>\n",
       "      <td>58</td>\n",
       "      <td>224.0</td>\n",
       "      <td>311.0</td>\n",
       "      <td>1359</td>\n",
       "      <td>3131</td>\n",
       "      <td>26370</td>\n",
       "      <td>5028</td>\n",
       "      <td>19812</td>\n",
       "      <td>1530</td>\n",
       "      <td>NaN</td>\n",
       "    </tr>\n",
       "    <tr>\n",
       "      <th>396</th>\n",
       "      <td>2017</td>\n",
       "      <td>DE</td>\n",
       "      <td>957078</td>\n",
       "      <td>4377</td>\n",
       "      <td>51</td>\n",
       "      <td>NaN</td>\n",
       "      <td>351.0</td>\n",
       "      <td>1082</td>\n",
       "      <td>2893</td>\n",
       "      <td>23430</td>\n",
       "      <td>3960</td>\n",
       "      <td>18108</td>\n",
       "      <td>1362</td>\n",
       "      <td>NaN</td>\n",
       "    </tr>\n",
       "    <tr>\n",
       "      <th>397</th>\n",
       "      <td>2018</td>\n",
       "      <td>DE</td>\n",
       "      <td>967171</td>\n",
       "      <td>4097</td>\n",
       "      <td>48</td>\n",
       "      <td>NaN</td>\n",
       "      <td>338.0</td>\n",
       "      <td>866</td>\n",
       "      <td>2845</td>\n",
       "      <td>22481</td>\n",
       "      <td>3158</td>\n",
       "      <td>17847</td>\n",
       "      <td>1476</td>\n",
       "      <td>NaN</td>\n",
       "    </tr>\n",
       "    <tr>\n",
       "      <th>433</th>\n",
       "      <td>2014</td>\n",
       "      <td>FL</td>\n",
       "      <td>19905569</td>\n",
       "      <td>91345</td>\n",
       "      <td>982</td>\n",
       "      <td>5038.0</td>\n",
       "      <td>7132.0</td>\n",
       "      <td>21621</td>\n",
       "      <td>61610</td>\n",
       "      <td>583774</td>\n",
       "      <td>121379</td>\n",
       "      <td>426197</td>\n",
       "      <td>36198</td>\n",
       "      <td>NaN</td>\n",
       "    </tr>\n",
       "    <tr>\n",
       "      <th>434</th>\n",
       "      <td>2015</td>\n",
       "      <td>FL</td>\n",
       "      <td>20244914</td>\n",
       "      <td>93625</td>\n",
       "      <td>1041</td>\n",
       "      <td>5396.0</td>\n",
       "      <td>7552.0</td>\n",
       "      <td>21137</td>\n",
       "      <td>63895</td>\n",
       "      <td>570270</td>\n",
       "      <td>109268</td>\n",
       "      <td>420341</td>\n",
       "      <td>40661</td>\n",
       "      <td>NaN</td>\n",
       "    </tr>\n",
       "  </tbody>\n",
       "</table>\n",
       "</div>"
      ],
      "text/plain": [
       "     year state_abbr  population  violent_crime  homicide  rape_legacy  \\\n",
       "35   2014        NaN   318907401        1153022     14164      84864.0   \n",
       "36   2015        NaN   320896618        1199310     15883      91261.0   \n",
       "37   2016        NaN   323405935        1285606     17413      96970.0   \n",
       "73   2014         AK      737046           4684        41        553.0   \n",
       "74   2015         AK      737709           5391        59        648.0   \n",
       "75   2016         AK      741522           5966        52        754.0   \n",
       "76   2017         AK      739786           6338        62          NaN   \n",
       "77   2018         AK      737438           6526        47          NaN   \n",
       "113  2014         AL     4846411          20727       276       1425.0   \n",
       "114  2015         AL     4853875          22957       348       1449.0   \n",
       "115  2016         AL     4860545          25878       407       1380.0   \n",
       "116  2017         AL     4875120          25469       419          NaN   \n",
       "117  2018         AL     4887871          25399       383          NaN   \n",
       "153  2014         AR     2966835          14248       175       1291.0   \n",
       "154  2015         AR     2977853          15769       189       1425.0   \n",
       "155  2016         AR     2988231          16563       217       1600.0   \n",
       "156  2017         AR     3002997          16996       249          NaN   \n",
       "157  2018         AR     3013825          16384       216          NaN   \n",
       "193  2014         AZ     6728783          26422       311       2356.0   \n",
       "194  2015         AZ     6817565          27968       306       2268.0   \n",
       "195  2016         AZ     6908642          32542       389       2461.0   \n",
       "196  2017         AZ     7048876          35647       422          NaN   \n",
       "197  2018         AZ     7171646          34058       369          NaN   \n",
       "233  2014         CA    38792291         153763      1700       8389.0   \n",
       "234  2015         CA    38993940         166883      1861       9341.0   \n",
       "235  2016         CA    39296476         174796      1930      10132.0   \n",
       "236  2017         CA    39399349         178597      1830          NaN   \n",
       "237  2018         CA    39557045         176982      1739          NaN   \n",
       "273  2014         CO     5355588          16487       150       2236.0   \n",
       "274  2015         CO     5448819          17348       173       2422.0   \n",
       "275  2016         CO     5530105          19030       189       2680.0   \n",
       "276  2017         CO     5615902          20901       222          NaN   \n",
       "277  2018         CO     5695564          22624       210          NaN   \n",
       "313  2014         CT     3594762           8575        89        579.0   \n",
       "314  2015         CT     3584730           7938       116        585.0   \n",
       "315  2016         CT     3587685           8169        79        580.0   \n",
       "316  2017         CT     3573880           8190       105          NaN   \n",
       "317  2018         CT     3572665           7411        83          NaN   \n",
       "353  2014         DC      659836           8199       105        349.0   \n",
       "354  2015         DC      670377           8538       162        365.0   \n",
       "355  2016         DC      684336           8236       136        400.0   \n",
       "356  2017         DC      695691           6976       116          NaN   \n",
       "357  2018         DC      702455           6996       160          NaN   \n",
       "393  2014         DE      935968           4568        50        274.0   \n",
       "394  2015         DE      944076           4760        62        257.0   \n",
       "395  2016         DE      952698           4859        58        224.0   \n",
       "396  2017         DE      957078           4377        51          NaN   \n",
       "397  2018         DE      967171           4097        48          NaN   \n",
       "433  2014         FL    19905569          91345       982       5038.0   \n",
       "434  2015         FL    20244914          93625      1041       5396.0   \n",
       "\n",
       "     rape_revised  robbery  aggravated_assault  property_crime  burglary  \\\n",
       "35       118027.0   322905              731089         8209010   1713153   \n",
       "36       126134.0   328109              764057         8024115   1587564   \n",
       "37       132414.0   332797              802982         7928530   1516405   \n",
       "73          771.0      629                3243           20334      3150   \n",
       "74          900.0      761                3671           20806      3511   \n",
       "75         1053.0      850                4011           24876      4053   \n",
       "76         1074.0      952                4250           26203      4167   \n",
       "77         1192.0      896                4391           24339      3979   \n",
       "113        2005.0     4702               13744          154087     39723   \n",
       "114        2037.0     4612               15960          144785     35265   \n",
       "115        1915.0     4687               18869          143259     34045   \n",
       "116        2001.0     4233               18816          143774     31270   \n",
       "117        1996.0     4076               18944          137700     28841   \n",
       "153        1816.0     2037               10220           99452     24816   \n",
       "154        2008.0     2117               11455           97391     22851   \n",
       "155        2214.0     2125               12007           98092     23814   \n",
       "156        2140.0     1998               12609           94419     22369   \n",
       "157        2196.0     1594               12378           87793     19193   \n",
       "193        3272.0     6225               16614          213406     43412   \n",
       "194        3109.0     6360               18193          207184     38010   \n",
       "195        3304.0     7045               21804          207317     38216   \n",
       "196        3622.0     7440               24163          204999     37722   \n",
       "197        3638.0     6523               23528          191974     31532   \n",
       "233       11578.0    48681               91804          947193    202669   \n",
       "234       12811.0    52862               99349         1024914    197404   \n",
       "235       13702.0    54789              104375         1002070    188304   \n",
       "236       14724.0    56625              105418          987063    176679   \n",
       "237       15505.0    54326              105412          941618    164632   \n",
       "273        3089.0     3037               10211          135789     23502   \n",
       "274        3328.0     3315               10532          144044     23490   \n",
       "275        3635.0     3525               11681          152146     23825   \n",
       "276        4021.0     3868               12790          152032     22618   \n",
       "277        4070.0     3797               14547          152163     21371   \n",
       "313         794.0     3172                4520           69326     12017   \n",
       "314         798.0     2925                4099           65610     10286   \n",
       "315         791.0     2711                4588           64875     10107   \n",
       "316         850.0     2813                4422           63646      8906   \n",
       "317         840.0     2194                4294           60055      7948   \n",
       "353         472.0     3497                4125           34147      3466   \n",
       "354         494.0     3746                4136           31444      2971   \n",
       "355         533.0     3500                4067           32377      2361   \n",
       "356         444.0     2625                3791           29736      1809   \n",
       "357         450.0     2415                3971           30724      1788   \n",
       "393         390.0     1271                2857           27915      5765   \n",
       "394         361.0     1240                3097           25545      4797   \n",
       "395         311.0     1359                3131           26370      5028   \n",
       "396         351.0     1082                2893           23430      3960   \n",
       "397         338.0      866                2845           22481      3158   \n",
       "433        7132.0    21621               61610          583774    121379   \n",
       "434        7552.0    21137               63895          570270    109268   \n",
       "\n",
       "     larceny  motor_vehicle_theft caveats  \n",
       "35   5809054               686803     NaN  \n",
       "36   5723488               713063     NaN  \n",
       "37   5644835               767290     NaN  \n",
       "73     15445                 1739     NaN  \n",
       "74     15249                 2046     NaN  \n",
       "75     17766                 3057     NaN  \n",
       "76     17782                 4254     NaN  \n",
       "77     16364                 3996     NaN  \n",
       "113   104223                10141     NaN  \n",
       "114    99182                10338     NaN  \n",
       "115    97498                11716     NaN  \n",
       "116    99707                12797     NaN  \n",
       "117    95747                13112     NaN  \n",
       "153    69001                 5635     NaN  \n",
       "154    68720                 5820     NaN  \n",
       "155    67091                 7187     NaN  \n",
       "156    64795                 7255     NaN  \n",
       "157    61487                 7113     NaN  \n",
       "193   152683                17311     NaN  \n",
       "194   152388                16786     NaN  \n",
       "195   150618                18483     NaN  \n",
       "196   148251                19026     NaN  \n",
       "197   141303                19139     NaN  \n",
       "233   592673               151851     NaN  \n",
       "234   656517               170993     NaN  \n",
       "235   637010               176756     NaN  \n",
       "236   642019               168365     NaN  \n",
       "237   621775               155211     NaN  \n",
       "273    99688                12599     NaN  \n",
       "274   104532                16022     NaN  \n",
       "275   108680                19641     NaN  \n",
       "276   107470                21944     NaN  \n",
       "277   109119                21673     NaN  \n",
       "313    51195                 6114     NaN  \n",
       "314    48898                 6426     NaN  \n",
       "315    47642                 7126     NaN  \n",
       "316    47418                 7322     NaN  \n",
       "317    44724                 7383     NaN  \n",
       "353    26898                 3783     NaN  \n",
       "354    25208                 3265     NaN  \n",
       "355    27089                 2927     NaN  \n",
       "356    25340                 2587     NaN  \n",
       "357    26343                 2593     NaN  \n",
       "393    20885                 1265     NaN  \n",
       "394    19555                 1193     NaN  \n",
       "395    19812                 1530     NaN  \n",
       "396    18108                 1362     NaN  \n",
       "397    17847                 1476     NaN  \n",
       "433   426197                36198     NaN  \n",
       "434   420341                40661     NaN  "
      ]
     },
     "execution_count": 6,
     "metadata": {},
     "output_type": "execute_result"
    }
   ],
   "source": [
    "year_list = [\"2014\", \"2015\", \"2016\", \"2017\", \"2018\"]\n",
    "crime_data_df = crime_data_df[crime_data_df.year.isin(year_list)]\n",
    "crime_data_df.head(50)"
   ]
  },
  {
   "cell_type": "code",
   "execution_count": 7,
   "metadata": {},
   "outputs": [
    {
     "data": {
      "text/html": [
       "<div>\n",
       "<style scoped>\n",
       "    .dataframe tbody tr th:only-of-type {\n",
       "        vertical-align: middle;\n",
       "    }\n",
       "\n",
       "    .dataframe tbody tr th {\n",
       "        vertical-align: top;\n",
       "    }\n",
       "\n",
       "    .dataframe thead th {\n",
       "        text-align: right;\n",
       "    }\n",
       "</style>\n",
       "<table border=\"1\" class=\"dataframe\">\n",
       "  <thead>\n",
       "    <tr style=\"text-align: right;\">\n",
       "      <th></th>\n",
       "      <th>year</th>\n",
       "      <th>state_abbr</th>\n",
       "      <th>population</th>\n",
       "      <th>violent_crime</th>\n",
       "      <th>homicide</th>\n",
       "      <th>rape_legacy</th>\n",
       "      <th>rape_revised</th>\n",
       "      <th>robbery</th>\n",
       "      <th>aggravated_assault</th>\n",
       "      <th>property_crime</th>\n",
       "      <th>burglary</th>\n",
       "      <th>larceny</th>\n",
       "      <th>motor_vehicle_theft</th>\n",
       "      <th>caveats</th>\n",
       "    </tr>\n",
       "  </thead>\n",
       "  <tbody>\n",
       "    <tr>\n",
       "      <th>35</th>\n",
       "      <td>2014</td>\n",
       "      <td>NaN</td>\n",
       "      <td>318907401</td>\n",
       "      <td>1153022</td>\n",
       "      <td>14164</td>\n",
       "      <td>84864.0</td>\n",
       "      <td>118027.0</td>\n",
       "      <td>322905</td>\n",
       "      <td>731089</td>\n",
       "      <td>8209010</td>\n",
       "      <td>1713153</td>\n",
       "      <td>5809054</td>\n",
       "      <td>686803</td>\n",
       "      <td>NaN</td>\n",
       "    </tr>\n",
       "    <tr>\n",
       "      <th>36</th>\n",
       "      <td>2015</td>\n",
       "      <td>NaN</td>\n",
       "      <td>320896618</td>\n",
       "      <td>1199310</td>\n",
       "      <td>15883</td>\n",
       "      <td>91261.0</td>\n",
       "      <td>126134.0</td>\n",
       "      <td>328109</td>\n",
       "      <td>764057</td>\n",
       "      <td>8024115</td>\n",
       "      <td>1587564</td>\n",
       "      <td>5723488</td>\n",
       "      <td>713063</td>\n",
       "      <td>NaN</td>\n",
       "    </tr>\n",
       "    <tr>\n",
       "      <th>37</th>\n",
       "      <td>2016</td>\n",
       "      <td>NaN</td>\n",
       "      <td>323405935</td>\n",
       "      <td>1285606</td>\n",
       "      <td>17413</td>\n",
       "      <td>96970.0</td>\n",
       "      <td>132414.0</td>\n",
       "      <td>332797</td>\n",
       "      <td>802982</td>\n",
       "      <td>7928530</td>\n",
       "      <td>1516405</td>\n",
       "      <td>5644835</td>\n",
       "      <td>767290</td>\n",
       "      <td>NaN</td>\n",
       "    </tr>\n",
       "    <tr>\n",
       "      <th>73</th>\n",
       "      <td>2014</td>\n",
       "      <td>AK</td>\n",
       "      <td>737046</td>\n",
       "      <td>4684</td>\n",
       "      <td>41</td>\n",
       "      <td>553.0</td>\n",
       "      <td>771.0</td>\n",
       "      <td>629</td>\n",
       "      <td>3243</td>\n",
       "      <td>20334</td>\n",
       "      <td>3150</td>\n",
       "      <td>15445</td>\n",
       "      <td>1739</td>\n",
       "      <td>NaN</td>\n",
       "    </tr>\n",
       "    <tr>\n",
       "      <th>74</th>\n",
       "      <td>2015</td>\n",
       "      <td>AK</td>\n",
       "      <td>737709</td>\n",
       "      <td>5391</td>\n",
       "      <td>59</td>\n",
       "      <td>648.0</td>\n",
       "      <td>900.0</td>\n",
       "      <td>761</td>\n",
       "      <td>3671</td>\n",
       "      <td>20806</td>\n",
       "      <td>3511</td>\n",
       "      <td>15249</td>\n",
       "      <td>2046</td>\n",
       "      <td>NaN</td>\n",
       "    </tr>\n",
       "    <tr>\n",
       "      <th>75</th>\n",
       "      <td>2016</td>\n",
       "      <td>AK</td>\n",
       "      <td>741522</td>\n",
       "      <td>5966</td>\n",
       "      <td>52</td>\n",
       "      <td>754.0</td>\n",
       "      <td>1053.0</td>\n",
       "      <td>850</td>\n",
       "      <td>4011</td>\n",
       "      <td>24876</td>\n",
       "      <td>4053</td>\n",
       "      <td>17766</td>\n",
       "      <td>3057</td>\n",
       "      <td>NaN</td>\n",
       "    </tr>\n",
       "    <tr>\n",
       "      <th>76</th>\n",
       "      <td>2017</td>\n",
       "      <td>AK</td>\n",
       "      <td>739786</td>\n",
       "      <td>6338</td>\n",
       "      <td>62</td>\n",
       "      <td>NaN</td>\n",
       "      <td>1074.0</td>\n",
       "      <td>952</td>\n",
       "      <td>4250</td>\n",
       "      <td>26203</td>\n",
       "      <td>4167</td>\n",
       "      <td>17782</td>\n",
       "      <td>4254</td>\n",
       "      <td>NaN</td>\n",
       "    </tr>\n",
       "    <tr>\n",
       "      <th>77</th>\n",
       "      <td>2018</td>\n",
       "      <td>AK</td>\n",
       "      <td>737438</td>\n",
       "      <td>6526</td>\n",
       "      <td>47</td>\n",
       "      <td>NaN</td>\n",
       "      <td>1192.0</td>\n",
       "      <td>896</td>\n",
       "      <td>4391</td>\n",
       "      <td>24339</td>\n",
       "      <td>3979</td>\n",
       "      <td>16364</td>\n",
       "      <td>3996</td>\n",
       "      <td>NaN</td>\n",
       "    </tr>\n",
       "    <tr>\n",
       "      <th>113</th>\n",
       "      <td>2014</td>\n",
       "      <td>AL</td>\n",
       "      <td>4846411</td>\n",
       "      <td>20727</td>\n",
       "      <td>276</td>\n",
       "      <td>1425.0</td>\n",
       "      <td>2005.0</td>\n",
       "      <td>4702</td>\n",
       "      <td>13744</td>\n",
       "      <td>154087</td>\n",
       "      <td>39723</td>\n",
       "      <td>104223</td>\n",
       "      <td>10141</td>\n",
       "      <td>NaN</td>\n",
       "    </tr>\n",
       "    <tr>\n",
       "      <th>114</th>\n",
       "      <td>2015</td>\n",
       "      <td>AL</td>\n",
       "      <td>4853875</td>\n",
       "      <td>22957</td>\n",
       "      <td>348</td>\n",
       "      <td>1449.0</td>\n",
       "      <td>2037.0</td>\n",
       "      <td>4612</td>\n",
       "      <td>15960</td>\n",
       "      <td>144785</td>\n",
       "      <td>35265</td>\n",
       "      <td>99182</td>\n",
       "      <td>10338</td>\n",
       "      <td>NaN</td>\n",
       "    </tr>\n",
       "  </tbody>\n",
       "</table>\n",
       "</div>"
      ],
      "text/plain": [
       "     year state_abbr  population  violent_crime  homicide  rape_legacy  \\\n",
       "35   2014        NaN   318907401        1153022     14164      84864.0   \n",
       "36   2015        NaN   320896618        1199310     15883      91261.0   \n",
       "37   2016        NaN   323405935        1285606     17413      96970.0   \n",
       "73   2014         AK      737046           4684        41        553.0   \n",
       "74   2015         AK      737709           5391        59        648.0   \n",
       "75   2016         AK      741522           5966        52        754.0   \n",
       "76   2017         AK      739786           6338        62          NaN   \n",
       "77   2018         AK      737438           6526        47          NaN   \n",
       "113  2014         AL     4846411          20727       276       1425.0   \n",
       "114  2015         AL     4853875          22957       348       1449.0   \n",
       "\n",
       "     rape_revised  robbery  aggravated_assault  property_crime  burglary  \\\n",
       "35       118027.0   322905              731089         8209010   1713153   \n",
       "36       126134.0   328109              764057         8024115   1587564   \n",
       "37       132414.0   332797              802982         7928530   1516405   \n",
       "73          771.0      629                3243           20334      3150   \n",
       "74          900.0      761                3671           20806      3511   \n",
       "75         1053.0      850                4011           24876      4053   \n",
       "76         1074.0      952                4250           26203      4167   \n",
       "77         1192.0      896                4391           24339      3979   \n",
       "113        2005.0     4702               13744          154087     39723   \n",
       "114        2037.0     4612               15960          144785     35265   \n",
       "\n",
       "     larceny  motor_vehicle_theft caveats  \n",
       "35   5809054               686803     NaN  \n",
       "36   5723488               713063     NaN  \n",
       "37   5644835               767290     NaN  \n",
       "73     15445                 1739     NaN  \n",
       "74     15249                 2046     NaN  \n",
       "75     17766                 3057     NaN  \n",
       "76     17782                 4254     NaN  \n",
       "77     16364                 3996     NaN  \n",
       "113   104223                10141     NaN  \n",
       "114    99182                10338     NaN  "
      ]
     },
     "execution_count": 7,
     "metadata": {},
     "output_type": "execute_result"
    }
   ],
   "source": [
    "crime_data_df.dropna(subset=['state_abbr'], how='any')\n",
    "crime_data_df.head(10)"
   ]
  },
  {
   "cell_type": "code",
   "execution_count": 8,
   "metadata": {},
   "outputs": [
    {
     "data": {
      "text/plain": [
       "year                   260\n",
       "state_abbr             255\n",
       "population             260\n",
       "violent_crime          260\n",
       "homicide               260\n",
       "rape_revised           260\n",
       "robbery                260\n",
       "aggravated_assault     260\n",
       "property_crime         260\n",
       "burglary               260\n",
       "larceny                260\n",
       "motor_vehicle_theft    260\n",
       "dtype: int64"
      ]
     },
     "execution_count": 8,
     "metadata": {},
     "output_type": "execute_result"
    }
   ],
   "source": [
    "crime_data_df = crime_data_df.drop(columns={\"rape_legacy\", \"caveats\"})\n",
    "crime_data_df.count()"
   ]
  },
  {
   "cell_type": "code",
   "execution_count": 9,
   "metadata": {},
   "outputs": [
    {
     "data": {
      "text/html": [
       "<div>\n",
       "<style scoped>\n",
       "    .dataframe tbody tr th:only-of-type {\n",
       "        vertical-align: middle;\n",
       "    }\n",
       "\n",
       "    .dataframe tbody tr th {\n",
       "        vertical-align: top;\n",
       "    }\n",
       "\n",
       "    .dataframe thead th {\n",
       "        text-align: right;\n",
       "    }\n",
       "</style>\n",
       "<table border=\"1\" class=\"dataframe\">\n",
       "  <thead>\n",
       "    <tr style=\"text-align: right;\">\n",
       "      <th></th>\n",
       "      <th>year</th>\n",
       "      <th>state_abbr</th>\n",
       "      <th>population</th>\n",
       "      <th>violent_crime</th>\n",
       "      <th>homicide</th>\n",
       "      <th>rape_revised</th>\n",
       "      <th>robbery</th>\n",
       "      <th>aggravated_assault</th>\n",
       "      <th>property_crime</th>\n",
       "      <th>burglary</th>\n",
       "      <th>larceny</th>\n",
       "      <th>motor_vehicle_theft</th>\n",
       "      <th>Total Crimes per 100k</th>\n",
       "    </tr>\n",
       "  </thead>\n",
       "  <tbody>\n",
       "    <tr>\n",
       "      <th>35</th>\n",
       "      <td>2014</td>\n",
       "      <td>NaN</td>\n",
       "      <td>318907401</td>\n",
       "      <td>1153022</td>\n",
       "      <td>14164</td>\n",
       "      <td>118027.0</td>\n",
       "      <td>322905</td>\n",
       "      <td>731089</td>\n",
       "      <td>8209010</td>\n",
       "      <td>1713153</td>\n",
       "      <td>5809054</td>\n",
       "      <td>686803</td>\n",
       "      <td>187.57227</td>\n",
       "    </tr>\n",
       "    <tr>\n",
       "      <th>36</th>\n",
       "      <td>2015</td>\n",
       "      <td>NaN</td>\n",
       "      <td>320896618</td>\n",
       "      <td>1199310</td>\n",
       "      <td>15883</td>\n",
       "      <td>126134.0</td>\n",
       "      <td>328109</td>\n",
       "      <td>764057</td>\n",
       "      <td>8024115</td>\n",
       "      <td>1587564</td>\n",
       "      <td>5723488</td>\n",
       "      <td>713063</td>\n",
       "      <td>184.81723</td>\n",
       "    </tr>\n",
       "    <tr>\n",
       "      <th>37</th>\n",
       "      <td>2016</td>\n",
       "      <td>NaN</td>\n",
       "      <td>323405935</td>\n",
       "      <td>1285606</td>\n",
       "      <td>17413</td>\n",
       "      <td>132414.0</td>\n",
       "      <td>332797</td>\n",
       "      <td>802982</td>\n",
       "      <td>7928530</td>\n",
       "      <td>1516405</td>\n",
       "      <td>5644835</td>\n",
       "      <td>767290</td>\n",
       "      <td>184.28272</td>\n",
       "    </tr>\n",
       "    <tr>\n",
       "      <th>73</th>\n",
       "      <td>2014</td>\n",
       "      <td>AK</td>\n",
       "      <td>737046</td>\n",
       "      <td>4684</td>\n",
       "      <td>41</td>\n",
       "      <td>771.0</td>\n",
       "      <td>629</td>\n",
       "      <td>3243</td>\n",
       "      <td>20334</td>\n",
       "      <td>3150</td>\n",
       "      <td>15445</td>\n",
       "      <td>1739</td>\n",
       "      <td>0.50036</td>\n",
       "    </tr>\n",
       "    <tr>\n",
       "      <th>74</th>\n",
       "      <td>2015</td>\n",
       "      <td>AK</td>\n",
       "      <td>737709</td>\n",
       "      <td>5391</td>\n",
       "      <td>59</td>\n",
       "      <td>900.0</td>\n",
       "      <td>761</td>\n",
       "      <td>3671</td>\n",
       "      <td>20806</td>\n",
       "      <td>3511</td>\n",
       "      <td>15249</td>\n",
       "      <td>2046</td>\n",
       "      <td>0.52394</td>\n",
       "    </tr>\n",
       "  </tbody>\n",
       "</table>\n",
       "</div>"
      ],
      "text/plain": [
       "    year state_abbr  population  violent_crime  homicide  rape_revised  \\\n",
       "35  2014        NaN   318907401        1153022     14164      118027.0   \n",
       "36  2015        NaN   320896618        1199310     15883      126134.0   \n",
       "37  2016        NaN   323405935        1285606     17413      132414.0   \n",
       "73  2014         AK      737046           4684        41         771.0   \n",
       "74  2015         AK      737709           5391        59         900.0   \n",
       "\n",
       "    robbery  aggravated_assault  property_crime  burglary  larceny  \\\n",
       "35   322905              731089         8209010   1713153  5809054   \n",
       "36   328109              764057         8024115   1587564  5723488   \n",
       "37   332797              802982         7928530   1516405  5644835   \n",
       "73      629                3243           20334      3150    15445   \n",
       "74      761                3671           20806      3511    15249   \n",
       "\n",
       "    motor_vehicle_theft  Total Crimes per 100k  \n",
       "35               686803              187.57227  \n",
       "36               713063              184.81723  \n",
       "37               767290              184.28272  \n",
       "73                 1739                0.50036  \n",
       "74                 2046                0.52394  "
      ]
     },
     "execution_count": 9,
     "metadata": {},
     "output_type": "execute_result"
    }
   ],
   "source": [
    "crime_data_df[\"Total Crimes per 100k\"] = (crime_data_df[\"violent_crime\"] + crime_data_df[\"homicide\"]\n",
    "+ crime_data_df[\"rape_revised\"] + crime_data_df[\"robbery\"] \n",
    "+ crime_data_df[\"aggravated_assault\"] + crime_data_df[\"property_crime\"] \n",
    "+ crime_data_df[\"burglary\"] + crime_data_df[\"larceny\"] \n",
    "+ crime_data_df[\"motor_vehicle_theft\"]) / 100000\n",
    "crime_data_df.head()"
   ]
  },
  {
   "cell_type": "code",
   "execution_count": 10,
   "metadata": {},
   "outputs": [
    {
     "name": "stdout",
     "output_type": "stream",
     "text": [
      "<class 'pandas.core.frame.DataFrame'>\n",
      "Int64Index: 260 entries, 35 to 2063\n",
      "Data columns (total 13 columns):\n",
      " #   Column                 Non-Null Count  Dtype  \n",
      "---  ------                 --------------  -----  \n",
      " 0   year                   260 non-null    int64  \n",
      " 1   state_abbr             255 non-null    object \n",
      " 2   population             260 non-null    int64  \n",
      " 3   violent_crime          260 non-null    int64  \n",
      " 4   homicide               260 non-null    int64  \n",
      " 5   rape_revised           260 non-null    float64\n",
      " 6   robbery                260 non-null    int64  \n",
      " 7   aggravated_assault     260 non-null    int64  \n",
      " 8   property_crime         260 non-null    int64  \n",
      " 9   burglary               260 non-null    int64  \n",
      " 10  larceny                260 non-null    int64  \n",
      " 11  motor_vehicle_theft    260 non-null    int64  \n",
      " 12  Total Crimes per 100k  260 non-null    float64\n",
      "dtypes: float64(2), int64(10), object(1)\n",
      "memory usage: 28.4+ KB\n"
     ]
    }
   ],
   "source": [
    "crime_data_df.info()"
   ]
  },
  {
   "cell_type": "code",
   "execution_count": 11,
   "metadata": {},
   "outputs": [
    {
     "data": {
      "text/html": [
       "<div>\n",
       "<style scoped>\n",
       "    .dataframe tbody tr th:only-of-type {\n",
       "        vertical-align: middle;\n",
       "    }\n",
       "\n",
       "    .dataframe tbody tr th {\n",
       "        vertical-align: top;\n",
       "    }\n",
       "\n",
       "    .dataframe thead th {\n",
       "        text-align: right;\n",
       "    }\n",
       "</style>\n",
       "<table border=\"1\" class=\"dataframe\">\n",
       "  <thead>\n",
       "    <tr style=\"text-align: right;\">\n",
       "      <th></th>\n",
       "      <th>year</th>\n",
       "      <th>Stabr</th>\n",
       "      <th>Total Crimes per 100k</th>\n",
       "    </tr>\n",
       "  </thead>\n",
       "  <tbody>\n",
       "    <tr>\n",
       "      <th>35</th>\n",
       "      <td>2014</td>\n",
       "      <td>NaN</td>\n",
       "      <td>187.57227</td>\n",
       "    </tr>\n",
       "    <tr>\n",
       "      <th>36</th>\n",
       "      <td>2015</td>\n",
       "      <td>NaN</td>\n",
       "      <td>184.81723</td>\n",
       "    </tr>\n",
       "    <tr>\n",
       "      <th>37</th>\n",
       "      <td>2016</td>\n",
       "      <td>NaN</td>\n",
       "      <td>184.28272</td>\n",
       "    </tr>\n",
       "    <tr>\n",
       "      <th>73</th>\n",
       "      <td>2014</td>\n",
       "      <td>AK</td>\n",
       "      <td>0.50036</td>\n",
       "    </tr>\n",
       "    <tr>\n",
       "      <th>74</th>\n",
       "      <td>2015</td>\n",
       "      <td>AK</td>\n",
       "      <td>0.52394</td>\n",
       "    </tr>\n",
       "    <tr>\n",
       "      <th>75</th>\n",
       "      <td>2016</td>\n",
       "      <td>AK</td>\n",
       "      <td>0.61684</td>\n",
       "    </tr>\n",
       "    <tr>\n",
       "      <th>76</th>\n",
       "      <td>2017</td>\n",
       "      <td>AK</td>\n",
       "      <td>0.65082</td>\n",
       "    </tr>\n",
       "    <tr>\n",
       "      <th>77</th>\n",
       "      <td>2018</td>\n",
       "      <td>AK</td>\n",
       "      <td>0.61730</td>\n",
       "    </tr>\n",
       "    <tr>\n",
       "      <th>113</th>\n",
       "      <td>2014</td>\n",
       "      <td>AL</td>\n",
       "      <td>3.49628</td>\n",
       "    </tr>\n",
       "    <tr>\n",
       "      <th>114</th>\n",
       "      <td>2015</td>\n",
       "      <td>AL</td>\n",
       "      <td>3.35484</td>\n",
       "    </tr>\n",
       "    <tr>\n",
       "      <th>115</th>\n",
       "      <td>2016</td>\n",
       "      <td>AL</td>\n",
       "      <td>3.38274</td>\n",
       "    </tr>\n",
       "    <tr>\n",
       "      <th>116</th>\n",
       "      <td>2017</td>\n",
       "      <td>AL</td>\n",
       "      <td>3.38486</td>\n",
       "    </tr>\n",
       "    <tr>\n",
       "      <th>117</th>\n",
       "      <td>2018</td>\n",
       "      <td>AL</td>\n",
       "      <td>3.26198</td>\n",
       "    </tr>\n",
       "    <tr>\n",
       "      <th>153</th>\n",
       "      <td>2014</td>\n",
       "      <td>AR</td>\n",
       "      <td>2.27400</td>\n",
       "    </tr>\n",
       "    <tr>\n",
       "      <th>154</th>\n",
       "      <td>2015</td>\n",
       "      <td>AR</td>\n",
       "      <td>2.26320</td>\n",
       "    </tr>\n",
       "    <tr>\n",
       "      <th>155</th>\n",
       "      <td>2016</td>\n",
       "      <td>AR</td>\n",
       "      <td>2.29310</td>\n",
       "    </tr>\n",
       "    <tr>\n",
       "      <th>156</th>\n",
       "      <td>2017</td>\n",
       "      <td>AR</td>\n",
       "      <td>2.22830</td>\n",
       "    </tr>\n",
       "    <tr>\n",
       "      <th>157</th>\n",
       "      <td>2018</td>\n",
       "      <td>AR</td>\n",
       "      <td>2.08354</td>\n",
       "    </tr>\n",
       "    <tr>\n",
       "      <th>193</th>\n",
       "      <td>2014</td>\n",
       "      <td>AZ</td>\n",
       "      <td>4.79656</td>\n",
       "    </tr>\n",
       "    <tr>\n",
       "      <th>194</th>\n",
       "      <td>2015</td>\n",
       "      <td>AZ</td>\n",
       "      <td>4.70304</td>\n",
       "    </tr>\n",
       "  </tbody>\n",
       "</table>\n",
       "</div>"
      ],
      "text/plain": [
       "     year Stabr  Total Crimes per 100k\n",
       "35   2014   NaN              187.57227\n",
       "36   2015   NaN              184.81723\n",
       "37   2016   NaN              184.28272\n",
       "73   2014    AK                0.50036\n",
       "74   2015    AK                0.52394\n",
       "75   2016    AK                0.61684\n",
       "76   2017    AK                0.65082\n",
       "77   2018    AK                0.61730\n",
       "113  2014    AL                3.49628\n",
       "114  2015    AL                3.35484\n",
       "115  2016    AL                3.38274\n",
       "116  2017    AL                3.38486\n",
       "117  2018    AL                3.26198\n",
       "153  2014    AR                2.27400\n",
       "154  2015    AR                2.26320\n",
       "155  2016    AR                2.29310\n",
       "156  2017    AR                2.22830\n",
       "157  2018    AR                2.08354\n",
       "193  2014    AZ                4.79656\n",
       "194  2015    AZ                4.70304"
      ]
     },
     "execution_count": 11,
     "metadata": {},
     "output_type": "execute_result"
    }
   ],
   "source": [
    "crime_data_df_clean = crime_data_df[[\"year\", \"state_abbr\", \"Total Crimes per 100k\"]]\n",
    "crime_data_df_clean = crime_data_df_clean.rename(columns={\"state_abbr\": \"Stabr\"})\n",
    "crime_data_df_clean.head(20)"
   ]
  },
  {
   "cell_type": "code",
   "execution_count": 12,
   "metadata": {},
   "outputs": [
    {
     "data": {
      "text/plain": [
       "Stabr\n",
       "AK     0.581852\n",
       "AL     3.376140\n",
       "AR     2.228428\n",
       "AZ     4.726068\n",
       "CA    23.015516\n",
       "CO     3.330256\n",
       "CT     1.455180\n",
       "DC     0.789492\n",
       "DE     0.593608\n",
       "FL    12.649016\n",
       "GA     6.881760\n",
       "HI     0.968036\n",
       "IA     1.431668\n",
       "ID     0.647616\n",
       "IL     6.208352\n",
       "IN     3.791596\n",
       "KS     1.825092\n",
       "KY     2.113416\n",
       "LA     3.640164\n",
       "MA     2.633612\n",
       "MD     3.331336\n",
       "ME     0.476780\n",
       "MI     4.596404\n",
       "MN     2.657164\n",
       "MO     4.034160\n",
       "MS     1.797260\n",
       "MT     0.614296\n",
       "NC     6.184448\n",
       "ND     0.373220\n",
       "NE     0.979216\n",
       "NH     0.473340\n",
       "NJ     3.244400\n",
       "NM     1.846048\n",
       "NV     1.884424\n",
       "NY     7.604452\n",
       "OH     6.531456\n",
       "OK     2.654028\n",
       "OR     2.655856\n",
       "PA     5.210824\n",
       "RI     0.441124\n",
       "SC     3.721176\n",
       "SD     0.395532\n",
       "TN     4.747576\n",
       "TX    17.404372\n",
       "UT     1.852316\n",
       "VA     3.431976\n",
       "VT     0.201060\n",
       "WA     5.326752\n",
       "WI     2.520212\n",
       "WV     0.817300\n",
       "WY     0.245544\n",
       "Name: Total Crimes per 100k, dtype: float64"
      ]
     },
     "execution_count": 12,
     "metadata": {},
     "output_type": "execute_result"
    }
   ],
   "source": [
    "state_merge = crime_data_df_clean.groupby([\"Stabr\"])\n",
    "avg_crime = state_merge[\"Total Crimes per 100k\"].mean()\n",
    "avg_crime"
   ]
  },
  {
   "cell_type": "code",
   "execution_count": 13,
   "metadata": {},
   "outputs": [
    {
     "data": {
      "text/html": [
       "<div>\n",
       "<style scoped>\n",
       "    .dataframe tbody tr th:only-of-type {\n",
       "        vertical-align: middle;\n",
       "    }\n",
       "\n",
       "    .dataframe tbody tr th {\n",
       "        vertical-align: top;\n",
       "    }\n",
       "\n",
       "    .dataframe thead th {\n",
       "        text-align: right;\n",
       "    }\n",
       "</style>\n",
       "<table border=\"1\" class=\"dataframe\">\n",
       "  <thead>\n",
       "    <tr style=\"text-align: right;\">\n",
       "      <th></th>\n",
       "      <th>Stabr</th>\n",
       "      <th>Total Crimes per 100k</th>\n",
       "    </tr>\n",
       "  </thead>\n",
       "  <tbody>\n",
       "    <tr>\n",
       "      <th>0</th>\n",
       "      <td>AK</td>\n",
       "      <td>0.581852</td>\n",
       "    </tr>\n",
       "    <tr>\n",
       "      <th>1</th>\n",
       "      <td>AL</td>\n",
       "      <td>3.376140</td>\n",
       "    </tr>\n",
       "    <tr>\n",
       "      <th>2</th>\n",
       "      <td>AR</td>\n",
       "      <td>2.228428</td>\n",
       "    </tr>\n",
       "    <tr>\n",
       "      <th>3</th>\n",
       "      <td>AZ</td>\n",
       "      <td>4.726068</td>\n",
       "    </tr>\n",
       "    <tr>\n",
       "      <th>4</th>\n",
       "      <td>CA</td>\n",
       "      <td>23.015516</td>\n",
       "    </tr>\n",
       "    <tr>\n",
       "      <th>5</th>\n",
       "      <td>CO</td>\n",
       "      <td>3.330256</td>\n",
       "    </tr>\n",
       "    <tr>\n",
       "      <th>6</th>\n",
       "      <td>CT</td>\n",
       "      <td>1.455180</td>\n",
       "    </tr>\n",
       "    <tr>\n",
       "      <th>7</th>\n",
       "      <td>DC</td>\n",
       "      <td>0.789492</td>\n",
       "    </tr>\n",
       "    <tr>\n",
       "      <th>8</th>\n",
       "      <td>DE</td>\n",
       "      <td>0.593608</td>\n",
       "    </tr>\n",
       "    <tr>\n",
       "      <th>9</th>\n",
       "      <td>FL</td>\n",
       "      <td>12.649016</td>\n",
       "    </tr>\n",
       "    <tr>\n",
       "      <th>10</th>\n",
       "      <td>GA</td>\n",
       "      <td>6.881760</td>\n",
       "    </tr>\n",
       "    <tr>\n",
       "      <th>11</th>\n",
       "      <td>HI</td>\n",
       "      <td>0.968036</td>\n",
       "    </tr>\n",
       "    <tr>\n",
       "      <th>12</th>\n",
       "      <td>IA</td>\n",
       "      <td>1.431668</td>\n",
       "    </tr>\n",
       "    <tr>\n",
       "      <th>13</th>\n",
       "      <td>ID</td>\n",
       "      <td>0.647616</td>\n",
       "    </tr>\n",
       "    <tr>\n",
       "      <th>14</th>\n",
       "      <td>IL</td>\n",
       "      <td>6.208352</td>\n",
       "    </tr>\n",
       "    <tr>\n",
       "      <th>15</th>\n",
       "      <td>IN</td>\n",
       "      <td>3.791596</td>\n",
       "    </tr>\n",
       "    <tr>\n",
       "      <th>16</th>\n",
       "      <td>KS</td>\n",
       "      <td>1.825092</td>\n",
       "    </tr>\n",
       "    <tr>\n",
       "      <th>17</th>\n",
       "      <td>KY</td>\n",
       "      <td>2.113416</td>\n",
       "    </tr>\n",
       "    <tr>\n",
       "      <th>18</th>\n",
       "      <td>LA</td>\n",
       "      <td>3.640164</td>\n",
       "    </tr>\n",
       "    <tr>\n",
       "      <th>19</th>\n",
       "      <td>MA</td>\n",
       "      <td>2.633612</td>\n",
       "    </tr>\n",
       "    <tr>\n",
       "      <th>20</th>\n",
       "      <td>MD</td>\n",
       "      <td>3.331336</td>\n",
       "    </tr>\n",
       "    <tr>\n",
       "      <th>21</th>\n",
       "      <td>ME</td>\n",
       "      <td>0.476780</td>\n",
       "    </tr>\n",
       "    <tr>\n",
       "      <th>22</th>\n",
       "      <td>MI</td>\n",
       "      <td>4.596404</td>\n",
       "    </tr>\n",
       "    <tr>\n",
       "      <th>23</th>\n",
       "      <td>MN</td>\n",
       "      <td>2.657164</td>\n",
       "    </tr>\n",
       "    <tr>\n",
       "      <th>24</th>\n",
       "      <td>MO</td>\n",
       "      <td>4.034160</td>\n",
       "    </tr>\n",
       "    <tr>\n",
       "      <th>25</th>\n",
       "      <td>MS</td>\n",
       "      <td>1.797260</td>\n",
       "    </tr>\n",
       "    <tr>\n",
       "      <th>26</th>\n",
       "      <td>MT</td>\n",
       "      <td>0.614296</td>\n",
       "    </tr>\n",
       "    <tr>\n",
       "      <th>27</th>\n",
       "      <td>NC</td>\n",
       "      <td>6.184448</td>\n",
       "    </tr>\n",
       "    <tr>\n",
       "      <th>28</th>\n",
       "      <td>ND</td>\n",
       "      <td>0.373220</td>\n",
       "    </tr>\n",
       "    <tr>\n",
       "      <th>29</th>\n",
       "      <td>NE</td>\n",
       "      <td>0.979216</td>\n",
       "    </tr>\n",
       "    <tr>\n",
       "      <th>30</th>\n",
       "      <td>NH</td>\n",
       "      <td>0.473340</td>\n",
       "    </tr>\n",
       "    <tr>\n",
       "      <th>31</th>\n",
       "      <td>NJ</td>\n",
       "      <td>3.244400</td>\n",
       "    </tr>\n",
       "    <tr>\n",
       "      <th>32</th>\n",
       "      <td>NM</td>\n",
       "      <td>1.846048</td>\n",
       "    </tr>\n",
       "    <tr>\n",
       "      <th>33</th>\n",
       "      <td>NV</td>\n",
       "      <td>1.884424</td>\n",
       "    </tr>\n",
       "    <tr>\n",
       "      <th>34</th>\n",
       "      <td>NY</td>\n",
       "      <td>7.604452</td>\n",
       "    </tr>\n",
       "    <tr>\n",
       "      <th>35</th>\n",
       "      <td>OH</td>\n",
       "      <td>6.531456</td>\n",
       "    </tr>\n",
       "    <tr>\n",
       "      <th>36</th>\n",
       "      <td>OK</td>\n",
       "      <td>2.654028</td>\n",
       "    </tr>\n",
       "    <tr>\n",
       "      <th>37</th>\n",
       "      <td>OR</td>\n",
       "      <td>2.655856</td>\n",
       "    </tr>\n",
       "    <tr>\n",
       "      <th>38</th>\n",
       "      <td>PA</td>\n",
       "      <td>5.210824</td>\n",
       "    </tr>\n",
       "    <tr>\n",
       "      <th>39</th>\n",
       "      <td>RI</td>\n",
       "      <td>0.441124</td>\n",
       "    </tr>\n",
       "    <tr>\n",
       "      <th>40</th>\n",
       "      <td>SC</td>\n",
       "      <td>3.721176</td>\n",
       "    </tr>\n",
       "    <tr>\n",
       "      <th>41</th>\n",
       "      <td>SD</td>\n",
       "      <td>0.395532</td>\n",
       "    </tr>\n",
       "    <tr>\n",
       "      <th>42</th>\n",
       "      <td>TN</td>\n",
       "      <td>4.747576</td>\n",
       "    </tr>\n",
       "    <tr>\n",
       "      <th>43</th>\n",
       "      <td>TX</td>\n",
       "      <td>17.404372</td>\n",
       "    </tr>\n",
       "    <tr>\n",
       "      <th>44</th>\n",
       "      <td>UT</td>\n",
       "      <td>1.852316</td>\n",
       "    </tr>\n",
       "    <tr>\n",
       "      <th>45</th>\n",
       "      <td>VA</td>\n",
       "      <td>3.431976</td>\n",
       "    </tr>\n",
       "    <tr>\n",
       "      <th>46</th>\n",
       "      <td>VT</td>\n",
       "      <td>0.201060</td>\n",
       "    </tr>\n",
       "    <tr>\n",
       "      <th>47</th>\n",
       "      <td>WA</td>\n",
       "      <td>5.326752</td>\n",
       "    </tr>\n",
       "    <tr>\n",
       "      <th>48</th>\n",
       "      <td>WI</td>\n",
       "      <td>2.520212</td>\n",
       "    </tr>\n",
       "    <tr>\n",
       "      <th>49</th>\n",
       "      <td>WV</td>\n",
       "      <td>0.817300</td>\n",
       "    </tr>\n",
       "    <tr>\n",
       "      <th>50</th>\n",
       "      <td>WY</td>\n",
       "      <td>0.245544</td>\n",
       "    </tr>\n",
       "  </tbody>\n",
       "</table>\n",
       "</div>"
      ],
      "text/plain": [
       "   Stabr  Total Crimes per 100k\n",
       "0     AK               0.581852\n",
       "1     AL               3.376140\n",
       "2     AR               2.228428\n",
       "3     AZ               4.726068\n",
       "4     CA              23.015516\n",
       "5     CO               3.330256\n",
       "6     CT               1.455180\n",
       "7     DC               0.789492\n",
       "8     DE               0.593608\n",
       "9     FL              12.649016\n",
       "10    GA               6.881760\n",
       "11    HI               0.968036\n",
       "12    IA               1.431668\n",
       "13    ID               0.647616\n",
       "14    IL               6.208352\n",
       "15    IN               3.791596\n",
       "16    KS               1.825092\n",
       "17    KY               2.113416\n",
       "18    LA               3.640164\n",
       "19    MA               2.633612\n",
       "20    MD               3.331336\n",
       "21    ME               0.476780\n",
       "22    MI               4.596404\n",
       "23    MN               2.657164\n",
       "24    MO               4.034160\n",
       "25    MS               1.797260\n",
       "26    MT               0.614296\n",
       "27    NC               6.184448\n",
       "28    ND               0.373220\n",
       "29    NE               0.979216\n",
       "30    NH               0.473340\n",
       "31    NJ               3.244400\n",
       "32    NM               1.846048\n",
       "33    NV               1.884424\n",
       "34    NY               7.604452\n",
       "35    OH               6.531456\n",
       "36    OK               2.654028\n",
       "37    OR               2.655856\n",
       "38    PA               5.210824\n",
       "39    RI               0.441124\n",
       "40    SC               3.721176\n",
       "41    SD               0.395532\n",
       "42    TN               4.747576\n",
       "43    TX              17.404372\n",
       "44    UT               1.852316\n",
       "45    VA               3.431976\n",
       "46    VT               0.201060\n",
       "47    WA               5.326752\n",
       "48    WI               2.520212\n",
       "49    WV               0.817300\n",
       "50    WY               0.245544"
      ]
     },
     "execution_count": 13,
     "metadata": {},
     "output_type": "execute_result"
    }
   ],
   "source": [
    "avg_crime_df = pd.DataFrame(avg_crime)\n",
    "avg_crime_df = avg_crime_df.reset_index()\n",
    "avg_crime_df"
   ]
  },
  {
   "cell_type": "code",
   "execution_count": 14,
   "metadata": {},
   "outputs": [
    {
     "data": {
      "text/html": [
       "<div>\n",
       "<style scoped>\n",
       "    .dataframe tbody tr th:only-of-type {\n",
       "        vertical-align: middle;\n",
       "    }\n",
       "\n",
       "    .dataframe tbody tr th {\n",
       "        vertical-align: top;\n",
       "    }\n",
       "\n",
       "    .dataframe thead th {\n",
       "        text-align: right;\n",
       "    }\n",
       "</style>\n",
       "<table border=\"1\" class=\"dataframe\">\n",
       "  <thead>\n",
       "    <tr style=\"text-align: right;\">\n",
       "      <th></th>\n",
       "      <th>FIPStxt</th>\n",
       "      <th>Stabr</th>\n",
       "      <th>area_name</th>\n",
       "      <th>Rural_urban_continuum_code_2013</th>\n",
       "      <th>Urban_influence_code_2013</th>\n",
       "      <th>Metro_2013</th>\n",
       "      <th>Civilian_labor_force_2000</th>\n",
       "      <th>Employed_2000</th>\n",
       "      <th>Unemployed_2000</th>\n",
       "      <th>Unemployment_rate_2000</th>\n",
       "      <th>...</th>\n",
       "      <th>Unemployed_2018</th>\n",
       "      <th>Unemployment_rate_2018</th>\n",
       "      <th>Civilian_labor_force_2019</th>\n",
       "      <th>Employed_2019</th>\n",
       "      <th>Unemployed_2019</th>\n",
       "      <th>Unemployment_rate_2019</th>\n",
       "      <th>Median_Household_Income_2018</th>\n",
       "      <th>Med_HH_Income_Percent_of_State_Total_2018</th>\n",
       "      <th>Average Unempl 2014-18</th>\n",
       "      <th>Total Crimes per 100k</th>\n",
       "    </tr>\n",
       "  </thead>\n",
       "  <tbody>\n",
       "    <tr>\n",
       "      <th>0</th>\n",
       "      <td>1000</td>\n",
       "      <td>AL</td>\n",
       "      <td>Alabama</td>\n",
       "      <td>NaN</td>\n",
       "      <td>NaN</td>\n",
       "      <td>NaN</td>\n",
       "      <td>2,133,223</td>\n",
       "      <td>2,035,594</td>\n",
       "      <td>97,629</td>\n",
       "      <td>4.6</td>\n",
       "      <td>...</td>\n",
       "      <td>85,782</td>\n",
       "      <td>3.9</td>\n",
       "      <td>2,241,747</td>\n",
       "      <td>2,174,483</td>\n",
       "      <td>67,264</td>\n",
       "      <td>3.0</td>\n",
       "      <td>49,881</td>\n",
       "      <td>100.0</td>\n",
       "      <td>6.73%</td>\n",
       "      <td>3.376140</td>\n",
       "    </tr>\n",
       "    <tr>\n",
       "      <th>1</th>\n",
       "      <td>2000</td>\n",
       "      <td>AK</td>\n",
       "      <td>Alaska</td>\n",
       "      <td>NaN</td>\n",
       "      <td>NaN</td>\n",
       "      <td>NaN</td>\n",
       "      <td>319,511</td>\n",
       "      <td>299,146</td>\n",
       "      <td>20,365</td>\n",
       "      <td>6.4</td>\n",
       "      <td>...</td>\n",
       "      <td>22,761</td>\n",
       "      <td>6.5</td>\n",
       "      <td>347,779</td>\n",
       "      <td>326,430</td>\n",
       "      <td>21,349</td>\n",
       "      <td>6.1</td>\n",
       "      <td>74,912</td>\n",
       "      <td>100.0</td>\n",
       "      <td>8.55%</td>\n",
       "      <td>0.581852</td>\n",
       "    </tr>\n",
       "    <tr>\n",
       "      <th>2</th>\n",
       "      <td>4000</td>\n",
       "      <td>AZ</td>\n",
       "      <td>Arizona</td>\n",
       "      <td>NaN</td>\n",
       "      <td>NaN</td>\n",
       "      <td>NaN</td>\n",
       "      <td>2,509,883</td>\n",
       "      <td>2,410,581</td>\n",
       "      <td>99,302</td>\n",
       "      <td>4.0</td>\n",
       "      <td>...</td>\n",
       "      <td>162,065</td>\n",
       "      <td>4.7</td>\n",
       "      <td>3,551,260</td>\n",
       "      <td>3,384,504</td>\n",
       "      <td>166,756</td>\n",
       "      <td>4.7</td>\n",
       "      <td>59,079</td>\n",
       "      <td>100.0</td>\n",
       "      <td>6.95%</td>\n",
       "      <td>4.726068</td>\n",
       "    </tr>\n",
       "    <tr>\n",
       "      <th>3</th>\n",
       "      <td>5000</td>\n",
       "      <td>AR</td>\n",
       "      <td>Arkansas</td>\n",
       "      <td>NaN</td>\n",
       "      <td>NaN</td>\n",
       "      <td>NaN</td>\n",
       "      <td>1,258,301</td>\n",
       "      <td>1,204,695</td>\n",
       "      <td>53,606</td>\n",
       "      <td>4.3</td>\n",
       "      <td>...</td>\n",
       "      <td>49,310</td>\n",
       "      <td>3.6</td>\n",
       "      <td>1,362,642</td>\n",
       "      <td>1,314,290</td>\n",
       "      <td>48,352</td>\n",
       "      <td>3.5</td>\n",
       "      <td>47,094</td>\n",
       "      <td>100.0</td>\n",
       "      <td>5.58%</td>\n",
       "      <td>2.228428</td>\n",
       "    </tr>\n",
       "    <tr>\n",
       "      <th>4</th>\n",
       "      <td>6000</td>\n",
       "      <td>CA</td>\n",
       "      <td>California</td>\n",
       "      <td>NaN</td>\n",
       "      <td>NaN</td>\n",
       "      <td>NaN</td>\n",
       "      <td>16,867,808</td>\n",
       "      <td>16,033,179</td>\n",
       "      <td>834,629</td>\n",
       "      <td>4.9</td>\n",
       "      <td>...</td>\n",
       "      <td>820,096</td>\n",
       "      <td>4.3</td>\n",
       "      <td>19,411,572</td>\n",
       "      <td>18,627,378</td>\n",
       "      <td>784,194</td>\n",
       "      <td>4.0</td>\n",
       "      <td>75,250</td>\n",
       "      <td>100.0</td>\n",
       "      <td>7.03%</td>\n",
       "      <td>23.015516</td>\n",
       "    </tr>\n",
       "  </tbody>\n",
       "</table>\n",
       "<p>5 rows × 90 columns</p>\n",
       "</div>"
      ],
      "text/plain": [
       "   FIPStxt Stabr   area_name  Rural_urban_continuum_code_2013  \\\n",
       "0     1000    AL     Alabama                              NaN   \n",
       "1     2000    AK      Alaska                              NaN   \n",
       "2     4000    AZ     Arizona                              NaN   \n",
       "3     5000    AR    Arkansas                              NaN   \n",
       "4     6000    CA  California                              NaN   \n",
       "\n",
       "   Urban_influence_code_2013  Metro_2013  Civilian_labor_force_2000   \\\n",
       "0                        NaN         NaN                   2,133,223   \n",
       "1                        NaN         NaN                     319,511   \n",
       "2                        NaN         NaN                   2,509,883   \n",
       "3                        NaN         NaN                   1,258,301   \n",
       "4                        NaN         NaN                  16,867,808   \n",
       "\n",
       "   Employed_2000   Unemployed_2000   Unemployment_rate_2000  ...  \\\n",
       "0       2,035,594            97,629                     4.6  ...   \n",
       "1         299,146            20,365                     6.4  ...   \n",
       "2       2,410,581            99,302                     4.0  ...   \n",
       "3       1,204,695            53,606                     4.3  ...   \n",
       "4      16,033,179           834,629                     4.9  ...   \n",
       "\n",
       "  Unemployed_2018 Unemployment_rate_2018  Civilian_labor_force_2019   \\\n",
       "0          85,782                    3.9                   2,241,747   \n",
       "1          22,761                    6.5                     347,779   \n",
       "2         162,065                    4.7                   3,551,260   \n",
       "3          49,310                    3.6                   1,362,642   \n",
       "4         820,096                    4.3                  19,411,572   \n",
       "\n",
       "    Employed_2019   Unemployed_2019  Unemployment_rate_2019  \\\n",
       "0        2,174,483            67,264                    3.0   \n",
       "1          326,430            21,349                    6.1   \n",
       "2        3,384,504           166,756                    4.7   \n",
       "3        1,314,290            48,352                    3.5   \n",
       "4       18,627,378           784,194                    4.0   \n",
       "\n",
       "  Median_Household_Income_2018  Med_HH_Income_Percent_of_State_Total_2018  \\\n",
       "0                       49,881                                      100.0   \n",
       "1                       74,912                                      100.0   \n",
       "2                       59,079                                      100.0   \n",
       "3                       47,094                                      100.0   \n",
       "4                       75,250                                      100.0   \n",
       "\n",
       "  Average Unempl 2014-18 Total Crimes per 100k  \n",
       "0                  6.73%              3.376140  \n",
       "1                  8.55%              0.581852  \n",
       "2                  6.95%              4.726068  \n",
       "3                  5.58%              2.228428  \n",
       "4                  7.03%             23.015516  \n",
       "\n",
       "[5 rows x 90 columns]"
      ]
     },
     "execution_count": 14,
     "metadata": {},
     "output_type": "execute_result"
    }
   ],
   "source": [
    "avg_crime_and_unemp = pd.merge(unempl_data_clean, avg_crime_df, on=\"Stabr\")\n",
    "avg_crime_and_unemp.head()"
   ]
  },
  {
   "cell_type": "code",
   "execution_count": 15,
   "metadata": {},
   "outputs": [
    {
     "data": {
      "text/html": [
       "<div>\n",
       "<style scoped>\n",
       "    .dataframe tbody tr th:only-of-type {\n",
       "        vertical-align: middle;\n",
       "    }\n",
       "\n",
       "    .dataframe tbody tr th {\n",
       "        vertical-align: top;\n",
       "    }\n",
       "\n",
       "    .dataframe thead th {\n",
       "        text-align: right;\n",
       "    }\n",
       "</style>\n",
       "<table border=\"1\" class=\"dataframe\">\n",
       "  <thead>\n",
       "    <tr style=\"text-align: right;\">\n",
       "      <th></th>\n",
       "      <th>Stabr</th>\n",
       "      <th>area_name</th>\n",
       "      <th>Average Unempl 2014-18</th>\n",
       "      <th>Total Crimes per 100k</th>\n",
       "    </tr>\n",
       "  </thead>\n",
       "  <tbody>\n",
       "    <tr>\n",
       "      <th>0</th>\n",
       "      <td>AL</td>\n",
       "      <td>Alabama</td>\n",
       "      <td>6.73%</td>\n",
       "      <td>3.376140</td>\n",
       "    </tr>\n",
       "    <tr>\n",
       "      <th>1</th>\n",
       "      <td>AK</td>\n",
       "      <td>Alaska</td>\n",
       "      <td>8.55%</td>\n",
       "      <td>0.581852</td>\n",
       "    </tr>\n",
       "    <tr>\n",
       "      <th>2</th>\n",
       "      <td>AZ</td>\n",
       "      <td>Arizona</td>\n",
       "      <td>6.95%</td>\n",
       "      <td>4.726068</td>\n",
       "    </tr>\n",
       "  </tbody>\n",
       "</table>\n",
       "</div>"
      ],
      "text/plain": [
       "  Stabr area_name Average Unempl 2014-18  Total Crimes per 100k\n",
       "0    AL   Alabama                  6.73%               3.376140\n",
       "1    AK    Alaska                  8.55%               0.581852\n",
       "2    AZ   Arizona                  6.95%               4.726068"
      ]
     },
     "execution_count": 15,
     "metadata": {},
     "output_type": "execute_result"
    }
   ],
   "source": [
    "#pick the average column for years 2014-2018\n",
    "unempl_data_mycolm = avg_crime_and_unemp[[\"Stabr\", \"area_name\", \"Average Unempl 2014-18\", \"Total Crimes per 100k\"]]\n",
    "unempl_data_mycolm.head(3)"
   ]
  },
  {
   "cell_type": "code",
   "execution_count": 16,
   "metadata": {},
   "outputs": [
    {
     "data": {
      "text/html": [
       "<div>\n",
       "<style scoped>\n",
       "    .dataframe tbody tr th:only-of-type {\n",
       "        vertical-align: middle;\n",
       "    }\n",
       "\n",
       "    .dataframe tbody tr th {\n",
       "        vertical-align: top;\n",
       "    }\n",
       "\n",
       "    .dataframe thead th {\n",
       "        text-align: right;\n",
       "    }\n",
       "</style>\n",
       "<table border=\"1\" class=\"dataframe\">\n",
       "  <thead>\n",
       "    <tr style=\"text-align: right;\">\n",
       "      <th></th>\n",
       "      <th>area_name</th>\n",
       "      <th>Poverty (2018)</th>\n",
       "      <th>Under 18 in Poverty (2018)</th>\n",
       "    </tr>\n",
       "  </thead>\n",
       "  <tbody>\n",
       "    <tr>\n",
       "      <th>0</th>\n",
       "      <td>Alabama</td>\n",
       "      <td>16.8</td>\n",
       "      <td>23.9</td>\n",
       "    </tr>\n",
       "    <tr>\n",
       "      <th>1</th>\n",
       "      <td>Alaska</td>\n",
       "      <td>11.1</td>\n",
       "      <td>14.5</td>\n",
       "    </tr>\n",
       "    <tr>\n",
       "      <th>2</th>\n",
       "      <td>Arizona</td>\n",
       "      <td>14.1</td>\n",
       "      <td>20.4</td>\n",
       "    </tr>\n",
       "  </tbody>\n",
       "</table>\n",
       "</div>"
      ],
      "text/plain": [
       "  area_name  Poverty (2018)  Under 18 in Poverty (2018)\n",
       "0   Alabama            16.8                        23.9\n",
       "1    Alaska            11.1                        14.5\n",
       "2   Arizona            14.1                        20.4"
      ]
     },
     "execution_count": 16,
     "metadata": {},
     "output_type": "execute_result"
    }
   ],
   "source": [
    "# Kamran poverty work\n",
    "poverty_df = poverty_df.drop(columns={\"Textbox98\", \"Textbox99\", \"total_est_pct_Bmin2\",\n",
    "                                     \"total_est_pct_Bmax2\", \"under18_pct_Bmin2\", \"under18_pct_Bmax2\"})\n",
    "poverty_df = poverty_df.rename(columns={\"state_National\": \"area_name\",\n",
    "                                       \"total_est_pct2\": \"Poverty (2018)\",\n",
    "                                       \"under18_pct2\": \"Under 18 in Poverty (2018)\"})\n",
    "poverty_df.head(3)"
   ]
  },
  {
   "cell_type": "code",
   "execution_count": 17,
   "metadata": {},
   "outputs": [
    {
     "data": {
      "text/html": [
       "<div>\n",
       "<style scoped>\n",
       "    .dataframe tbody tr th:only-of-type {\n",
       "        vertical-align: middle;\n",
       "    }\n",
       "\n",
       "    .dataframe tbody tr th {\n",
       "        vertical-align: top;\n",
       "    }\n",
       "\n",
       "    .dataframe thead th {\n",
       "        text-align: right;\n",
       "    }\n",
       "</style>\n",
       "<table border=\"1\" class=\"dataframe\">\n",
       "  <thead>\n",
       "    <tr style=\"text-align: right;\">\n",
       "      <th></th>\n",
       "      <th>area_name</th>\n",
       "      <th>Poverty (2018)</th>\n",
       "      <th>Under 18 in Poverty (2018)</th>\n",
       "    </tr>\n",
       "  </thead>\n",
       "  <tbody>\n",
       "    <tr>\n",
       "      <th>0</th>\n",
       "      <td>Alabama</td>\n",
       "      <td>16.80%</td>\n",
       "      <td>23.90%</td>\n",
       "    </tr>\n",
       "    <tr>\n",
       "      <th>1</th>\n",
       "      <td>Alaska</td>\n",
       "      <td>11.10%</td>\n",
       "      <td>14.50%</td>\n",
       "    </tr>\n",
       "    <tr>\n",
       "      <th>2</th>\n",
       "      <td>Arizona</td>\n",
       "      <td>14.10%</td>\n",
       "      <td>20.40%</td>\n",
       "    </tr>\n",
       "  </tbody>\n",
       "</table>\n",
       "</div>"
      ],
      "text/plain": [
       "  area_name Poverty (2018) Under 18 in Poverty (2018)\n",
       "0   Alabama         16.80%                     23.90%\n",
       "1    Alaska         11.10%                     14.50%\n",
       "2   Arizona         14.10%                     20.40%"
      ]
     },
     "execution_count": 17,
     "metadata": {},
     "output_type": "execute_result"
    }
   ],
   "source": [
    "#formatting the dataset - add the \"%\" signs\n",
    "poverty_df[\"Poverty (2018)\"] = poverty_df[\"Poverty (2018)\"].map(\"{:.2f}%\".format)\n",
    "poverty_df[\"Under 18 in Poverty (2018)\"] = poverty_df[\"Under 18 in Poverty (2018)\"].map(\"{:.2f}%\".format)\n",
    "poverty_df.head(3)"
   ]
  },
  {
   "cell_type": "code",
   "execution_count": 18,
   "metadata": {},
   "outputs": [
    {
     "data": {
      "text/html": [
       "<div>\n",
       "<style scoped>\n",
       "    .dataframe tbody tr th:only-of-type {\n",
       "        vertical-align: middle;\n",
       "    }\n",
       "\n",
       "    .dataframe tbody tr th {\n",
       "        vertical-align: top;\n",
       "    }\n",
       "\n",
       "    .dataframe thead th {\n",
       "        text-align: right;\n",
       "    }\n",
       "</style>\n",
       "<table border=\"1\" class=\"dataframe\">\n",
       "  <thead>\n",
       "    <tr style=\"text-align: right;\">\n",
       "      <th></th>\n",
       "      <th>state</th>\n",
       "      <th>median_household_income</th>\n",
       "      <th>share_unemployed_seasonal</th>\n",
       "      <th>share_population_in_metro_areas</th>\n",
       "      <th>share_population_with_high_school_degree</th>\n",
       "      <th>share_non_citizen</th>\n",
       "      <th>share_white_poverty</th>\n",
       "      <th>gini_index</th>\n",
       "      <th>share_non_white</th>\n",
       "      <th>share_voters_voted_trump</th>\n",
       "      <th>hate_crimes_per_100k_splc</th>\n",
       "      <th>avg_hatecrimes_per_100k_fbi</th>\n",
       "    </tr>\n",
       "  </thead>\n",
       "  <tbody>\n",
       "    <tr>\n",
       "      <th>0</th>\n",
       "      <td>Alabama</td>\n",
       "      <td>42278</td>\n",
       "      <td>0.060</td>\n",
       "      <td>0.64</td>\n",
       "      <td>0.821</td>\n",
       "      <td>0.02</td>\n",
       "      <td>0.12</td>\n",
       "      <td>0.472</td>\n",
       "      <td>0.35</td>\n",
       "      <td>0.63</td>\n",
       "      <td>0.125839</td>\n",
       "      <td>1.806410</td>\n",
       "    </tr>\n",
       "    <tr>\n",
       "      <th>1</th>\n",
       "      <td>Alaska</td>\n",
       "      <td>67629</td>\n",
       "      <td>0.064</td>\n",
       "      <td>0.63</td>\n",
       "      <td>0.914</td>\n",
       "      <td>0.04</td>\n",
       "      <td>0.06</td>\n",
       "      <td>0.422</td>\n",
       "      <td>0.42</td>\n",
       "      <td>0.53</td>\n",
       "      <td>0.143740</td>\n",
       "      <td>1.656700</td>\n",
       "    </tr>\n",
       "    <tr>\n",
       "      <th>2</th>\n",
       "      <td>Arizona</td>\n",
       "      <td>49254</td>\n",
       "      <td>0.063</td>\n",
       "      <td>0.90</td>\n",
       "      <td>0.842</td>\n",
       "      <td>0.10</td>\n",
       "      <td>0.09</td>\n",
       "      <td>0.455</td>\n",
       "      <td>0.49</td>\n",
       "      <td>0.50</td>\n",
       "      <td>0.225320</td>\n",
       "      <td>3.413928</td>\n",
       "    </tr>\n",
       "  </tbody>\n",
       "</table>\n",
       "</div>"
      ],
      "text/plain": [
       "     state  median_household_income  share_unemployed_seasonal  \\\n",
       "0  Alabama                    42278                      0.060   \n",
       "1   Alaska                    67629                      0.064   \n",
       "2  Arizona                    49254                      0.063   \n",
       "\n",
       "   share_population_in_metro_areas  share_population_with_high_school_degree  \\\n",
       "0                             0.64                                     0.821   \n",
       "1                             0.63                                     0.914   \n",
       "2                             0.90                                     0.842   \n",
       "\n",
       "   share_non_citizen  share_white_poverty  gini_index  share_non_white  \\\n",
       "0               0.02                 0.12       0.472             0.35   \n",
       "1               0.04                 0.06       0.422             0.42   \n",
       "2               0.10                 0.09       0.455             0.49   \n",
       "\n",
       "   share_voters_voted_trump  hate_crimes_per_100k_splc  \\\n",
       "0                      0.63                   0.125839   \n",
       "1                      0.53                   0.143740   \n",
       "2                      0.50                   0.225320   \n",
       "\n",
       "   avg_hatecrimes_per_100k_fbi  \n",
       "0                     1.806410  \n",
       "1                     1.656700  \n",
       "2                     3.413928  "
      ]
     },
     "execution_count": 18,
     "metadata": {},
     "output_type": "execute_result"
    }
   ],
   "source": [
    "#add and read the hate crime file\n",
    "hate_crime_df.head(3)"
   ]
  },
  {
   "cell_type": "code",
   "execution_count": 19,
   "metadata": {},
   "outputs": [
    {
     "data": {
      "text/html": [
       "<div>\n",
       "<style scoped>\n",
       "    .dataframe tbody tr th:only-of-type {\n",
       "        vertical-align: middle;\n",
       "    }\n",
       "\n",
       "    .dataframe tbody tr th {\n",
       "        vertical-align: top;\n",
       "    }\n",
       "\n",
       "    .dataframe thead th {\n",
       "        text-align: right;\n",
       "    }\n",
       "</style>\n",
       "<table border=\"1\" class=\"dataframe\">\n",
       "  <thead>\n",
       "    <tr style=\"text-align: right;\">\n",
       "      <th></th>\n",
       "      <th>area_name</th>\n",
       "      <th>median_household_income</th>\n",
       "      <th>hate_crimes_per_100k_splc</th>\n",
       "    </tr>\n",
       "  </thead>\n",
       "  <tbody>\n",
       "    <tr>\n",
       "      <th>0</th>\n",
       "      <td>Alabama</td>\n",
       "      <td>42278</td>\n",
       "      <td>0.125839</td>\n",
       "    </tr>\n",
       "    <tr>\n",
       "      <th>1</th>\n",
       "      <td>Alaska</td>\n",
       "      <td>67629</td>\n",
       "      <td>0.143740</td>\n",
       "    </tr>\n",
       "    <tr>\n",
       "      <th>2</th>\n",
       "      <td>Arizona</td>\n",
       "      <td>49254</td>\n",
       "      <td>0.225320</td>\n",
       "    </tr>\n",
       "  </tbody>\n",
       "</table>\n",
       "</div>"
      ],
      "text/plain": [
       "  area_name  median_household_income  hate_crimes_per_100k_splc\n",
       "0   Alabama                    42278                   0.125839\n",
       "1    Alaska                    67629                   0.143740\n",
       "2   Arizona                    49254                   0.225320"
      ]
     },
     "execution_count": 19,
     "metadata": {},
     "output_type": "execute_result"
    }
   ],
   "source": [
    "#pick the needed columns from the hate crime file\n",
    "hate_crime_colm = hate_crime_df[[\"state\", \"median_household_income\", \"hate_crimes_per_100k_splc\"]]\n",
    "hate_crime_colm = hate_crime_colm.rename(columns={\"state\" : \"area_name\"})\n",
    "hate_crime_colm.head(3)"
   ]
  },
  {
   "cell_type": "code",
   "execution_count": 20,
   "metadata": {},
   "outputs": [
    {
     "data": {
      "text/html": [
       "<div>\n",
       "<style scoped>\n",
       "    .dataframe tbody tr th:only-of-type {\n",
       "        vertical-align: middle;\n",
       "    }\n",
       "\n",
       "    .dataframe tbody tr th {\n",
       "        vertical-align: top;\n",
       "    }\n",
       "\n",
       "    .dataframe thead th {\n",
       "        text-align: right;\n",
       "    }\n",
       "</style>\n",
       "<table border=\"1\" class=\"dataframe\">\n",
       "  <thead>\n",
       "    <tr style=\"text-align: right;\">\n",
       "      <th></th>\n",
       "      <th>area_name</th>\n",
       "      <th>median_household_income</th>\n",
       "      <th>hate_crimes_per_100k_splc</th>\n",
       "    </tr>\n",
       "  </thead>\n",
       "  <tbody>\n",
       "    <tr>\n",
       "      <th>0</th>\n",
       "      <td>Alabama</td>\n",
       "      <td>$42278.00</td>\n",
       "      <td>0.125839</td>\n",
       "    </tr>\n",
       "    <tr>\n",
       "      <th>1</th>\n",
       "      <td>Alaska</td>\n",
       "      <td>$67629.00</td>\n",
       "      <td>0.143740</td>\n",
       "    </tr>\n",
       "    <tr>\n",
       "      <th>2</th>\n",
       "      <td>Arizona</td>\n",
       "      <td>$49254.00</td>\n",
       "      <td>0.225320</td>\n",
       "    </tr>\n",
       "  </tbody>\n",
       "</table>\n",
       "</div>"
      ],
      "text/plain": [
       "  area_name median_household_income  hate_crimes_per_100k_splc\n",
       "0   Alabama               $42278.00                   0.125839\n",
       "1    Alaska               $67629.00                   0.143740\n",
       "2   Arizona               $49254.00                   0.225320"
      ]
     },
     "execution_count": 20,
     "metadata": {},
     "output_type": "execute_result"
    }
   ],
   "source": [
    "# formatted column\n",
    "hate_crime_colm[\"median_household_income\"] = hate_crime_colm[\"median_household_income\"].map(\"${:.2f}\".format)\n",
    "hate_crime_colm.head(3)"
   ]
  },
  {
   "cell_type": "code",
   "execution_count": 21,
   "metadata": {},
   "outputs": [
    {
     "data": {
      "text/html": [
       "<div>\n",
       "<style scoped>\n",
       "    .dataframe tbody tr th:only-of-type {\n",
       "        vertical-align: middle;\n",
       "    }\n",
       "\n",
       "    .dataframe tbody tr th {\n",
       "        vertical-align: top;\n",
       "    }\n",
       "\n",
       "    .dataframe thead th {\n",
       "        text-align: right;\n",
       "    }\n",
       "</style>\n",
       "<table border=\"1\" class=\"dataframe\">\n",
       "  <thead>\n",
       "    <tr style=\"text-align: right;\">\n",
       "      <th></th>\n",
       "      <th>area_name</th>\n",
       "      <th>Total Edu 2014-18</th>\n",
       "      <th>Total Edu Urban 2024-18</th>\n",
       "      <th>Total Edu Rural 2014-18</th>\n",
       "      <th>Stabr</th>\n",
       "      <th>Average Unempl 2014-18</th>\n",
       "      <th>Total Crimes per 100k</th>\n",
       "    </tr>\n",
       "  </thead>\n",
       "  <tbody>\n",
       "    <tr>\n",
       "      <th>0</th>\n",
       "      <td>Alabama</td>\n",
       "      <td>24.90%</td>\n",
       "      <td>28.00%</td>\n",
       "      <td>15.20%</td>\n",
       "      <td>AL</td>\n",
       "      <td>6.73%</td>\n",
       "      <td>3.376140</td>\n",
       "    </tr>\n",
       "    <tr>\n",
       "      <th>1</th>\n",
       "      <td>Alaska</td>\n",
       "      <td>29.20%</td>\n",
       "      <td>31.80%</td>\n",
       "      <td>23.90%</td>\n",
       "      <td>AK</td>\n",
       "      <td>8.55%</td>\n",
       "      <td>0.581852</td>\n",
       "    </tr>\n",
       "    <tr>\n",
       "      <th>2</th>\n",
       "      <td>Arizona</td>\n",
       "      <td>28.90%</td>\n",
       "      <td>29.60%</td>\n",
       "      <td>15.80%</td>\n",
       "      <td>AZ</td>\n",
       "      <td>6.95%</td>\n",
       "      <td>4.726068</td>\n",
       "    </tr>\n",
       "  </tbody>\n",
       "</table>\n",
       "</div>"
      ],
      "text/plain": [
       "  area_name Total Edu 2014-18 Total Edu Urban 2024-18 Total Edu Rural 2014-18  \\\n",
       "0   Alabama            24.90%                  28.00%                  15.20%   \n",
       "1    Alaska            29.20%                  31.80%                  23.90%   \n",
       "2   Arizona            28.90%                  29.60%                  15.80%   \n",
       "\n",
       "  Stabr Average Unempl 2014-18  Total Crimes per 100k  \n",
       "0    AL                  6.73%               3.376140  \n",
       "1    AK                  8.55%               0.581852  \n",
       "2    AZ                  6.95%               4.726068  "
      ]
     },
     "execution_count": 21,
     "metadata": {},
     "output_type": "execute_result"
    }
   ],
   "source": [
    "# Merge the Education Dataframe with Enemployment Dataframe\n",
    "merged_df = pd.merge(edu_data_final,unempl_data_mycolm, on=\"area_name\")\n",
    "merged_df.head(3)"
   ]
  },
  {
   "cell_type": "code",
   "execution_count": 22,
   "metadata": {},
   "outputs": [
    {
     "data": {
      "text/html": [
       "<div>\n",
       "<style scoped>\n",
       "    .dataframe tbody tr th:only-of-type {\n",
       "        vertical-align: middle;\n",
       "    }\n",
       "\n",
       "    .dataframe tbody tr th {\n",
       "        vertical-align: top;\n",
       "    }\n",
       "\n",
       "    .dataframe thead th {\n",
       "        text-align: right;\n",
       "    }\n",
       "</style>\n",
       "<table border=\"1\" class=\"dataframe\">\n",
       "  <thead>\n",
       "    <tr style=\"text-align: right;\">\n",
       "      <th></th>\n",
       "      <th>area_name</th>\n",
       "      <th>Total Edu 2014-18</th>\n",
       "      <th>Total Edu Urban 2024-18</th>\n",
       "      <th>Total Edu Rural 2014-18</th>\n",
       "      <th>Stabr</th>\n",
       "      <th>Average Unempl 2014-18</th>\n",
       "      <th>Total Crimes per 100k</th>\n",
       "      <th>Poverty (2018)</th>\n",
       "      <th>Under 18 in Poverty (2018)</th>\n",
       "    </tr>\n",
       "  </thead>\n",
       "  <tbody>\n",
       "    <tr>\n",
       "      <th>0</th>\n",
       "      <td>Alabama</td>\n",
       "      <td>24.90%</td>\n",
       "      <td>28.00%</td>\n",
       "      <td>15.20%</td>\n",
       "      <td>AL</td>\n",
       "      <td>6.73%</td>\n",
       "      <td>3.376140</td>\n",
       "      <td>16.80%</td>\n",
       "      <td>23.90%</td>\n",
       "    </tr>\n",
       "    <tr>\n",
       "      <th>1</th>\n",
       "      <td>Alaska</td>\n",
       "      <td>29.20%</td>\n",
       "      <td>31.80%</td>\n",
       "      <td>23.90%</td>\n",
       "      <td>AK</td>\n",
       "      <td>8.55%</td>\n",
       "      <td>0.581852</td>\n",
       "      <td>11.10%</td>\n",
       "      <td>14.50%</td>\n",
       "    </tr>\n",
       "    <tr>\n",
       "      <th>2</th>\n",
       "      <td>Arizona</td>\n",
       "      <td>28.90%</td>\n",
       "      <td>29.60%</td>\n",
       "      <td>15.80%</td>\n",
       "      <td>AZ</td>\n",
       "      <td>6.95%</td>\n",
       "      <td>4.726068</td>\n",
       "      <td>14.10%</td>\n",
       "      <td>20.40%</td>\n",
       "    </tr>\n",
       "  </tbody>\n",
       "</table>\n",
       "</div>"
      ],
      "text/plain": [
       "  area_name Total Edu 2014-18 Total Edu Urban 2024-18 Total Edu Rural 2014-18  \\\n",
       "0   Alabama            24.90%                  28.00%                  15.20%   \n",
       "1    Alaska            29.20%                  31.80%                  23.90%   \n",
       "2   Arizona            28.90%                  29.60%                  15.80%   \n",
       "\n",
       "  Stabr Average Unempl 2014-18  Total Crimes per 100k Poverty (2018)  \\\n",
       "0    AL                  6.73%               3.376140         16.80%   \n",
       "1    AK                  8.55%               0.581852         11.10%   \n",
       "2    AZ                  6.95%               4.726068         14.10%   \n",
       "\n",
       "  Under 18 in Poverty (2018)  \n",
       "0                     23.90%  \n",
       "1                     14.50%  \n",
       "2                     20.40%  "
      ]
     },
     "execution_count": 22,
     "metadata": {},
     "output_type": "execute_result"
    }
   ],
   "source": [
    "#add Poverty Dataframe to the merged data\n",
    "merged_df1 = pd.merge(merged_df, poverty_df, on=\"area_name\")\n",
    "merged_df1.head(3)"
   ]
  },
  {
   "cell_type": "code",
   "execution_count": 23,
   "metadata": {},
   "outputs": [
    {
     "data": {
      "text/html": [
       "<div>\n",
       "<style scoped>\n",
       "    .dataframe tbody tr th:only-of-type {\n",
       "        vertical-align: middle;\n",
       "    }\n",
       "\n",
       "    .dataframe tbody tr th {\n",
       "        vertical-align: top;\n",
       "    }\n",
       "\n",
       "    .dataframe thead th {\n",
       "        text-align: right;\n",
       "    }\n",
       "</style>\n",
       "<table border=\"1\" class=\"dataframe\">\n",
       "  <thead>\n",
       "    <tr style=\"text-align: right;\">\n",
       "      <th></th>\n",
       "      <th>area_name</th>\n",
       "      <th>Total Edu 2014-18</th>\n",
       "      <th>Total Edu Urban 2024-18</th>\n",
       "      <th>Total Edu Rural 2014-18</th>\n",
       "      <th>Stabr</th>\n",
       "      <th>Average Unempl 2014-18</th>\n",
       "      <th>Total Crimes per 100k</th>\n",
       "      <th>Poverty (2018)</th>\n",
       "      <th>Under 18 in Poverty (2018)</th>\n",
       "      <th>median_household_income</th>\n",
       "      <th>hate_crimes_per_100k_splc</th>\n",
       "    </tr>\n",
       "  </thead>\n",
       "  <tbody>\n",
       "    <tr>\n",
       "      <th>0</th>\n",
       "      <td>Alabama</td>\n",
       "      <td>24.90%</td>\n",
       "      <td>28.00%</td>\n",
       "      <td>15.20%</td>\n",
       "      <td>AL</td>\n",
       "      <td>6.73%</td>\n",
       "      <td>3.376140</td>\n",
       "      <td>16.80%</td>\n",
       "      <td>23.90%</td>\n",
       "      <td>$42278.00</td>\n",
       "      <td>0.125839</td>\n",
       "    </tr>\n",
       "    <tr>\n",
       "      <th>1</th>\n",
       "      <td>Alaska</td>\n",
       "      <td>29.20%</td>\n",
       "      <td>31.80%</td>\n",
       "      <td>23.90%</td>\n",
       "      <td>AK</td>\n",
       "      <td>8.55%</td>\n",
       "      <td>0.581852</td>\n",
       "      <td>11.10%</td>\n",
       "      <td>14.50%</td>\n",
       "      <td>$67629.00</td>\n",
       "      <td>0.143740</td>\n",
       "    </tr>\n",
       "    <tr>\n",
       "      <th>2</th>\n",
       "      <td>Arizona</td>\n",
       "      <td>28.90%</td>\n",
       "      <td>29.60%</td>\n",
       "      <td>15.80%</td>\n",
       "      <td>AZ</td>\n",
       "      <td>6.95%</td>\n",
       "      <td>4.726068</td>\n",
       "      <td>14.10%</td>\n",
       "      <td>20.40%</td>\n",
       "      <td>$49254.00</td>\n",
       "      <td>0.225320</td>\n",
       "    </tr>\n",
       "  </tbody>\n",
       "</table>\n",
       "</div>"
      ],
      "text/plain": [
       "  area_name Total Edu 2014-18 Total Edu Urban 2024-18 Total Edu Rural 2014-18  \\\n",
       "0   Alabama            24.90%                  28.00%                  15.20%   \n",
       "1    Alaska            29.20%                  31.80%                  23.90%   \n",
       "2   Arizona            28.90%                  29.60%                  15.80%   \n",
       "\n",
       "  Stabr Average Unempl 2014-18  Total Crimes per 100k Poverty (2018)  \\\n",
       "0    AL                  6.73%               3.376140         16.80%   \n",
       "1    AK                  8.55%               0.581852         11.10%   \n",
       "2    AZ                  6.95%               4.726068         14.10%   \n",
       "\n",
       "  Under 18 in Poverty (2018) median_household_income  \\\n",
       "0                     23.90%               $42278.00   \n",
       "1                     14.50%               $67629.00   \n",
       "2                     20.40%               $49254.00   \n",
       "\n",
       "   hate_crimes_per_100k_splc  \n",
       "0                   0.125839  \n",
       "1                   0.143740  \n",
       "2                   0.225320  "
      ]
     },
     "execution_count": 23,
     "metadata": {},
     "output_type": "execute_result"
    }
   ],
   "source": [
    "#ready for the final code\n",
    "#add the Hate Crime data to the merged dataframe\n",
    "\n",
    "merged_df_2 = pd.merge(merged_df1,hate_crime_colm, on=\"area_name\")\n",
    "merged_df_2.head(3)"
   ]
  },
  {
   "cell_type": "code",
   "execution_count": 24,
   "metadata": {},
   "outputs": [
    {
     "data": {
      "text/html": [
       "<div>\n",
       "<style scoped>\n",
       "    .dataframe tbody tr th:only-of-type {\n",
       "        vertical-align: middle;\n",
       "    }\n",
       "\n",
       "    .dataframe tbody tr th {\n",
       "        vertical-align: top;\n",
       "    }\n",
       "\n",
       "    .dataframe thead th {\n",
       "        text-align: right;\n",
       "    }\n",
       "</style>\n",
       "<table border=\"1\" class=\"dataframe\">\n",
       "  <thead>\n",
       "    <tr style=\"text-align: right;\">\n",
       "      <th></th>\n",
       "      <th>area_name</th>\n",
       "      <th>region</th>\n",
       "    </tr>\n",
       "  </thead>\n",
       "  <tbody>\n",
       "    <tr>\n",
       "      <th>0</th>\n",
       "      <td>Alabama</td>\n",
       "      <td>Southeast</td>\n",
       "    </tr>\n",
       "    <tr>\n",
       "      <th>1</th>\n",
       "      <td>Alaska</td>\n",
       "      <td>West</td>\n",
       "    </tr>\n",
       "    <tr>\n",
       "      <th>2</th>\n",
       "      <td>Arizona</td>\n",
       "      <td>Southwest</td>\n",
       "    </tr>\n",
       "    <tr>\n",
       "      <th>3</th>\n",
       "      <td>Arkansas</td>\n",
       "      <td>Southeast</td>\n",
       "    </tr>\n",
       "    <tr>\n",
       "      <th>4</th>\n",
       "      <td>California</td>\n",
       "      <td>West</td>\n",
       "    </tr>\n",
       "  </tbody>\n",
       "</table>\n",
       "</div>"
      ],
      "text/plain": [
       "    area_name     region\n",
       "0     Alabama  Southeast\n",
       "1      Alaska       West\n",
       "2     Arizona  Southwest\n",
       "3    Arkansas  Southeast\n",
       "4  California       West"
      ]
     },
     "execution_count": 24,
     "metadata": {},
     "output_type": "execute_result"
    }
   ],
   "source": [
    "#add Region csv and merge\n",
    "regions_df.head()"
   ]
  },
  {
   "cell_type": "code",
   "execution_count": 25,
   "metadata": {},
   "outputs": [
    {
     "data": {
      "text/plain": [
       "area_name                      object\n",
       "Total Edu 2014-18              object\n",
       "Total Edu Urban 2024-18        object\n",
       "Total Edu Rural 2014-18        object\n",
       "Stabr                          object\n",
       "Average Unempl 2014-18         object\n",
       "Total Crimes per 100k         float64\n",
       "Poverty (2018)                 object\n",
       "Under 18 in Poverty (2018)     object\n",
       "median_household_income        object\n",
       "hate_crimes_per_100k_splc     float64\n",
       "region                         object\n",
       "dtype: object"
      ]
     },
     "execution_count": 25,
     "metadata": {},
     "output_type": "execute_result"
    }
   ],
   "source": [
    "merged_df_fin = pd.merge(merged_df_2,regions_df, on=\"area_name\")\n",
    "merged_df_fin.dtypes"
   ]
  },
  {
   "cell_type": "code",
   "execution_count": 26,
   "metadata": {},
   "outputs": [
    {
     "data": {
      "text/html": [
       "<div>\n",
       "<style scoped>\n",
       "    .dataframe tbody tr th:only-of-type {\n",
       "        vertical-align: middle;\n",
       "    }\n",
       "\n",
       "    .dataframe tbody tr th {\n",
       "        vertical-align: top;\n",
       "    }\n",
       "\n",
       "    .dataframe thead th {\n",
       "        text-align: right;\n",
       "    }\n",
       "</style>\n",
       "<table border=\"1\" class=\"dataframe\">\n",
       "  <thead>\n",
       "    <tr style=\"text-align: right;\">\n",
       "      <th></th>\n",
       "      <th>area_name</th>\n",
       "      <th>Total Edu 2014-18</th>\n",
       "      <th>Total Edu Urban 2024-18</th>\n",
       "      <th>Total Edu Rural 2014-18</th>\n",
       "      <th>Stabr</th>\n",
       "      <th>Average Unempl 2014-18</th>\n",
       "      <th>Total Crimes per 100k</th>\n",
       "      <th>Poverty (2018)</th>\n",
       "      <th>Under 18 in Poverty (2018)</th>\n",
       "      <th>median_household_income</th>\n",
       "      <th>hate_crimes_per_100k_splc</th>\n",
       "      <th>region</th>\n",
       "    </tr>\n",
       "  </thead>\n",
       "  <tbody>\n",
       "    <tr>\n",
       "      <th>0</th>\n",
       "      <td>Alabama</td>\n",
       "      <td>24.90%</td>\n",
       "      <td>28.00%</td>\n",
       "      <td>15.20%</td>\n",
       "      <td>AL</td>\n",
       "      <td>6.73%</td>\n",
       "      <td>3.376140</td>\n",
       "      <td>16.80%</td>\n",
       "      <td>23.90%</td>\n",
       "      <td>$42278.00</td>\n",
       "      <td>0.125839</td>\n",
       "      <td>Southeast</td>\n",
       "    </tr>\n",
       "    <tr>\n",
       "      <th>1</th>\n",
       "      <td>Alaska</td>\n",
       "      <td>29.20%</td>\n",
       "      <td>31.80%</td>\n",
       "      <td>23.90%</td>\n",
       "      <td>AK</td>\n",
       "      <td>8.55%</td>\n",
       "      <td>0.581852</td>\n",
       "      <td>11.10%</td>\n",
       "      <td>14.50%</td>\n",
       "      <td>$67629.00</td>\n",
       "      <td>0.143740</td>\n",
       "      <td>West</td>\n",
       "    </tr>\n",
       "    <tr>\n",
       "      <th>2</th>\n",
       "      <td>Arizona</td>\n",
       "      <td>28.90%</td>\n",
       "      <td>29.60%</td>\n",
       "      <td>15.80%</td>\n",
       "      <td>AZ</td>\n",
       "      <td>6.95%</td>\n",
       "      <td>4.726068</td>\n",
       "      <td>14.10%</td>\n",
       "      <td>20.40%</td>\n",
       "      <td>$49254.00</td>\n",
       "      <td>0.225320</td>\n",
       "      <td>Southwest</td>\n",
       "    </tr>\n",
       "    <tr>\n",
       "      <th>3</th>\n",
       "      <td>Arkansas</td>\n",
       "      <td>22.60%</td>\n",
       "      <td>26.80%</td>\n",
       "      <td>16.00%</td>\n",
       "      <td>AR</td>\n",
       "      <td>5.58%</td>\n",
       "      <td>2.228428</td>\n",
       "      <td>16.80%</td>\n",
       "      <td>23.80%</td>\n",
       "      <td>$44922.00</td>\n",
       "      <td>0.069061</td>\n",
       "      <td>Southeast</td>\n",
       "    </tr>\n",
       "    <tr>\n",
       "      <th>4</th>\n",
       "      <td>California</td>\n",
       "      <td>33.30%</td>\n",
       "      <td>33.50%</td>\n",
       "      <td>23.20%</td>\n",
       "      <td>CA</td>\n",
       "      <td>7.03%</td>\n",
       "      <td>23.015516</td>\n",
       "      <td>12.80%</td>\n",
       "      <td>17.40%</td>\n",
       "      <td>$60487.00</td>\n",
       "      <td>0.255805</td>\n",
       "      <td>West</td>\n",
       "    </tr>\n",
       "  </tbody>\n",
       "</table>\n",
       "</div>"
      ],
      "text/plain": [
       "    area_name Total Edu 2014-18 Total Edu Urban 2024-18  \\\n",
       "0     Alabama            24.90%                  28.00%   \n",
       "1      Alaska            29.20%                  31.80%   \n",
       "2     Arizona            28.90%                  29.60%   \n",
       "3    Arkansas            22.60%                  26.80%   \n",
       "4  California            33.30%                  33.50%   \n",
       "\n",
       "  Total Edu Rural 2014-18 Stabr Average Unempl 2014-18  Total Crimes per 100k  \\\n",
       "0                  15.20%    AL                  6.73%               3.376140   \n",
       "1                  23.90%    AK                  8.55%               0.581852   \n",
       "2                  15.80%    AZ                  6.95%               4.726068   \n",
       "3                  16.00%    AR                  5.58%               2.228428   \n",
       "4                  23.20%    CA                  7.03%              23.015516   \n",
       "\n",
       "  Poverty (2018) Under 18 in Poverty (2018) median_household_income  \\\n",
       "0         16.80%                     23.90%               $42278.00   \n",
       "1         11.10%                     14.50%               $67629.00   \n",
       "2         14.10%                     20.40%               $49254.00   \n",
       "3         16.80%                     23.80%               $44922.00   \n",
       "4         12.80%                     17.40%               $60487.00   \n",
       "\n",
       "   hate_crimes_per_100k_splc     region  \n",
       "0                   0.125839  Southeast  \n",
       "1                   0.143740       West  \n",
       "2                   0.225320  Southwest  \n",
       "3                   0.069061  Southeast  \n",
       "4                   0.255805       West  "
      ]
     },
     "execution_count": 26,
     "metadata": {},
     "output_type": "execute_result"
    }
   ],
   "source": [
    "merged_df_fin.head()"
   ]
  },
  {
   "cell_type": "markdown",
   "metadata": {},
   "source": [
    "# Final Merged DataFrame"
   ]
  },
  {
   "cell_type": "code",
   "execution_count": 27,
   "metadata": {
    "scrolled": true
   },
   "outputs": [
    {
     "data": {
      "text/html": [
       "<div>\n",
       "<style scoped>\n",
       "    .dataframe tbody tr th:only-of-type {\n",
       "        vertical-align: middle;\n",
       "    }\n",
       "\n",
       "    .dataframe tbody tr th {\n",
       "        vertical-align: top;\n",
       "    }\n",
       "\n",
       "    .dataframe thead th {\n",
       "        text-align: right;\n",
       "    }\n",
       "</style>\n",
       "<table border=\"1\" class=\"dataframe\">\n",
       "  <thead>\n",
       "    <tr style=\"text-align: right;\">\n",
       "      <th></th>\n",
       "      <th>area_name</th>\n",
       "      <th>Total Edu 2014-18</th>\n",
       "      <th>Total Edu Urban 2024-18</th>\n",
       "      <th>Total Edu Rural 2014-18</th>\n",
       "      <th>Stabr</th>\n",
       "      <th>Average Unempl 2014-18</th>\n",
       "      <th>Total Crimes per 100k</th>\n",
       "      <th>Poverty (2018)</th>\n",
       "      <th>Under 18 in Poverty (2018)</th>\n",
       "      <th>median_household_income</th>\n",
       "      <th>hate_crimes_per_100k_splc</th>\n",
       "      <th>region</th>\n",
       "    </tr>\n",
       "  </thead>\n",
       "  <tbody>\n",
       "    <tr>\n",
       "      <th>0</th>\n",
       "      <td>Alabama</td>\n",
       "      <td>24.9</td>\n",
       "      <td>28.0</td>\n",
       "      <td>15.20%</td>\n",
       "      <td>AL</td>\n",
       "      <td>6.73</td>\n",
       "      <td>3.376140</td>\n",
       "      <td>16.8</td>\n",
       "      <td>23.90%</td>\n",
       "      <td>42278.0</td>\n",
       "      <td>0.125839</td>\n",
       "      <td>Southeast</td>\n",
       "    </tr>\n",
       "    <tr>\n",
       "      <th>1</th>\n",
       "      <td>Alaska</td>\n",
       "      <td>29.2</td>\n",
       "      <td>31.8</td>\n",
       "      <td>23.90%</td>\n",
       "      <td>AK</td>\n",
       "      <td>8.55</td>\n",
       "      <td>0.581852</td>\n",
       "      <td>11.1</td>\n",
       "      <td>14.50%</td>\n",
       "      <td>67629.0</td>\n",
       "      <td>0.143740</td>\n",
       "      <td>West</td>\n",
       "    </tr>\n",
       "    <tr>\n",
       "      <th>2</th>\n",
       "      <td>Arizona</td>\n",
       "      <td>28.9</td>\n",
       "      <td>29.6</td>\n",
       "      <td>15.80%</td>\n",
       "      <td>AZ</td>\n",
       "      <td>6.95</td>\n",
       "      <td>4.726068</td>\n",
       "      <td>14.1</td>\n",
       "      <td>20.40%</td>\n",
       "      <td>49254.0</td>\n",
       "      <td>0.225320</td>\n",
       "      <td>Southwest</td>\n",
       "    </tr>\n",
       "    <tr>\n",
       "      <th>3</th>\n",
       "      <td>Arkansas</td>\n",
       "      <td>22.6</td>\n",
       "      <td>26.8</td>\n",
       "      <td>16.00%</td>\n",
       "      <td>AR</td>\n",
       "      <td>5.58</td>\n",
       "      <td>2.228428</td>\n",
       "      <td>16.8</td>\n",
       "      <td>23.80%</td>\n",
       "      <td>44922.0</td>\n",
       "      <td>0.069061</td>\n",
       "      <td>Southeast</td>\n",
       "    </tr>\n",
       "    <tr>\n",
       "      <th>4</th>\n",
       "      <td>California</td>\n",
       "      <td>33.3</td>\n",
       "      <td>33.5</td>\n",
       "      <td>23.20%</td>\n",
       "      <td>CA</td>\n",
       "      <td>7.03</td>\n",
       "      <td>23.015516</td>\n",
       "      <td>12.8</td>\n",
       "      <td>17.40%</td>\n",
       "      <td>60487.0</td>\n",
       "      <td>0.255805</td>\n",
       "      <td>West</td>\n",
       "    </tr>\n",
       "  </tbody>\n",
       "</table>\n",
       "</div>"
      ],
      "text/plain": [
       "    area_name  Total Edu 2014-18  Total Edu Urban 2024-18  \\\n",
       "0     Alabama               24.9                     28.0   \n",
       "1      Alaska               29.2                     31.8   \n",
       "2     Arizona               28.9                     29.6   \n",
       "3    Arkansas               22.6                     26.8   \n",
       "4  California               33.3                     33.5   \n",
       "\n",
       "  Total Edu Rural 2014-18 Stabr  Average Unempl 2014-18  \\\n",
       "0                  15.20%    AL                    6.73   \n",
       "1                  23.90%    AK                    8.55   \n",
       "2                  15.80%    AZ                    6.95   \n",
       "3                  16.00%    AR                    5.58   \n",
       "4                  23.20%    CA                    7.03   \n",
       "\n",
       "   Total Crimes per 100k  Poverty (2018) Under 18 in Poverty (2018)  \\\n",
       "0               3.376140            16.8                     23.90%   \n",
       "1               0.581852            11.1                     14.50%   \n",
       "2               4.726068            14.1                     20.40%   \n",
       "3               2.228428            16.8                     23.80%   \n",
       "4              23.015516            12.8                     17.40%   \n",
       "\n",
       "   median_household_income  hate_crimes_per_100k_splc     region  \n",
       "0                  42278.0                   0.125839  Southeast  \n",
       "1                  67629.0                   0.143740       West  \n",
       "2                  49254.0                   0.225320  Southwest  \n",
       "3                  44922.0                   0.069061  Southeast  \n",
       "4                  60487.0                   0.255805       West  "
      ]
     },
     "execution_count": 27,
     "metadata": {},
     "output_type": "execute_result"
    }
   ],
   "source": [
    "merged_df_fin[\"Total Edu 2014-18\"] = merged_df_fin[\"Total Edu 2014-18\"].map((lambda x: x.rstrip('%'))).astype(float)\n",
    "merged_df_fin[\"Total Edu Urban 2024-18\"] = merged_df_fin[\"Total Edu Urban 2024-18\"].map((lambda x: x.rstrip('%'))).astype(float)\n",
    "merged_df_fin[\"Average Unempl 2014-18\"] = merged_df_fin[\"Average Unempl 2014-18\"].map((lambda x: x.rstrip('%'))).astype(float)\n",
    "merged_df_fin[\"Poverty (2018)\"] = merged_df_fin[\"Poverty (2018)\"].map((lambda x: x.rstrip('%'))).astype(float)\n",
    "merged_df_fin[\"median_household_income\"] = merged_df_fin[\"median_household_income\"].map((lambda x: x.lstrip('$'))).astype(float)\n",
    "\n",
    "merged_df_fin.head()"
   ]
  },
  {
   "cell_type": "code",
   "execution_count": 28,
   "metadata": {},
   "outputs": [],
   "source": [
    "merged_df_fin = merged_df_fin.drop(columns=['Total Edu Urban 2024-18', 'Total Edu Rural 2014-18', 'Under 18 in Poverty (2018)'])\n",
    "merged_df_fin = merged_df_fin.dropna()"
   ]
  },
  {
   "cell_type": "code",
   "execution_count": 29,
   "metadata": {},
   "outputs": [
    {
     "name": "stdout",
     "output_type": "stream",
     "text": [
      "<class 'pandas.core.frame.DataFrame'>\n",
      "Int64Index: 46 entries, 0 to 48\n",
      "Data columns (total 9 columns):\n",
      " #   Column                     Non-Null Count  Dtype  \n",
      "---  ------                     --------------  -----  \n",
      " 0   area_name                  46 non-null     object \n",
      " 1   Total Edu 2014-18          46 non-null     float64\n",
      " 2   Stabr                      46 non-null     object \n",
      " 3   Average Unempl 2014-18     46 non-null     float64\n",
      " 4   Total Crimes per 100k      46 non-null     float64\n",
      " 5   Poverty (2018)             46 non-null     float64\n",
      " 6   median_household_income    46 non-null     float64\n",
      " 7   hate_crimes_per_100k_splc  46 non-null     float64\n",
      " 8   region                     46 non-null     object \n",
      "dtypes: float64(6), object(3)\n",
      "memory usage: 3.6+ KB\n"
     ]
    }
   ],
   "source": [
    "merged_df_fin.info()"
   ]
  },
  {
   "cell_type": "code",
   "execution_count": 30,
   "metadata": {},
   "outputs": [
    {
     "data": {
      "text/html": [
       "<div>\n",
       "<style scoped>\n",
       "    .dataframe tbody tr th:only-of-type {\n",
       "        vertical-align: middle;\n",
       "    }\n",
       "\n",
       "    .dataframe tbody tr th {\n",
       "        vertical-align: top;\n",
       "    }\n",
       "\n",
       "    .dataframe thead th {\n",
       "        text-align: right;\n",
       "    }\n",
       "</style>\n",
       "<table border=\"1\" class=\"dataframe\">\n",
       "  <thead>\n",
       "    <tr style=\"text-align: right;\">\n",
       "      <th></th>\n",
       "      <th>area_name</th>\n",
       "      <th>Total Edu 2014-18</th>\n",
       "      <th>Stabr</th>\n",
       "      <th>Average Unempl 2014-18</th>\n",
       "      <th>Total Crimes per 100k</th>\n",
       "      <th>Poverty (2018)</th>\n",
       "      <th>median_household_income</th>\n",
       "      <th>hate_crimes_per_100k_splc</th>\n",
       "      <th>region</th>\n",
       "    </tr>\n",
       "  </thead>\n",
       "  <tbody>\n",
       "    <tr>\n",
       "      <th>0</th>\n",
       "      <td>Alabama</td>\n",
       "      <td>24.9</td>\n",
       "      <td>AL</td>\n",
       "      <td>6.73</td>\n",
       "      <td>3.376140</td>\n",
       "      <td>16.8</td>\n",
       "      <td>42278.0</td>\n",
       "      <td>0.125839</td>\n",
       "      <td>Southeast</td>\n",
       "    </tr>\n",
       "    <tr>\n",
       "      <th>1</th>\n",
       "      <td>Alaska</td>\n",
       "      <td>29.2</td>\n",
       "      <td>AK</td>\n",
       "      <td>8.55</td>\n",
       "      <td>0.581852</td>\n",
       "      <td>11.1</td>\n",
       "      <td>67629.0</td>\n",
       "      <td>0.143740</td>\n",
       "      <td>West</td>\n",
       "    </tr>\n",
       "    <tr>\n",
       "      <th>2</th>\n",
       "      <td>Arizona</td>\n",
       "      <td>28.9</td>\n",
       "      <td>AZ</td>\n",
       "      <td>6.95</td>\n",
       "      <td>4.726068</td>\n",
       "      <td>14.1</td>\n",
       "      <td>49254.0</td>\n",
       "      <td>0.225320</td>\n",
       "      <td>Southwest</td>\n",
       "    </tr>\n",
       "    <tr>\n",
       "      <th>3</th>\n",
       "      <td>Arkansas</td>\n",
       "      <td>22.6</td>\n",
       "      <td>AR</td>\n",
       "      <td>5.58</td>\n",
       "      <td>2.228428</td>\n",
       "      <td>16.8</td>\n",
       "      <td>44922.0</td>\n",
       "      <td>0.069061</td>\n",
       "      <td>Southeast</td>\n",
       "    </tr>\n",
       "    <tr>\n",
       "      <th>4</th>\n",
       "      <td>California</td>\n",
       "      <td>33.3</td>\n",
       "      <td>CA</td>\n",
       "      <td>7.03</td>\n",
       "      <td>23.015516</td>\n",
       "      <td>12.8</td>\n",
       "      <td>60487.0</td>\n",
       "      <td>0.255805</td>\n",
       "      <td>West</td>\n",
       "    </tr>\n",
       "  </tbody>\n",
       "</table>\n",
       "</div>"
      ],
      "text/plain": [
       "    area_name  Total Edu 2014-18 Stabr  Average Unempl 2014-18  \\\n",
       "0     Alabama               24.9    AL                    6.73   \n",
       "1      Alaska               29.2    AK                    8.55   \n",
       "2     Arizona               28.9    AZ                    6.95   \n",
       "3    Arkansas               22.6    AR                    5.58   \n",
       "4  California               33.3    CA                    7.03   \n",
       "\n",
       "   Total Crimes per 100k  Poverty (2018)  median_household_income  \\\n",
       "0               3.376140            16.8                  42278.0   \n",
       "1               0.581852            11.1                  67629.0   \n",
       "2               4.726068            14.1                  49254.0   \n",
       "3               2.228428            16.8                  44922.0   \n",
       "4              23.015516            12.8                  60487.0   \n",
       "\n",
       "   hate_crimes_per_100k_splc     region  \n",
       "0                   0.125839  Southeast  \n",
       "1                   0.143740       West  \n",
       "2                   0.225320  Southwest  \n",
       "3                   0.069061  Southeast  \n",
       "4                   0.255805       West  "
      ]
     },
     "execution_count": 30,
     "metadata": {},
     "output_type": "execute_result"
    }
   ],
   "source": [
    "merged_df_fin.head()"
   ]
  },
  {
   "cell_type": "markdown",
   "metadata": {},
   "source": [
    "# Create Pie Chart"
   ]
  },
  {
   "cell_type": "code",
   "execution_count": 31,
   "metadata": {},
   "outputs": [
    {
     "data": {
      "text/html": [
       "<div>\n",
       "<style scoped>\n",
       "    .dataframe tbody tr th:only-of-type {\n",
       "        vertical-align: middle;\n",
       "    }\n",
       "\n",
       "    .dataframe tbody tr th {\n",
       "        vertical-align: top;\n",
       "    }\n",
       "\n",
       "    .dataframe thead tr th {\n",
       "        text-align: left;\n",
       "    }\n",
       "\n",
       "    .dataframe thead tr:last-of-type th {\n",
       "        text-align: right;\n",
       "    }\n",
       "</style>\n",
       "<table border=\"1\" class=\"dataframe\">\n",
       "  <thead>\n",
       "    <tr>\n",
       "      <th></th>\n",
       "      <th colspan=\"8\" halign=\"left\">Total Edu 2014-18</th>\n",
       "      <th colspan=\"2\" halign=\"left\">Average Unempl 2014-18</th>\n",
       "      <th>...</th>\n",
       "      <th colspan=\"2\" halign=\"left\">median_household_income</th>\n",
       "      <th colspan=\"8\" halign=\"left\">hate_crimes_per_100k_splc</th>\n",
       "    </tr>\n",
       "    <tr>\n",
       "      <th></th>\n",
       "      <th>count</th>\n",
       "      <th>mean</th>\n",
       "      <th>std</th>\n",
       "      <th>min</th>\n",
       "      <th>25%</th>\n",
       "      <th>50%</th>\n",
       "      <th>75%</th>\n",
       "      <th>max</th>\n",
       "      <th>count</th>\n",
       "      <th>mean</th>\n",
       "      <th>...</th>\n",
       "      <th>75%</th>\n",
       "      <th>max</th>\n",
       "      <th>count</th>\n",
       "      <th>mean</th>\n",
       "      <th>std</th>\n",
       "      <th>min</th>\n",
       "      <th>25%</th>\n",
       "      <th>50%</th>\n",
       "      <th>75%</th>\n",
       "      <th>max</th>\n",
       "    </tr>\n",
       "    <tr>\n",
       "      <th>region</th>\n",
       "      <th></th>\n",
       "      <th></th>\n",
       "      <th></th>\n",
       "      <th></th>\n",
       "      <th></th>\n",
       "      <th></th>\n",
       "      <th></th>\n",
       "      <th></th>\n",
       "      <th></th>\n",
       "      <th></th>\n",
       "      <th></th>\n",
       "      <th></th>\n",
       "      <th></th>\n",
       "      <th></th>\n",
       "      <th></th>\n",
       "      <th></th>\n",
       "      <th></th>\n",
       "      <th></th>\n",
       "      <th></th>\n",
       "      <th></th>\n",
       "      <th></th>\n",
       "    </tr>\n",
       "  </thead>\n",
       "  <tbody>\n",
       "    <tr>\n",
       "      <th>Midwest</th>\n",
       "      <td>11.0</td>\n",
       "      <td>29.627273</td>\n",
       "      <td>3.529332</td>\n",
       "      <td>23.6</td>\n",
       "      <td>28.000</td>\n",
       "      <td>28.6</td>\n",
       "      <td>32.1</td>\n",
       "      <td>35.4</td>\n",
       "      <td>11.0</td>\n",
       "      <td>5.487273</td>\n",
       "      <td>...</td>\n",
       "      <td>57340.00</td>\n",
       "      <td>67244.0</td>\n",
       "      <td>11.0</td>\n",
       "      <td>0.283501</td>\n",
       "      <td>0.155453</td>\n",
       "      <td>0.105152</td>\n",
       "      <td>0.187619</td>\n",
       "      <td>0.226197</td>\n",
       "      <td>0.364088</td>\n",
       "      <td>0.627480</td>\n",
       "    </tr>\n",
       "    <tr>\n",
       "      <th>Northeast</th>\n",
       "      <td>13.0</td>\n",
       "      <td>37.030769</td>\n",
       "      <td>7.569388</td>\n",
       "      <td>27.4</td>\n",
       "      <td>31.400</td>\n",
       "      <td>36.5</td>\n",
       "      <td>38.9</td>\n",
       "      <td>57.6</td>\n",
       "      <td>13.0</td>\n",
       "      <td>5.947692</td>\n",
       "      <td>...</td>\n",
       "      <td>68277.00</td>\n",
       "      <td>76165.0</td>\n",
       "      <td>13.0</td>\n",
       "      <td>0.407100</td>\n",
       "      <td>0.374744</td>\n",
       "      <td>0.078306</td>\n",
       "      <td>0.209894</td>\n",
       "      <td>0.324149</td>\n",
       "      <td>0.370439</td>\n",
       "      <td>1.522302</td>\n",
       "    </tr>\n",
       "    <tr>\n",
       "      <th>Southeast</th>\n",
       "      <td>9.0</td>\n",
       "      <td>27.577778</td>\n",
       "      <td>5.185021</td>\n",
       "      <td>21.8</td>\n",
       "      <td>23.700</td>\n",
       "      <td>26.6</td>\n",
       "      <td>30.5</td>\n",
       "      <td>38.2</td>\n",
       "      <td>9.0</td>\n",
       "      <td>6.402222</td>\n",
       "      <td>...</td>\n",
       "      <td>46784.00</td>\n",
       "      <td>66155.0</td>\n",
       "      <td>9.0</td>\n",
       "      <td>0.165246</td>\n",
       "      <td>0.095242</td>\n",
       "      <td>0.067447</td>\n",
       "      <td>0.109733</td>\n",
       "      <td>0.125839</td>\n",
       "      <td>0.199938</td>\n",
       "      <td>0.363249</td>\n",
       "    </tr>\n",
       "    <tr>\n",
       "      <th>Southwest</th>\n",
       "      <td>4.0</td>\n",
       "      <td>27.625000</td>\n",
       "      <td>1.878608</td>\n",
       "      <td>25.2</td>\n",
       "      <td>26.625</td>\n",
       "      <td>28.0</td>\n",
       "      <td>29.0</td>\n",
       "      <td>29.3</td>\n",
       "      <td>4.0</td>\n",
       "      <td>6.347500</td>\n",
       "      <td>...</td>\n",
       "      <td>50409.25</td>\n",
       "      <td>53875.0</td>\n",
       "      <td>4.0</td>\n",
       "      <td>0.216836</td>\n",
       "      <td>0.066046</td>\n",
       "      <td>0.133629</td>\n",
       "      <td>0.193595</td>\n",
       "      <td>0.219452</td>\n",
       "      <td>0.242693</td>\n",
       "      <td>0.294811</td>\n",
       "    </tr>\n",
       "    <tr>\n",
       "      <th>West</th>\n",
       "      <td>9.0</td>\n",
       "      <td>31.822222</td>\n",
       "      <td>4.686891</td>\n",
       "      <td>24.2</td>\n",
       "      <td>29.200</td>\n",
       "      <td>32.9</td>\n",
       "      <td>33.3</td>\n",
       "      <td>40.1</td>\n",
       "      <td>9.0</td>\n",
       "      <td>6.098889</td>\n",
       "      <td>...</td>\n",
       "      <td>60940.00</td>\n",
       "      <td>67629.0</td>\n",
       "      <td>9.0</td>\n",
       "      <td>0.355369</td>\n",
       "      <td>0.263226</td>\n",
       "      <td>0.124208</td>\n",
       "      <td>0.141673</td>\n",
       "      <td>0.255805</td>\n",
       "      <td>0.495491</td>\n",
       "      <td>0.832850</td>\n",
       "    </tr>\n",
       "  </tbody>\n",
       "</table>\n",
       "<p>5 rows × 48 columns</p>\n",
       "</div>"
      ],
      "text/plain": [
       "          Total Edu 2014-18                                                 \\\n",
       "                      count       mean       std   min     25%   50%   75%   \n",
       "region                                                                       \n",
       "Midwest                11.0  29.627273  3.529332  23.6  28.000  28.6  32.1   \n",
       "Northeast              13.0  37.030769  7.569388  27.4  31.400  36.5  38.9   \n",
       "Southeast               9.0  27.577778  5.185021  21.8  23.700  26.6  30.5   \n",
       "Southwest               4.0  27.625000  1.878608  25.2  26.625  28.0  29.0   \n",
       "West                    9.0  31.822222  4.686891  24.2  29.200  32.9  33.3   \n",
       "\n",
       "                Average Unempl 2014-18            ... median_household_income  \\\n",
       "            max                  count      mean  ...                     75%   \n",
       "region                                            ...                           \n",
       "Midwest    35.4                   11.0  5.487273  ...                57340.00   \n",
       "Northeast  57.6                   13.0  5.947692  ...                68277.00   \n",
       "Southeast  38.2                    9.0  6.402222  ...                46784.00   \n",
       "Southwest  29.3                    4.0  6.347500  ...                50409.25   \n",
       "West       40.1                    9.0  6.098889  ...                60940.00   \n",
       "\n",
       "                   hate_crimes_per_100k_splc                                \\\n",
       "               max                     count      mean       std       min   \n",
       "region                                                                       \n",
       "Midwest    67244.0                      11.0  0.283501  0.155453  0.105152   \n",
       "Northeast  76165.0                      13.0  0.407100  0.374744  0.078306   \n",
       "Southeast  66155.0                       9.0  0.165246  0.095242  0.067447   \n",
       "Southwest  53875.0                       4.0  0.216836  0.066046  0.133629   \n",
       "West       67629.0                       9.0  0.355369  0.263226  0.124208   \n",
       "\n",
       "                                                   \n",
       "                25%       50%       75%       max  \n",
       "region                                             \n",
       "Midwest    0.187619  0.226197  0.364088  0.627480  \n",
       "Northeast  0.209894  0.324149  0.370439  1.522302  \n",
       "Southeast  0.109733  0.125839  0.199938  0.363249  \n",
       "Southwest  0.193595  0.219452  0.242693  0.294811  \n",
       "West       0.141673  0.255805  0.495491  0.832850  \n",
       "\n",
       "[5 rows x 48 columns]"
      ]
     },
     "execution_count": 31,
     "metadata": {},
     "output_type": "execute_result"
    }
   ],
   "source": [
    "# group by regions\n",
    "region_merge=merged_df_fin.groupby(\"region\")\n",
    "region_merge.describe()"
   ]
  },
  {
   "cell_type": "code",
   "execution_count": 32,
   "metadata": {},
   "outputs": [
    {
     "data": {
      "text/plain": [
       "region\n",
       "Midwest      0.283501\n",
       "Northeast    0.407100\n",
       "Southeast    0.165246\n",
       "Southwest    0.216836\n",
       "West         0.355369\n",
       "Name: hate_crimes_per_100k_splc, dtype: float64"
      ]
     },
     "execution_count": 32,
     "metadata": {},
     "output_type": "execute_result"
    }
   ],
   "source": [
    "count_region=region_merge[\"hate_crimes_per_100k_splc\"].mean()\n",
    "count_region"
   ]
  },
  {
   "cell_type": "code",
   "execution_count": 33,
   "metadata": {},
   "outputs": [
    {
     "data": {
      "image/png": "[encoded data removed]",
      "text/plain": [
       "<Figure size 432x288 with 1 Axes>"
      ]
     },
     "metadata": {},
     "output_type": "display_data"
    }
   ],
   "source": [
    "# Look at occurences of Hate Crimes across regions\n",
    "explode = (0, 0.05, 0, 0, 0)\n",
    "count_region.plot(kind='pie', y='region', \\\n",
    "                        title=\"Average Occurrence of Hate Crimes per 100k\",startangle=180,\\\n",
    "                        autopct='%1.1f%%',shadow=True, explode= explode, fontsize=12, colors =[\"orange\",\"blue\", \"red\",\"purple\", \"green\"],legend =False)\n",
    "# Make the axis equal to avoid plotting an egg shaped pie chart\n",
    "plt.savefig(\"Images/hate_crime_vs_region_pie.png\")\n",
    "plt.show()"
   ]
  },
  {
   "cell_type": "markdown",
   "metadata": {},
   "source": [
    "# Scatter Plots"
   ]
  },
  {
   "cell_type": "code",
   "execution_count": 34,
   "metadata": {},
   "outputs": [
    {
     "data": {
      "text/html": [
       "<div>\n",
       "<style scoped>\n",
       "    .dataframe tbody tr th:only-of-type {\n",
       "        vertical-align: middle;\n",
       "    }\n",
       "\n",
       "    .dataframe tbody tr th {\n",
       "        vertical-align: top;\n",
       "    }\n",
       "\n",
       "    .dataframe thead th {\n",
       "        text-align: right;\n",
       "    }\n",
       "</style>\n",
       "<table border=\"1\" class=\"dataframe\">\n",
       "  <thead>\n",
       "    <tr style=\"text-align: right;\">\n",
       "      <th></th>\n",
       "      <th>area_name</th>\n",
       "      <th>Total Edu 2014-18</th>\n",
       "      <th>Stabr</th>\n",
       "      <th>Average Unempl 2014-18</th>\n",
       "      <th>Total Crimes per 100k</th>\n",
       "      <th>Poverty (2018)</th>\n",
       "      <th>median_household_income</th>\n",
       "      <th>hate_crimes_per_100k_splc</th>\n",
       "      <th>region</th>\n",
       "    </tr>\n",
       "  </thead>\n",
       "  <tbody>\n",
       "    <tr>\n",
       "      <th>0</th>\n",
       "      <td>Alabama</td>\n",
       "      <td>24.9</td>\n",
       "      <td>AL</td>\n",
       "      <td>6.73</td>\n",
       "      <td>3.376140</td>\n",
       "      <td>16.8</td>\n",
       "      <td>42278.0</td>\n",
       "      <td>0.125839</td>\n",
       "      <td>Southeast</td>\n",
       "    </tr>\n",
       "    <tr>\n",
       "      <th>1</th>\n",
       "      <td>Alaska</td>\n",
       "      <td>29.2</td>\n",
       "      <td>AK</td>\n",
       "      <td>8.55</td>\n",
       "      <td>0.581852</td>\n",
       "      <td>11.1</td>\n",
       "      <td>67629.0</td>\n",
       "      <td>0.143740</td>\n",
       "      <td>West</td>\n",
       "    </tr>\n",
       "    <tr>\n",
       "      <th>2</th>\n",
       "      <td>Arizona</td>\n",
       "      <td>28.9</td>\n",
       "      <td>AZ</td>\n",
       "      <td>6.95</td>\n",
       "      <td>4.726068</td>\n",
       "      <td>14.1</td>\n",
       "      <td>49254.0</td>\n",
       "      <td>0.225320</td>\n",
       "      <td>Southwest</td>\n",
       "    </tr>\n",
       "    <tr>\n",
       "      <th>3</th>\n",
       "      <td>Arkansas</td>\n",
       "      <td>22.6</td>\n",
       "      <td>AR</td>\n",
       "      <td>5.58</td>\n",
       "      <td>2.228428</td>\n",
       "      <td>16.8</td>\n",
       "      <td>44922.0</td>\n",
       "      <td>0.069061</td>\n",
       "      <td>Southeast</td>\n",
       "    </tr>\n",
       "    <tr>\n",
       "      <th>4</th>\n",
       "      <td>California</td>\n",
       "      <td>33.3</td>\n",
       "      <td>CA</td>\n",
       "      <td>7.03</td>\n",
       "      <td>23.015516</td>\n",
       "      <td>12.8</td>\n",
       "      <td>60487.0</td>\n",
       "      <td>0.255805</td>\n",
       "      <td>West</td>\n",
       "    </tr>\n",
       "  </tbody>\n",
       "</table>\n",
       "</div>"
      ],
      "text/plain": [
       "    area_name  Total Edu 2014-18 Stabr  Average Unempl 2014-18  \\\n",
       "0     Alabama               24.9    AL                    6.73   \n",
       "1      Alaska               29.2    AK                    8.55   \n",
       "2     Arizona               28.9    AZ                    6.95   \n",
       "3    Arkansas               22.6    AR                    5.58   \n",
       "4  California               33.3    CA                    7.03   \n",
       "\n",
       "   Total Crimes per 100k  Poverty (2018)  median_household_income  \\\n",
       "0               3.376140            16.8                  42278.0   \n",
       "1               0.581852            11.1                  67629.0   \n",
       "2               4.726068            14.1                  49254.0   \n",
       "3               2.228428            16.8                  44922.0   \n",
       "4              23.015516            12.8                  60487.0   \n",
       "\n",
       "   hate_crimes_per_100k_splc     region  \n",
       "0                   0.125839  Southeast  \n",
       "1                   0.143740       West  \n",
       "2                   0.225320  Southwest  \n",
       "3                   0.069061  Southeast  \n",
       "4                   0.255805       West  "
      ]
     },
     "execution_count": 34,
     "metadata": {},
     "output_type": "execute_result"
    }
   ],
   "source": [
    "merged_df_fin.head()"
   ]
  },
  {
   "cell_type": "code",
   "execution_count": 35,
   "metadata": {},
   "outputs": [
    {
     "name": "stdout",
     "output_type": "stream",
     "text": [
      "R squared: 0.1335938135561209\n"
     ]
    },
    {
     "data": {
      "image/png": "[encoded data removed]",
      "text/plain": [
       "<Figure size 432x288 with 1 Axes>"
      ]
     },
     "metadata": {
      "needs_background": "light"
     },
     "output_type": "display_data"
    }
   ],
   "source": [
    "region_color= {\"Southeast\": \"r\", \"Northeast\": \"b\", \n",
    "              \"West\": \"g\", \"Midwest\": \"orange\", \n",
    "              \"Southwest\": \"purple\"}\n",
    "\n",
    "labels = list(region_color.keys())\n",
    "handles = [plt.Rectangle((0,0),1,1, color=region_color[label]) for label in labels]\n",
    "\n",
    "\n",
    "x_values = merged_df_fin['median_household_income']\n",
    "y_values = merged_df_fin['hate_crimes_per_100k_splc']\n",
    "\n",
    "(slope, intercept, rvalue, pvalue, stderr) = linregress(x_values, y_values)\n",
    "regress_values = x_values * slope + intercept\n",
    "line_eq = \"y = \" + str(round(slope,2)) + \"x + \" + str(round(intercept,2))\n",
    "\n",
    "plt.scatter(x_values,y_values, color=[region_color[i] for i in merged_df_fin[\"region\"]], edgecolors=\"black\")\n",
    "\n",
    "plt.plot(x_values,regress_values,\"r-\")\n",
    "plt.annotate(line_eq,(60500,.2),fontsize=15,color=\"red\")\n",
    "\n",
    "plt.xlabel('Median Household Income ($)')\n",
    "plt.ylabel('Hate Crimes commited (per 100k people)')\n",
    "\n",
    "print(f\"R squared: {rvalue**2}\")\n",
    "\n",
    "plt.legend(handles, labels, loc=\"upper left\")\n",
    "\n",
    "plt.savefig(\"Images/income_vs_hate_crime_scatter.png\")\n",
    "plt.show()"
   ]
  },
  {
   "cell_type": "code",
   "execution_count": 36,
   "metadata": {},
   "outputs": [
    {
     "name": "stdout",
     "output_type": "stream",
     "text": [
      "R squared: 0.010932997336871818\n"
     ]
    },
    {
     "data": {
      "image/png": "[encoded data removed]",
      "text/plain": [
       "<Figure size 432x288 with 1 Axes>"
      ]
     },
     "metadata": {
      "needs_background": "light"
     },
     "output_type": "display_data"
    }
   ],
   "source": [
    "labels = list(region_color.keys())\n",
    "handles = [plt.Rectangle((0,0),1,1, color=region_color[label]) for label in labels]\n",
    "\n",
    "\n",
    "x_values = merged_df_fin['Poverty (2018)']\n",
    "y_values = merged_df_fin['hate_crimes_per_100k_splc']\n",
    "\n",
    "(slope, intercept, rvalue, pvalue, stderr) = linregress(x_values, y_values)\n",
    "regress_values = x_values * slope + intercept\n",
    "line_eq = \"y = \" + str(round(slope,2)) + \"x + \" + str(round(intercept,2))\n",
    "\n",
    "plt.scatter(x_values,y_values, color=[region_color[i] for i in merged_df_fin[\"region\"]], edgecolors=\"black\")\n",
    "\n",
    "plt.plot(x_values,regress_values,\"r-\")\n",
    "plt.annotate(line_eq,(16,.4),fontsize=15,color=\"red\")\n",
    "\n",
    "plt.xlabel('Poverty Rate (%)')\n",
    "plt.ylabel('Hate Crimes commited (per 100k people)')\n",
    "\n",
    "print(f\"R squared: {rvalue**2}\")\n",
    "\n",
    "plt.legend(handles, labels, loc=\"upper left\")\n",
    "\n",
    "plt.savefig(\"Images/poverty_vs_hate_crime_scatter.png\")\n",
    "plt.show()"
   ]
  },
  {
   "cell_type": "code",
   "execution_count": 37,
   "metadata": {},
   "outputs": [
    {
     "name": "stdout",
     "output_type": "stream",
     "text": [
      "R squared: 0.015271443127119814\n"
     ]
    },
    {
     "data": {
      "image/png": "[encoded data removed]",
      "text/plain": [
       "<Figure size 432x288 with 1 Axes>"
      ]
     },
     "metadata": {
      "needs_background": "light"
     },
     "output_type": "display_data"
    }
   ],
   "source": [
    "region_color= {\"Southeast\": \"r\", \"Northeast\": \"b\", \n",
    "              \"West\": \"g\", \"Midwest\": \"orange\", \n",
    "              \"Southwest\": \"purple\"}\n",
    "\n",
    "labels = list(region_color.keys())\n",
    "handles = [plt.Rectangle((0,0),1,1, color=region_color[label]) for label in labels]\n",
    "\n",
    "x_axis= merged_df_fin['Total Crimes per 100k']\n",
    "tick_locations=x_axis\n",
    "y_axis =merged_df_fin['hate_crimes_per_100k_splc']\n",
    "\n",
    "(slope, intercept, rvalue, pvalue, stderr) = linregress(x_axis, y_values)\n",
    "regress_values = x_axis * slope + intercept\n",
    "line_eq = \"y = \" + str(round(slope,2)) + \"x + \" + str(round(intercept,2))\n",
    "\n",
    "plt.scatter(x_axis, y_axis, color=[region_color[i] for i in merged_df_fin[\"region\"]], edgecolors=\"black\", alpha=0.75)\n",
    "\n",
    "plt.plot(x_axis,regress_values,\"r-\")\n",
    "plt.annotate(line_eq,(20,.2),fontsize=15,color=\"red\")\n",
    "\n",
    "plt.xlabel('Crimes commited (per 100k people)')\n",
    "plt.ylabel('Hate Crimes commited (per 100k people)')\n",
    "\n",
    "print(f\"R squared: {rvalue**2}\")\n",
    "plt.legend(handles, labels, loc=\"upper right\")\n",
    "\n",
    "plt.savefig(\"Images/crime_vs_hate_crime_scatter.png\")\n",
    "plt.show()"
   ]
  },
  {
   "cell_type": "code",
   "execution_count": 38,
   "metadata": {},
   "outputs": [
    {
     "name": "stdout",
     "output_type": "stream",
     "text": [
      "R squared: 0.45774235176276745\n"
     ]
    },
    {
     "data": {
      "image/png": "[encoded data removed]",
      "text/plain": [
       "<Figure size 432x288 with 1 Axes>"
      ]
     },
     "metadata": {
      "needs_background": "light"
     },
     "output_type": "display_data"
    }
   ],
   "source": [
    "region_color= {\"Southeast\": \"r\", \"Northeast\": \"b\", \n",
    "              \"West\": \"g\", \"Midwest\": \"orange\", \n",
    "              \"Southwest\": \"purple\"}\n",
    "\n",
    "labels = list(region_color.keys())\n",
    "handles = [plt.Rectangle((0,0),1,1, color=region_color[label]) for label in labels]\n",
    "\n",
    "\n",
    "x_values = merged_df_fin['Total Edu 2014-18']\n",
    "y_values = merged_df_fin['hate_crimes_per_100k_splc']\n",
    "\n",
    "(slope, intercept, rvalue, pvalue, stderr) = linregress(x_values, y_values)\n",
    "regress_values = x_values * slope + intercept\n",
    "line_eq = \"y = \" + str(round(slope,2)) + \"x + \" + str(round(intercept,2))\n",
    "\n",
    "plt.scatter(x_values,y_values, color=[region_color[i] for i in merged_df_fin[\"region\"]], edgecolors=\"black\")\n",
    "\n",
    "plt.plot(x_values,regress_values,\"r-\")\n",
    "plt.annotate(line_eq,(35,.2),fontsize=15,color=\"red\")\n",
    "\n",
    "plt.xlabel('Education (4+ yr college)')\n",
    "plt.ylabel('Hate Crimes commited (per 100k people)')\n",
    "\n",
    "print(f\"R squared: {rvalue**2}\")\n",
    "\n",
    "plt.legend(handles, labels, loc=\"upper left\")\n",
    "\n",
    "plt.savefig(\"Images/education_vs_hate_crime_scatter.png\")\n",
    "plt.show()"
   ]
  },
  {
   "cell_type": "code",
   "execution_count": 39,
   "metadata": {},
   "outputs": [
    {
     "data": {
      "text/html": [
       "<div>\n",
       "<style scoped>\n",
       "    .dataframe tbody tr th:only-of-type {\n",
       "        vertical-align: middle;\n",
       "    }\n",
       "\n",
       "    .dataframe tbody tr th {\n",
       "        vertical-align: top;\n",
       "    }\n",
       "\n",
       "    .dataframe thead th {\n",
       "        text-align: right;\n",
       "    }\n",
       "</style>\n",
       "<table border=\"1\" class=\"dataframe\">\n",
       "  <thead>\n",
       "    <tr style=\"text-align: right;\">\n",
       "      <th></th>\n",
       "      <th>area_name</th>\n",
       "      <th>Total Edu 2014-18</th>\n",
       "      <th>Stabr</th>\n",
       "      <th>Average Unempl 2014-18</th>\n",
       "      <th>Total Crimes per 100k</th>\n",
       "      <th>Poverty (2018)</th>\n",
       "      <th>median_household_income</th>\n",
       "      <th>hate_crimes_per_100k_splc</th>\n",
       "      <th>region</th>\n",
       "    </tr>\n",
       "  </thead>\n",
       "  <tbody>\n",
       "    <tr>\n",
       "      <th>0</th>\n",
       "      <td>Alabama</td>\n",
       "      <td>24.9</td>\n",
       "      <td>AL</td>\n",
       "      <td>6.73</td>\n",
       "      <td>3.376140</td>\n",
       "      <td>16.8</td>\n",
       "      <td>42278.0</td>\n",
       "      <td>0.125839</td>\n",
       "      <td>Southeast</td>\n",
       "    </tr>\n",
       "    <tr>\n",
       "      <th>1</th>\n",
       "      <td>Alaska</td>\n",
       "      <td>29.2</td>\n",
       "      <td>AK</td>\n",
       "      <td>8.55</td>\n",
       "      <td>0.581852</td>\n",
       "      <td>11.1</td>\n",
       "      <td>67629.0</td>\n",
       "      <td>0.143740</td>\n",
       "      <td>West</td>\n",
       "    </tr>\n",
       "    <tr>\n",
       "      <th>2</th>\n",
       "      <td>Arizona</td>\n",
       "      <td>28.9</td>\n",
       "      <td>AZ</td>\n",
       "      <td>6.95</td>\n",
       "      <td>4.726068</td>\n",
       "      <td>14.1</td>\n",
       "      <td>49254.0</td>\n",
       "      <td>0.225320</td>\n",
       "      <td>Southwest</td>\n",
       "    </tr>\n",
       "    <tr>\n",
       "      <th>3</th>\n",
       "      <td>Arkansas</td>\n",
       "      <td>22.6</td>\n",
       "      <td>AR</td>\n",
       "      <td>5.58</td>\n",
       "      <td>2.228428</td>\n",
       "      <td>16.8</td>\n",
       "      <td>44922.0</td>\n",
       "      <td>0.069061</td>\n",
       "      <td>Southeast</td>\n",
       "    </tr>\n",
       "    <tr>\n",
       "      <th>4</th>\n",
       "      <td>California</td>\n",
       "      <td>33.3</td>\n",
       "      <td>CA</td>\n",
       "      <td>7.03</td>\n",
       "      <td>23.015516</td>\n",
       "      <td>12.8</td>\n",
       "      <td>60487.0</td>\n",
       "      <td>0.255805</td>\n",
       "      <td>West</td>\n",
       "    </tr>\n",
       "  </tbody>\n",
       "</table>\n",
       "</div>"
      ],
      "text/plain": [
       "    area_name  Total Edu 2014-18 Stabr  Average Unempl 2014-18  \\\n",
       "0     Alabama               24.9    AL                    6.73   \n",
       "1      Alaska               29.2    AK                    8.55   \n",
       "2     Arizona               28.9    AZ                    6.95   \n",
       "3    Arkansas               22.6    AR                    5.58   \n",
       "4  California               33.3    CA                    7.03   \n",
       "\n",
       "   Total Crimes per 100k  Poverty (2018)  median_household_income  \\\n",
       "0               3.376140            16.8                  42278.0   \n",
       "1               0.581852            11.1                  67629.0   \n",
       "2               4.726068            14.1                  49254.0   \n",
       "3               2.228428            16.8                  44922.0   \n",
       "4              23.015516            12.8                  60487.0   \n",
       "\n",
       "   hate_crimes_per_100k_splc     region  \n",
       "0                   0.125839  Southeast  \n",
       "1                   0.143740       West  \n",
       "2                   0.225320  Southwest  \n",
       "3                   0.069061  Southeast  \n",
       "4                   0.255805       West  "
      ]
     },
     "execution_count": 39,
     "metadata": {},
     "output_type": "execute_result"
    }
   ],
   "source": [
    "merged_df_fin.head()"
   ]
  },
  {
   "cell_type": "code",
   "execution_count": 40,
   "metadata": {},
   "outputs": [
    {
     "data": {
      "text/plain": [
       "area_name                     object\n",
       "Total Edu 2014-18            float64\n",
       "Stabr                         object\n",
       "Average Unempl 2014-18       float64\n",
       "Total Crimes per 100k        float64\n",
       "Poverty (2018)               float64\n",
       "median_household_income      float64\n",
       "hate_crimes_per_100k_splc    float64\n",
       "region                        object\n",
       "dtype: object"
      ]
     },
     "execution_count": 40,
     "metadata": {},
     "output_type": "execute_result"
    }
   ],
   "source": [
    "merged_df_fin.dtypes"
   ]
  },
  {
   "cell_type": "code",
   "execution_count": 41,
   "metadata": {},
   "outputs": [
    {
     "name": "stdout",
     "output_type": "stream",
     "text": [
      "<class 'pandas.core.frame.DataFrame'>\n",
      "Int64Index: 46 entries, 0 to 48\n",
      "Data columns (total 9 columns):\n",
      " #   Column                     Non-Null Count  Dtype  \n",
      "---  ------                     --------------  -----  \n",
      " 0   area_name                  46 non-null     object \n",
      " 1   Total Edu 2014-18          46 non-null     float64\n",
      " 2   Stabr                      46 non-null     object \n",
      " 3   Average Unempl 2014-18     46 non-null     float64\n",
      " 4   Total Crimes per 100k      46 non-null     float64\n",
      " 5   Poverty (2018)             46 non-null     float64\n",
      " 6   median_household_income    46 non-null     float64\n",
      " 7   hate_crimes_per_100k_splc  46 non-null     float64\n",
      " 8   region                     46 non-null     object \n",
      "dtypes: float64(6), object(3)\n",
      "memory usage: 3.6+ KB\n"
     ]
    }
   ],
   "source": [
    "merged_df_fin.info()"
   ]
  },
  {
   "cell_type": "markdown",
   "metadata": {},
   "source": [
    "# Bar Charts"
   ]
  },
  {
   "cell_type": "code",
   "execution_count": 42,
   "metadata": {},
   "outputs": [
    {
     "data": {
      "text/html": [
       "<div>\n",
       "<style scoped>\n",
       "    .dataframe tbody tr th:only-of-type {\n",
       "        vertical-align: middle;\n",
       "    }\n",
       "\n",
       "    .dataframe tbody tr th {\n",
       "        vertical-align: top;\n",
       "    }\n",
       "\n",
       "    .dataframe thead th {\n",
       "        text-align: right;\n",
       "    }\n",
       "</style>\n",
       "<table border=\"1\" class=\"dataframe\">\n",
       "  <thead>\n",
       "    <tr style=\"text-align: right;\">\n",
       "      <th></th>\n",
       "      <th>area_name</th>\n",
       "      <th>Total Edu 2014-18</th>\n",
       "      <th>Stabr</th>\n",
       "      <th>Average Unempl 2014-18</th>\n",
       "      <th>Total Crimes per 100k</th>\n",
       "      <th>Poverty (2018)</th>\n",
       "      <th>median_household_income</th>\n",
       "      <th>hate_crimes_per_100k_splc</th>\n",
       "      <th>region</th>\n",
       "    </tr>\n",
       "  </thead>\n",
       "  <tbody>\n",
       "    <tr>\n",
       "      <th>0</th>\n",
       "      <td>Alabama</td>\n",
       "      <td>24.9</td>\n",
       "      <td>AL</td>\n",
       "      <td>6.73</td>\n",
       "      <td>3.376140</td>\n",
       "      <td>16.8</td>\n",
       "      <td>42278.0</td>\n",
       "      <td>0.125839</td>\n",
       "      <td>Southeast</td>\n",
       "    </tr>\n",
       "    <tr>\n",
       "      <th>1</th>\n",
       "      <td>Alaska</td>\n",
       "      <td>29.2</td>\n",
       "      <td>AK</td>\n",
       "      <td>8.55</td>\n",
       "      <td>0.581852</td>\n",
       "      <td>11.1</td>\n",
       "      <td>67629.0</td>\n",
       "      <td>0.143740</td>\n",
       "      <td>West</td>\n",
       "    </tr>\n",
       "    <tr>\n",
       "      <th>2</th>\n",
       "      <td>Arizona</td>\n",
       "      <td>28.9</td>\n",
       "      <td>AZ</td>\n",
       "      <td>6.95</td>\n",
       "      <td>4.726068</td>\n",
       "      <td>14.1</td>\n",
       "      <td>49254.0</td>\n",
       "      <td>0.225320</td>\n",
       "      <td>Southwest</td>\n",
       "    </tr>\n",
       "    <tr>\n",
       "      <th>3</th>\n",
       "      <td>Arkansas</td>\n",
       "      <td>22.6</td>\n",
       "      <td>AR</td>\n",
       "      <td>5.58</td>\n",
       "      <td>2.228428</td>\n",
       "      <td>16.8</td>\n",
       "      <td>44922.0</td>\n",
       "      <td>0.069061</td>\n",
       "      <td>Southeast</td>\n",
       "    </tr>\n",
       "    <tr>\n",
       "      <th>4</th>\n",
       "      <td>California</td>\n",
       "      <td>33.3</td>\n",
       "      <td>CA</td>\n",
       "      <td>7.03</td>\n",
       "      <td>23.015516</td>\n",
       "      <td>12.8</td>\n",
       "      <td>60487.0</td>\n",
       "      <td>0.255805</td>\n",
       "      <td>West</td>\n",
       "    </tr>\n",
       "  </tbody>\n",
       "</table>\n",
       "</div>"
      ],
      "text/plain": [
       "    area_name  Total Edu 2014-18 Stabr  Average Unempl 2014-18  \\\n",
       "0     Alabama               24.9    AL                    6.73   \n",
       "1      Alaska               29.2    AK                    8.55   \n",
       "2     Arizona               28.9    AZ                    6.95   \n",
       "3    Arkansas               22.6    AR                    5.58   \n",
       "4  California               33.3    CA                    7.03   \n",
       "\n",
       "   Total Crimes per 100k  Poverty (2018)  median_household_income  \\\n",
       "0               3.376140            16.8                  42278.0   \n",
       "1               0.581852            11.1                  67629.0   \n",
       "2               4.726068            14.1                  49254.0   \n",
       "3               2.228428            16.8                  44922.0   \n",
       "4              23.015516            12.8                  60487.0   \n",
       "\n",
       "   hate_crimes_per_100k_splc     region  \n",
       "0                   0.125839  Southeast  \n",
       "1                   0.143740       West  \n",
       "2                   0.225320  Southwest  \n",
       "3                   0.069061  Southeast  \n",
       "4                   0.255805       West  "
      ]
     },
     "execution_count": 42,
     "metadata": {},
     "output_type": "execute_result"
    }
   ],
   "source": [
    "merged_df_fin.head()"
   ]
  },
  {
   "cell_type": "code",
   "execution_count": 43,
   "metadata": {},
   "outputs": [
    {
     "data": {
      "image/png": "[encoded data removed]",
      "text/plain": [
       "<Figure size 720x432 with 1 Axes>"
      ]
     },
     "metadata": {
      "needs_background": "light"
     },
     "output_type": "display_data"
    }
   ],
   "source": [
    "region_color= {\"Southeast\": \"r\", \"Northeast\": \"b\", \n",
    "              \"West\": \"g\", \"Midwest\": \"orange\", \n",
    "              \"Southwest\": \"purple\"}\n",
    "labels = list(region_color.keys())\n",
    "handles = [plt.Rectangle((0,0),1,1, color=region_color[label]) for label in labels]\n",
    "# merged_df_fin[\"area_name\"].plot(kind='bar', color=[region_color[i] for i in merged_df_fin[\"region\"]])\n",
    "x_axis=merged_df_fin[\"area_name\"]\n",
    "tick_locations=x_axis\n",
    "y_axis =merged_df_fin['hate_crimes_per_100k_splc']\n",
    "plt.figure(figsize=(10,6))\n",
    "state_hate_crime = plt.bar(x_axis, y_axis, color=[region_color[i] for i in merged_df_fin[\"region\"]], alpha=0.5, align=\"edge\")\n",
    "plt.xticks(tick_locations, x_axis, rotation=\"vertical\")\n",
    "plt.tight_layout()\n",
    "plt.ylabel(\"Hate Crimes per 100k People\")\n",
    "plt.xlabel(\"State\")\n",
    "plt.legend(handles, labels, loc=\"upper left\")\n",
    "plt.title(\"Hate Crime Rate vs. State\")\n",
    "\n",
    "plt.savefig(\"Images/state_vs_hate_crime_bar.png\")\n",
    "plt.show()"
   ]
  },
  {
   "cell_type": "code",
   "execution_count": 44,
   "metadata": {
    "scrolled": true
   },
   "outputs": [
    {
     "data": {
      "image/png": "[encoded data removed]",
      "text/plain": [
       "<Figure size 720x432 with 1 Axes>"
      ]
     },
     "metadata": {
      "needs_background": "light"
     },
     "output_type": "display_data"
    }
   ],
   "source": [
    "region_color_2= {\"Southeast\": \"r\", \"Northeast\": \"b\", \n",
    "              \"West\": \"g\", \"Midwest\": \"orange\", \n",
    "              \"Southwest\": \"purple\"}\n",
    "labels = list(region_color.keys())\n",
    "handles = [plt.Rectangle((0,0),1,1, color=region_color[label]) for label in labels]\n",
    "# merged_df_fin[\"area_name\"].plot(kind='bar', color=[region_color[i] for i in merged_df_fin[\"region\"]])\n",
    "x_axis=merged_df_fin[\"area_name\"]\n",
    "tick_locations=x_axis\n",
    "y_axis =merged_df_fin['Total Crimes per 100k']\n",
    "plt.figure(figsize=(10,6))\n",
    "plt.bar(x_axis, y_axis, color=[region_color_2[i] for i in merged_df_fin[\"region\"]],  alpha=0.5, align=\"edge\")\n",
    "plt.xticks(tick_locations, x_axis, rotation=\"vertical\")\n",
    "plt.tight_layout()\n",
    "plt.legend(handles, labels, loc=\"upper right\")\n",
    "plt.ylabel(\"Total Crimes per 100k People\")\n",
    "plt.xlabel(\"State\")\n",
    "plt.title(\"Standard Crime Rate vs. State\")\n",
    "\n",
    "plt.savefig(\"Images/state_vs_standard_crime_bar.png\")\n",
    "plt.show()"
   ]
  },
  {
   "cell_type": "code",
   "execution_count": 45,
   "metadata": {},
   "outputs": [
    {
     "data": {
      "image/png": "[encoded data removed]",
      "text/plain": [
       "<Figure size 1080x216 with 5 Axes>"
      ]
     },
     "metadata": {
      "needs_background": "light"
     },
     "output_type": "display_data"
    }
   ],
   "source": [
    "g=sns.FacetGrid(merged_df_fin, col=\"region\")\n",
    "g=g.map(plt.hist, \"median_household_income\", color=\"r\")\n",
    "# plt.ylabel(\"Number of States\")\n",
    "\n",
    "\n",
    "plt.savefig(\"Images/income_vs_hate_crime_region_facet_bar.png\")\n",
    "plt.show()\n",
    "# yaxis is showing number of states, while x is showing median household income"
   ]
  },
  {
   "cell_type": "code",
   "execution_count": 46,
   "metadata": {},
   "outputs": [
    {
     "data": {
      "image/png": "[encoded data removed]",
      "text/plain": [
       "<Figure size 1080x216 with 5 Axes>"
      ]
     },
     "metadata": {
      "needs_background": "light"
     },
     "output_type": "display_data"
    }
   ],
   "source": [
    "z=sns.FacetGrid(merged_df_fin, col=\"region\")\n",
    "z=z.map(plt.hist, \"Poverty (2018)\")\n",
    "\n",
    "plt.savefig(\"Images/poverty_vs_hate_crime_region_facet_bar.png\")\n",
    "plt.show()\n",
    "# yaxis is showing number of states, while x is showing median household income"
   ]
  },
  {
   "cell_type": "markdown",
   "metadata": {},
   "source": [
    "# Box Plot"
   ]
  },
  {
   "cell_type": "code",
   "execution_count": 47,
   "metadata": {},
   "outputs": [
    {
     "data": {
      "text/plain": [
       "Northeast    13\n",
       "Midwest      11\n",
       "Southeast     9\n",
       "West          9\n",
       "Southwest     4\n",
       "Name: region, dtype: int64"
      ]
     },
     "execution_count": 47,
     "metadata": {},
     "output_type": "execute_result"
    }
   ],
   "source": [
    "merged_df_fin['region'].value_counts()"
   ]
  },
  {
   "cell_type": "code",
   "execution_count": 48,
   "metadata": {},
   "outputs": [
    {
     "data": {
      "image/png": "[encoded data removed]",
      "text/plain": [
       "<Figure size 432x288 with 1 Axes>"
      ]
     },
     "metadata": {
      "needs_background": "light"
     },
     "output_type": "display_data"
    }
   ],
   "source": [
    "northeast_plot=merged_df_fin.loc[(merged_df_fin[\"region\"]==\"Northeast\")][\"hate_crimes_per_100k_splc\"]\n",
    "southeast_plot=merged_df_fin.loc[(merged_df_fin[\"region\"]==\"Southeast\")][\"hate_crimes_per_100k_splc\"]\n",
    "west_plot=merged_df_fin.loc[(merged_df_fin[\"region\"]==\"West\")][\"hate_crimes_per_100k_splc\"]\n",
    "southwest_plot=merged_df_fin.loc[(merged_df_fin[\"region\"]==\"Southwest\")][\"hate_crimes_per_100k_splc\"]\n",
    "midwest_plot=merged_df_fin.loc[(merged_df_fin[\"region\"]==\"Midwest\")][\"hate_crimes_per_100k_splc\"]\n",
    "\n",
    "\n",
    "data = [northeast_plot.dropna(), southeast_plot.dropna(), west_plot.dropna(), southwest_plot.dropna(), midwest_plot.dropna()]\n",
    "fig, ax = plt.subplots()\n",
    "ax.boxplot(data)\n",
    "ax.set_title(\"Hate Crimes per Region\")\n",
    "x_ticks = [1,2,3,4,5]\n",
    "plt.xticks(x_ticks,[\"Northeast\", \"Southeast\", \"West\",\"Southwest\", \"Midwest\"])\n",
    "ax.set_ylabel(\"Hate Crimes commited (per 100k people)\")\n",
    "ax.set_xlabel(\"Region\")\n",
    "\n",
    "\n",
    "plt.savefig(\"Images/region_vs_hate_crime_box.png\")\n",
    "plt.show()"
   ]
  },
  {
   "cell_type": "markdown",
   "metadata": {},
   "source": [
    "# Heat Maps"
   ]
  },
  {
   "cell_type": "code",
   "execution_count": 64,
   "metadata": {
    "scrolled": true
   },
   "outputs": [
    {
     "data": {
      "application/vnd.plotly.v1+json": {
       "config": {
        "plotlyServerURL": "https://plot.ly"
       },
       "data": [
        {
         "coloraxis": "coloraxis",
         "geo": "geo",
         "hovertemplate": "<b>%{hovertext}</b><br><br>Stabr=%{location}<br>Average Unempl 2014-18=%{z}<extra></extra>",
         "hovertext": [
          "Alabama",
          "Alaska",
          "Arizona",
          "Arkansas",
          "California",
          "Colorado",
          "Connecticut",
          "Delaware",
          "District of Columbia",
          "Florida",
          "Georgia",
          "Idaho",
          "Illinois",
          "Indiana",
          "Iowa",
          "Kansas",
          "Kentucky",
          "Louisiana",
          "Maine",
          "Maryland",
          "Massachusetts",
          "Michigan",
          "Minnesota",
          "Mississippi",
          "Missouri",
          "Montana",
          "Nebraska",
          "Nevada",
          "New Hampshire",
          "New Jersey",
          "New Mexico",
          "New York",
          "North Carolina",
          "Ohio",
          "Oklahoma",
          "Oregon",
          "Pennsylvania",
          "Rhode Island",
          "South Carolina",
          "Tennessee",
          "Texas",
          "Utah",
          "Vermont",
          "Virginia",
          "Washington",
          "Wisconsin"
         ],
         "locationmode": "USA-states",
         "locations": [
          "AL",
          "AK",
          "AZ",
          "AR",
          "CA",
          "CO",
          "CT",
          "DE",
          "DC",
          "FL",
          "GA",
          "ID",
          "IL",
          "IN",
          "IA",
          "KS",
          "KY",
          "LA",
          "ME",
          "MD",
          "MA",
          "MI",
          "MN",
          "MS",
          "MO",
          "MT",
          "NE",
          "NV",
          "NH",
          "NJ",
          "NM",
          "NY",
          "NC",
          "OH",
          "OK",
          "OR",
          "PA",
          "RI",
          "SC",
          "TN",
          "TX",
          "UT",
          "VT",
          "VA",
          "WA",
          "WI"
         ],
         "name": "",
         "type": "choropleth",
         "z": [
          6.73,
          8.55,
          6.95,
          5.58,
          7.03,
          4.58,
          6.62,
          5.88,
          8.17,
          6.23,
          6.78,
          4.67,
          7.03,
          5.62,
          4.38,
          4.85,
          6.45,
          7.12,
          5,
          5.85,
          5.42,
          6.47,
          4.6,
          7.3,
          5.65,
          5.08,
          3.8,
          7.5,
          3.88,
          6.62,
          7.77,
          6.25,
          6.48,
          6.33,
          5.22,
          6.45,
          6.35,
          6.83,
          6.33,
          6.15,
          5.45,
          4.38,
          4.12,
          5.25,
          6.65,
          5.18
         ]
        }
       ],
       "layout": {
        "autosize": false,
        "coloraxis": {
         "colorbar": {
          "title": {
           "text": "Average Unempl 2014-18"
          }
         },
         "colorscale": [
          [
           0,
           "rgb(247,251,255)"
          ],
          [
           0.125,
           "rgb(222,235,247)"
          ],
          [
           0.25,
           "rgb(198,219,239)"
          ],
          [
           0.375,
           "rgb(158,202,225)"
          ],
          [
           0.5,
           "rgb(107,174,214)"
          ],
          [
           0.625,
           "rgb(66,146,198)"
          ],
          [
           0.75,
           "rgb(33,113,181)"
          ],
          [
           0.875,
           "rgb(8,81,156)"
          ],
          [
           1,
           "rgb(8,48,107)"
          ]
         ]
        },
        "geo": {
         "center": {},
         "domain": {
          "x": [
           0,
           1
          ],
          "y": [
           0,
           1
          ]
         },
         "scope": "usa"
        },
        "height": 400,
        "legend": {
         "tracegroupgap": 0
        },
        "margin": {
         "t": 60
        },
        "template": {
         "data": {
          "bar": [
           {
            "error_x": {
             "color": "#2a3f5f"
            },
            "error_y": {
             "color": "#2a3f5f"
            },
            "marker": {
             "line": {
              "color": "#E5ECF6",
              "width": 0.5
             }
            },
            "type": "bar"
           }
          ],
          "barpolar": [
           {
            "marker": {
             "line": {
              "color": "#E5ECF6",
              "width": 0.5
             }
            },
            "type": "barpolar"
           }
          ],
          "carpet": [
           {
            "aaxis": {
             "endlinecolor": "#2a3f5f",
             "gridcolor": "white",
             "linecolor": "white",
             "minorgridcolor": "white",
             "startlinecolor": "#2a3f5f"
            },
            "baxis": {
             "endlinecolor": "#2a3f5f",
             "gridcolor": "white",
             "linecolor": "white",
             "minorgridcolor": "white",
             "startlinecolor": "#2a3f5f"
            },
            "type": "carpet"
           }
          ],
          "choropleth": [
           {
            "colorbar": {
             "outlinewidth": 0,
             "ticks": ""
            },
            "type": "choropleth"
           }
          ],
          "contour": [
           {
            "colorbar": {
             "outlinewidth": 0,
             "ticks": ""
            },
            "colorscale": [
             [
              0,
              "#0d0887"
             ],
             [
              0.1111111111111111,
              "#46039f"
             ],
             [
              0.2222222222222222,
              "#7201a8"
             ],
             [
              0.3333333333333333,
              "#9c179e"
             ],
             [
              0.4444444444444444,
              "#bd3786"
             ],
             [
              0.5555555555555556,
              "#d8576b"
             ],
             [
              0.6666666666666666,
              "#ed7953"
             ],
             [
              0.7777777777777778,
              "#fb9f3a"
             ],
             [
              0.8888888888888888,
              "#fdca26"
             ],
             [
              1,
              "#f0f921"
             ]
            ],
            "type": "contour"
           }
          ],
          "contourcarpet": [
           {
            "colorbar": {
             "outlinewidth": 0,
             "ticks": ""
            },
            "type": "contourcarpet"
           }
          ],
          "heatmap": [
           {
            "colorbar": {
             "outlinewidth": 0,
             "ticks": ""
            },
            "colorscale": [
             [
              0,
              "#0d0887"
             ],
             [
              0.1111111111111111,
              "#46039f"
             ],
             [
              0.2222222222222222,
              "#7201a8"
             ],
             [
              0.3333333333333333,
              "#9c179e"
             ],
             [
              0.4444444444444444,
              "#bd3786"
             ],
             [
              0.5555555555555556,
              "#d8576b"
             ],
             [
              0.6666666666666666,
              "#ed7953"
             ],
             [
              0.7777777777777778,
              "#fb9f3a"
             ],
             [
              0.8888888888888888,
              "#fdca26"
             ],
             [
              1,
              "#f0f921"
             ]
            ],
            "type": "heatmap"
           }
          ],
          "heatmapgl": [
           {
            "colorbar": {
             "outlinewidth": 0,
             "ticks": ""
            },
            "colorscale": [
             [
              0,
              "#0d0887"
             ],
             [
              0.1111111111111111,
              "#46039f"
             ],
             [
              0.2222222222222222,
              "#7201a8"
             ],
             [
              0.3333333333333333,
              "#9c179e"
             ],
             [
              0.4444444444444444,
              "#bd3786"
             ],
             [
              0.5555555555555556,
              "#d8576b"
             ],
             [
              0.6666666666666666,
              "#ed7953"
             ],
             [
              0.7777777777777778,
              "#fb9f3a"
             ],
             [
              0.8888888888888888,
              "#fdca26"
             ],
             [
              1,
              "#f0f921"
             ]
            ],
            "type": "heatmapgl"
           }
          ],
          "histogram": [
           {
            "marker": {
             "colorbar": {
              "outlinewidth": 0,
              "ticks": ""
             }
            },
            "type": "histogram"
           }
          ],
          "histogram2d": [
           {
            "colorbar": {
             "outlinewidth": 0,
             "ticks": ""
            },
            "colorscale": [
             [
              0,
              "#0d0887"
             ],
             [
              0.1111111111111111,
              "#46039f"
             ],
             [
              0.2222222222222222,
              "#7201a8"
             ],
             [
              0.3333333333333333,
              "#9c179e"
             ],
             [
              0.4444444444444444,
              "#bd3786"
             ],
             [
              0.5555555555555556,
              "#d8576b"
             ],
             [
              0.6666666666666666,
              "#ed7953"
             ],
             [
              0.7777777777777778,
              "#fb9f3a"
             ],
             [
              0.8888888888888888,
              "#fdca26"
             ],
             [
              1,
              "#f0f921"
             ]
            ],
            "type": "histogram2d"
           }
          ],
          "histogram2dcontour": [
           {
            "colorbar": {
             "outlinewidth": 0,
             "ticks": ""
            },
            "colorscale": [
             [
              0,
              "#0d0887"
             ],
             [
              0.1111111111111111,
              "#46039f"
             ],
             [
              0.2222222222222222,
              "#7201a8"
             ],
             [
              0.3333333333333333,
              "#9c179e"
             ],
             [
              0.4444444444444444,
              "#bd3786"
             ],
             [
              0.5555555555555556,
              "#d8576b"
             ],
             [
              0.6666666666666666,
              "#ed7953"
             ],
             [
              0.7777777777777778,
              "#fb9f3a"
             ],
             [
              0.8888888888888888,
              "#fdca26"
             ],
             [
              1,
              "#f0f921"
             ]
            ],
            "type": "histogram2dcontour"
           }
          ],
          "mesh3d": [
           {
            "colorbar": {
             "outlinewidth": 0,
             "ticks": ""
            },
            "type": "mesh3d"
           }
          ],
          "parcoords": [
           {
            "line": {
             "colorbar": {
              "outlinewidth": 0,
              "ticks": ""
             }
            },
            "type": "parcoords"
           }
          ],
          "pie": [
           {
            "automargin": true,
            "type": "pie"
           }
          ],
          "scatter": [
           {
            "marker": {
             "colorbar": {
              "outlinewidth": 0,
              "ticks": ""
             }
            },
            "type": "scatter"
           }
          ],
          "scatter3d": [
           {
            "line": {
             "colorbar": {
              "outlinewidth": 0,
              "ticks": ""
             }
            },
            "marker": {
             "colorbar": {
              "outlinewidth": 0,
              "ticks": ""
             }
            },
            "type": "scatter3d"
           }
          ],
          "scattercarpet": [
           {
            "marker": {
             "colorbar": {
              "outlinewidth": 0,
              "ticks": ""
             }
            },
            "type": "scattercarpet"
           }
          ],
          "scattergeo": [
           {
            "marker": {
             "colorbar": {
              "outlinewidth": 0,
              "ticks": ""
             }
            },
            "type": "scattergeo"
           }
          ],
          "scattergl": [
           {
            "marker": {
             "colorbar": {
              "outlinewidth": 0,
              "ticks": ""
             }
            },
            "type": "scattergl"
           }
          ],
          "scattermapbox": [
           {
            "marker": {
             "colorbar": {
              "outlinewidth": 0,
              "ticks": ""
             }
            },
            "type": "scattermapbox"
           }
          ],
          "scatterpolar": [
           {
            "marker": {
             "colorbar": {
              "outlinewidth": 0,
              "ticks": ""
             }
            },
            "type": "scatterpolar"
           }
          ],
          "scatterpolargl": [
           {
            "marker": {
             "colorbar": {
              "outlinewidth": 0,
              "ticks": ""
             }
            },
            "type": "scatterpolargl"
           }
          ],
          "scatterternary": [
           {
            "marker": {
             "colorbar": {
              "outlinewidth": 0,
              "ticks": ""
             }
            },
            "type": "scatterternary"
           }
          ],
          "surface": [
           {
            "colorbar": {
             "outlinewidth": 0,
             "ticks": ""
            },
            "colorscale": [
             [
              0,
              "#0d0887"
             ],
             [
              0.1111111111111111,
              "#46039f"
             ],
             [
              0.2222222222222222,
              "#7201a8"
             ],
             [
              0.3333333333333333,
              "#9c179e"
             ],
             [
              0.4444444444444444,
              "#bd3786"
             ],
             [
              0.5555555555555556,
              "#d8576b"
             ],
             [
              0.6666666666666666,
              "#ed7953"
             ],
             [
              0.7777777777777778,
              "#fb9f3a"
             ],
             [
              0.8888888888888888,
              "#fdca26"
             ],
             [
              1,
              "#f0f921"
             ]
            ],
            "type": "surface"
           }
          ],
          "table": [
           {
            "cells": {
             "fill": {
              "color": "#EBF0F8"
             },
             "line": {
              "color": "white"
             }
            },
            "header": {
             "fill": {
              "color": "#C8D4E3"
             },
             "line": {
              "color": "white"
             }
            },
            "type": "table"
           }
          ]
         },
         "layout": {
          "annotationdefaults": {
           "arrowcolor": "#2a3f5f",
           "arrowhead": 0,
           "arrowwidth": 1
          },
          "coloraxis": {
           "colorbar": {
            "outlinewidth": 0,
            "ticks": ""
           }
          },
          "colorscale": {
           "diverging": [
            [
             0,
             "#8e0152"
            ],
            [
             0.1,
             "#c51b7d"
            ],
            [
             0.2,
             "#de77ae"
            ],
            [
             0.3,
             "#f1b6da"
            ],
            [
             0.4,
             "#fde0ef"
            ],
            [
             0.5,
             "#f7f7f7"
            ],
            [
             0.6,
             "#e6f5d0"
            ],
            [
             0.7,
             "#b8e186"
            ],
            [
             0.8,
             "#7fbc41"
            ],
            [
             0.9,
             "#4d9221"
            ],
            [
             1,
             "#276419"
            ]
           ],
           "sequential": [
            [
             0,
             "#0d0887"
            ],
            [
             0.1111111111111111,
             "#46039f"
            ],
            [
             0.2222222222222222,
             "#7201a8"
            ],
            [
             0.3333333333333333,
             "#9c179e"
            ],
            [
             0.4444444444444444,
             "#bd3786"
            ],
            [
             0.5555555555555556,
             "#d8576b"
            ],
            [
             0.6666666666666666,
             "#ed7953"
            ],
            [
             0.7777777777777778,
             "#fb9f3a"
            ],
            [
             0.8888888888888888,
             "#fdca26"
            ],
            [
             1,
             "#f0f921"
            ]
           ],
           "sequentialminus": [
            [
             0,
             "#0d0887"
            ],
            [
             0.1111111111111111,
             "#46039f"
            ],
            [
             0.2222222222222222,
             "#7201a8"
            ],
            [
             0.3333333333333333,
             "#9c179e"
            ],
            [
             0.4444444444444444,
             "#bd3786"
            ],
            [
             0.5555555555555556,
             "#d8576b"
            ],
            [
             0.6666666666666666,
             "#ed7953"
            ],
            [
             0.7777777777777778,
             "#fb9f3a"
            ],
            [
             0.8888888888888888,
             "#fdca26"
            ],
            [
             1,
             "#f0f921"
            ]
           ]
          },
          "colorway": [
           "#636efa",
           "#EF553B",
           "#00cc96",
           "#ab63fa",
           "#FFA15A",
           "#19d3f3",
           "#FF6692",
           "#B6E880",
           "#FF97FF",
           "#FECB52"
          ],
          "font": {
           "color": "#2a3f5f"
          },
          "geo": {
           "bgcolor": "white",
           "lakecolor": "white",
           "landcolor": "#E5ECF6",
           "showlakes": true,
           "showland": true,
           "subunitcolor": "white"
          },
          "hoverlabel": {
           "align": "left"
          },
          "hovermode": "closest",
          "mapbox": {
           "style": "light"
          },
          "paper_bgcolor": "white",
          "plot_bgcolor": "#E5ECF6",
          "polar": {
           "angularaxis": {
            "gridcolor": "white",
            "linecolor": "white",
            "ticks": ""
           },
           "bgcolor": "#E5ECF6",
           "radialaxis": {
            "gridcolor": "white",
            "linecolor": "white",
            "ticks": ""
           }
          },
          "scene": {
           "xaxis": {
            "backgroundcolor": "#E5ECF6",
            "gridcolor": "white",
            "gridwidth": 2,
            "linecolor": "white",
            "showbackground": true,
            "ticks": "",
            "zerolinecolor": "white"
           },
           "yaxis": {
            "backgroundcolor": "#E5ECF6",
            "gridcolor": "white",
            "gridwidth": 2,
            "linecolor": "white",
            "showbackground": true,
            "ticks": "",
            "zerolinecolor": "white"
           },
           "zaxis": {
            "backgroundcolor": "#E5ECF6",
            "gridcolor": "white",
            "gridwidth": 2,
            "linecolor": "white",
            "showbackground": true,
            "ticks": "",
            "zerolinecolor": "white"
           }
          },
          "shapedefaults": {
           "line": {
            "color": "#2a3f5f"
           }
          },
          "ternary": {
           "aaxis": {
            "gridcolor": "white",
            "linecolor": "white",
            "ticks": ""
           },
           "baxis": {
            "gridcolor": "white",
            "linecolor": "white",
            "ticks": ""
           },
           "bgcolor": "#E5ECF6",
           "caxis": {
            "gridcolor": "white",
            "linecolor": "white",
            "ticks": ""
           }
          },
          "title": {
           "x": 0.05
          },
          "xaxis": {
           "automargin": true,
           "gridcolor": "white",
           "linecolor": "white",
           "ticks": "",
           "title": {
            "standoff": 15
           },
           "zerolinecolor": "white",
           "zerolinewidth": 2
          },
          "yaxis": {
           "automargin": true,
           "gridcolor": "white",
           "linecolor": "white",
           "ticks": "",
           "title": {
            "standoff": 15
           },
           "zerolinecolor": "white",
           "zerolinewidth": 2
          }
         }
        },
        "title": {
         "text": "State Rankings Based on Unemployment"
        },
        "width": 800
       }
      },
      "text/html": [
       "<div>\n",
       "        \n",
       "        \n",
       "            <div id=\"ab9e7713-e5c6-4bc0-8b7d-a9494c44f6fa\" class=\"plotly-graph-div\" style=\"height:400px; width:800px;\"></div>\n",
       "            <script type=\"text/javascript\">\n",
       "                require([\"plotly\"], function(Plotly) {\n",
       "                    window.PLOTLYENV=window.PLOTLYENV || {};\n",
       "                    \n",
       "                if (document.getElementById(\"ab9e7713-e5c6-4bc0-8b7d-a9494c44f6fa\")) {\n",
       "                    Plotly.newPlot(\n",
       "                        'ab9e7713-e5c6-4bc0-8b7d-a9494c44f6fa',\n",
       "                        [{\"coloraxis\": \"coloraxis\", \"geo\": \"geo\", \"hovertemplate\": \"<b>%{hovertext}</b><br><br>Stabr=%{location}<br>Average Unempl 2014-18=%{z}<extra></extra>\", \"hovertext\": [\"Alabama\", \"Alaska\", \"Arizona\", \"Arkansas\", \"California\", \"Colorado\", \"Connecticut\", \"Delaware\", \"District of Columbia\", \"Florida\", \"Georgia\", \"Idaho\", \"Illinois\", \"Indiana\", \"Iowa\", \"Kansas\", \"Kentucky\", \"Louisiana\", \"Maine\", \"Maryland\", \"Massachusetts\", \"Michigan\", \"Minnesota\", \"Mississippi\", \"Missouri\", \"Montana\", \"Nebraska\", \"Nevada\", \"New Hampshire\", \"New Jersey\", \"New Mexico\", \"New York\", \"North Carolina\", \"Ohio\", \"Oklahoma\", \"Oregon\", \"Pennsylvania\", \"Rhode Island\", \"South Carolina\", \"Tennessee\", \"Texas\", \"Utah\", \"Vermont\", \"Virginia\", \"Washington\", \"Wisconsin\"], \"locationmode\": \"USA-states\", \"locations\": [\"AL\", \"AK\", \"AZ\", \"AR\", \"CA\", \"CO\", \"CT\", \"DE\", \"DC\", \"FL\", \"GA\", \"ID\", \"IL\", \"IN\", \"IA\", \"KS\", \"KY\", \"LA\", \"ME\", \"MD\", \"MA\", \"MI\", \"MN\", \"MS\", \"MO\", \"MT\", \"NE\", \"NV\", \"NH\", \"NJ\", \"NM\", \"NY\", \"NC\", \"OH\", \"OK\", \"OR\", \"PA\", \"RI\", \"SC\", \"TN\", \"TX\", \"UT\", \"VT\", \"VA\", \"WA\", \"WI\"], \"name\": \"\", \"type\": \"choropleth\", \"z\": [6.73, 8.55, 6.95, 5.58, 7.03, 4.58, 6.62, 5.88, 8.17, 6.23, 6.78, 4.67, 7.03, 5.62, 4.38, 4.85, 6.45, 7.12, 5.0, 5.85, 5.42, 6.47, 4.6, 7.3, 5.65, 5.08, 3.8, 7.5, 3.88, 6.62, 7.77, 6.25, 6.48, 6.33, 5.22, 6.45, 6.35, 6.83, 6.33, 6.15, 5.45, 4.38, 4.12, 5.25, 6.65, 5.18]}],\n",
       "                        {\"autosize\": false, \"coloraxis\": {\"colorbar\": {\"title\": {\"text\": \"Average Unempl 2014-18\"}}, \"colorscale\": [[0.0, \"rgb(247,251,255)\"], [0.125, \"rgb(222,235,247)\"], [0.25, \"rgb(198,219,239)\"], [0.375, \"rgb(158,202,225)\"], [0.5, \"rgb(107,174,214)\"], [0.625, \"rgb(66,146,198)\"], [0.75, \"rgb(33,113,181)\"], [0.875, \"rgb(8,81,156)\"], [1.0, \"rgb(8,48,107)\"]]}, \"geo\": {\"center\": {}, \"domain\": {\"x\": [0.0, 1.0], \"y\": [0.0, 1.0]}, \"scope\": \"usa\"}, \"height\": 400, \"legend\": {\"tracegroupgap\": 0}, \"margin\": {\"t\": 60}, \"template\": {\"data\": {\"bar\": [{\"error_x\": {\"color\": \"#2a3f5f\"}, \"error_y\": {\"color\": \"#2a3f5f\"}, \"marker\": {\"line\": {\"color\": \"#E5ECF6\", \"width\": 0.5}}, \"type\": \"bar\"}], \"barpolar\": [{\"marker\": {\"line\": {\"color\": \"#E5ECF6\", \"width\": 0.5}}, \"type\": \"barpolar\"}], \"carpet\": [{\"aaxis\": {\"endlinecolor\": \"#2a3f5f\", \"gridcolor\": \"white\", \"linecolor\": \"white\", \"minorgridcolor\": \"white\", \"startlinecolor\": \"#2a3f5f\"}, \"baxis\": {\"endlinecolor\": \"#2a3f5f\", \"gridcolor\": \"white\", \"linecolor\": \"white\", \"minorgridcolor\": \"white\", \"startlinecolor\": \"#2a3f5f\"}, \"type\": \"carpet\"}], \"choropleth\": [{\"colorbar\": {\"outlinewidth\": 0, \"ticks\": \"\"}, \"type\": \"choropleth\"}], \"contour\": [{\"colorbar\": {\"outlinewidth\": 0, \"ticks\": \"\"}, \"colorscale\": [[0.0, \"#0d0887\"], [0.1111111111111111, \"#46039f\"], [0.2222222222222222, \"#7201a8\"], [0.3333333333333333, \"#9c179e\"], [0.4444444444444444, \"#bd3786\"], [0.5555555555555556, \"#d8576b\"], [0.6666666666666666, \"#ed7953\"], [0.7777777777777778, \"#fb9f3a\"], [0.8888888888888888, \"#fdca26\"], [1.0, \"#f0f921\"]], \"type\": \"contour\"}], \"contourcarpet\": [{\"colorbar\": {\"outlinewidth\": 0, \"ticks\": \"\"}, \"type\": \"contourcarpet\"}], \"heatmap\": [{\"colorbar\": {\"outlinewidth\": 0, \"ticks\": \"\"}, \"colorscale\": [[0.0, \"#0d0887\"], [0.1111111111111111, \"#46039f\"], [0.2222222222222222, \"#7201a8\"], [0.3333333333333333, \"#9c179e\"], [0.4444444444444444, \"#bd3786\"], [0.5555555555555556, \"#d8576b\"], [0.6666666666666666, \"#ed7953\"], [0.7777777777777778, \"#fb9f3a\"], [0.8888888888888888, \"#fdca26\"], [1.0, \"#f0f921\"]], \"type\": \"heatmap\"}], \"heatmapgl\": [{\"colorbar\": {\"outlinewidth\": 0, \"ticks\": \"\"}, \"colorscale\": [[0.0, \"#0d0887\"], [0.1111111111111111, \"#46039f\"], [0.2222222222222222, \"#7201a8\"], [0.3333333333333333, \"#9c179e\"], [0.4444444444444444, \"#bd3786\"], [0.5555555555555556, \"#d8576b\"], [0.6666666666666666, \"#ed7953\"], [0.7777777777777778, \"#fb9f3a\"], [0.8888888888888888, \"#fdca26\"], [1.0, \"#f0f921\"]], \"type\": \"heatmapgl\"}], \"histogram\": [{\"marker\": {\"colorbar\": {\"outlinewidth\": 0, \"ticks\": \"\"}}, \"type\": \"histogram\"}], \"histogram2d\": [{\"colorbar\": {\"outlinewidth\": 0, \"ticks\": \"\"}, \"colorscale\": [[0.0, \"#0d0887\"], [0.1111111111111111, \"#46039f\"], [0.2222222222222222, \"#7201a8\"], [0.3333333333333333, \"#9c179e\"], [0.4444444444444444, \"#bd3786\"], [0.5555555555555556, \"#d8576b\"], [0.6666666666666666, \"#ed7953\"], [0.7777777777777778, \"#fb9f3a\"], [0.8888888888888888, \"#fdca26\"], [1.0, \"#f0f921\"]], \"type\": \"histogram2d\"}], \"histogram2dcontour\": [{\"colorbar\": {\"outlinewidth\": 0, \"ticks\": \"\"}, \"colorscale\": [[0.0, \"#0d0887\"], [0.1111111111111111, \"#46039f\"], [0.2222222222222222, \"#7201a8\"], [0.3333333333333333, \"#9c179e\"], [0.4444444444444444, \"#bd3786\"], [0.5555555555555556, \"#d8576b\"], [0.6666666666666666, \"#ed7953\"], [0.7777777777777778, \"#fb9f3a\"], [0.8888888888888888, \"#fdca26\"], [1.0, \"#f0f921\"]], \"type\": \"histogram2dcontour\"}], \"mesh3d\": [{\"colorbar\": {\"outlinewidth\": 0, \"ticks\": \"\"}, \"type\": \"mesh3d\"}], \"parcoords\": [{\"line\": {\"colorbar\": {\"outlinewidth\": 0, \"ticks\": \"\"}}, \"type\": \"parcoords\"}], \"pie\": [{\"automargin\": true, \"type\": \"pie\"}], \"scatter\": [{\"marker\": {\"colorbar\": {\"outlinewidth\": 0, \"ticks\": \"\"}}, \"type\": \"scatter\"}], \"scatter3d\": [{\"line\": {\"colorbar\": {\"outlinewidth\": 0, \"ticks\": \"\"}}, \"marker\": {\"colorbar\": {\"outlinewidth\": 0, \"ticks\": \"\"}}, \"type\": \"scatter3d\"}], \"scattercarpet\": [{\"marker\": {\"colorbar\": {\"outlinewidth\": 0, \"ticks\": \"\"}}, \"type\": \"scattercarpet\"}], \"scattergeo\": [{\"marker\": {\"colorbar\": {\"outlinewidth\": 0, \"ticks\": \"\"}}, \"type\": \"scattergeo\"}], \"scattergl\": [{\"marker\": {\"colorbar\": {\"outlinewidth\": 0, \"ticks\": \"\"}}, \"type\": \"scattergl\"}], \"scattermapbox\": [{\"marker\": {\"colorbar\": {\"outlinewidth\": 0, \"ticks\": \"\"}}, \"type\": \"scattermapbox\"}], \"scatterpolar\": [{\"marker\": {\"colorbar\": {\"outlinewidth\": 0, \"ticks\": \"\"}}, \"type\": \"scatterpolar\"}], \"scatterpolargl\": [{\"marker\": {\"colorbar\": {\"outlinewidth\": 0, \"ticks\": \"\"}}, \"type\": \"scatterpolargl\"}], \"scatterternary\": [{\"marker\": {\"colorbar\": {\"outlinewidth\": 0, \"ticks\": \"\"}}, \"type\": \"scatterternary\"}], \"surface\": [{\"colorbar\": {\"outlinewidth\": 0, \"ticks\": \"\"}, \"colorscale\": [[0.0, \"#0d0887\"], [0.1111111111111111, \"#46039f\"], [0.2222222222222222, \"#7201a8\"], [0.3333333333333333, \"#9c179e\"], [0.4444444444444444, \"#bd3786\"], [0.5555555555555556, \"#d8576b\"], [0.6666666666666666, \"#ed7953\"], [0.7777777777777778, \"#fb9f3a\"], [0.8888888888888888, \"#fdca26\"], [1.0, \"#f0f921\"]], \"type\": \"surface\"}], \"table\": [{\"cells\": {\"fill\": {\"color\": \"#EBF0F8\"}, \"line\": {\"color\": \"white\"}}, \"header\": {\"fill\": {\"color\": \"#C8D4E3\"}, \"line\": {\"color\": \"white\"}}, \"type\": \"table\"}]}, \"layout\": {\"annotationdefaults\": {\"arrowcolor\": \"#2a3f5f\", \"arrowhead\": 0, \"arrowwidth\": 1}, \"coloraxis\": {\"colorbar\": {\"outlinewidth\": 0, \"ticks\": \"\"}}, \"colorscale\": {\"diverging\": [[0, \"#8e0152\"], [0.1, \"#c51b7d\"], [0.2, \"#de77ae\"], [0.3, \"#f1b6da\"], [0.4, \"#fde0ef\"], [0.5, \"#f7f7f7\"], [0.6, \"#e6f5d0\"], [0.7, \"#b8e186\"], [0.8, \"#7fbc41\"], [0.9, \"#4d9221\"], [1, \"#276419\"]], \"sequential\": [[0.0, \"#0d0887\"], [0.1111111111111111, \"#46039f\"], [0.2222222222222222, \"#7201a8\"], [0.3333333333333333, \"#9c179e\"], [0.4444444444444444, \"#bd3786\"], [0.5555555555555556, \"#d8576b\"], [0.6666666666666666, \"#ed7953\"], [0.7777777777777778, \"#fb9f3a\"], [0.8888888888888888, \"#fdca26\"], [1.0, \"#f0f921\"]], \"sequentialminus\": [[0.0, \"#0d0887\"], [0.1111111111111111, \"#46039f\"], [0.2222222222222222, \"#7201a8\"], [0.3333333333333333, \"#9c179e\"], [0.4444444444444444, \"#bd3786\"], [0.5555555555555556, \"#d8576b\"], [0.6666666666666666, \"#ed7953\"], [0.7777777777777778, \"#fb9f3a\"], [0.8888888888888888, \"#fdca26\"], [1.0, \"#f0f921\"]]}, \"colorway\": [\"#636efa\", \"#EF553B\", \"#00cc96\", \"#ab63fa\", \"#FFA15A\", \"#19d3f3\", \"#FF6692\", \"#B6E880\", \"#FF97FF\", \"#FECB52\"], \"font\": {\"color\": \"#2a3f5f\"}, \"geo\": {\"bgcolor\": \"white\", \"lakecolor\": \"white\", \"landcolor\": \"#E5ECF6\", \"showlakes\": true, \"showland\": true, \"subunitcolor\": \"white\"}, \"hoverlabel\": {\"align\": \"left\"}, \"hovermode\": \"closest\", \"mapbox\": {\"style\": \"light\"}, \"paper_bgcolor\": \"white\", \"plot_bgcolor\": \"#E5ECF6\", \"polar\": {\"angularaxis\": {\"gridcolor\": \"white\", \"linecolor\": \"white\", \"ticks\": \"\"}, \"bgcolor\": \"#E5ECF6\", \"radialaxis\": {\"gridcolor\": \"white\", \"linecolor\": \"white\", \"ticks\": \"\"}}, \"scene\": {\"xaxis\": {\"backgroundcolor\": \"#E5ECF6\", \"gridcolor\": \"white\", \"gridwidth\": 2, \"linecolor\": \"white\", \"showbackground\": true, \"ticks\": \"\", \"zerolinecolor\": \"white\"}, \"yaxis\": {\"backgroundcolor\": \"#E5ECF6\", \"gridcolor\": \"white\", \"gridwidth\": 2, \"linecolor\": \"white\", \"showbackground\": true, \"ticks\": \"\", \"zerolinecolor\": \"white\"}, \"zaxis\": {\"backgroundcolor\": \"#E5ECF6\", \"gridcolor\": \"white\", \"gridwidth\": 2, \"linecolor\": \"white\", \"showbackground\": true, \"ticks\": \"\", \"zerolinecolor\": \"white\"}}, \"shapedefaults\": {\"line\": {\"color\": \"#2a3f5f\"}}, \"ternary\": {\"aaxis\": {\"gridcolor\": \"white\", \"linecolor\": \"white\", \"ticks\": \"\"}, \"baxis\": {\"gridcolor\": \"white\", \"linecolor\": \"white\", \"ticks\": \"\"}, \"bgcolor\": \"#E5ECF6\", \"caxis\": {\"gridcolor\": \"white\", \"linecolor\": \"white\", \"ticks\": \"\"}}, \"title\": {\"x\": 0.05}, \"xaxis\": {\"automargin\": true, \"gridcolor\": \"white\", \"linecolor\": \"white\", \"ticks\": \"\", \"title\": {\"standoff\": 15}, \"zerolinecolor\": \"white\", \"zerolinewidth\": 2}, \"yaxis\": {\"automargin\": true, \"gridcolor\": \"white\", \"linecolor\": \"white\", \"ticks\": \"\", \"title\": {\"standoff\": 15}, \"zerolinecolor\": \"white\", \"zerolinewidth\": 2}}}, \"title\": {\"text\": \"State Rankings Based on Unemployment\"}, \"width\": 800},\n",
       "                        {\"responsive\": true}\n",
       "                    ).then(function(){\n",
       "                            \n",
       "var gd = document.getElementById('ab9e7713-e5c6-4bc0-8b7d-a9494c44f6fa');\n",
       "var x = new MutationObserver(function (mutations, observer) {{\n",
       "        var display = window.getComputedStyle(gd).display;\n",
       "        if (!display || display === 'none') {{\n",
       "            console.log([gd, 'removed!']);\n",
       "            Plotly.purge(gd);\n",
       "            observer.disconnect();\n",
       "        }}\n",
       "}});\n",
       "\n",
       "// Listen for the removal of the full notebook cells\n",
       "var notebookContainer = gd.closest('#notebook-container');\n",
       "if (notebookContainer) {{\n",
       "    x.observe(notebookContainer, {childList: true});\n",
       "}}\n",
       "\n",
       "// Listen for the clearing of the current output cell\n",
       "var outputEl = gd.closest('.output');\n",
       "if (outputEl) {{\n",
       "    x.observe(outputEl, {childList: true});\n",
       "}}\n",
       "\n",
       "                        })\n",
       "                };\n",
       "                });\n",
       "            </script>\n",
       "        </div>"
      ]
     },
     "metadata": {},
     "output_type": "display_data"
    }
   ],
   "source": [
    "fig = px.choropleth(merged_df_fin,  # Input Pandas DataFrame\n",
    "                    locations=\"Stabr\",  # DataFrame column with locations\n",
    "                    color=\"Average Unempl 2014-18\",  # DataFrame column with color values\n",
    "                    color_continuous_scale=\"Blues\",\n",
    "                    hover_name=\"area_name\", # DataFrame column hover info\n",
    "                    locationmode = 'USA-states') # Set to plot as US States\n",
    "# colorscale = ['#f2f0f7','#dadaeb','#bcbddc','#9e9ac8','#756bb1','#54278f']\n",
    "fig.update_layout(\n",
    "    title_text = 'State Rankings Based on Unemployment', # Create a Title\n",
    "    autosize=False,\n",
    "    width=800,\n",
    "    height=400,\n",
    "#     autocolorscale = True,\n",
    "#     colorscale = \"sequential\", \n",
    "    geo_scope='usa',  # Plot only the USA instead of globe\n",
    ")\n",
    "\n",
    "# fig.update_yaxes(automargin=True)\n",
    "# plt.savefig(\"Images/unemployment_heat_map.png\")\n",
    "fig.show()  # Output the plot to the screen"
   ]
  },
  {
   "cell_type": "code",
   "execution_count": 63,
   "metadata": {},
   "outputs": [
    {
     "data": {
      "application/vnd.plotly.v1+json": {
       "config": {
        "plotlyServerURL": "https://plot.ly"
       },
       "data": [
        {
         "coloraxis": "coloraxis",
         "geo": "geo",
         "hovertemplate": "<b>%{hovertext}</b><br><br>Stabr=%{location}<br>hate_crimes_per_100k_splc=%{z}<extra></extra>",
         "hovertext": [
          "Alabama",
          "Alaska",
          "Arizona",
          "Arkansas",
          "California",
          "Colorado",
          "Connecticut",
          "Delaware",
          "District of Columbia",
          "Florida",
          "Georgia",
          "Idaho",
          "Illinois",
          "Indiana",
          "Iowa",
          "Kansas",
          "Kentucky",
          "Louisiana",
          "Maine",
          "Maryland",
          "Massachusetts",
          "Michigan",
          "Minnesota",
          "Mississippi",
          "Missouri",
          "Montana",
          "Nebraska",
          "Nevada",
          "New Hampshire",
          "New Jersey",
          "New Mexico",
          "New York",
          "North Carolina",
          "Ohio",
          "Oklahoma",
          "Oregon",
          "Pennsylvania",
          "Rhode Island",
          "South Carolina",
          "Tennessee",
          "Texas",
          "Utah",
          "Vermont",
          "Virginia",
          "Washington",
          "Wisconsin"
         ],
         "locationmode": "USA-states",
         "locations": [
          "AL",
          "AK",
          "AZ",
          "AR",
          "CA",
          "CO",
          "CT",
          "DE",
          "DC",
          "FL",
          "GA",
          "ID",
          "IL",
          "IN",
          "IA",
          "KS",
          "KY",
          "LA",
          "ME",
          "MD",
          "MA",
          "MI",
          "MN",
          "MS",
          "MO",
          "MT",
          "NE",
          "NV",
          "NH",
          "NJ",
          "NM",
          "NY",
          "NC",
          "OH",
          "OK",
          "OR",
          "PA",
          "RI",
          "SC",
          "TN",
          "TX",
          "UT",
          "VT",
          "VA",
          "WA",
          "WI"
         ],
         "name": "",
         "type": "choropleth",
         "z": [
          0.125838926,
          0.143740118,
          0.225319954,
          0.06906077299999999,
          0.255805361,
          0.390523301,
          0.33539226899999997,
          0.322754169,
          1.52230172,
          0.18752122300000001,
          0.120420267,
          0.124208173,
          0.19534454899999998,
          0.247008877,
          0.454427421,
          0.105152471,
          0.324396969,
          0.10973334800000001,
          0.615574023,
          0.37043897,
          0.630810592,
          0.403779375,
          0.62747993,
          0.067446801,
          0.18452351,
          0.49549103200000005,
          0.15948963300000002,
          0.14167316,
          0.151549595,
          0.078305908,
          0.294811321,
          0.35062044600000003,
          0.244006588,
          0.19071396399999999,
          0.133629099,
          0.832849608,
          0.285101092,
          0.095401641,
          0.209894423,
          0.19993848,
          0.213583938,
          0.136546733,
          0.324149109,
          0.363248898,
          0.67748765,
          0.226197105
         ]
        }
       ],
       "layout": {
        "autosize": false,
        "coloraxis": {
         "colorbar": {
          "title": {
           "text": "hate_crimes_per_100k_splc"
          }
         },
         "colorscale": [
          [
           0,
           "rgb(255,245,240)"
          ],
          [
           0.125,
           "rgb(254,224,210)"
          ],
          [
           0.25,
           "rgb(252,187,161)"
          ],
          [
           0.375,
           "rgb(252,146,114)"
          ],
          [
           0.5,
           "rgb(251,106,74)"
          ],
          [
           0.625,
           "rgb(239,59,44)"
          ],
          [
           0.75,
           "rgb(203,24,29)"
          ],
          [
           0.875,
           "rgb(165,15,21)"
          ],
          [
           1,
           "rgb(103,0,13)"
          ]
         ]
        },
        "geo": {
         "center": {},
         "domain": {
          "x": [
           0,
           1
          ],
          "y": [
           0,
           1
          ]
         },
         "scope": "usa"
        },
        "height": 400,
        "legend": {
         "tracegroupgap": 0
        },
        "margin": {
         "t": 60
        },
        "template": {
         "data": {
          "bar": [
           {
            "error_x": {
             "color": "#2a3f5f"
            },
            "error_y": {
             "color": "#2a3f5f"
            },
            "marker": {
             "line": {
              "color": "#E5ECF6",
              "width": 0.5
             }
            },
            "type": "bar"
           }
          ],
          "barpolar": [
           {
            "marker": {
             "line": {
              "color": "#E5ECF6",
              "width": 0.5
             }
            },
            "type": "barpolar"
           }
          ],
          "carpet": [
           {
            "aaxis": {
             "endlinecolor": "#2a3f5f",
             "gridcolor": "white",
             "linecolor": "white",
             "minorgridcolor": "white",
             "startlinecolor": "#2a3f5f"
            },
            "baxis": {
             "endlinecolor": "#2a3f5f",
             "gridcolor": "white",
             "linecolor": "white",
             "minorgridcolor": "white",
             "startlinecolor": "#2a3f5f"
            },
            "type": "carpet"
           }
          ],
          "choropleth": [
           {
            "colorbar": {
             "outlinewidth": 0,
             "ticks": ""
            },
            "type": "choropleth"
           }
          ],
          "contour": [
           {
            "colorbar": {
             "outlinewidth": 0,
             "ticks": ""
            },
            "colorscale": [
             [
              0,
              "#0d0887"
             ],
             [
              0.1111111111111111,
              "#46039f"
             ],
             [
              0.2222222222222222,
              "#7201a8"
             ],
             [
              0.3333333333333333,
              "#9c179e"
             ],
             [
              0.4444444444444444,
              "#bd3786"
             ],
             [
              0.5555555555555556,
              "#d8576b"
             ],
             [
              0.6666666666666666,
              "#ed7953"
             ],
             [
              0.7777777777777778,
              "#fb9f3a"
             ],
             [
              0.8888888888888888,
              "#fdca26"
             ],
             [
              1,
              "#f0f921"
             ]
            ],
            "type": "contour"
           }
          ],
          "contourcarpet": [
           {
            "colorbar": {
             "outlinewidth": 0,
             "ticks": ""
            },
            "type": "contourcarpet"
           }
          ],
          "heatmap": [
           {
            "colorbar": {
             "outlinewidth": 0,
             "ticks": ""
            },
            "colorscale": [
             [
              0,
              "#0d0887"
             ],
             [
              0.1111111111111111,
              "#46039f"
             ],
             [
              0.2222222222222222,
              "#7201a8"
             ],
             [
              0.3333333333333333,
              "#9c179e"
             ],
             [
              0.4444444444444444,
              "#bd3786"
             ],
             [
              0.5555555555555556,
              "#d8576b"
             ],
             [
              0.6666666666666666,
              "#ed7953"
             ],
             [
              0.7777777777777778,
              "#fb9f3a"
             ],
             [
              0.8888888888888888,
              "#fdca26"
             ],
             [
              1,
              "#f0f921"
             ]
            ],
            "type": "heatmap"
           }
          ],
          "heatmapgl": [
           {
            "colorbar": {
             "outlinewidth": 0,
             "ticks": ""
            },
            "colorscale": [
             [
              0,
              "#0d0887"
             ],
             [
              0.1111111111111111,
              "#46039f"
             ],
             [
              0.2222222222222222,
              "#7201a8"
             ],
             [
              0.3333333333333333,
              "#9c179e"
             ],
             [
              0.4444444444444444,
              "#bd3786"
             ],
             [
              0.5555555555555556,
              "#d8576b"
             ],
             [
              0.6666666666666666,
              "#ed7953"
             ],
             [
              0.7777777777777778,
              "#fb9f3a"
             ],
             [
              0.8888888888888888,
              "#fdca26"
             ],
             [
              1,
              "#f0f921"
             ]
            ],
            "type": "heatmapgl"
           }
          ],
          "histogram": [
           {
            "marker": {
             "colorbar": {
              "outlinewidth": 0,
              "ticks": ""
             }
            },
            "type": "histogram"
           }
          ],
          "histogram2d": [
           {
            "colorbar": {
             "outlinewidth": 0,
             "ticks": ""
            },
            "colorscale": [
             [
              0,
              "#0d0887"
             ],
             [
              0.1111111111111111,
              "#46039f"
             ],
             [
              0.2222222222222222,
              "#7201a8"
             ],
             [
              0.3333333333333333,
              "#9c179e"
             ],
             [
              0.4444444444444444,
              "#bd3786"
             ],
             [
              0.5555555555555556,
              "#d8576b"
             ],
             [
              0.6666666666666666,
              "#ed7953"
             ],
             [
              0.7777777777777778,
              "#fb9f3a"
             ],
             [
              0.8888888888888888,
              "#fdca26"
             ],
             [
              1,
              "#f0f921"
             ]
            ],
            "type": "histogram2d"
           }
          ],
          "histogram2dcontour": [
           {
            "colorbar": {
             "outlinewidth": 0,
             "ticks": ""
            },
            "colorscale": [
             [
              0,
              "#0d0887"
             ],
             [
              0.1111111111111111,
              "#46039f"
             ],
             [
              0.2222222222222222,
              "#7201a8"
             ],
             [
              0.3333333333333333,
              "#9c179e"
             ],
             [
              0.4444444444444444,
              "#bd3786"
             ],
             [
              0.5555555555555556,
              "#d8576b"
             ],
             [
              0.6666666666666666,
              "#ed7953"
             ],
             [
              0.7777777777777778,
              "#fb9f3a"
             ],
             [
              0.8888888888888888,
              "#fdca26"
             ],
             [
              1,
              "#f0f921"
             ]
            ],
            "type": "histogram2dcontour"
           }
          ],
          "mesh3d": [
           {
            "colorbar": {
             "outlinewidth": 0,
             "ticks": ""
            },
            "type": "mesh3d"
           }
          ],
          "parcoords": [
           {
            "line": {
             "colorbar": {
              "outlinewidth": 0,
              "ticks": ""
             }
            },
            "type": "parcoords"
           }
          ],
          "pie": [
           {
            "automargin": true,
            "type": "pie"
           }
          ],
          "scatter": [
           {
            "marker": {
             "colorbar": {
              "outlinewidth": 0,
              "ticks": ""
             }
            },
            "type": "scatter"
           }
          ],
          "scatter3d": [
           {
            "line": {
             "colorbar": {
              "outlinewidth": 0,
              "ticks": ""
             }
            },
            "marker": {
             "colorbar": {
              "outlinewidth": 0,
              "ticks": ""
             }
            },
            "type": "scatter3d"
           }
          ],
          "scattercarpet": [
           {
            "marker": {
             "colorbar": {
              "outlinewidth": 0,
              "ticks": ""
             }
            },
            "type": "scattercarpet"
           }
          ],
          "scattergeo": [
           {
            "marker": {
             "colorbar": {
              "outlinewidth": 0,
              "ticks": ""
             }
            },
            "type": "scattergeo"
           }
          ],
          "scattergl": [
           {
            "marker": {
             "colorbar": {
              "outlinewidth": 0,
              "ticks": ""
             }
            },
            "type": "scattergl"
           }
          ],
          "scattermapbox": [
           {
            "marker": {
             "colorbar": {
              "outlinewidth": 0,
              "ticks": ""
             }
            },
            "type": "scattermapbox"
           }
          ],
          "scatterpolar": [
           {
            "marker": {
             "colorbar": {
              "outlinewidth": 0,
              "ticks": ""
             }
            },
            "type": "scatterpolar"
           }
          ],
          "scatterpolargl": [
           {
            "marker": {
             "colorbar": {
              "outlinewidth": 0,
              "ticks": ""
             }
            },
            "type": "scatterpolargl"
           }
          ],
          "scatterternary": [
           {
            "marker": {
             "colorbar": {
              "outlinewidth": 0,
              "ticks": ""
             }
            },
            "type": "scatterternary"
           }
          ],
          "surface": [
           {
            "colorbar": {
             "outlinewidth": 0,
             "ticks": ""
            },
            "colorscale": [
             [
              0,
              "#0d0887"
             ],
             [
              0.1111111111111111,
              "#46039f"
             ],
             [
              0.2222222222222222,
              "#7201a8"
             ],
             [
              0.3333333333333333,
              "#9c179e"
             ],
             [
              0.4444444444444444,
              "#bd3786"
             ],
             [
              0.5555555555555556,
              "#d8576b"
             ],
             [
              0.6666666666666666,
              "#ed7953"
             ],
             [
              0.7777777777777778,
              "#fb9f3a"
             ],
             [
              0.8888888888888888,
              "#fdca26"
             ],
             [
              1,
              "#f0f921"
             ]
            ],
            "type": "surface"
           }
          ],
          "table": [
           {
            "cells": {
             "fill": {
              "color": "#EBF0F8"
             },
             "line": {
              "color": "white"
             }
            },
            "header": {
             "fill": {
              "color": "#C8D4E3"
             },
             "line": {
              "color": "white"
             }
            },
            "type": "table"
           }
          ]
         },
         "layout": {
          "annotationdefaults": {
           "arrowcolor": "#2a3f5f",
           "arrowhead": 0,
           "arrowwidth": 1
          },
          "coloraxis": {
           "colorbar": {
            "outlinewidth": 0,
            "ticks": ""
           }
          },
          "colorscale": {
           "diverging": [
            [
             0,
             "#8e0152"
            ],
            [
             0.1,
             "#c51b7d"
            ],
            [
             0.2,
             "#de77ae"
            ],
            [
             0.3,
             "#f1b6da"
            ],
            [
             0.4,
             "#fde0ef"
            ],
            [
             0.5,
             "#f7f7f7"
            ],
            [
             0.6,
             "#e6f5d0"
            ],
            [
             0.7,
             "#b8e186"
            ],
            [
             0.8,
             "#7fbc41"
            ],
            [
             0.9,
             "#4d9221"
            ],
            [
             1,
             "#276419"
            ]
           ],
           "sequential": [
            [
             0,
             "#0d0887"
            ],
            [
             0.1111111111111111,
             "#46039f"
            ],
            [
             0.2222222222222222,
             "#7201a8"
            ],
            [
             0.3333333333333333,
             "#9c179e"
            ],
            [
             0.4444444444444444,
             "#bd3786"
            ],
            [
             0.5555555555555556,
             "#d8576b"
            ],
            [
             0.6666666666666666,
             "#ed7953"
            ],
            [
             0.7777777777777778,
             "#fb9f3a"
            ],
            [
             0.8888888888888888,
             "#fdca26"
            ],
            [
             1,
             "#f0f921"
            ]
           ],
           "sequentialminus": [
            [
             0,
             "#0d0887"
            ],
            [
             0.1111111111111111,
             "#46039f"
            ],
            [
             0.2222222222222222,
             "#7201a8"
            ],
            [
             0.3333333333333333,
             "#9c179e"
            ],
            [
             0.4444444444444444,
             "#bd3786"
            ],
            [
             0.5555555555555556,
             "#d8576b"
            ],
            [
             0.6666666666666666,
             "#ed7953"
            ],
            [
             0.7777777777777778,
             "#fb9f3a"
            ],
            [
             0.8888888888888888,
             "#fdca26"
            ],
            [
             1,
             "#f0f921"
            ]
           ]
          },
          "colorway": [
           "#636efa",
           "#EF553B",
           "#00cc96",
           "#ab63fa",
           "#FFA15A",
           "#19d3f3",
           "#FF6692",
           "#B6E880",
           "#FF97FF",
           "#FECB52"
          ],
          "font": {
           "color": "#2a3f5f"
          },
          "geo": {
           "bgcolor": "white",
           "lakecolor": "white",
           "landcolor": "#E5ECF6",
           "showlakes": true,
           "showland": true,
           "subunitcolor": "white"
          },
          "hoverlabel": {
           "align": "left"
          },
          "hovermode": "closest",
          "mapbox": {
           "style": "light"
          },
          "paper_bgcolor": "white",
          "plot_bgcolor": "#E5ECF6",
          "polar": {
           "angularaxis": {
            "gridcolor": "white",
            "linecolor": "white",
            "ticks": ""
           },
           "bgcolor": "#E5ECF6",
           "radialaxis": {
            "gridcolor": "white",
            "linecolor": "white",
            "ticks": ""
           }
          },
          "scene": {
           "xaxis": {
            "backgroundcolor": "#E5ECF6",
            "gridcolor": "white",
            "gridwidth": 2,
            "linecolor": "white",
            "showbackground": true,
            "ticks": "",
            "zerolinecolor": "white"
           },
           "yaxis": {
            "backgroundcolor": "#E5ECF6",
            "gridcolor": "white",
            "gridwidth": 2,
            "linecolor": "white",
            "showbackground": true,
            "ticks": "",
            "zerolinecolor": "white"
           },
           "zaxis": {
            "backgroundcolor": "#E5ECF6",
            "gridcolor": "white",
            "gridwidth": 2,
            "linecolor": "white",
            "showbackground": true,
            "ticks": "",
            "zerolinecolor": "white"
           }
          },
          "shapedefaults": {
           "line": {
            "color": "#2a3f5f"
           }
          },
          "ternary": {
           "aaxis": {
            "gridcolor": "white",
            "linecolor": "white",
            "ticks": ""
           },
           "baxis": {
            "gridcolor": "white",
            "linecolor": "white",
            "ticks": ""
           },
           "bgcolor": "#E5ECF6",
           "caxis": {
            "gridcolor": "white",
            "linecolor": "white",
            "ticks": ""
           }
          },
          "title": {
           "x": 0.05
          },
          "xaxis": {
           "automargin": true,
           "gridcolor": "white",
           "linecolor": "white",
           "ticks": "",
           "title": {
            "standoff": 15
           },
           "zerolinecolor": "white",
           "zerolinewidth": 2
          },
          "yaxis": {
           "automargin": true,
           "gridcolor": "white",
           "linecolor": "white",
           "ticks": "",
           "title": {
            "standoff": 15
           },
           "zerolinecolor": "white",
           "zerolinewidth": 2
          }
         }
        },
        "title": {
         "text": "State Rankings Based on Hate Crimes Reported"
        },
        "width": 800
       }
      },
      "text/html": [
       "<div>\n",
       "        \n",
       "        \n",
       "            <div id=\"fe019c68-31ec-4a59-8be5-d2f77d69a37f\" class=\"plotly-graph-div\" style=\"height:400px; width:800px;\"></div>\n",
       "            <script type=\"text/javascript\">\n",
       "                require([\"plotly\"], function(Plotly) {\n",
       "                    window.PLOTLYENV=window.PLOTLYENV || {};\n",
       "                    \n",
       "                if (document.getElementById(\"fe019c68-31ec-4a59-8be5-d2f77d69a37f\")) {\n",
       "                    Plotly.newPlot(\n",
       "                        'fe019c68-31ec-4a59-8be5-d2f77d69a37f',\n",
       "                        [{\"coloraxis\": \"coloraxis\", \"geo\": \"geo\", \"hovertemplate\": \"<b>%{hovertext}</b><br><br>Stabr=%{location}<br>hate_crimes_per_100k_splc=%{z}<extra></extra>\", \"hovertext\": [\"Alabama\", \"Alaska\", \"Arizona\", \"Arkansas\", \"California\", \"Colorado\", \"Connecticut\", \"Delaware\", \"District of Columbia\", \"Florida\", \"Georgia\", \"Idaho\", \"Illinois\", \"Indiana\", \"Iowa\", \"Kansas\", \"Kentucky\", \"Louisiana\", \"Maine\", \"Maryland\", \"Massachusetts\", \"Michigan\", \"Minnesota\", \"Mississippi\", \"Missouri\", \"Montana\", \"Nebraska\", \"Nevada\", \"New Hampshire\", \"New Jersey\", \"New Mexico\", \"New York\", \"North Carolina\", \"Ohio\", \"Oklahoma\", \"Oregon\", \"Pennsylvania\", \"Rhode Island\", \"South Carolina\", \"Tennessee\", \"Texas\", \"Utah\", \"Vermont\", \"Virginia\", \"Washington\", \"Wisconsin\"], \"locationmode\": \"USA-states\", \"locations\": [\"AL\", \"AK\", \"AZ\", \"AR\", \"CA\", \"CO\", \"CT\", \"DE\", \"DC\", \"FL\", \"GA\", \"ID\", \"IL\", \"IN\", \"IA\", \"KS\", \"KY\", \"LA\", \"ME\", \"MD\", \"MA\", \"MI\", \"MN\", \"MS\", \"MO\", \"MT\", \"NE\", \"NV\", \"NH\", \"NJ\", \"NM\", \"NY\", \"NC\", \"OH\", \"OK\", \"OR\", \"PA\", \"RI\", \"SC\", \"TN\", \"TX\", \"UT\", \"VT\", \"VA\", \"WA\", \"WI\"], \"name\": \"\", \"type\": \"choropleth\", \"z\": [0.125838926, 0.143740118, 0.225319954, 0.06906077299999999, 0.255805361, 0.390523301, 0.33539226899999997, 0.322754169, 1.52230172, 0.18752122300000001, 0.120420267, 0.124208173, 0.19534454899999998, 0.247008877, 0.454427421, 0.105152471, 0.324396969, 0.10973334800000001, 0.615574023, 0.37043897, 0.630810592, 0.403779375, 0.62747993, 0.067446801, 0.18452351, 0.49549103200000005, 0.15948963300000002, 0.14167316, 0.151549595, 0.078305908, 0.294811321, 0.35062044600000003, 0.244006588, 0.19071396399999999, 0.133629099, 0.832849608, 0.285101092, 0.095401641, 0.209894423, 0.19993848, 0.213583938, 0.136546733, 0.324149109, 0.363248898, 0.67748765, 0.226197105]}],\n",
       "                        {\"autosize\": false, \"coloraxis\": {\"colorbar\": {\"title\": {\"text\": \"hate_crimes_per_100k_splc\"}}, \"colorscale\": [[0.0, \"rgb(255,245,240)\"], [0.125, \"rgb(254,224,210)\"], [0.25, \"rgb(252,187,161)\"], [0.375, \"rgb(252,146,114)\"], [0.5, \"rgb(251,106,74)\"], [0.625, \"rgb(239,59,44)\"], [0.75, \"rgb(203,24,29)\"], [0.875, \"rgb(165,15,21)\"], [1.0, \"rgb(103,0,13)\"]]}, \"geo\": {\"center\": {}, \"domain\": {\"x\": [0.0, 1.0], \"y\": [0.0, 1.0]}, \"scope\": \"usa\"}, \"height\": 400, \"legend\": {\"tracegroupgap\": 0}, \"margin\": {\"t\": 60}, \"template\": {\"data\": {\"bar\": [{\"error_x\": {\"color\": \"#2a3f5f\"}, \"error_y\": {\"color\": \"#2a3f5f\"}, \"marker\": {\"line\": {\"color\": \"#E5ECF6\", \"width\": 0.5}}, \"type\": \"bar\"}], \"barpolar\": [{\"marker\": {\"line\": {\"color\": \"#E5ECF6\", \"width\": 0.5}}, \"type\": \"barpolar\"}], \"carpet\": [{\"aaxis\": {\"endlinecolor\": \"#2a3f5f\", \"gridcolor\": \"white\", \"linecolor\": \"white\", \"minorgridcolor\": \"white\", \"startlinecolor\": \"#2a3f5f\"}, \"baxis\": {\"endlinecolor\": \"#2a3f5f\", \"gridcolor\": \"white\", \"linecolor\": \"white\", \"minorgridcolor\": \"white\", \"startlinecolor\": \"#2a3f5f\"}, \"type\": \"carpet\"}], \"choropleth\": [{\"colorbar\": {\"outlinewidth\": 0, \"ticks\": \"\"}, \"type\": \"choropleth\"}], \"contour\": [{\"colorbar\": {\"outlinewidth\": 0, \"ticks\": \"\"}, \"colorscale\": [[0.0, \"#0d0887\"], [0.1111111111111111, \"#46039f\"], [0.2222222222222222, \"#7201a8\"], [0.3333333333333333, \"#9c179e\"], [0.4444444444444444, \"#bd3786\"], [0.5555555555555556, \"#d8576b\"], [0.6666666666666666, \"#ed7953\"], [0.7777777777777778, \"#fb9f3a\"], [0.8888888888888888, \"#fdca26\"], [1.0, \"#f0f921\"]], \"type\": \"contour\"}], \"contourcarpet\": [{\"colorbar\": {\"outlinewidth\": 0, \"ticks\": \"\"}, \"type\": \"contourcarpet\"}], \"heatmap\": [{\"colorbar\": {\"outlinewidth\": 0, \"ticks\": \"\"}, \"colorscale\": [[0.0, \"#0d0887\"], [0.1111111111111111, \"#46039f\"], [0.2222222222222222, \"#7201a8\"], [0.3333333333333333, \"#9c179e\"], [0.4444444444444444, \"#bd3786\"], [0.5555555555555556, \"#d8576b\"], [0.6666666666666666, \"#ed7953\"], [0.7777777777777778, \"#fb9f3a\"], [0.8888888888888888, \"#fdca26\"], [1.0, \"#f0f921\"]], \"type\": \"heatmap\"}], \"heatmapgl\": [{\"colorbar\": {\"outlinewidth\": 0, \"ticks\": \"\"}, \"colorscale\": [[0.0, \"#0d0887\"], [0.1111111111111111, \"#46039f\"], [0.2222222222222222, \"#7201a8\"], [0.3333333333333333, \"#9c179e\"], [0.4444444444444444, \"#bd3786\"], [0.5555555555555556, \"#d8576b\"], [0.6666666666666666, \"#ed7953\"], [0.7777777777777778, \"#fb9f3a\"], [0.8888888888888888, \"#fdca26\"], [1.0, \"#f0f921\"]], \"type\": \"heatmapgl\"}], \"histogram\": [{\"marker\": {\"colorbar\": {\"outlinewidth\": 0, \"ticks\": \"\"}}, \"type\": \"histogram\"}], \"histogram2d\": [{\"colorbar\": {\"outlinewidth\": 0, \"ticks\": \"\"}, \"colorscale\": [[0.0, \"#0d0887\"], [0.1111111111111111, \"#46039f\"], [0.2222222222222222, \"#7201a8\"], [0.3333333333333333, \"#9c179e\"], [0.4444444444444444, \"#bd3786\"], [0.5555555555555556, \"#d8576b\"], [0.6666666666666666, \"#ed7953\"], [0.7777777777777778, \"#fb9f3a\"], [0.8888888888888888, \"#fdca26\"], [1.0, \"#f0f921\"]], \"type\": \"histogram2d\"}], \"histogram2dcontour\": [{\"colorbar\": {\"outlinewidth\": 0, \"ticks\": \"\"}, \"colorscale\": [[0.0, \"#0d0887\"], [0.1111111111111111, \"#46039f\"], [0.2222222222222222, \"#7201a8\"], [0.3333333333333333, \"#9c179e\"], [0.4444444444444444, \"#bd3786\"], [0.5555555555555556, \"#d8576b\"], [0.6666666666666666, \"#ed7953\"], [0.7777777777777778, \"#fb9f3a\"], [0.8888888888888888, \"#fdca26\"], [1.0, \"#f0f921\"]], \"type\": \"histogram2dcontour\"}], \"mesh3d\": [{\"colorbar\": {\"outlinewidth\": 0, \"ticks\": \"\"}, \"type\": \"mesh3d\"}], \"parcoords\": [{\"line\": {\"colorbar\": {\"outlinewidth\": 0, \"ticks\": \"\"}}, \"type\": \"parcoords\"}], \"pie\": [{\"automargin\": true, \"type\": \"pie\"}], \"scatter\": [{\"marker\": {\"colorbar\": {\"outlinewidth\": 0, \"ticks\": \"\"}}, \"type\": \"scatter\"}], \"scatter3d\": [{\"line\": {\"colorbar\": {\"outlinewidth\": 0, \"ticks\": \"\"}}, \"marker\": {\"colorbar\": {\"outlinewidth\": 0, \"ticks\": \"\"}}, \"type\": \"scatter3d\"}], \"scattercarpet\": [{\"marker\": {\"colorbar\": {\"outlinewidth\": 0, \"ticks\": \"\"}}, \"type\": \"scattercarpet\"}], \"scattergeo\": [{\"marker\": {\"colorbar\": {\"outlinewidth\": 0, \"ticks\": \"\"}}, \"type\": \"scattergeo\"}], \"scattergl\": [{\"marker\": {\"colorbar\": {\"outlinewidth\": 0, \"ticks\": \"\"}}, \"type\": \"scattergl\"}], \"scattermapbox\": [{\"marker\": {\"colorbar\": {\"outlinewidth\": 0, \"ticks\": \"\"}}, \"type\": \"scattermapbox\"}], \"scatterpolar\": [{\"marker\": {\"colorbar\": {\"outlinewidth\": 0, \"ticks\": \"\"}}, \"type\": \"scatterpolar\"}], \"scatterpolargl\": [{\"marker\": {\"colorbar\": {\"outlinewidth\": 0, \"ticks\": \"\"}}, \"type\": \"scatterpolargl\"}], \"scatterternary\": [{\"marker\": {\"colorbar\": {\"outlinewidth\": 0, \"ticks\": \"\"}}, \"type\": \"scatterternary\"}], \"surface\": [{\"colorbar\": {\"outlinewidth\": 0, \"ticks\": \"\"}, \"colorscale\": [[0.0, \"#0d0887\"], [0.1111111111111111, \"#46039f\"], [0.2222222222222222, \"#7201a8\"], [0.3333333333333333, \"#9c179e\"], [0.4444444444444444, \"#bd3786\"], [0.5555555555555556, \"#d8576b\"], [0.6666666666666666, \"#ed7953\"], [0.7777777777777778, \"#fb9f3a\"], [0.8888888888888888, \"#fdca26\"], [1.0, \"#f0f921\"]], \"type\": \"surface\"}], \"table\": [{\"cells\": {\"fill\": {\"color\": \"#EBF0F8\"}, \"line\": {\"color\": \"white\"}}, \"header\": {\"fill\": {\"color\": \"#C8D4E3\"}, \"line\": {\"color\": \"white\"}}, \"type\": \"table\"}]}, \"layout\": {\"annotationdefaults\": {\"arrowcolor\": \"#2a3f5f\", \"arrowhead\": 0, \"arrowwidth\": 1}, \"coloraxis\": {\"colorbar\": {\"outlinewidth\": 0, \"ticks\": \"\"}}, \"colorscale\": {\"diverging\": [[0, \"#8e0152\"], [0.1, \"#c51b7d\"], [0.2, \"#de77ae\"], [0.3, \"#f1b6da\"], [0.4, \"#fde0ef\"], [0.5, \"#f7f7f7\"], [0.6, \"#e6f5d0\"], [0.7, \"#b8e186\"], [0.8, \"#7fbc41\"], [0.9, \"#4d9221\"], [1, \"#276419\"]], \"sequential\": [[0.0, \"#0d0887\"], [0.1111111111111111, \"#46039f\"], [0.2222222222222222, \"#7201a8\"], [0.3333333333333333, \"#9c179e\"], [0.4444444444444444, \"#bd3786\"], [0.5555555555555556, \"#d8576b\"], [0.6666666666666666, \"#ed7953\"], [0.7777777777777778, \"#fb9f3a\"], [0.8888888888888888, \"#fdca26\"], [1.0, \"#f0f921\"]], \"sequentialminus\": [[0.0, \"#0d0887\"], [0.1111111111111111, \"#46039f\"], [0.2222222222222222, \"#7201a8\"], [0.3333333333333333, \"#9c179e\"], [0.4444444444444444, \"#bd3786\"], [0.5555555555555556, \"#d8576b\"], [0.6666666666666666, \"#ed7953\"], [0.7777777777777778, \"#fb9f3a\"], [0.8888888888888888, \"#fdca26\"], [1.0, \"#f0f921\"]]}, \"colorway\": [\"#636efa\", \"#EF553B\", \"#00cc96\", \"#ab63fa\", \"#FFA15A\", \"#19d3f3\", \"#FF6692\", \"#B6E880\", \"#FF97FF\", \"#FECB52\"], \"font\": {\"color\": \"#2a3f5f\"}, \"geo\": {\"bgcolor\": \"white\", \"lakecolor\": \"white\", \"landcolor\": \"#E5ECF6\", \"showlakes\": true, \"showland\": true, \"subunitcolor\": \"white\"}, \"hoverlabel\": {\"align\": \"left\"}, \"hovermode\": \"closest\", \"mapbox\": {\"style\": \"light\"}, \"paper_bgcolor\": \"white\", \"plot_bgcolor\": \"#E5ECF6\", \"polar\": {\"angularaxis\": {\"gridcolor\": \"white\", \"linecolor\": \"white\", \"ticks\": \"\"}, \"bgcolor\": \"#E5ECF6\", \"radialaxis\": {\"gridcolor\": \"white\", \"linecolor\": \"white\", \"ticks\": \"\"}}, \"scene\": {\"xaxis\": {\"backgroundcolor\": \"#E5ECF6\", \"gridcolor\": \"white\", \"gridwidth\": 2, \"linecolor\": \"white\", \"showbackground\": true, \"ticks\": \"\", \"zerolinecolor\": \"white\"}, \"yaxis\": {\"backgroundcolor\": \"#E5ECF6\", \"gridcolor\": \"white\", \"gridwidth\": 2, \"linecolor\": \"white\", \"showbackground\": true, \"ticks\": \"\", \"zerolinecolor\": \"white\"}, \"zaxis\": {\"backgroundcolor\": \"#E5ECF6\", \"gridcolor\": \"white\", \"gridwidth\": 2, \"linecolor\": \"white\", \"showbackground\": true, \"ticks\": \"\", \"zerolinecolor\": \"white\"}}, \"shapedefaults\": {\"line\": {\"color\": \"#2a3f5f\"}}, \"ternary\": {\"aaxis\": {\"gridcolor\": \"white\", \"linecolor\": \"white\", \"ticks\": \"\"}, \"baxis\": {\"gridcolor\": \"white\", \"linecolor\": \"white\", \"ticks\": \"\"}, \"bgcolor\": \"#E5ECF6\", \"caxis\": {\"gridcolor\": \"white\", \"linecolor\": \"white\", \"ticks\": \"\"}}, \"title\": {\"x\": 0.05}, \"xaxis\": {\"automargin\": true, \"gridcolor\": \"white\", \"linecolor\": \"white\", \"ticks\": \"\", \"title\": {\"standoff\": 15}, \"zerolinecolor\": \"white\", \"zerolinewidth\": 2}, \"yaxis\": {\"automargin\": true, \"gridcolor\": \"white\", \"linecolor\": \"white\", \"ticks\": \"\", \"title\": {\"standoff\": 15}, \"zerolinecolor\": \"white\", \"zerolinewidth\": 2}}}, \"title\": {\"text\": \"State Rankings Based on Hate Crimes Reported\"}, \"width\": 800},\n",
       "                        {\"responsive\": true}\n",
       "                    ).then(function(){\n",
       "                            \n",
       "var gd = document.getElementById('fe019c68-31ec-4a59-8be5-d2f77d69a37f');\n",
       "var x = new MutationObserver(function (mutations, observer) {{\n",
       "        var display = window.getComputedStyle(gd).display;\n",
       "        if (!display || display === 'none') {{\n",
       "            console.log([gd, 'removed!']);\n",
       "            Plotly.purge(gd);\n",
       "            observer.disconnect();\n",
       "        }}\n",
       "}});\n",
       "\n",
       "// Listen for the removal of the full notebook cells\n",
       "var notebookContainer = gd.closest('#notebook-container');\n",
       "if (notebookContainer) {{\n",
       "    x.observe(notebookContainer, {childList: true});\n",
       "}}\n",
       "\n",
       "// Listen for the clearing of the current output cell\n",
       "var outputEl = gd.closest('.output');\n",
       "if (outputEl) {{\n",
       "    x.observe(outputEl, {childList: true});\n",
       "}}\n",
       "\n",
       "                        })\n",
       "                };\n",
       "                });\n",
       "            </script>\n",
       "        </div>"
      ]
     },
     "metadata": {},
     "output_type": "display_data"
    }
   ],
   "source": [
    "fig = px.choropleth(merged_df_fin,  # Input Pandas DataFrame\n",
    "                    locations=\"Stabr\",  # DataFrame column with locations\n",
    "                    color=\"hate_crimes_per_100k_splc\",  # DataFrame column with color values\n",
    "                    color_continuous_scale=\"reds\",\n",
    "                    hover_name=\"area_name\", # DataFrame column hover info\n",
    "                    locationmode = 'USA-states') # Set to plot as US States\n",
    "# colorscale = ['#f2f0f7','#dadaeb','#bcbddc','#9e9ac8','#756bb1','#54278f']\n",
    "fig.update_layout(\n",
    "    title_text = 'State Rankings Based on Hate Crimes Reported', # Create a Title\n",
    "    autosize=False,\n",
    "    width=800,\n",
    "    height=400,\n",
    "#     autocolorscale = True,\n",
    "#     colorscale = \"sequential\", \n",
    "    geo_scope='usa',  # Plot only the USA instead of globe\n",
    ")\n",
    "\n",
    "# fig.update_yaxes(automargin=True)\n",
    "# plt.savefig(\"Images/hate_crime_heat_map.png\")\n",
    "fig.show()  # Output the plot to the screen"
   ]
  },
  {
   "cell_type": "code",
   "execution_count": 56,
   "metadata": {},
   "outputs": [
    {
     "data": {
      "application/vnd.plotly.v1+json": {
       "config": {
        "plotlyServerURL": "https://plot.ly"
       },
       "data": [
        {
         "coloraxis": "coloraxis",
         "geo": "geo",
         "hovertemplate": "<b>%{hovertext}</b><br><br>Stabr=%{location}<br>Total Edu 2014-18=%{z}<extra></extra>",
         "hovertext": [
          "Alabama",
          "Alaska",
          "Arizona",
          "Arkansas",
          "California",
          "Colorado",
          "Connecticut",
          "Delaware",
          "District of Columbia",
          "Florida",
          "Georgia",
          "Idaho",
          "Illinois",
          "Indiana",
          "Iowa",
          "Kansas",
          "Kentucky",
          "Louisiana",
          "Maine",
          "Maryland",
          "Massachusetts",
          "Michigan",
          "Minnesota",
          "Mississippi",
          "Missouri",
          "Montana",
          "Nebraska",
          "Nevada",
          "New Hampshire",
          "New Jersey",
          "New Mexico",
          "New York",
          "North Carolina",
          "Ohio",
          "Oklahoma",
          "Oregon",
          "Pennsylvania",
          "Rhode Island",
          "South Carolina",
          "Tennessee",
          "Texas",
          "Utah",
          "Vermont",
          "Virginia",
          "Washington",
          "Wisconsin"
         ],
         "locationmode": "USA-states",
         "locations": [
          "AL",
          "AK",
          "AZ",
          "AR",
          "CA",
          "CO",
          "CT",
          "DE",
          "DC",
          "FL",
          "GA",
          "ID",
          "IL",
          "IN",
          "IA",
          "KS",
          "KY",
          "LA",
          "ME",
          "MD",
          "MA",
          "MI",
          "MN",
          "MS",
          "MO",
          "MT",
          "NE",
          "NV",
          "NH",
          "NJ",
          "NM",
          "NY",
          "NC",
          "OH",
          "OK",
          "OR",
          "PA",
          "RI",
          "SC",
          "TN",
          "TX",
          "UT",
          "VT",
          "VA",
          "WA",
          "WI"
         ],
         "name": "",
         "type": "choropleth",
         "z": [
          24.9,
          29.2,
          28.9,
          22.6,
          33.3,
          40.1,
          38.9,
          31.4,
          57.6,
          29.2,
          30.7,
          26.9,
          34.1,
          25.9,
          28.2,
          32.9,
          23.6,
          23.7,
          30.9,
          39.6,
          42.9,
          28.6,
          35.4,
          21.8,
          28.6,
          31.2,
          31.3,
          24.2,
          36.5,
          38.9,
          27.1,
          35.9,
          30.5,
          27.8,
          25.2,
          32.9,
          30.8,
          33.3,
          27.4,
          26.6,
          29.3,
          33.3,
          37.3,
          38.2,
          35.3,
          29.5
         ]
        }
       ],
       "layout": {
        "autosize": false,
        "coloraxis": {
         "colorbar": {
          "title": {
           "text": "Total Edu 2014-18"
          }
         },
         "colorscale": [
          [
           0,
           "rgb(247,252,245)"
          ],
          [
           0.125,
           "rgb(229,245,224)"
          ],
          [
           0.25,
           "rgb(199,233,192)"
          ],
          [
           0.375,
           "rgb(161,217,155)"
          ],
          [
           0.5,
           "rgb(116,196,118)"
          ],
          [
           0.625,
           "rgb(65,171,93)"
          ],
          [
           0.75,
           "rgb(35,139,69)"
          ],
          [
           0.875,
           "rgb(0,109,44)"
          ],
          [
           1,
           "rgb(0,68,27)"
          ]
         ]
        },
        "geo": {
         "center": {},
         "domain": {
          "x": [
           0,
           1
          ],
          "y": [
           0,
           1
          ]
         },
         "scope": "usa"
        },
        "height": 400,
        "legend": {
         "tracegroupgap": 0
        },
        "margin": {
         "t": 60
        },
        "template": {
         "data": {
          "bar": [
           {
            "error_x": {
             "color": "#2a3f5f"
            },
            "error_y": {
             "color": "#2a3f5f"
            },
            "marker": {
             "line": {
              "color": "#E5ECF6",
              "width": 0.5
             }
            },
            "type": "bar"
           }
          ],
          "barpolar": [
           {
            "marker": {
             "line": {
              "color": "#E5ECF6",
              "width": 0.5
             }
            },
            "type": "barpolar"
           }
          ],
          "carpet": [
           {
            "aaxis": {
             "endlinecolor": "#2a3f5f",
             "gridcolor": "white",
             "linecolor": "white",
             "minorgridcolor": "white",
             "startlinecolor": "#2a3f5f"
            },
            "baxis": {
             "endlinecolor": "#2a3f5f",
             "gridcolor": "white",
             "linecolor": "white",
             "minorgridcolor": "white",
             "startlinecolor": "#2a3f5f"
            },
            "type": "carpet"
           }
          ],
          "choropleth": [
           {
            "colorbar": {
             "outlinewidth": 0,
             "ticks": ""
            },
            "type": "choropleth"
           }
          ],
          "contour": [
           {
            "colorbar": {
             "outlinewidth": 0,
             "ticks": ""
            },
            "colorscale": [
             [
              0,
              "#0d0887"
             ],
             [
              0.1111111111111111,
              "#46039f"
             ],
             [
              0.2222222222222222,
              "#7201a8"
             ],
             [
              0.3333333333333333,
              "#9c179e"
             ],
             [
              0.4444444444444444,
              "#bd3786"
             ],
             [
              0.5555555555555556,
              "#d8576b"
             ],
             [
              0.6666666666666666,
              "#ed7953"
             ],
             [
              0.7777777777777778,
              "#fb9f3a"
             ],
             [
              0.8888888888888888,
              "#fdca26"
             ],
             [
              1,
              "#f0f921"
             ]
            ],
            "type": "contour"
           }
          ],
          "contourcarpet": [
           {
            "colorbar": {
             "outlinewidth": 0,
             "ticks": ""
            },
            "type": "contourcarpet"
           }
          ],
          "heatmap": [
           {
            "colorbar": {
             "outlinewidth": 0,
             "ticks": ""
            },
            "colorscale": [
             [
              0,
              "#0d0887"
             ],
             [
              0.1111111111111111,
              "#46039f"
             ],
             [
              0.2222222222222222,
              "#7201a8"
             ],
             [
              0.3333333333333333,
              "#9c179e"
             ],
             [
              0.4444444444444444,
              "#bd3786"
             ],
             [
              0.5555555555555556,
              "#d8576b"
             ],
             [
              0.6666666666666666,
              "#ed7953"
             ],
             [
              0.7777777777777778,
              "#fb9f3a"
             ],
             [
              0.8888888888888888,
              "#fdca26"
             ],
             [
              1,
              "#f0f921"
             ]
            ],
            "type": "heatmap"
           }
          ],
          "heatmapgl": [
           {
            "colorbar": {
             "outlinewidth": 0,
             "ticks": ""
            },
            "colorscale": [
             [
              0,
              "#0d0887"
             ],
             [
              0.1111111111111111,
              "#46039f"
             ],
             [
              0.2222222222222222,
              "#7201a8"
             ],
             [
              0.3333333333333333,
              "#9c179e"
             ],
             [
              0.4444444444444444,
              "#bd3786"
             ],
             [
              0.5555555555555556,
              "#d8576b"
             ],
             [
              0.6666666666666666,
              "#ed7953"
             ],
             [
              0.7777777777777778,
              "#fb9f3a"
             ],
             [
              0.8888888888888888,
              "#fdca26"
             ],
             [
              1,
              "#f0f921"
             ]
            ],
            "type": "heatmapgl"
           }
          ],
          "histogram": [
           {
            "marker": {
             "colorbar": {
              "outlinewidth": 0,
              "ticks": ""
             }
            },
            "type": "histogram"
           }
          ],
          "histogram2d": [
           {
            "colorbar": {
             "outlinewidth": 0,
             "ticks": ""
            },
            "colorscale": [
             [
              0,
              "#0d0887"
             ],
             [
              0.1111111111111111,
              "#46039f"
             ],
             [
              0.2222222222222222,
              "#7201a8"
             ],
             [
              0.3333333333333333,
              "#9c179e"
             ],
             [
              0.4444444444444444,
              "#bd3786"
             ],
             [
              0.5555555555555556,
              "#d8576b"
             ],
             [
              0.6666666666666666,
              "#ed7953"
             ],
             [
              0.7777777777777778,
              "#fb9f3a"
             ],
             [
              0.8888888888888888,
              "#fdca26"
             ],
             [
              1,
              "#f0f921"
             ]
            ],
            "type": "histogram2d"
           }
          ],
          "histogram2dcontour": [
           {
            "colorbar": {
             "outlinewidth": 0,
             "ticks": ""
            },
            "colorscale": [
             [
              0,
              "#0d0887"
             ],
             [
              0.1111111111111111,
              "#46039f"
             ],
             [
              0.2222222222222222,
              "#7201a8"
             ],
             [
              0.3333333333333333,
              "#9c179e"
             ],
             [
              0.4444444444444444,
              "#bd3786"
             ],
             [
              0.5555555555555556,
              "#d8576b"
             ],
             [
              0.6666666666666666,
              "#ed7953"
             ],
             [
              0.7777777777777778,
              "#fb9f3a"
             ],
             [
              0.8888888888888888,
              "#fdca26"
             ],
             [
              1,
              "#f0f921"
             ]
            ],
            "type": "histogram2dcontour"
           }
          ],
          "mesh3d": [
           {
            "colorbar": {
             "outlinewidth": 0,
             "ticks": ""
            },
            "type": "mesh3d"
           }
          ],
          "parcoords": [
           {
            "line": {
             "colorbar": {
              "outlinewidth": 0,
              "ticks": ""
             }
            },
            "type": "parcoords"
           }
          ],
          "pie": [
           {
            "automargin": true,
            "type": "pie"
           }
          ],
          "scatter": [
           {
            "marker": {
             "colorbar": {
              "outlinewidth": 0,
              "ticks": ""
             }
            },
            "type": "scatter"
           }
          ],
          "scatter3d": [
           {
            "line": {
             "colorbar": {
              "outlinewidth": 0,
              "ticks": ""
             }
            },
            "marker": {
             "colorbar": {
              "outlinewidth": 0,
              "ticks": ""
             }
            },
            "type": "scatter3d"
           }
          ],
          "scattercarpet": [
           {
            "marker": {
             "colorbar": {
              "outlinewidth": 0,
              "ticks": ""
             }
            },
            "type": "scattercarpet"
           }
          ],
          "scattergeo": [
           {
            "marker": {
             "colorbar": {
              "outlinewidth": 0,
              "ticks": ""
             }
            },
            "type": "scattergeo"
           }
          ],
          "scattergl": [
           {
            "marker": {
             "colorbar": {
              "outlinewidth": 0,
              "ticks": ""
             }
            },
            "type": "scattergl"
           }
          ],
          "scattermapbox": [
           {
            "marker": {
             "colorbar": {
              "outlinewidth": 0,
              "ticks": ""
             }
            },
            "type": "scattermapbox"
           }
          ],
          "scatterpolar": [
           {
            "marker": {
             "colorbar": {
              "outlinewidth": 0,
              "ticks": ""
             }
            },
            "type": "scatterpolar"
           }
          ],
          "scatterpolargl": [
           {
            "marker": {
             "colorbar": {
              "outlinewidth": 0,
              "ticks": ""
             }
            },
            "type": "scatterpolargl"
           }
          ],
          "scatterternary": [
           {
            "marker": {
             "colorbar": {
              "outlinewidth": 0,
              "ticks": ""
             }
            },
            "type": "scatterternary"
           }
          ],
          "surface": [
           {
            "colorbar": {
             "outlinewidth": 0,
             "ticks": ""
            },
            "colorscale": [
             [
              0,
              "#0d0887"
             ],
             [
              0.1111111111111111,
              "#46039f"
             ],
             [
              0.2222222222222222,
              "#7201a8"
             ],
             [
              0.3333333333333333,
              "#9c179e"
             ],
             [
              0.4444444444444444,
              "#bd3786"
             ],
             [
              0.5555555555555556,
              "#d8576b"
             ],
             [
              0.6666666666666666,
              "#ed7953"
             ],
             [
              0.7777777777777778,
              "#fb9f3a"
             ],
             [
              0.8888888888888888,
              "#fdca26"
             ],
             [
              1,
              "#f0f921"
             ]
            ],
            "type": "surface"
           }
          ],
          "table": [
           {
            "cells": {
             "fill": {
              "color": "#EBF0F8"
             },
             "line": {
              "color": "white"
             }
            },
            "header": {
             "fill": {
              "color": "#C8D4E3"
             },
             "line": {
              "color": "white"
             }
            },
            "type": "table"
           }
          ]
         },
         "layout": {
          "annotationdefaults": {
           "arrowcolor": "#2a3f5f",
           "arrowhead": 0,
           "arrowwidth": 1
          },
          "coloraxis": {
           "colorbar": {
            "outlinewidth": 0,
            "ticks": ""
           }
          },
          "colorscale": {
           "diverging": [
            [
             0,
             "#8e0152"
            ],
            [
             0.1,
             "#c51b7d"
            ],
            [
             0.2,
             "#de77ae"
            ],
            [
             0.3,
             "#f1b6da"
            ],
            [
             0.4,
             "#fde0ef"
            ],
            [
             0.5,
             "#f7f7f7"
            ],
            [
             0.6,
             "#e6f5d0"
            ],
            [
             0.7,
             "#b8e186"
            ],
            [
             0.8,
             "#7fbc41"
            ],
            [
             0.9,
             "#4d9221"
            ],
            [
             1,
             "#276419"
            ]
           ],
           "sequential": [
            [
             0,
             "#0d0887"
            ],
            [
             0.1111111111111111,
             "#46039f"
            ],
            [
             0.2222222222222222,
             "#7201a8"
            ],
            [
             0.3333333333333333,
             "#9c179e"
            ],
            [
             0.4444444444444444,
             "#bd3786"
            ],
            [
             0.5555555555555556,
             "#d8576b"
            ],
            [
             0.6666666666666666,
             "#ed7953"
            ],
            [
             0.7777777777777778,
             "#fb9f3a"
            ],
            [
             0.8888888888888888,
             "#fdca26"
            ],
            [
             1,
             "#f0f921"
            ]
           ],
           "sequentialminus": [
            [
             0,
             "#0d0887"
            ],
            [
             0.1111111111111111,
             "#46039f"
            ],
            [
             0.2222222222222222,
             "#7201a8"
            ],
            [
             0.3333333333333333,
             "#9c179e"
            ],
            [
             0.4444444444444444,
             "#bd3786"
            ],
            [
             0.5555555555555556,
             "#d8576b"
            ],
            [
             0.6666666666666666,
             "#ed7953"
            ],
            [
             0.7777777777777778,
             "#fb9f3a"
            ],
            [
             0.8888888888888888,
             "#fdca26"
            ],
            [
             1,
             "#f0f921"
            ]
           ]
          },
          "colorway": [
           "#636efa",
           "#EF553B",
           "#00cc96",
           "#ab63fa",
           "#FFA15A",
           "#19d3f3",
           "#FF6692",
           "#B6E880",
           "#FF97FF",
           "#FECB52"
          ],
          "font": {
           "color": "#2a3f5f"
          },
          "geo": {
           "bgcolor": "white",
           "lakecolor": "white",
           "landcolor": "#E5ECF6",
           "showlakes": true,
           "showland": true,
           "subunitcolor": "white"
          },
          "hoverlabel": {
           "align": "left"
          },
          "hovermode": "closest",
          "mapbox": {
           "style": "light"
          },
          "paper_bgcolor": "white",
          "plot_bgcolor": "#E5ECF6",
          "polar": {
           "angularaxis": {
            "gridcolor": "white",
            "linecolor": "white",
            "ticks": ""
           },
           "bgcolor": "#E5ECF6",
           "radialaxis": {
            "gridcolor": "white",
            "linecolor": "white",
            "ticks": ""
           }
          },
          "scene": {
           "xaxis": {
            "backgroundcolor": "#E5ECF6",
            "gridcolor": "white",
            "gridwidth": 2,
            "linecolor": "white",
            "showbackground": true,
            "ticks": "",
            "zerolinecolor": "white"
           },
           "yaxis": {
            "backgroundcolor": "#E5ECF6",
            "gridcolor": "white",
            "gridwidth": 2,
            "linecolor": "white",
            "showbackground": true,
            "ticks": "",
            "zerolinecolor": "white"
           },
           "zaxis": {
            "backgroundcolor": "#E5ECF6",
            "gridcolor": "white",
            "gridwidth": 2,
            "linecolor": "white",
            "showbackground": true,
            "ticks": "",
            "zerolinecolor": "white"
           }
          },
          "shapedefaults": {
           "line": {
            "color": "#2a3f5f"
           }
          },
          "ternary": {
           "aaxis": {
            "gridcolor": "white",
            "linecolor": "white",
            "ticks": ""
           },
           "baxis": {
            "gridcolor": "white",
            "linecolor": "white",
            "ticks": ""
           },
           "bgcolor": "#E5ECF6",
           "caxis": {
            "gridcolor": "white",
            "linecolor": "white",
            "ticks": ""
           }
          },
          "title": {
           "x": 0.05
          },
          "xaxis": {
           "automargin": true,
           "gridcolor": "white",
           "linecolor": "white",
           "ticks": "",
           "title": {
            "standoff": 15
           },
           "zerolinecolor": "white",
           "zerolinewidth": 2
          },
          "yaxis": {
           "automargin": true,
           "gridcolor": "white",
           "linecolor": "white",
           "ticks": "",
           "title": {
            "standoff": 15
           },
           "zerolinecolor": "white",
           "zerolinewidth": 2
          }
         }
        },
        "title": {
         "text": "State Rankings Based on Education"
        },
        "width": 800
       }
      },
      "text/html": [
       "<div>\n",
       "        \n",
       "        \n",
       "            <div id=\"5429b6cc-b908-41e7-aaf6-959f165bea31\" class=\"plotly-graph-div\" style=\"height:400px; width:800px;\"></div>\n",
       "            <script type=\"text/javascript\">\n",
       "                require([\"plotly\"], function(Plotly) {\n",
       "                    window.PLOTLYENV=window.PLOTLYENV || {};\n",
       "                    \n",
       "                if (document.getElementById(\"5429b6cc-b908-41e7-aaf6-959f165bea31\")) {\n",
       "                    Plotly.newPlot(\n",
       "                        '5429b6cc-b908-41e7-aaf6-959f165bea31',\n",
       "                        [{\"coloraxis\": \"coloraxis\", \"geo\": \"geo\", \"hovertemplate\": \"<b>%{hovertext}</b><br><br>Stabr=%{location}<br>Total Edu 2014-18=%{z}<extra></extra>\", \"hovertext\": [\"Alabama\", \"Alaska\", \"Arizona\", \"Arkansas\", \"California\", \"Colorado\", \"Connecticut\", \"Delaware\", \"District of Columbia\", \"Florida\", \"Georgia\", \"Idaho\", \"Illinois\", \"Indiana\", \"Iowa\", \"Kansas\", \"Kentucky\", \"Louisiana\", \"Maine\", \"Maryland\", \"Massachusetts\", \"Michigan\", \"Minnesota\", \"Mississippi\", \"Missouri\", \"Montana\", \"Nebraska\", \"Nevada\", \"New Hampshire\", \"New Jersey\", \"New Mexico\", \"New York\", \"North Carolina\", \"Ohio\", \"Oklahoma\", \"Oregon\", \"Pennsylvania\", \"Rhode Island\", \"South Carolina\", \"Tennessee\", \"Texas\", \"Utah\", \"Vermont\", \"Virginia\", \"Washington\", \"Wisconsin\"], \"locationmode\": \"USA-states\", \"locations\": [\"AL\", \"AK\", \"AZ\", \"AR\", \"CA\", \"CO\", \"CT\", \"DE\", \"DC\", \"FL\", \"GA\", \"ID\", \"IL\", \"IN\", \"IA\", \"KS\", \"KY\", \"LA\", \"ME\", \"MD\", \"MA\", \"MI\", \"MN\", \"MS\", \"MO\", \"MT\", \"NE\", \"NV\", \"NH\", \"NJ\", \"NM\", \"NY\", \"NC\", \"OH\", \"OK\", \"OR\", \"PA\", \"RI\", \"SC\", \"TN\", \"TX\", \"UT\", \"VT\", \"VA\", \"WA\", \"WI\"], \"name\": \"\", \"type\": \"choropleth\", \"z\": [24.9, 29.2, 28.9, 22.6, 33.3, 40.1, 38.9, 31.4, 57.6, 29.2, 30.7, 26.9, 34.1, 25.9, 28.2, 32.9, 23.6, 23.7, 30.9, 39.6, 42.9, 28.6, 35.4, 21.8, 28.6, 31.2, 31.3, 24.2, 36.5, 38.9, 27.1, 35.9, 30.5, 27.8, 25.2, 32.9, 30.8, 33.3, 27.4, 26.6, 29.3, 33.3, 37.3, 38.2, 35.3, 29.5]}],\n",
       "                        {\"autosize\": false, \"coloraxis\": {\"colorbar\": {\"title\": {\"text\": \"Total Edu 2014-18\"}}, \"colorscale\": [[0.0, \"rgb(247,252,245)\"], [0.125, \"rgb(229,245,224)\"], [0.25, \"rgb(199,233,192)\"], [0.375, \"rgb(161,217,155)\"], [0.5, \"rgb(116,196,118)\"], [0.625, \"rgb(65,171,93)\"], [0.75, \"rgb(35,139,69)\"], [0.875, \"rgb(0,109,44)\"], [1.0, \"rgb(0,68,27)\"]]}, \"geo\": {\"center\": {}, \"domain\": {\"x\": [0.0, 1.0], \"y\": [0.0, 1.0]}, \"scope\": \"usa\"}, \"height\": 400, \"legend\": {\"tracegroupgap\": 0}, \"margin\": {\"t\": 60}, \"template\": {\"data\": {\"bar\": [{\"error_x\": {\"color\": \"#2a3f5f\"}, \"error_y\": {\"color\": \"#2a3f5f\"}, \"marker\": {\"line\": {\"color\": \"#E5ECF6\", \"width\": 0.5}}, \"type\": \"bar\"}], \"barpolar\": [{\"marker\": {\"line\": {\"color\": \"#E5ECF6\", \"width\": 0.5}}, \"type\": \"barpolar\"}], \"carpet\": [{\"aaxis\": {\"endlinecolor\": \"#2a3f5f\", \"gridcolor\": \"white\", \"linecolor\": \"white\", \"minorgridcolor\": \"white\", \"startlinecolor\": \"#2a3f5f\"}, \"baxis\": {\"endlinecolor\": \"#2a3f5f\", \"gridcolor\": \"white\", \"linecolor\": \"white\", \"minorgridcolor\": \"white\", \"startlinecolor\": \"#2a3f5f\"}, \"type\": \"carpet\"}], \"choropleth\": [{\"colorbar\": {\"outlinewidth\": 0, \"ticks\": \"\"}, \"type\": \"choropleth\"}], \"contour\": [{\"colorbar\": {\"outlinewidth\": 0, \"ticks\": \"\"}, \"colorscale\": [[0.0, \"#0d0887\"], [0.1111111111111111, \"#46039f\"], [0.2222222222222222, \"#7201a8\"], [0.3333333333333333, \"#9c179e\"], [0.4444444444444444, \"#bd3786\"], [0.5555555555555556, \"#d8576b\"], [0.6666666666666666, \"#ed7953\"], [0.7777777777777778, \"#fb9f3a\"], [0.8888888888888888, \"#fdca26\"], [1.0, \"#f0f921\"]], \"type\": \"contour\"}], \"contourcarpet\": [{\"colorbar\": {\"outlinewidth\": 0, \"ticks\": \"\"}, \"type\": \"contourcarpet\"}], \"heatmap\": [{\"colorbar\": {\"outlinewidth\": 0, \"ticks\": \"\"}, \"colorscale\": [[0.0, \"#0d0887\"], [0.1111111111111111, \"#46039f\"], [0.2222222222222222, \"#7201a8\"], [0.3333333333333333, \"#9c179e\"], [0.4444444444444444, \"#bd3786\"], [0.5555555555555556, \"#d8576b\"], [0.6666666666666666, \"#ed7953\"], [0.7777777777777778, \"#fb9f3a\"], [0.8888888888888888, \"#fdca26\"], [1.0, \"#f0f921\"]], \"type\": \"heatmap\"}], \"heatmapgl\": [{\"colorbar\": {\"outlinewidth\": 0, \"ticks\": \"\"}, \"colorscale\": [[0.0, \"#0d0887\"], [0.1111111111111111, \"#46039f\"], [0.2222222222222222, \"#7201a8\"], [0.3333333333333333, \"#9c179e\"], [0.4444444444444444, \"#bd3786\"], [0.5555555555555556, \"#d8576b\"], [0.6666666666666666, \"#ed7953\"], [0.7777777777777778, \"#fb9f3a\"], [0.8888888888888888, \"#fdca26\"], [1.0, \"#f0f921\"]], \"type\": \"heatmapgl\"}], \"histogram\": [{\"marker\": {\"colorbar\": {\"outlinewidth\": 0, \"ticks\": \"\"}}, \"type\": \"histogram\"}], \"histogram2d\": [{\"colorbar\": {\"outlinewidth\": 0, \"ticks\": \"\"}, \"colorscale\": [[0.0, \"#0d0887\"], [0.1111111111111111, \"#46039f\"], [0.2222222222222222, \"#7201a8\"], [0.3333333333333333, \"#9c179e\"], [0.4444444444444444, \"#bd3786\"], [0.5555555555555556, \"#d8576b\"], [0.6666666666666666, \"#ed7953\"], [0.7777777777777778, \"#fb9f3a\"], [0.8888888888888888, \"#fdca26\"], [1.0, \"#f0f921\"]], \"type\": \"histogram2d\"}], \"histogram2dcontour\": [{\"colorbar\": {\"outlinewidth\": 0, \"ticks\": \"\"}, \"colorscale\": [[0.0, \"#0d0887\"], [0.1111111111111111, \"#46039f\"], [0.2222222222222222, \"#7201a8\"], [0.3333333333333333, \"#9c179e\"], [0.4444444444444444, \"#bd3786\"], [0.5555555555555556, \"#d8576b\"], [0.6666666666666666, \"#ed7953\"], [0.7777777777777778, \"#fb9f3a\"], [0.8888888888888888, \"#fdca26\"], [1.0, \"#f0f921\"]], \"type\": \"histogram2dcontour\"}], \"mesh3d\": [{\"colorbar\": {\"outlinewidth\": 0, \"ticks\": \"\"}, \"type\": \"mesh3d\"}], \"parcoords\": [{\"line\": {\"colorbar\": {\"outlinewidth\": 0, \"ticks\": \"\"}}, \"type\": \"parcoords\"}], \"pie\": [{\"automargin\": true, \"type\": \"pie\"}], \"scatter\": [{\"marker\": {\"colorbar\": {\"outlinewidth\": 0, \"ticks\": \"\"}}, \"type\": \"scatter\"}], \"scatter3d\": [{\"line\": {\"colorbar\": {\"outlinewidth\": 0, \"ticks\": \"\"}}, \"marker\": {\"colorbar\": {\"outlinewidth\": 0, \"ticks\": \"\"}}, \"type\": \"scatter3d\"}], \"scattercarpet\": [{\"marker\": {\"colorbar\": {\"outlinewidth\": 0, \"ticks\": \"\"}}, \"type\": \"scattercarpet\"}], \"scattergeo\": [{\"marker\": {\"colorbar\": {\"outlinewidth\": 0, \"ticks\": \"\"}}, \"type\": \"scattergeo\"}], \"scattergl\": [{\"marker\": {\"colorbar\": {\"outlinewidth\": 0, \"ticks\": \"\"}}, \"type\": \"scattergl\"}], \"scattermapbox\": [{\"marker\": {\"colorbar\": {\"outlinewidth\": 0, \"ticks\": \"\"}}, \"type\": \"scattermapbox\"}], \"scatterpolar\": [{\"marker\": {\"colorbar\": {\"outlinewidth\": 0, \"ticks\": \"\"}}, \"type\": \"scatterpolar\"}], \"scatterpolargl\": [{\"marker\": {\"colorbar\": {\"outlinewidth\": 0, \"ticks\": \"\"}}, \"type\": \"scatterpolargl\"}], \"scatterternary\": [{\"marker\": {\"colorbar\": {\"outlinewidth\": 0, \"ticks\": \"\"}}, \"type\": \"scatterternary\"}], \"surface\": [{\"colorbar\": {\"outlinewidth\": 0, \"ticks\": \"\"}, \"colorscale\": [[0.0, \"#0d0887\"], [0.1111111111111111, \"#46039f\"], [0.2222222222222222, \"#7201a8\"], [0.3333333333333333, \"#9c179e\"], [0.4444444444444444, \"#bd3786\"], [0.5555555555555556, \"#d8576b\"], [0.6666666666666666, \"#ed7953\"], [0.7777777777777778, \"#fb9f3a\"], [0.8888888888888888, \"#fdca26\"], [1.0, \"#f0f921\"]], \"type\": \"surface\"}], \"table\": [{\"cells\": {\"fill\": {\"color\": \"#EBF0F8\"}, \"line\": {\"color\": \"white\"}}, \"header\": {\"fill\": {\"color\": \"#C8D4E3\"}, \"line\": {\"color\": \"white\"}}, \"type\": \"table\"}]}, \"layout\": {\"annotationdefaults\": {\"arrowcolor\": \"#2a3f5f\", \"arrowhead\": 0, \"arrowwidth\": 1}, \"coloraxis\": {\"colorbar\": {\"outlinewidth\": 0, \"ticks\": \"\"}}, \"colorscale\": {\"diverging\": [[0, \"#8e0152\"], [0.1, \"#c51b7d\"], [0.2, \"#de77ae\"], [0.3, \"#f1b6da\"], [0.4, \"#fde0ef\"], [0.5, \"#f7f7f7\"], [0.6, \"#e6f5d0\"], [0.7, \"#b8e186\"], [0.8, \"#7fbc41\"], [0.9, \"#4d9221\"], [1, \"#276419\"]], \"sequential\": [[0.0, \"#0d0887\"], [0.1111111111111111, \"#46039f\"], [0.2222222222222222, \"#7201a8\"], [0.3333333333333333, \"#9c179e\"], [0.4444444444444444, \"#bd3786\"], [0.5555555555555556, \"#d8576b\"], [0.6666666666666666, \"#ed7953\"], [0.7777777777777778, \"#fb9f3a\"], [0.8888888888888888, \"#fdca26\"], [1.0, \"#f0f921\"]], \"sequentialminus\": [[0.0, \"#0d0887\"], [0.1111111111111111, \"#46039f\"], [0.2222222222222222, \"#7201a8\"], [0.3333333333333333, \"#9c179e\"], [0.4444444444444444, \"#bd3786\"], [0.5555555555555556, \"#d8576b\"], [0.6666666666666666, \"#ed7953\"], [0.7777777777777778, \"#fb9f3a\"], [0.8888888888888888, \"#fdca26\"], [1.0, \"#f0f921\"]]}, \"colorway\": [\"#636efa\", \"#EF553B\", \"#00cc96\", \"#ab63fa\", \"#FFA15A\", \"#19d3f3\", \"#FF6692\", \"#B6E880\", \"#FF97FF\", \"#FECB52\"], \"font\": {\"color\": \"#2a3f5f\"}, \"geo\": {\"bgcolor\": \"white\", \"lakecolor\": \"white\", \"landcolor\": \"#E5ECF6\", \"showlakes\": true, \"showland\": true, \"subunitcolor\": \"white\"}, \"hoverlabel\": {\"align\": \"left\"}, \"hovermode\": \"closest\", \"mapbox\": {\"style\": \"light\"}, \"paper_bgcolor\": \"white\", \"plot_bgcolor\": \"#E5ECF6\", \"polar\": {\"angularaxis\": {\"gridcolor\": \"white\", \"linecolor\": \"white\", \"ticks\": \"\"}, \"bgcolor\": \"#E5ECF6\", \"radialaxis\": {\"gridcolor\": \"white\", \"linecolor\": \"white\", \"ticks\": \"\"}}, \"scene\": {\"xaxis\": {\"backgroundcolor\": \"#E5ECF6\", \"gridcolor\": \"white\", \"gridwidth\": 2, \"linecolor\": \"white\", \"showbackground\": true, \"ticks\": \"\", \"zerolinecolor\": \"white\"}, \"yaxis\": {\"backgroundcolor\": \"#E5ECF6\", \"gridcolor\": \"white\", \"gridwidth\": 2, \"linecolor\": \"white\", \"showbackground\": true, \"ticks\": \"\", \"zerolinecolor\": \"white\"}, \"zaxis\": {\"backgroundcolor\": \"#E5ECF6\", \"gridcolor\": \"white\", \"gridwidth\": 2, \"linecolor\": \"white\", \"showbackground\": true, \"ticks\": \"\", \"zerolinecolor\": \"white\"}}, \"shapedefaults\": {\"line\": {\"color\": \"#2a3f5f\"}}, \"ternary\": {\"aaxis\": {\"gridcolor\": \"white\", \"linecolor\": \"white\", \"ticks\": \"\"}, \"baxis\": {\"gridcolor\": \"white\", \"linecolor\": \"white\", \"ticks\": \"\"}, \"bgcolor\": \"#E5ECF6\", \"caxis\": {\"gridcolor\": \"white\", \"linecolor\": \"white\", \"ticks\": \"\"}}, \"title\": {\"x\": 0.05}, \"xaxis\": {\"automargin\": true, \"gridcolor\": \"white\", \"linecolor\": \"white\", \"ticks\": \"\", \"title\": {\"standoff\": 15}, \"zerolinecolor\": \"white\", \"zerolinewidth\": 2}, \"yaxis\": {\"automargin\": true, \"gridcolor\": \"white\", \"linecolor\": \"white\", \"ticks\": \"\", \"title\": {\"standoff\": 15}, \"zerolinecolor\": \"white\", \"zerolinewidth\": 2}}}, \"title\": {\"text\": \"State Rankings Based on Education\"}, \"width\": 800},\n",
       "                        {\"responsive\": true}\n",
       "                    ).then(function(){\n",
       "                            \n",
       "var gd = document.getElementById('5429b6cc-b908-41e7-aaf6-959f165bea31');\n",
       "var x = new MutationObserver(function (mutations, observer) {{\n",
       "        var display = window.getComputedStyle(gd).display;\n",
       "        if (!display || display === 'none') {{\n",
       "            console.log([gd, 'removed!']);\n",
       "            Plotly.purge(gd);\n",
       "            observer.disconnect();\n",
       "        }}\n",
       "}});\n",
       "\n",
       "// Listen for the removal of the full notebook cells\n",
       "var notebookContainer = gd.closest('#notebook-container');\n",
       "if (notebookContainer) {{\n",
       "    x.observe(notebookContainer, {childList: true});\n",
       "}}\n",
       "\n",
       "// Listen for the clearing of the current output cell\n",
       "var outputEl = gd.closest('.output');\n",
       "if (outputEl) {{\n",
       "    x.observe(outputEl, {childList: true});\n",
       "}}\n",
       "\n",
       "                        })\n",
       "                };\n",
       "                });\n",
       "            </script>\n",
       "        </div>"
      ]
     },
     "metadata": {},
     "output_type": "display_data"
    }
   ],
   "source": [
    "fig = px.choropleth(merged_df_fin,  # Input Pandas DataFrame\n",
    "                    locations=\"Stabr\",  # DataFrame column with locations\n",
    "                    color=\"Total Edu 2014-18\",  # DataFrame column with color values\n",
    "                    color_continuous_scale=\"Greens\",\n",
    "                    hover_name=\"area_name\", # DataFrame column hover info\n",
    "                    locationmode = 'USA-states') # Set to plot as US States\n",
    "# colorscale = ['#f2f0f7','#dadaeb','#bcbddc','#9e9ac8','#756bb1','#54278f']\n",
    "fig.update_layout(\n",
    "    title_text = 'State Rankings Based on Education', # Create a Title\n",
    "    autosize=False,\n",
    "    width=800,\n",
    "    height=400,\n",
    "#     autocolorscale = True,\n",
    "#     colorscale = \"sequential\", \n",
    "    geo_scope='usa',  # Plot only the USA instead of globe\n",
    ")\n",
    "\n",
    "# fig.update_yaxes(automargin=True)\n",
    "# plt.savefig(\"Images/unemployment_heat_map.png\")\n",
    "fig.show()  # Output the plot to the screen"
   ]
  },
  {
   "cell_type": "code",
   "execution_count": 65,
   "metadata": {},
   "outputs": [
    {
     "data": {
      "application/vnd.plotly.v1+json": {
       "config": {
        "plotlyServerURL": "https://plot.ly"
       },
       "data": [
        {
         "coloraxis": "coloraxis",
         "geo": "geo",
         "hovertemplate": "<b>%{hovertext}</b><br><br>Stabr=%{location}<br>median_household_income=%{z}<extra></extra>",
         "hovertext": [
          "Alabama",
          "Alaska",
          "Arizona",
          "Arkansas",
          "California",
          "Colorado",
          "Connecticut",
          "Delaware",
          "District of Columbia",
          "Florida",
          "Georgia",
          "Idaho",
          "Illinois",
          "Indiana",
          "Iowa",
          "Kansas",
          "Kentucky",
          "Louisiana",
          "Maine",
          "Maryland",
          "Massachusetts",
          "Michigan",
          "Minnesota",
          "Mississippi",
          "Missouri",
          "Montana",
          "Nebraska",
          "Nevada",
          "New Hampshire",
          "New Jersey",
          "New Mexico",
          "New York",
          "North Carolina",
          "Ohio",
          "Oklahoma",
          "Oregon",
          "Pennsylvania",
          "Rhode Island",
          "South Carolina",
          "Tennessee",
          "Texas",
          "Utah",
          "Vermont",
          "Virginia",
          "Washington",
          "Wisconsin"
         ],
         "locationmode": "USA-states",
         "locations": [
          "AL",
          "AK",
          "AZ",
          "AR",
          "CA",
          "CO",
          "CT",
          "DE",
          "DC",
          "FL",
          "GA",
          "ID",
          "IL",
          "IN",
          "IA",
          "KS",
          "KY",
          "LA",
          "ME",
          "MD",
          "MA",
          "MI",
          "MN",
          "MS",
          "MO",
          "MT",
          "NE",
          "NV",
          "NH",
          "NJ",
          "NM",
          "NY",
          "NC",
          "OH",
          "OK",
          "OR",
          "PA",
          "RI",
          "SC",
          "TN",
          "TX",
          "UT",
          "VT",
          "VA",
          "WA",
          "WI"
         ],
         "name": "",
         "type": "choropleth",
         "z": [
          42278,
          67629,
          49254,
          44922,
          60487,
          60940,
          70161,
          57522,
          68277,
          46140,
          49555,
          53438,
          54916,
          48060,
          57810,
          53444,
          42786,
          42406,
          51710,
          76165,
          63151,
          52005,
          67244,
          35521,
          56630,
          51102,
          56870,
          49875,
          73397,
          65243,
          46686,
          54310,
          46784,
          49644,
          47199,
          58875,
          55173,
          58633,
          44929,
          43716,
          53875,
          63383,
          60708,
          66155,
          59068,
          58080
         ]
        }
       ],
       "layout": {
        "autosize": false,
        "coloraxis": {
         "colorbar": {
          "title": {
           "text": "median_household_income"
          }
         },
         "colorscale": [
          [
           0,
           "rgb(252,251,253)"
          ],
          [
           0.125,
           "rgb(239,237,245)"
          ],
          [
           0.25,
           "rgb(218,218,235)"
          ],
          [
           0.375,
           "rgb(188,189,220)"
          ],
          [
           0.5,
           "rgb(158,154,200)"
          ],
          [
           0.625,
           "rgb(128,125,186)"
          ],
          [
           0.75,
           "rgb(106,81,163)"
          ],
          [
           0.875,
           "rgb(84,39,143)"
          ],
          [
           1,
           "rgb(63,0,125)"
          ]
         ]
        },
        "geo": {
         "center": {},
         "domain": {
          "x": [
           0,
           1
          ],
          "y": [
           0,
           1
          ]
         },
         "scope": "usa"
        },
        "height": 400,
        "legend": {
         "tracegroupgap": 0
        },
        "margin": {
         "t": 60
        },
        "template": {
         "data": {
          "bar": [
           {
            "error_x": {
             "color": "#2a3f5f"
            },
            "error_y": {
             "color": "#2a3f5f"
            },
            "marker": {
             "line": {
              "color": "#E5ECF6",
              "width": 0.5
             }
            },
            "type": "bar"
           }
          ],
          "barpolar": [
           {
            "marker": {
             "line": {
              "color": "#E5ECF6",
              "width": 0.5
             }
            },
            "type": "barpolar"
           }
          ],
          "carpet": [
           {
            "aaxis": {
             "endlinecolor": "#2a3f5f",
             "gridcolor": "white",
             "linecolor": "white",
             "minorgridcolor": "white",
             "startlinecolor": "#2a3f5f"
            },
            "baxis": {
             "endlinecolor": "#2a3f5f",
             "gridcolor": "white",
             "linecolor": "white",
             "minorgridcolor": "white",
             "startlinecolor": "#2a3f5f"
            },
            "type": "carpet"
           }
          ],
          "choropleth": [
           {
            "colorbar": {
             "outlinewidth": 0,
             "ticks": ""
            },
            "type": "choropleth"
           }
          ],
          "contour": [
           {
            "colorbar": {
             "outlinewidth": 0,
             "ticks": ""
            },
            "colorscale": [
             [
              0,
              "#0d0887"
             ],
             [
              0.1111111111111111,
              "#46039f"
             ],
             [
              0.2222222222222222,
              "#7201a8"
             ],
             [
              0.3333333333333333,
              "#9c179e"
             ],
             [
              0.4444444444444444,
              "#bd3786"
             ],
             [
              0.5555555555555556,
              "#d8576b"
             ],
             [
              0.6666666666666666,
              "#ed7953"
             ],
             [
              0.7777777777777778,
              "#fb9f3a"
             ],
             [
              0.8888888888888888,
              "#fdca26"
             ],
             [
              1,
              "#f0f921"
             ]
            ],
            "type": "contour"
           }
          ],
          "contourcarpet": [
           {
            "colorbar": {
             "outlinewidth": 0,
             "ticks": ""
            },
            "type": "contourcarpet"
           }
          ],
          "heatmap": [
           {
            "colorbar": {
             "outlinewidth": 0,
             "ticks": ""
            },
            "colorscale": [
             [
              0,
              "#0d0887"
             ],
             [
              0.1111111111111111,
              "#46039f"
             ],
             [
              0.2222222222222222,
              "#7201a8"
             ],
             [
              0.3333333333333333,
              "#9c179e"
             ],
             [
              0.4444444444444444,
              "#bd3786"
             ],
             [
              0.5555555555555556,
              "#d8576b"
             ],
             [
              0.6666666666666666,
              "#ed7953"
             ],
             [
              0.7777777777777778,
              "#fb9f3a"
             ],
             [
              0.8888888888888888,
              "#fdca26"
             ],
             [
              1,
              "#f0f921"
             ]
            ],
            "type": "heatmap"
           }
          ],
          "heatmapgl": [
           {
            "colorbar": {
             "outlinewidth": 0,
             "ticks": ""
            },
            "colorscale": [
             [
              0,
              "#0d0887"
             ],
             [
              0.1111111111111111,
              "#46039f"
             ],
             [
              0.2222222222222222,
              "#7201a8"
             ],
             [
              0.3333333333333333,
              "#9c179e"
             ],
             [
              0.4444444444444444,
              "#bd3786"
             ],
             [
              0.5555555555555556,
              "#d8576b"
             ],
             [
              0.6666666666666666,
              "#ed7953"
             ],
             [
              0.7777777777777778,
              "#fb9f3a"
             ],
             [
              0.8888888888888888,
              "#fdca26"
             ],
             [
              1,
              "#f0f921"
             ]
            ],
            "type": "heatmapgl"
           }
          ],
          "histogram": [
           {
            "marker": {
             "colorbar": {
              "outlinewidth": 0,
              "ticks": ""
             }
            },
            "type": "histogram"
           }
          ],
          "histogram2d": [
           {
            "colorbar": {
             "outlinewidth": 0,
             "ticks": ""
            },
            "colorscale": [
             [
              0,
              "#0d0887"
             ],
             [
              0.1111111111111111,
              "#46039f"
             ],
             [
              0.2222222222222222,
              "#7201a8"
             ],
             [
              0.3333333333333333,
              "#9c179e"
             ],
             [
              0.4444444444444444,
              "#bd3786"
             ],
             [
              0.5555555555555556,
              "#d8576b"
             ],
             [
              0.6666666666666666,
              "#ed7953"
             ],
             [
              0.7777777777777778,
              "#fb9f3a"
             ],
             [
              0.8888888888888888,
              "#fdca26"
             ],
             [
              1,
              "#f0f921"
             ]
            ],
            "type": "histogram2d"
           }
          ],
          "histogram2dcontour": [
           {
            "colorbar": {
             "outlinewidth": 0,
             "ticks": ""
            },
            "colorscale": [
             [
              0,
              "#0d0887"
             ],
             [
              0.1111111111111111,
              "#46039f"
             ],
             [
              0.2222222222222222,
              "#7201a8"
             ],
             [
              0.3333333333333333,
              "#9c179e"
             ],
             [
              0.4444444444444444,
              "#bd3786"
             ],
             [
              0.5555555555555556,
              "#d8576b"
             ],
             [
              0.6666666666666666,
              "#ed7953"
             ],
             [
              0.7777777777777778,
              "#fb9f3a"
             ],
             [
              0.8888888888888888,
              "#fdca26"
             ],
             [
              1,
              "#f0f921"
             ]
            ],
            "type": "histogram2dcontour"
           }
          ],
          "mesh3d": [
           {
            "colorbar": {
             "outlinewidth": 0,
             "ticks": ""
            },
            "type": "mesh3d"
           }
          ],
          "parcoords": [
           {
            "line": {
             "colorbar": {
              "outlinewidth": 0,
              "ticks": ""
             }
            },
            "type": "parcoords"
           }
          ],
          "pie": [
           {
            "automargin": true,
            "type": "pie"
           }
          ],
          "scatter": [
           {
            "marker": {
             "colorbar": {
              "outlinewidth": 0,
              "ticks": ""
             }
            },
            "type": "scatter"
           }
          ],
          "scatter3d": [
           {
            "line": {
             "colorbar": {
              "outlinewidth": 0,
              "ticks": ""
             }
            },
            "marker": {
             "colorbar": {
              "outlinewidth": 0,
              "ticks": ""
             }
            },
            "type": "scatter3d"
           }
          ],
          "scattercarpet": [
           {
            "marker": {
             "colorbar": {
              "outlinewidth": 0,
              "ticks": ""
             }
            },
            "type": "scattercarpet"
           }
          ],
          "scattergeo": [
           {
            "marker": {
             "colorbar": {
              "outlinewidth": 0,
              "ticks": ""
             }
            },
            "type": "scattergeo"
           }
          ],
          "scattergl": [
           {
            "marker": {
             "colorbar": {
              "outlinewidth": 0,
              "ticks": ""
             }
            },
            "type": "scattergl"
           }
          ],
          "scattermapbox": [
           {
            "marker": {
             "colorbar": {
              "outlinewidth": 0,
              "ticks": ""
             }
            },
            "type": "scattermapbox"
           }
          ],
          "scatterpolar": [
           {
            "marker": {
             "colorbar": {
              "outlinewidth": 0,
              "ticks": ""
             }
            },
            "type": "scatterpolar"
           }
          ],
          "scatterpolargl": [
           {
            "marker": {
             "colorbar": {
              "outlinewidth": 0,
              "ticks": ""
             }
            },
            "type": "scatterpolargl"
           }
          ],
          "scatterternary": [
           {
            "marker": {
             "colorbar": {
              "outlinewidth": 0,
              "ticks": ""
             }
            },
            "type": "scatterternary"
           }
          ],
          "surface": [
           {
            "colorbar": {
             "outlinewidth": 0,
             "ticks": ""
            },
            "colorscale": [
             [
              0,
              "#0d0887"
             ],
             [
              0.1111111111111111,
              "#46039f"
             ],
             [
              0.2222222222222222,
              "#7201a8"
             ],
             [
              0.3333333333333333,
              "#9c179e"
             ],
             [
              0.4444444444444444,
              "#bd3786"
             ],
             [
              0.5555555555555556,
              "#d8576b"
             ],
             [
              0.6666666666666666,
              "#ed7953"
             ],
             [
              0.7777777777777778,
              "#fb9f3a"
             ],
             [
              0.8888888888888888,
              "#fdca26"
             ],
             [
              1,
              "#f0f921"
             ]
            ],
            "type": "surface"
           }
          ],
          "table": [
           {
            "cells": {
             "fill": {
              "color": "#EBF0F8"
             },
             "line": {
              "color": "white"
             }
            },
            "header": {
             "fill": {
              "color": "#C8D4E3"
             },
             "line": {
              "color": "white"
             }
            },
            "type": "table"
           }
          ]
         },
         "layout": {
          "annotationdefaults": {
           "arrowcolor": "#2a3f5f",
           "arrowhead": 0,
           "arrowwidth": 1
          },
          "coloraxis": {
           "colorbar": {
            "outlinewidth": 0,
            "ticks": ""
           }
          },
          "colorscale": {
           "diverging": [
            [
             0,
             "#8e0152"
            ],
            [
             0.1,
             "#c51b7d"
            ],
            [
             0.2,
             "#de77ae"
            ],
            [
             0.3,
             "#f1b6da"
            ],
            [
             0.4,
             "#fde0ef"
            ],
            [
             0.5,
             "#f7f7f7"
            ],
            [
             0.6,
             "#e6f5d0"
            ],
            [
             0.7,
             "#b8e186"
            ],
            [
             0.8,
             "#7fbc41"
            ],
            [
             0.9,
             "#4d9221"
            ],
            [
             1,
             "#276419"
            ]
           ],
           "sequential": [
            [
             0,
             "#0d0887"
            ],
            [
             0.1111111111111111,
             "#46039f"
            ],
            [
             0.2222222222222222,
             "#7201a8"
            ],
            [
             0.3333333333333333,
             "#9c179e"
            ],
            [
             0.4444444444444444,
             "#bd3786"
            ],
            [
             0.5555555555555556,
             "#d8576b"
            ],
            [
             0.6666666666666666,
             "#ed7953"
            ],
            [
             0.7777777777777778,
             "#fb9f3a"
            ],
            [
             0.8888888888888888,
             "#fdca26"
            ],
            [
             1,
             "#f0f921"
            ]
           ],
           "sequentialminus": [
            [
             0,
             "#0d0887"
            ],
            [
             0.1111111111111111,
             "#46039f"
            ],
            [
             0.2222222222222222,
             "#7201a8"
            ],
            [
             0.3333333333333333,
             "#9c179e"
            ],
            [
             0.4444444444444444,
             "#bd3786"
            ],
            [
             0.5555555555555556,
             "#d8576b"
            ],
            [
             0.6666666666666666,
             "#ed7953"
            ],
            [
             0.7777777777777778,
             "#fb9f3a"
            ],
            [
             0.8888888888888888,
             "#fdca26"
            ],
            [
             1,
             "#f0f921"
            ]
           ]
          },
          "colorway": [
           "#636efa",
           "#EF553B",
           "#00cc96",
           "#ab63fa",
           "#FFA15A",
           "#19d3f3",
           "#FF6692",
           "#B6E880",
           "#FF97FF",
           "#FECB52"
          ],
          "font": {
           "color": "#2a3f5f"
          },
          "geo": {
           "bgcolor": "white",
           "lakecolor": "white",
           "landcolor": "#E5ECF6",
           "showlakes": true,
           "showland": true,
           "subunitcolor": "white"
          },
          "hoverlabel": {
           "align": "left"
          },
          "hovermode": "closest",
          "mapbox": {
           "style": "light"
          },
          "paper_bgcolor": "white",
          "plot_bgcolor": "#E5ECF6",
          "polar": {
           "angularaxis": {
            "gridcolor": "white",
            "linecolor": "white",
            "ticks": ""
           },
           "bgcolor": "#E5ECF6",
           "radialaxis": {
            "gridcolor": "white",
            "linecolor": "white",
            "ticks": ""
           }
          },
          "scene": {
           "xaxis": {
            "backgroundcolor": "#E5ECF6",
            "gridcolor": "white",
            "gridwidth": 2,
            "linecolor": "white",
            "showbackground": true,
            "ticks": "",
            "zerolinecolor": "white"
           },
           "yaxis": {
            "backgroundcolor": "#E5ECF6",
            "gridcolor": "white",
            "gridwidth": 2,
            "linecolor": "white",
            "showbackground": true,
            "ticks": "",
            "zerolinecolor": "white"
           },
           "zaxis": {
            "backgroundcolor": "#E5ECF6",
            "gridcolor": "white",
            "gridwidth": 2,
            "linecolor": "white",
            "showbackground": true,
            "ticks": "",
            "zerolinecolor": "white"
           }
          },
          "shapedefaults": {
           "line": {
            "color": "#2a3f5f"
           }
          },
          "ternary": {
           "aaxis": {
            "gridcolor": "white",
            "linecolor": "white",
            "ticks": ""
           },
           "baxis": {
            "gridcolor": "white",
            "linecolor": "white",
            "ticks": ""
           },
           "bgcolor": "#E5ECF6",
           "caxis": {
            "gridcolor": "white",
            "linecolor": "white",
            "ticks": ""
           }
          },
          "title": {
           "x": 0.05
          },
          "xaxis": {
           "automargin": true,
           "gridcolor": "white",
           "linecolor": "white",
           "ticks": "",
           "title": {
            "standoff": 15
           },
           "zerolinecolor": "white",
           "zerolinewidth": 2
          },
          "yaxis": {
           "automargin": true,
           "gridcolor": "white",
           "linecolor": "white",
           "ticks": "",
           "title": {
            "standoff": 15
           },
           "zerolinecolor": "white",
           "zerolinewidth": 2
          }
         }
        },
        "title": {
         "text": "State Rankings Based on Income"
        },
        "width": 800
       }
      },
      "text/html": [
       "<div>\n",
       "        \n",
       "        \n",
       "            <div id=\"419a2cdb-7513-4b19-a789-4d832db35477\" class=\"plotly-graph-div\" style=\"height:400px; width:800px;\"></div>\n",
       "            <script type=\"text/javascript\">\n",
       "                require([\"plotly\"], function(Plotly) {\n",
       "                    window.PLOTLYENV=window.PLOTLYENV || {};\n",
       "                    \n",
       "                if (document.getElementById(\"419a2cdb-7513-4b19-a789-4d832db35477\")) {\n",
       "                    Plotly.newPlot(\n",
       "                        '419a2cdb-7513-4b19-a789-4d832db35477',\n",
       "                        [{\"coloraxis\": \"coloraxis\", \"geo\": \"geo\", \"hovertemplate\": \"<b>%{hovertext}</b><br><br>Stabr=%{location}<br>median_household_income=%{z}<extra></extra>\", \"hovertext\": [\"Alabama\", \"Alaska\", \"Arizona\", \"Arkansas\", \"California\", \"Colorado\", \"Connecticut\", \"Delaware\", \"District of Columbia\", \"Florida\", \"Georgia\", \"Idaho\", \"Illinois\", \"Indiana\", \"Iowa\", \"Kansas\", \"Kentucky\", \"Louisiana\", \"Maine\", \"Maryland\", \"Massachusetts\", \"Michigan\", \"Minnesota\", \"Mississippi\", \"Missouri\", \"Montana\", \"Nebraska\", \"Nevada\", \"New Hampshire\", \"New Jersey\", \"New Mexico\", \"New York\", \"North Carolina\", \"Ohio\", \"Oklahoma\", \"Oregon\", \"Pennsylvania\", \"Rhode Island\", \"South Carolina\", \"Tennessee\", \"Texas\", \"Utah\", \"Vermont\", \"Virginia\", \"Washington\", \"Wisconsin\"], \"locationmode\": \"USA-states\", \"locations\": [\"AL\", \"AK\", \"AZ\", \"AR\", \"CA\", \"CO\", \"CT\", \"DE\", \"DC\", \"FL\", \"GA\", \"ID\", \"IL\", \"IN\", \"IA\", \"KS\", \"KY\", \"LA\", \"ME\", \"MD\", \"MA\", \"MI\", \"MN\", \"MS\", \"MO\", \"MT\", \"NE\", \"NV\", \"NH\", \"NJ\", \"NM\", \"NY\", \"NC\", \"OH\", \"OK\", \"OR\", \"PA\", \"RI\", \"SC\", \"TN\", \"TX\", \"UT\", \"VT\", \"VA\", \"WA\", \"WI\"], \"name\": \"\", \"type\": \"choropleth\", \"z\": [42278.0, 67629.0, 49254.0, 44922.0, 60487.0, 60940.0, 70161.0, 57522.0, 68277.0, 46140.0, 49555.0, 53438.0, 54916.0, 48060.0, 57810.0, 53444.0, 42786.0, 42406.0, 51710.0, 76165.0, 63151.0, 52005.0, 67244.0, 35521.0, 56630.0, 51102.0, 56870.0, 49875.0, 73397.0, 65243.0, 46686.0, 54310.0, 46784.0, 49644.0, 47199.0, 58875.0, 55173.0, 58633.0, 44929.0, 43716.0, 53875.0, 63383.0, 60708.0, 66155.0, 59068.0, 58080.0]}],\n",
       "                        {\"autosize\": false, \"coloraxis\": {\"colorbar\": {\"title\": {\"text\": \"median_household_income\"}}, \"colorscale\": [[0.0, \"rgb(252,251,253)\"], [0.125, \"rgb(239,237,245)\"], [0.25, \"rgb(218,218,235)\"], [0.375, \"rgb(188,189,220)\"], [0.5, \"rgb(158,154,200)\"], [0.625, \"rgb(128,125,186)\"], [0.75, \"rgb(106,81,163)\"], [0.875, \"rgb(84,39,143)\"], [1.0, \"rgb(63,0,125)\"]]}, \"geo\": {\"center\": {}, \"domain\": {\"x\": [0.0, 1.0], \"y\": [0.0, 1.0]}, \"scope\": \"usa\"}, \"height\": 400, \"legend\": {\"tracegroupgap\": 0}, \"margin\": {\"t\": 60}, \"template\": {\"data\": {\"bar\": [{\"error_x\": {\"color\": \"#2a3f5f\"}, \"error_y\": {\"color\": \"#2a3f5f\"}, \"marker\": {\"line\": {\"color\": \"#E5ECF6\", \"width\": 0.5}}, \"type\": \"bar\"}], \"barpolar\": [{\"marker\": {\"line\": {\"color\": \"#E5ECF6\", \"width\": 0.5}}, \"type\": \"barpolar\"}], \"carpet\": [{\"aaxis\": {\"endlinecolor\": \"#2a3f5f\", \"gridcolor\": \"white\", \"linecolor\": \"white\", \"minorgridcolor\": \"white\", \"startlinecolor\": \"#2a3f5f\"}, \"baxis\": {\"endlinecolor\": \"#2a3f5f\", \"gridcolor\": \"white\", \"linecolor\": \"white\", \"minorgridcolor\": \"white\", \"startlinecolor\": \"#2a3f5f\"}, \"type\": \"carpet\"}], \"choropleth\": [{\"colorbar\": {\"outlinewidth\": 0, \"ticks\": \"\"}, \"type\": \"choropleth\"}], \"contour\": [{\"colorbar\": {\"outlinewidth\": 0, \"ticks\": \"\"}, \"colorscale\": [[0.0, \"#0d0887\"], [0.1111111111111111, \"#46039f\"], [0.2222222222222222, \"#7201a8\"], [0.3333333333333333, \"#9c179e\"], [0.4444444444444444, \"#bd3786\"], [0.5555555555555556, \"#d8576b\"], [0.6666666666666666, \"#ed7953\"], [0.7777777777777778, \"#fb9f3a\"], [0.8888888888888888, \"#fdca26\"], [1.0, \"#f0f921\"]], \"type\": \"contour\"}], \"contourcarpet\": [{\"colorbar\": {\"outlinewidth\": 0, \"ticks\": \"\"}, \"type\": \"contourcarpet\"}], \"heatmap\": [{\"colorbar\": {\"outlinewidth\": 0, \"ticks\": \"\"}, \"colorscale\": [[0.0, \"#0d0887\"], [0.1111111111111111, \"#46039f\"], [0.2222222222222222, \"#7201a8\"], [0.3333333333333333, \"#9c179e\"], [0.4444444444444444, \"#bd3786\"], [0.5555555555555556, \"#d8576b\"], [0.6666666666666666, \"#ed7953\"], [0.7777777777777778, \"#fb9f3a\"], [0.8888888888888888, \"#fdca26\"], [1.0, \"#f0f921\"]], \"type\": \"heatmap\"}], \"heatmapgl\": [{\"colorbar\": {\"outlinewidth\": 0, \"ticks\": \"\"}, \"colorscale\": [[0.0, \"#0d0887\"], [0.1111111111111111, \"#46039f\"], [0.2222222222222222, \"#7201a8\"], [0.3333333333333333, \"#9c179e\"], [0.4444444444444444, \"#bd3786\"], [0.5555555555555556, \"#d8576b\"], [0.6666666666666666, \"#ed7953\"], [0.7777777777777778, \"#fb9f3a\"], [0.8888888888888888, \"#fdca26\"], [1.0, \"#f0f921\"]], \"type\": \"heatmapgl\"}], \"histogram\": [{\"marker\": {\"colorbar\": {\"outlinewidth\": 0, \"ticks\": \"\"}}, \"type\": \"histogram\"}], \"histogram2d\": [{\"colorbar\": {\"outlinewidth\": 0, \"ticks\": \"\"}, \"colorscale\": [[0.0, \"#0d0887\"], [0.1111111111111111, \"#46039f\"], [0.2222222222222222, \"#7201a8\"], [0.3333333333333333, \"#9c179e\"], [0.4444444444444444, \"#bd3786\"], [0.5555555555555556, \"#d8576b\"], [0.6666666666666666, \"#ed7953\"], [0.7777777777777778, \"#fb9f3a\"], [0.8888888888888888, \"#fdca26\"], [1.0, \"#f0f921\"]], \"type\": \"histogram2d\"}], \"histogram2dcontour\": [{\"colorbar\": {\"outlinewidth\": 0, \"ticks\": \"\"}, \"colorscale\": [[0.0, \"#0d0887\"], [0.1111111111111111, \"#46039f\"], [0.2222222222222222, \"#7201a8\"], [0.3333333333333333, \"#9c179e\"], [0.4444444444444444, \"#bd3786\"], [0.5555555555555556, \"#d8576b\"], [0.6666666666666666, \"#ed7953\"], [0.7777777777777778, \"#fb9f3a\"], [0.8888888888888888, \"#fdca26\"], [1.0, \"#f0f921\"]], \"type\": \"histogram2dcontour\"}], \"mesh3d\": [{\"colorbar\": {\"outlinewidth\": 0, \"ticks\": \"\"}, \"type\": \"mesh3d\"}], \"parcoords\": [{\"line\": {\"colorbar\": {\"outlinewidth\": 0, \"ticks\": \"\"}}, \"type\": \"parcoords\"}], \"pie\": [{\"automargin\": true, \"type\": \"pie\"}], \"scatter\": [{\"marker\": {\"colorbar\": {\"outlinewidth\": 0, \"ticks\": \"\"}}, \"type\": \"scatter\"}], \"scatter3d\": [{\"line\": {\"colorbar\": {\"outlinewidth\": 0, \"ticks\": \"\"}}, \"marker\": {\"colorbar\": {\"outlinewidth\": 0, \"ticks\": \"\"}}, \"type\": \"scatter3d\"}], \"scattercarpet\": [{\"marker\": {\"colorbar\": {\"outlinewidth\": 0, \"ticks\": \"\"}}, \"type\": \"scattercarpet\"}], \"scattergeo\": [{\"marker\": {\"colorbar\": {\"outlinewidth\": 0, \"ticks\": \"\"}}, \"type\": \"scattergeo\"}], \"scattergl\": [{\"marker\": {\"colorbar\": {\"outlinewidth\": 0, \"ticks\": \"\"}}, \"type\": \"scattergl\"}], \"scattermapbox\": [{\"marker\": {\"colorbar\": {\"outlinewidth\": 0, \"ticks\": \"\"}}, \"type\": \"scattermapbox\"}], \"scatterpolar\": [{\"marker\": {\"colorbar\": {\"outlinewidth\": 0, \"ticks\": \"\"}}, \"type\": \"scatterpolar\"}], \"scatterpolargl\": [{\"marker\": {\"colorbar\": {\"outlinewidth\": 0, \"ticks\": \"\"}}, \"type\": \"scatterpolargl\"}], \"scatterternary\": [{\"marker\": {\"colorbar\": {\"outlinewidth\": 0, \"ticks\": \"\"}}, \"type\": \"scatterternary\"}], \"surface\": [{\"colorbar\": {\"outlinewidth\": 0, \"ticks\": \"\"}, \"colorscale\": [[0.0, \"#0d0887\"], [0.1111111111111111, \"#46039f\"], [0.2222222222222222, \"#7201a8\"], [0.3333333333333333, \"#9c179e\"], [0.4444444444444444, \"#bd3786\"], [0.5555555555555556, \"#d8576b\"], [0.6666666666666666, \"#ed7953\"], [0.7777777777777778, \"#fb9f3a\"], [0.8888888888888888, \"#fdca26\"], [1.0, \"#f0f921\"]], \"type\": \"surface\"}], \"table\": [{\"cells\": {\"fill\": {\"color\": \"#EBF0F8\"}, \"line\": {\"color\": \"white\"}}, \"header\": {\"fill\": {\"color\": \"#C8D4E3\"}, \"line\": {\"color\": \"white\"}}, \"type\": \"table\"}]}, \"layout\": {\"annotationdefaults\": {\"arrowcolor\": \"#2a3f5f\", \"arrowhead\": 0, \"arrowwidth\": 1}, \"coloraxis\": {\"colorbar\": {\"outlinewidth\": 0, \"ticks\": \"\"}}, \"colorscale\": {\"diverging\": [[0, \"#8e0152\"], [0.1, \"#c51b7d\"], [0.2, \"#de77ae\"], [0.3, \"#f1b6da\"], [0.4, \"#fde0ef\"], [0.5, \"#f7f7f7\"], [0.6, \"#e6f5d0\"], [0.7, \"#b8e186\"], [0.8, \"#7fbc41\"], [0.9, \"#4d9221\"], [1, \"#276419\"]], \"sequential\": [[0.0, \"#0d0887\"], [0.1111111111111111, \"#46039f\"], [0.2222222222222222, \"#7201a8\"], [0.3333333333333333, \"#9c179e\"], [0.4444444444444444, \"#bd3786\"], [0.5555555555555556, \"#d8576b\"], [0.6666666666666666, \"#ed7953\"], [0.7777777777777778, \"#fb9f3a\"], [0.8888888888888888, \"#fdca26\"], [1.0, \"#f0f921\"]], \"sequentialminus\": [[0.0, \"#0d0887\"], [0.1111111111111111, \"#46039f\"], [0.2222222222222222, \"#7201a8\"], [0.3333333333333333, \"#9c179e\"], [0.4444444444444444, \"#bd3786\"], [0.5555555555555556, \"#d8576b\"], [0.6666666666666666, \"#ed7953\"], [0.7777777777777778, \"#fb9f3a\"], [0.8888888888888888, \"#fdca26\"], [1.0, \"#f0f921\"]]}, \"colorway\": [\"#636efa\", \"#EF553B\", \"#00cc96\", \"#ab63fa\", \"#FFA15A\", \"#19d3f3\", \"#FF6692\", \"#B6E880\", \"#FF97FF\", \"#FECB52\"], \"font\": {\"color\": \"#2a3f5f\"}, \"geo\": {\"bgcolor\": \"white\", \"lakecolor\": \"white\", \"landcolor\": \"#E5ECF6\", \"showlakes\": true, \"showland\": true, \"subunitcolor\": \"white\"}, \"hoverlabel\": {\"align\": \"left\"}, \"hovermode\": \"closest\", \"mapbox\": {\"style\": \"light\"}, \"paper_bgcolor\": \"white\", \"plot_bgcolor\": \"#E5ECF6\", \"polar\": {\"angularaxis\": {\"gridcolor\": \"white\", \"linecolor\": \"white\", \"ticks\": \"\"}, \"bgcolor\": \"#E5ECF6\", \"radialaxis\": {\"gridcolor\": \"white\", \"linecolor\": \"white\", \"ticks\": \"\"}}, \"scene\": {\"xaxis\": {\"backgroundcolor\": \"#E5ECF6\", \"gridcolor\": \"white\", \"gridwidth\": 2, \"linecolor\": \"white\", \"showbackground\": true, \"ticks\": \"\", \"zerolinecolor\": \"white\"}, \"yaxis\": {\"backgroundcolor\": \"#E5ECF6\", \"gridcolor\": \"white\", \"gridwidth\": 2, \"linecolor\": \"white\", \"showbackground\": true, \"ticks\": \"\", \"zerolinecolor\": \"white\"}, \"zaxis\": {\"backgroundcolor\": \"#E5ECF6\", \"gridcolor\": \"white\", \"gridwidth\": 2, \"linecolor\": \"white\", \"showbackground\": true, \"ticks\": \"\", \"zerolinecolor\": \"white\"}}, \"shapedefaults\": {\"line\": {\"color\": \"#2a3f5f\"}}, \"ternary\": {\"aaxis\": {\"gridcolor\": \"white\", \"linecolor\": \"white\", \"ticks\": \"\"}, \"baxis\": {\"gridcolor\": \"white\", \"linecolor\": \"white\", \"ticks\": \"\"}, \"bgcolor\": \"#E5ECF6\", \"caxis\": {\"gridcolor\": \"white\", \"linecolor\": \"white\", \"ticks\": \"\"}}, \"title\": {\"x\": 0.05}, \"xaxis\": {\"automargin\": true, \"gridcolor\": \"white\", \"linecolor\": \"white\", \"ticks\": \"\", \"title\": {\"standoff\": 15}, \"zerolinecolor\": \"white\", \"zerolinewidth\": 2}, \"yaxis\": {\"automargin\": true, \"gridcolor\": \"white\", \"linecolor\": \"white\", \"ticks\": \"\", \"title\": {\"standoff\": 15}, \"zerolinecolor\": \"white\", \"zerolinewidth\": 2}}}, \"title\": {\"text\": \"State Rankings Based on Income\"}, \"width\": 800},\n",
       "                        {\"responsive\": true}\n",
       "                    ).then(function(){\n",
       "                            \n",
       "var gd = document.getElementById('419a2cdb-7513-4b19-a789-4d832db35477');\n",
       "var x = new MutationObserver(function (mutations, observer) {{\n",
       "        var display = window.getComputedStyle(gd).display;\n",
       "        if (!display || display === 'none') {{\n",
       "            console.log([gd, 'removed!']);\n",
       "            Plotly.purge(gd);\n",
       "            observer.disconnect();\n",
       "        }}\n",
       "}});\n",
       "\n",
       "// Listen for the removal of the full notebook cells\n",
       "var notebookContainer = gd.closest('#notebook-container');\n",
       "if (notebookContainer) {{\n",
       "    x.observe(notebookContainer, {childList: true});\n",
       "}}\n",
       "\n",
       "// Listen for the clearing of the current output cell\n",
       "var outputEl = gd.closest('.output');\n",
       "if (outputEl) {{\n",
       "    x.observe(outputEl, {childList: true});\n",
       "}}\n",
       "\n",
       "                        })\n",
       "                };\n",
       "                });\n",
       "            </script>\n",
       "        </div>"
      ]
     },
     "metadata": {},
     "output_type": "display_data"
    }
   ],
   "source": [
    "fig = px.choropleth(merged_df_fin,  # Input Pandas DataFrame\n",
    "                    locations=\"Stabr\",  # DataFrame column with locations\n",
    "                    color=\"median_household_income\",  # DataFrame column with color values\n",
    "                    color_continuous_scale=\"Purples\",\n",
    "                    hover_name=\"area_name\", # DataFrame column hover info\n",
    "                    locationmode = 'USA-states') # Set to plot as US States\n",
    "# colorscale = ['#f2f0f7','#dadaeb','#bcbddc','#9e9ac8','#756bb1','#54278f']\n",
    "fig.update_layout(\n",
    "    title_text = 'State Rankings Based on Income', # Create a Title\n",
    "    autosize=False,\n",
    "    width=800,\n",
    "    height=400,\n",
    "#     autocolorscale = True,\n",
    "#     colorscale = \"sequential\", \n",
    "    geo_scope='usa',  # Plot only the USA instead of globe\n",
    ")\n",
    "\n",
    "# fig.update_yaxes(automargin=True)\n",
    "# plt.savefig(\"Images/unemployment_heat_map.png\")\n",
    "fig.show()  # Output the plot to the screen"
   ]
  },
  {
   "cell_type": "code",
   "execution_count": 51,
   "metadata": {},
   "outputs": [],
   "source": [
    "# merged_df_fin_region_order = merged_df_fin.sort_values(by=['region'])\n",
    "# merged_df_fin_region_order.head()\n",
    "# labels = list(region_color.keys())\n",
    "# handles = [plt.Rectangle((0,0),1,1, color=region_color[label]) for label in labels]\n",
    "# # merged_df_fin[\"area_name\"].plot(kind='bar', color=[region_color[i] for i in merged_df_fin[\"region\"]])\n",
    "# x_axis=merged_df_fin_region_order[\"area_name\"]\n",
    "# tick_locations=x_axis\n",
    "# y_axis =merged_df_fin_region_order['hate_crimes_per_100k_splc']\n",
    "# plt.figure(figsize=(10,6))\n",
    "# state_hate_crime = plt.bar(x_axis, y_axis, color=[region_color[i] for i in merged_df_fin[\"region\"]], alpha=0.5, align=\"edge\")\n",
    "# plt.xticks(tick_locations, x_axis, rotation=\"vertical\")\n",
    "# plt.tight_layout()\n",
    "# plt.ylabel(\"Hate Crimes per 100k People\")\n",
    "# plt.xlabel(\"State\")\n",
    "# plt.legend(handles, labels, loc=\"upper left\")\n",
    "# plt.title(\"Hate Crime Rate vs. State\")\n",
    "# plt.show()"
   ]
  },
  {
   "cell_type": "code",
   "execution_count": 52,
   "metadata": {},
   "outputs": [],
   "source": [
    "# merged_df_fin_poverty = merged_df_fin.sort_values(by=['Poverty (2018)'])\n",
    "# # tick_locations=np.arange(.3, .10, .1)\n",
    "# merged_df_fin_poverty.plot(kind=\"scatter\", x=\"Poverty (2018)\", y= \"hate_crimes_per_100k_splc\", grid=True)\n",
    "# # plt.xticks(tick_locations, x_axis, rotation=\"vertical\")\n",
    "# plt.xticks(rotation=\"vertical\")\n",
    "# # plt.xlim([0, 20]) \n",
    "# # plt.ylim([0, 20]) \n",
    "# plt.show()"
   ]
  },
  {
   "cell_type": "code",
   "execution_count": 53,
   "metadata": {},
   "outputs": [],
   "source": [
    "# merged_df_fin_income = merged_df_fin.sort_values(by=['median_household_income'])\n",
    "# merged_df_fin_income.plot(kind=\"scatter\", x=\"median_household_income\", y= \"hate_crimes_per_100k_splc\", grid=True)\n",
    "# # plt.xticks(tick_locations, x_axis, rotation=\"vertical\")\n",
    "# plt.xticks(rotation=\"vertical\")\n",
    "# plt.show()"
   ]
  },
  {
   "cell_type": "code",
   "execution_count": 54,
   "metadata": {},
   "outputs": [],
   "source": [
    "# Clean FBI Data set - take 2014-2018 data and average hate crimes fbi"
   ]
  }
 ],
 "metadata": {
  "kernelspec": {
   "display_name": "Python [conda env:Proj1Data] *",
   "language": "python",
   "name": "conda-env-Proj1Data-py"
  },
  "language_info": {
   "codemirror_mode": {
    "name": "ipython",
    "version": 3
   },
   "file_extension": ".py",
   "mimetype": "text/x-python",
   "name": "python",
   "nbconvert_exporter": "python",
   "pygments_lexer": "ipython3",
   "version": "3.8.3"
  }
 },
 "nbformat": 4,
 "nbformat_minor": 4
}
