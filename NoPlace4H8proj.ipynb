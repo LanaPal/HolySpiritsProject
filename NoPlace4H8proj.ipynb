{
 "cells": [
  {
   "cell_type": "markdown",
   "metadata": {},
   "source": [
    "No Place for Hate\n",
    "\n",
    "We seek to find the correlation of the occurrence of Hate Crimes and:\n",
    "* Education\n",
    "* Poverty\n",
    "* Unemployment Rates\n",
    "\n",
    "\n"
   ]
  },
  {
   "cell_type": "code",
   "execution_count": 2,
   "metadata": {},
   "outputs": [],
   "source": [
    "#Import Dependencies\n",
    "import pandas as pd\n",
    "import matplotlib.pyplot as plt\n",
    "import numpy as np\n",
    "from scipy.stats import linregress\n"
   ]
  },
  {
   "cell_type": "code",
   "execution_count": 6,
   "metadata": {
    "scrolled": true
   },
   "outputs": [
    {
     "data": {
      "text/html": [
       "<div>\n",
       "<style scoped>\n",
       "    .dataframe tbody tr th:only-of-type {\n",
       "        vertical-align: middle;\n",
       "    }\n",
       "\n",
       "    .dataframe tbody tr th {\n",
       "        vertical-align: top;\n",
       "    }\n",
       "\n",
       "    .dataframe thead th {\n",
       "        text-align: right;\n",
       "    }\n",
       "</style>\n",
       "<table border=\"1\" class=\"dataframe\">\n",
       "  <thead>\n",
       "    <tr style=\"text-align: right;\">\n",
       "      <th></th>\n",
       "      <th>Unnamed: 0</th>\n",
       "      <th>Total</th>\n",
       "      <th>Total.1</th>\n",
       "      <th>Total.2</th>\n",
       "      <th>Total.3</th>\n",
       "      <th>Total.4</th>\n",
       "      <th>Urban</th>\n",
       "      <th>Urban.1</th>\n",
       "      <th>Urban.2</th>\n",
       "      <th>Urban.3</th>\n",
       "      <th>Urban.4</th>\n",
       "      <th>Rural</th>\n",
       "      <th>Rural.1</th>\n",
       "      <th>Rural.2</th>\n",
       "      <th>Rural.3</th>\n",
       "      <th>Rural.4</th>\n",
       "    </tr>\n",
       "  </thead>\n",
       "  <tbody>\n",
       "    <tr>\n",
       "      <th>0</th>\n",
       "      <td>Name</td>\n",
       "      <td>1970</td>\n",
       "      <td>1980</td>\n",
       "      <td>1990</td>\n",
       "      <td>2000</td>\n",
       "      <td>2014-2018</td>\n",
       "      <td>1970</td>\n",
       "      <td>1980</td>\n",
       "      <td>1990</td>\n",
       "      <td>2000</td>\n",
       "      <td>2014-2018</td>\n",
       "      <td>1970</td>\n",
       "      <td>1980</td>\n",
       "      <td>1990</td>\n",
       "      <td>2000</td>\n",
       "      <td>2014-2018</td>\n",
       "    </tr>\n",
       "    <tr>\n",
       "      <th>1</th>\n",
       "      <td>United States</td>\n",
       "      <td>10.70%</td>\n",
       "      <td>16.20%</td>\n",
       "      <td>20.30%</td>\n",
       "      <td>24.40%</td>\n",
       "      <td>31.50%</td>\n",
       "      <td>11.50%</td>\n",
       "      <td>17.50%</td>\n",
       "      <td>22.00%</td>\n",
       "      <td>26.20%</td>\n",
       "      <td>33.50%</td>\n",
       "      <td>6.70%</td>\n",
       "      <td>10.50%</td>\n",
       "      <td>12.30%</td>\n",
       "      <td>14.90%</td>\n",
       "      <td>19.60%</td>\n",
       "    </tr>\n",
       "    <tr>\n",
       "      <th>2</th>\n",
       "      <td>Alabama</td>\n",
       "      <td>7.80%</td>\n",
       "      <td>12.20%</td>\n",
       "      <td>15.70%</td>\n",
       "      <td>19.00%</td>\n",
       "      <td>24.90%</td>\n",
       "      <td>8.90%</td>\n",
       "      <td>13.70%</td>\n",
       "      <td>17.80%</td>\n",
       "      <td>21.70%</td>\n",
       "      <td>28.00%</td>\n",
       "      <td>5.30%</td>\n",
       "      <td>8.20%</td>\n",
       "      <td>9.80%</td>\n",
       "      <td>11.60%</td>\n",
       "      <td>15.20%</td>\n",
       "    </tr>\n",
       "    <tr>\n",
       "      <th>3</th>\n",
       "      <td>Alaska</td>\n",
       "      <td>14.10%</td>\n",
       "      <td>21.20%</td>\n",
       "      <td>23.10%</td>\n",
       "      <td>24.70%</td>\n",
       "      <td>29.20%</td>\n",
       "      <td>15.50%</td>\n",
       "      <td>22.50%</td>\n",
       "      <td>25.10%</td>\n",
       "      <td>26.60%</td>\n",
       "      <td>31.80%</td>\n",
       "      <td>13.50%</td>\n",
       "      <td>18.90%</td>\n",
       "      <td>19.20%</td>\n",
       "      <td>21.00%</td>\n",
       "      <td>23.90%</td>\n",
       "    </tr>\n",
       "    <tr>\n",
       "      <th>4</th>\n",
       "      <td>Arizona</td>\n",
       "      <td>12.60%</td>\n",
       "      <td>17.40%</td>\n",
       "      <td>20.30%</td>\n",
       "      <td>23.50%</td>\n",
       "      <td>28.90%</td>\n",
       "      <td>13.00%</td>\n",
       "      <td>17.90%</td>\n",
       "      <td>21.00%</td>\n",
       "      <td>24.20%</td>\n",
       "      <td>29.60%</td>\n",
       "      <td>7.50%</td>\n",
       "      <td>10.30%</td>\n",
       "      <td>9.80%</td>\n",
       "      <td>12.40%</td>\n",
       "      <td>15.80%</td>\n",
       "    </tr>\n",
       "  </tbody>\n",
       "</table>\n",
       "</div>"
      ],
      "text/plain": [
       "      Unnamed: 0   Total Total.1 Total.2 Total.3    Total.4   Urban Urban.1  \\\n",
       "0           Name    1970    1980    1990    2000  2014-2018    1970    1980   \n",
       "1  United States  10.70%  16.20%  20.30%  24.40%     31.50%  11.50%  17.50%   \n",
       "2        Alabama   7.80%  12.20%  15.70%  19.00%     24.90%   8.90%  13.70%   \n",
       "3         Alaska  14.10%  21.20%  23.10%  24.70%     29.20%  15.50%  22.50%   \n",
       "4        Arizona  12.60%  17.40%  20.30%  23.50%     28.90%  13.00%  17.90%   \n",
       "\n",
       "  Urban.2 Urban.3    Urban.4   Rural Rural.1 Rural.2 Rural.3    Rural.4  \n",
       "0    1990    2000  2014-2018    1970    1980    1990    2000  2014-2018  \n",
       "1  22.00%  26.20%     33.50%   6.70%  10.50%  12.30%  14.90%     19.60%  \n",
       "2  17.80%  21.70%     28.00%   5.30%   8.20%   9.80%  11.60%     15.20%  \n",
       "3  25.10%  26.60%     31.80%  13.50%  18.90%  19.20%  21.00%     23.90%  \n",
       "4  21.00%  24.20%     29.60%   7.50%  10.30%   9.80%  12.40%     15.80%  "
      ]
     },
     "execution_count": 6,
     "metadata": {},
     "output_type": "execute_result"
    }
   ],
   "source": [
    "# import and merge data sets - Education, and Unemployment Rates by state\n",
    "\n",
    "edu_data = pd.read_csv(\"Resources/EducationReport.csv\")\n"
   ]
  },
  {
   "cell_type": "code",
   "execution_count": null,
   "metadata": {},
   "outputs": [],
   "source": [
    "# Merge the merged Demographic Data with Hate Crimes 358 by state"
   ]
  },
  {
   "cell_type": "code",
   "execution_count": null,
   "metadata": {},
   "outputs": [],
   "source": [
    "# occurrence of Hate Crimes to Education (Bachelor's Degree vs. High School) by State"
   ]
  },
  {
   "cell_type": "code",
   "execution_count": 1,
   "metadata": {},
   "outputs": [],
   "source": [
    "# occurrence of Hate Crimes to Poverty Level by State"
   ]
  },
  {
   "cell_type": "code",
   "execution_count": null,
   "metadata": {},
   "outputs": [],
   "source": [
    "# occurrence of Hate Crimes to Poverty Level by State"
   ]
  },
  {
   "cell_type": "code",
   "execution_count": null,
   "metadata": {},
   "outputs": [],
   "source": []
  },
  {
   "cell_type": "code",
   "execution_count": null,
   "metadata": {},
   "outputs": [],
   "source": [
    "# Clean FBI Data set - take 2014-2018 data and average hate crimes fbi"
   ]
  }
 ],
 "metadata": {
  "kernelspec": {
   "display_name": "Python [conda env:PythonProject] *",
   "language": "python",
   "name": "conda-env-PythonProject-py"
  },
  "language_info": {
   "codemirror_mode": {
    "name": "ipython",
    "version": 3
   },
   "file_extension": ".py",
   "mimetype": "text/x-python",
   "name": "python",
   "nbconvert_exporter": "python",
   "pygments_lexer": "ipython3",
   "version": "3.8.2"
  }
 },
 "nbformat": 4,
 "nbformat_minor": 4
}
